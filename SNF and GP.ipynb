{
 "cells": [
  {
   "cell_type": "markdown",
   "metadata": {},
   "source": [
    "# Stash\n",
    "\n",
    "## Code-Snippet for the general implementation of the Kernel\n",
    "```\n",
    "        #prepared_X = [(entry_z, entry_x) for entry_x, entry_z in product(Z,X)]\n",
    "        #        for v1, v2 in prepared_X:\n",
    "        #result = [self.evaluate(self, elem[0], elem[1]) for elem in prepared_X]\n",
    "#        result = torch.reshape(torch.Tensor(result), (len(Z), len(X)))\n",
    "#        for i, a in enumerate(X):\n",
    "#            for j, b in enumerate(Z):\n",
    "#                self.evaluate(a, b)\n",
    "                #result[i][j] = self.f(a, b, str(self.var1), str(self.var2), var_values=var_values)\n",
    "```\n",
    "\n",
    "## Implementation for the symmetric derivation of the SE Kernel\n",
    "```\n",
    "    def exp_riordan_array(self, max_n):\n",
    "        \"\"\"\n",
    "        See http://oeis.org/A176230\n",
    "        \"\"\"\n",
    "        n, k = var('n, k')\n",
    "        T(n,k) = factorial(2*n)/(factorial(2*k)*factorial(n-k)*2^(n-k))\n",
    "        result = [int(T(max_n,k)) for k in range(max_n+1)]\n",
    "        #result.append(int(1))\n",
    "        return result\n",
    "\n",
    "    \n",
    "    def single_term_extract_deriv_dict(self, d_poly, d_var=var('d')):\n",
    "        deriv_dict = {}\n",
    "        # See if it's of the form a*x^n\n",
    "        if (not len(d_poly.operands()) == 0) and ('^' in str(d_poly.operands()[0]) or '^' in str(d_poly.operands()[1])):\n",
    "            # 1 if the coefficient is in [1], else it must be in [0]\n",
    "            coeff_index = int('^' in str(d_poly.operands()[0]))\n",
    "            coeff = None\n",
    "            if not d_poly.operands()[coeff_index].is_numeric():\n",
    "                # If it doesn't exist, a trainable parameter with initial value 1 is created\n",
    "                if not hasattr(self, str(d_poly.operands()[coeff_index])):\n",
    "                    setattr(self, str(d_poly.operands()[coeff_index]), PyroParam(torch.tensor(float(1.))))\n",
    "                coeff = getattr(self, str(d_poly.operands()[coeff_index]))\n",
    "            else:\n",
    "                coeff = torch.tensor(float(d_poly.operands()[coeff_index]))\n",
    "            deriv_dict[d_poly] = {'coeff':coeff} \n",
    "        # Else it's of the form x^n\n",
    "        else:\n",
    "            deriv_dict[d_poly] = {'coeff':torch.tensor(float(1.))}\n",
    "        return deriv_dict\n",
    "\n",
    "    \n",
    "    def prepare_deriv_dict(self, d_poly, d_var = var('d')):\n",
    "        \"\"\"\n",
    "        Returns a dictionary of the form {a*d^2:{'coeff': a}, b*d^3:{'coeff':b}, d^3:{'coeff': 1 } ...}\n",
    "        This is read in the derivation process to calculate the exact deriv-function\n",
    "        \"\"\"\n",
    "        deriv_dict = {}\n",
    "        \n",
    "        # if the derivatives are just numbers\n",
    "        if type(d_poly) in [sage.rings.real_mpfr.RealLiteral, sage.rings.integer.Integer]:\n",
    "            return {d^0:{'coeff':torch.tensor(float(d_poly))}}\n",
    "        if not type(d_poly) == sage.symbolic.expression.Expression:\n",
    "            assert \"Derivative expression is neither sage.symbolic.expression.Expression nor number\"\n",
    "        # Catching the case of derivatives being d^n which causes derivatives.operands() to be the list [d, n] instead of [d^n]\n",
    "        # The below steps will also recognize exponential expressions of the form n^x\n",
    "        # this will result in unexpected behaviour or exit with an error\n",
    "        if ((not all(op.has(d_var) for op in d_poly.operands()) and len(d_poly.operands()) == 2) or (d_poly.has(d_var) and len(d_poly.operands()) == 0)):\n",
    "            return self.single_term_extract_deriv_dict(d_poly, d_var)\n",
    "        else:\n",
    "            # Iterate over all the operands (a*d^3, b*d^2, c*d, ...)\n",
    "            for operand in d_poly.operands():\n",
    "                # If the operand does not contain a \"d\" it is a constant\n",
    "                if not operand.has(d_var):\n",
    "                    deriv_dict[d^0] = {'coeff':torch.tensor(float(operand))}\n",
    "                # If it contains a \"d\" it is a derivative\n",
    "                # \"append\" the new dict to the previous dict\n",
    "                deriv_dict = {**deriv_dict, **self.single_term_extract_deriv_dict(operand, d_var)}\n",
    "            return deriv_dict\n",
    "    \n",
    "    \n",
    "    def symmetric_derive(self, derivation_expression):\n",
    "\n",
    "        \"\"\"\n",
    "        Derivation approach for matrix entries where T = T.t() for\n",
    "        T K T.t()\n",
    "        (e.g. diagonal entries which are diff'd using the same polynomial twice)\n",
    "        \n",
    "        For a particular derivative a*d^n we see the following pattern:\n",
    "         - We have coefficients from exp_riordan_array(n, i) with the\n",
    "           additional factor $(-1)^i/l^(2*(n+i))$ for the i-th coefficient\n",
    "         - We have in total n+1 summands for the derivative\n",
    "         - We have the $(x1 - x2)^i$ terms in the derivative\n",
    "        \"\"\"        \n",
    "        derivation_term_dict = self.prepare_deriv_dict(derivation_expression)\n",
    "                        \n",
    "        def evaluate(X, Z=None):\n",
    "            self.result_term = lambda self, l_, coefficients, i : coefficients[i]*(int(-1))**(i%int(2))*l_**(i+int(1))*self.K_1**i\n",
    "            \n",
    "            self._square_scaled_dist(X, Z)\n",
    "            self.K_4 = torch.mul(self.var, torch.exp(float(-0.5) * self.K_1*(float(1)/self.length**float(2))))\n",
    "            result = None\n",
    "            for term in derivation_term_dict:\n",
    "                max_exponent = int(term.degree(var('d')))\n",
    "                coefficients = self.exp_riordan_array(max_exponent)\n",
    "                l_ = float(1)/self.length^(float(2)*torch.tensor(max_exponent))\n",
    "                if result is None:\n",
    "                    temp = [self.result_term(self, l_, coefficients, i) for i in range(max_exponent+1)]\n",
    "                    result = sum(temp)*derivation_term_dict[term]['coeff']\n",
    "                else:\n",
    "                    result += sum([self.result_term(self, l_, coefficients, i) for i in range(max_exponent)])*derivation_term_dict[term]['coeff']\n",
    "            return self.K_4*result\n",
    "\n",
    "        return evaluate\n",
    "            \n",
    "        \n",
    "    def derive(self, derivation_expression):\n",
    "        \"\"\"\n",
    "        Assumptions:\n",
    "        The derivation string has the form ax^n+bx^m+... \n",
    "        with a, b real numbers and m,n positive integers.\n",
    "        \"\"\"\n",
    "        self.K_4 + self.K_1.matmul(self.K_4)\n",
    "        return\n",
    "```"
   ]
  },
  {
   "cell_type": "markdown",
   "metadata": {},
   "source": [
    "# Helper classes"
   ]
  },
  {
   "cell_type": "raw",
   "metadata": {
    "scrolled": false
   },
   "source": [
    "class Operator:\n",
    "    \"\"\"An operator class\"\"\"\n",
    "    \n",
    "    allOperators = []\n",
    "    \n",
    "    def __init__(self, associativity, symbol, precedence, operands, torch_operator=None, torch_string=None):\n",
    "        # left (l) or right (r)\n",
    "        self.ass = associativity\n",
    "        self.sym = symbol\n",
    "        self.pre = precedence\n",
    "        self.ops = operands\n",
    "        self.top = torch_operator\n",
    "        self.tst = torch_string\n",
    "        Operator.allOperators.append(self)\n",
    "    \n",
    "    def __str__(self):\n",
    "        return str(self.sym)\n",
    "    \n",
    "    def __call__(self, a, b=None):\n",
    "        if self.ops == 1:\n",
    "            return self.top(a)\n",
    "        else:\n",
    "            return self.top(a, b)"
   ]
  },
  {
   "cell_type": "raw",
   "metadata": {
    "scrolled": false
   },
   "source": [
    "import torch\n",
    "plus = Operator(\"l\", \"+\", 1, 2, torch.add, \"torch.add\")\n",
    "minus = Operator(\"l\", \"-\", 1, 2, torch.sub, \"torch.sub\")\n",
    "divide = Operator(\"l\", \"/\", 2, 2, torch.div, \"torch.div\")\n",
    "#modulus = Operator(\"l\", \"%\", 2, 2)\n",
    "multiply = Operator(\"l\", \"*\", 2, 2, torch.mul, \"torch.mul\")\n",
    "power_of = Operator(\"r\", \"^\", 3, 2, torch.pow, \"torch.pow\")\n",
    "#exp = Operator(\"r\", \"exp\", 3, 1, torch.exp)\n",
    "#e = Operator(\"r\", \"e\", 3, 1, torch.exp)\n",
    "absolute = Operator(\"r\", \"abs\",3,1,torch.abs, \"torch.abs\")\n",
    "sqrt = Operator(\"r\", \"sqrt\", 3, 1, torch.sqrt, \"torch.sqrt\")\n",
    "log = Operator(\"r\", \"log\", 3, 1, torch.log, \"torch.log\")\n",
    "sin = Operator(\"r\", \"sin\", 3, 1, torch.sin, \"torch.sin\")\n",
    "cos = Operator(\"r\", \"cos\", 3, 1, torch.cos, \"torch.cos\")\n",
    "left_paran = Operator(\"l\", \"(\", -1, 0)\n",
    "right_paran = Operator(\"l\", \")\", -1, 0)\n",
    "\n",
    "def is_op(symbol):\n",
    "    for op in Operator.allOperators:\n",
    "        if op.sym == symbol:\n",
    "            return True\n",
    "    return False\n",
    "\n",
    "def find_op(symbol):\n",
    "    for op in Operator.allOperators:\n",
    "        if op.sym == symbol:\n",
    "            return op"
   ]
  },
  {
   "cell_type": "raw",
   "metadata": {
    "scrolled": false
   },
   "source": [
    "import re\n",
    "def extract_tokens(expression):\n",
    "    #tokens = re.findall('[+\\-*^\\/()]|\\d+|\\w+', expression)\n",
    "    tokens = re.findall(r'[+\\-*^\\/()]|\\d+\\.?\\d*|\\w+', expression)\n",
    "    result = []\n",
    "    i=0\n",
    "    while i < len(tokens):\n",
    "#    for i in range(len(tokens)-1):\n",
    "        if i == 0 and tokens[i] == '-' and re.match(r'\\d+\\.?\\d*', tokens[i+1]):\n",
    "            result.append(f\"{tokens[i]}{tokens[i+1]}\")\n",
    "            i+=1\n",
    "        elif i == 0:\n",
    "            result.append(tokens[i])\n",
    "            i+=1\n",
    "            continue\n",
    "        elif (is_op(tokens[i-1]) and not tokens[i-1] == ')') and tokens[i] == '-' and re.match(r'\\d+\\.?\\d*', tokens[i+1]):\n",
    "            result.append(f\"{tokens[i]}{tokens[i+1]}\")\n",
    "            i+=2\n",
    "            #pdb.set_trace()\n",
    "        else:\n",
    "            result.append(tokens[i])\n",
    "            i+=1\n",
    "    return result"
   ]
  },
  {
   "cell_type": "raw",
   "metadata": {
    "scrolled": false
   },
   "source": [
    "DEBUG = False\n",
    "def shunting(expression, additional_variables=None):\n",
    "    variables=['e', 'exp', 'pi']\n",
    "\n",
    "    if not additional_variables is None:\n",
    "        variables.extend(additional_variables)\n",
    "    tokens = extract_tokens(expression)\n",
    "    # Output _queue_\n",
    "    output = []\n",
    "    # Operator _stack_\n",
    "    stack = []\n",
    "    last_token = None\n",
    "    APPENDED = False\n",
    "    for token in tokens:\n",
    "        if DEBUG:\n",
    "            print(\"---------\")\n",
    "            print(\"new token\")\n",
    "            print(f\"output: {output}\")\n",
    "            print(f\"stack: {stack}\")\n",
    "            print(f\"token:{token}\")\n",
    "        # If token is a number or a variable append to output list\n",
    "        if bool(re.match(r'-?\\d+\\.?\\d*', token)) or token in variables:\n",
    "            output.append(token)\n",
    "            last_token = token\n",
    "        elif token==\"(\":\n",
    "            stack.append(token)\n",
    "            last_token = token\n",
    "        # If there is a closing bracket pop everything until I see a '('\n",
    "        elif token==\")\":\n",
    "            while len(stack)>0 and not stack[-1] == \"(\":\n",
    "                output.append(stack.pop())\n",
    "            stack.pop()\n",
    "        \n",
    "        elif is_op(token):\n",
    "            op = find_op(token)\n",
    "            if DEBUG:\n",
    "                print(f\"current token:'{token}'\")\n",
    "                print(f\"length of stack:{len(stack)}\")\n",
    "                print(f\"Operation associativity:'{op.ass}'\")\n",
    "                print(f\"Operation symbol:'{op.sym}'\")\n",
    "                print(f\"Operation precedence:'{op.pre}'\")\n",
    "                if len(stack)>0:\n",
    "                    print(f\"Stack[-1]: {find_op(stack[-1])}\")\n",
    "                    print(f\"Stack[-1].ass: {find_op(stack[-1]).ass}\")\n",
    "                    print(f\"Stack[-1].pre: {find_op(stack[-1]).pre}\")\n",
    "            \n",
    "            while (len(stack) > 0):\n",
    "                # Ignore braces\n",
    "                if (stack[-1] == \"(\" or stack[-1] == \")\"):\n",
    "                    break\n",
    "                # If we have a single element operation (that is not just beginning) append it to output list\n",
    "                if find_op(stack[-1]).ops == 1 and not token=='(' and len(stack) == 1:\n",
    "                    output.append(stack.pop())\n",
    "                    #stack.append(token)\n",
    "                    #APPENDED = True\n",
    "                    break\n",
    "                # \n",
    "                if op.ops==1:\n",
    "                    break\n",
    "                    \n",
    "                # TODO: See if ´op.ass == \"r\" and op.pre < find_op(stack..´ has to be re-implemented\n",
    "                if (op.ass == \"l\" and op.pre <= find_op(stack[-1]).pre) \\\n",
    "                    or (op.ass == \"r\" and op.pre <= find_op(stack[-1]).pre):\n",
    "                    output.append(stack.pop())\n",
    "                    break\n",
    "                else:\n",
    "                    #pdb.set_trace()\n",
    "                    break\n",
    "\n",
    "\n",
    "            stack.append(token)\n",
    "            last_token = token\n",
    "        \n",
    "    while(len(stack) > 0):\n",
    "        output.append(stack.pop())\n",
    "\n",
    "    return output\n",
    "    "
   ]
  },
  {
   "cell_type": "markdown",
   "metadata": {},
   "source": [
    "def reconstruct(operands, additional_variables=None):\n",
    "    \"\"\"\n",
    "    For each token\n",
    "    {\n",
    "        If (token is a number)\n",
    "        {\n",
    "            Push value onto stack\n",
    "        }\n",
    "\n",
    "        If (token is an operator)\n",
    "        {\n",
    "            Pop 2 top values from the stack\n",
    "            Evaluate operator using popped values as args\n",
    "            Push result onto stack\n",
    "        }\n",
    "    }\n",
    "    \"\"\"\n",
    "    variables = ['pi', 'e', 'exp']\n",
    "    if not additional_variables is None:\n",
    "        variables.extend(additional_variables)\n",
    "    stack = []\n",
    "    \n",
    "    def f(x1, x2=None, x1_var = 'x1', x2_var = 'x2', var_values=None):\n",
    "        if x2 is None:\n",
    "            x2 = x1\n",
    "            x2_var = x1_var\n",
    "        for token in operands:\n",
    "            #pdb.set_trace()\n",
    "            if bool(re.match(r'-?\\d+\\.?\\d*', token)) or token in variables:\n",
    "                stack.append(token)\n",
    "            elif is_op(token):\n",
    "                op = find_op(token)\n",
    "                if op.ops == 2:\n",
    "                    v1 = stack.pop()\n",
    "                    v2 = stack.pop()\n",
    "                    \n",
    "                    if type(v1) is torch.Tensor:\n",
    "                        pass\n",
    "                    elif v1 == x1_var:\n",
    "                        v1 = torch.tensor(float(x1))\n",
    "                    elif v1 == x2_var:\n",
    "                        v1 = torch.tensor(float(x2))\n",
    "                    elif v1 in var_values.keys():\n",
    "                        v1 = var_values[v1]\n",
    "                        #torch.tensor(float(var_values[v1]))\n",
    "                    elif bool(re.match(r'-?\\d+\\.?\\d*', v1)):\n",
    "                        v1 = torch.tensor(float(v1))\n",
    "                        \n",
    "                    if type(v2) is torch.Tensor:\n",
    "                        pass    \n",
    "                    elif v2 == x1_var:\n",
    "                        v2 = torch.tensor(float(x1))\n",
    "                    elif v2 == x2_var:\n",
    "                        v2 = torch.tensor(float(x2))\n",
    "                    elif v2 in var_values.keys():\n",
    "                        v2 = var_values[v2]\n",
    "                        #torch.tensor(float(var_values[v2]))\n",
    "                    elif bool(re.match(r'-?\\d+\\.?\\d*', v2)):\n",
    "                        v2 = torch.tensor(float(v2))\n",
    "                    if v2 == 'e' and op.sym == '^':\n",
    "                        result = torch.exp(v1)\n",
    "                        \n",
    "                    else:\n",
    "                        result = op.top(v2, v1)\n",
    "                        \n",
    "                    stack.append(result)\n",
    "                elif op.ops == 1:\n",
    "                    v1 = stack.pop()\n",
    "                    if type(v1) is torch.Tensor:\n",
    "                        pass\n",
    "                    elif v1 == x1_var:\n",
    "                        v1 = torch.tensor(float(x1))\n",
    "                    elif v1 == x2_var:\n",
    "                        v1 = torch.tensor(float(x2))\n",
    "                    elif v1 in var_values.keys():\n",
    "                        v1 = var_values[v1]\n",
    "                        #torch.tensor(float(var_values[v1]))\n",
    "                    elif bool(re.match(r'-?\\d+\\.?\\d*', v1)):\n",
    "                        v1 = torch.tensor(float(v1))\n",
    "\n",
    "                    result = op.top(v1)\n",
    "                    stack.append(result)        \n",
    "        return result\n",
    "    return f"
   ]
  },
  {
   "cell_type": "raw",
   "metadata": {
    "scrolled": false
   },
   "source": [
    "def reconstruct(operands, additional_variables=None, x1_var = 'x1', x2_var = None, var_values=None):\n",
    "    \"\"\"\n",
    "    For each token\n",
    "    {\n",
    "        If (token is a number)\n",
    "        {\n",
    "            Push value onto stack\n",
    "        }\n",
    "\n",
    "        If (token is an operator)\n",
    "        {\n",
    "            Pop 2 top values from the stack\n",
    "            Evaluate operator using popped values as args\n",
    "            Push result onto stack\n",
    "        }\n",
    "    }\n",
    "    \"\"\"\n",
    "    variables = ['pi', 'e', 'exp']\n",
    "    if not additional_variables is None:\n",
    "        variables.extend(additional_variables)\n",
    "    stack = []\n",
    "    if x2_var is None:\n",
    "        x2_var = x1_var\n",
    "    for token in operands:\n",
    "        #pdb.set_trace()\n",
    "        if bool(re.match(r'-?\\d+\\.?\\d*', token)) or token in variables:\n",
    "            stack.append(token)\n",
    "        elif is_op(token):\n",
    "            op = find_op(token)\n",
    "            if op.ops == 2:\n",
    "                v1 = stack.pop()\n",
    "                v2 = stack.pop()\n",
    "                if v1 == x1_var:\n",
    "                    #v1 = f\"torch.tensor(float({x1_var}))\"\n",
    "                    #v1 = f\"torch.Tensor(float(v1))\"\n",
    "                    v1 = f\"(float(v1))\"\n",
    "                elif v1 == x2_var:\n",
    "                    v1 = f\"(float(v2))\"\n",
    "#                    v1 = f\"torch.Tensor(float(v2))\"\n",
    "                elif v1 in var_values.keys():\n",
    "                    v1 = f\"self.{v1}\"\n",
    "                    #torch.tensor(float(var_values[v1]))\n",
    "                elif bool(re.match(r'-?\\d+\\.?\\d*', v1)):\n",
    "#                    v1 = f\"torch.Tensor(float({v1}))\"\n",
    "                    v1 = f\"(float({v1}))\"\n",
    "                if v2 == x1_var:\n",
    "                    v2 = f\"(float(v1))\"\n",
    "                elif v2 == x2_var:\n",
    "                    v2 = f\"(float(v2))\"\n",
    "                elif v2 in var_values.keys():\n",
    "                    v2 = f\"self.{v2}\"\n",
    "                    #torch.tensor(float(var_values[v2]))\n",
    "                elif bool(re.match(r'-?\\d+\\.?\\d*', v2)):\n",
    "                    v2 = f\"(float({v2}))\"\n",
    "                if v2 == 'e' and op.sym == '^':\n",
    "                    #result = torch.exp(v1)\n",
    "                    result = f\"torch.exp({v1})\"\n",
    "                else:\n",
    "                    result = f\"{op.tst}({v2}, {v1})\"\n",
    "\n",
    "                stack.append(result)\n",
    "            elif op.ops == 1:\n",
    "                v1 = stack.pop()\n",
    "                if v1 == x1_var:\n",
    "                    v1 = f\"(float(v1))\"\n",
    "                elif v1 == x2_var:\n",
    "                    v1 = f\"(float(v2))\"\n",
    "                elif v1 in var_values.keys():\n",
    "                    v1 = f\"self.{v1}\"\n",
    "                    #torch.tensor(float(var_values[v1]))\n",
    "                elif bool(re.match(r'-?\\d+\\.?\\d*', v1)):\n",
    "                    v1 = f\"(float({v1}))\"\n",
    "                result = f\"{op.tst}({v1})\"\n",
    "                #result = op.top(v1)\n",
    "                stack.append(result)  \n",
    "    return result"
   ]
  },
  {
   "cell_type": "markdown",
   "metadata": {},
   "source": [
    "# Goal\n",
    "\n",
    "Calculate the derivatives given a matrix $T$, containing the instructions for the derivatives, and $M$, the matrix-to-be-derived.\n",
    "\n",
    "# Plan\n",
    "\n",
    "## Scenario 1: Performing the matrix multiplication first\n",
    "\n",
    "In this case I have to split the function into the summands and derive each summand according to $T$.\n",
    "\n",
    "**Issues:**\n",
    " - Split the expression into each summand and reconstruct them\n",
    " - \n",
    " \n",
    "## Scenario 2: Perform differentiation simultaneously with matrix multiplication\n",
    "\n",
    "In this case I simulate the matrix multiplication and use the information of the rows in $T$ to derive the entries of $M$.\n",
    "For this I will have to splot the entry of $T$ and peform each entry on the complete entry of $M$.\n",
    "-> If I can do this I can also do Scenario 1"
   ]
  },
  {
   "cell_type": "code",
   "execution_count": 1,
   "metadata": {
    "scrolled": false
   },
   "outputs": [],
   "source": [
    "import pdb\n",
    "import numpy as np\n",
    "import sage\n",
    "import ast"
   ]
  },
  {
   "cell_type": "code",
   "execution_count": 2,
   "metadata": {
    "scrolled": false
   },
   "outputs": [],
   "source": [
    "# On having a variable number of values for derivatives\n",
    "# https://ask.sagemath.org/question/52075/differentiating-function-with-fluctuating-number-of-variables/\n"
   ]
  },
  {
   "cell_type": "code",
   "execution_count": null,
   "metadata": {},
   "outputs": [],
   "source": []
  },
  {
   "cell_type": "code",
   "execution_count": null,
   "metadata": {
    "scrolled": false
   },
   "outputs": [],
   "source": []
  },
  {
   "cell_type": "code",
   "execution_count": null,
   "metadata": {
    "scrolled": false
   },
   "outputs": [],
   "source": []
  },
  {
   "cell_type": "code",
   "execution_count": null,
   "metadata": {
    "scrolled": false
   },
   "outputs": [],
   "source": []
  },
  {
   "cell_type": "code",
   "execution_count": null,
   "metadata": {
    "scrolled": false
   },
   "outputs": [],
   "source": []
  },
  {
   "cell_type": "code",
   "execution_count": null,
   "metadata": {
    "scrolled": false
   },
   "outputs": [],
   "source": []
  },
  {
   "cell_type": "raw",
   "metadata": {
    "scrolled": false
   },
   "source": [
    "# TODO Nochmal durchlaufen lassen \n",
    "def get_cov_fkt_from_SNF(matrix, base_cov_fkt=SE_kernel):\n",
    "    d, u, v = matrix.smith_form()\n",
    "    (r, c) = np.shape(d)\n",
    "    if r > c:\n",
    "        assert \"More rows than columns in diagonal matrix D\"\n",
    "    dim = max(r,c)\n",
    "    cov_fkt_matr = [[0 for i in range(dim)] for j in range(dim)]\n",
    "    if not d == u*matrix*v:\n",
    "        assert \"The calculation of the Smith form failed or is not possible\"\n",
    "    for i in range(dim):\n",
    "        try:\n",
    "            if d.diagonal()[i] == 0:\n",
    "                cov_fkt_matr[i][i] = base_cov_fkt\n",
    "        except:\n",
    "            cov_fkt_matr[i][i] = base_cov_fkt\n",
    "            continue\n",
    "            \n",
    "#    for index, row in enumerate(d.rows()):\n",
    "#        if len(row) > index or row[index] == 0:\n",
    "#           cov_fkt_matr[index][index] = base_cov_fkt\n",
    "#           continue\n",
    "    def cov_fkt_ret(x1, x2, hyperparams={'sigma' : 1, 'l' : 1, 'symbolic' : False}):\n",
    "        result = np.zeros(np.shape(cov_fkt_matr))\n",
    "        for row_i, row in enumerate(cov_fkt_matr):\n",
    "            for col_i, col in enumerate(row):\n",
    "                if not cov_fkt_matr[row_i][col_i] == 0:\n",
    "                    result[row_i][col_i] = cov_fkt_matr[row_i][col_i](x1, x2, hyperparams)\n",
    "        return result\n",
    "    return cov_fkt_ret"
   ]
  },
  {
   "cell_type": "raw",
   "metadata": {
    "scrolled": false
   },
   "source": [
    "def test_get_cov_fkt_from_SNF():\n",
    "    m = matrix(2,2,(1,0,1,0))\n",
    "    v1 = vector((1,2,3,4))\n",
    "    v2 = vector((1,2,3,4))\n",
    "    # Standard SE Kernel on the [1][1]-Entry\n",
    "    assert get_cov_fkt_from_SNF(m)(v1, v2).tolist() == [[0., 0.],[0., 1.]], \"Test 1 failed\"\n",
    "    \n",
    "    R.<x> = QQ[]\n",
    "    m=x^2*matrix(R, 2,3,[1, 0, 1, 1, 0, 0]) +x* matrix(R, 2,3,[-1, -1, -2, -2, 1, 1]) + matrix(R, 2,3,[0, 1, 1, 0, 0, -1])\n",
    "    v1 = vector((1,2,3,4))\n",
    "    v2 = vector((1,2,3,4))\n",
    "    # Standard SE Kernel on the [2][2]-Entry\n",
    "    assert get_cov_fkt_from_SNF(m)(v1, v2).tolist() == [[0., 0., 0.],[0., 0., 0.],[0., 0., 1.]], \"Test 2 failed\"\n",
    "    \n",
    "    \n",
    "test_get_cov_fkt_from_SNF()"
   ]
  },
  {
   "cell_type": "raw",
   "metadata": {
    "scrolled": false
   },
   "source": [
    "def replace_mat_variables(m, original:str = 'x', replace:str = None):\n",
    "    m = copy(m)\n",
    "    if not original is \"x\":\n",
    "        x = var(original)\n",
    "    if not replace is None:\n",
    "        x1 = var(replace)\n",
    "        for i, row in enumerate(m):\n",
    "            for j, entry in enumerate(row):\n",
    "                m[i, j] = entry.substitute(x==x1)\n",
    "    return m"
   ]
  },
  {
   "cell_type": "raw",
   "metadata": {
    "scrolled": false
   },
   "source": [
    "def derive_symbolic_expression(expression, derivatives, d_var=var('d'), e_var=var('x')):\n",
    "    result = None\n",
    "#    pdb.set_trace()\n",
    "    # if the derivatives are just integers\n",
    "    if type(derivatives) == sage.rings.integer.Integer or derivatives == 0:\n",
    "        return derivatives*expression\n",
    "    if not type(derivatives) == sage.symbolic.expression.Expression:\n",
    "        assert \"Derivative expression is neither sage.symbolic.expression.Expression nor sage.rings.integer.Integer\"\n",
    "    # Catching the case of derivatives being d^n which causes derivatives.operands() to be the list [d, n] instead of [d^n]\n",
    "    w0 = SR.wild()\n",
    "    if (not all(op.has(d_var) for op in derivatives.operands()) and len(derivatives.operands()) == 2) or (derivatives.has(d_var) and len(derivatives.operands()) == 0):\n",
    "        temp = expression\n",
    "        while derivatives.has(d_var):\n",
    "            if type(temp) == sage.rings.integer.Integer:\n",
    "                return 0\n",
    "            temp = temp.diff(e_var)\n",
    "            # decrease by one deriv\n",
    "            derivatives = derivatives/d_var\n",
    "        # If this is the first entry, replace (otherwise getting Type-Error)\n",
    "        if result == None:\n",
    "            result = temp\n",
    "        else:\n",
    "            result += temp\n",
    "        return result\n",
    "    \n",
    "    # Iterate over all the operands\n",
    "    for operand in derivatives.operands():\n",
    "        temp = expression\n",
    "        # If the operand does not contain a \"d\" it is a constant\n",
    "        if not operand.has(d_var):\n",
    "            temp = temp*operand\n",
    "        # If it contains a \"d\" it is a derivative\n",
    "        while operand.has(d_var):\n",
    "            if type(temp) == sage.rings.integer.Integer:\n",
    "                return 0\n",
    "            temp = temp.diff(e_var)\n",
    "            operand = operand/d_var\n",
    "        if result == None:\n",
    "            result = temp\n",
    "        else:\n",
    "            result += temp\n",
    "    return result"
   ]
  },
  {
   "cell_type": "code",
   "execution_count": null,
   "metadata": {
    "scrolled": false
   },
   "outputs": [],
   "source": []
  },
  {
   "cell_type": "code",
   "execution_count": null,
   "metadata": {
    "scrolled": false
   },
   "outputs": [],
   "source": []
  },
  {
   "cell_type": "code",
   "execution_count": null,
   "metadata": {
    "scrolled": false
   },
   "outputs": [],
   "source": []
  },
  {
   "cell_type": "code",
   "execution_count": null,
   "metadata": {
    "scrolled": false
   },
   "outputs": [],
   "source": []
  },
  {
   "cell_type": "code",
   "execution_count": null,
   "metadata": {
    "scrolled": false
   },
   "outputs": [],
   "source": []
  },
  {
   "cell_type": "code",
   "execution_count": null,
   "metadata": {
    "scrolled": false
   },
   "outputs": [],
   "source": []
  },
  {
   "cell_type": "markdown",
   "metadata": {},
   "source": [
    "# Running simple tests\n",
    "\n",
    "## Simple (single) differential equation\n",
    "\n",
    "**Function:**    \n",
    "$f' = g$    \n",
    "$f(t) = \\sin(t)$\n",
    "\n",
    "Which covariance function do I use?    \n",
    "$k(t_1, t_2) = \\text{SE_kernel}(t_1, t_2)$\n",
    "\n",
    "How does the GP look like then?    \n",
    "I should have the GP $G \\sim \\mathcal{GP}\n",
    "(\\mathbf{0}, d_{t_1} k(t_1, t_2) d_{t_2})$, right?    \n",
    "So I have to derive the function twice, once in the direction of $t_1$ and once in the direction of $t_2$.\n",
    "\n",
    "## Simple differential equation (2nd deriv)\n",
    "\n",
    "The same as above, but now we have the following function:    \n",
    "$f'' = g$    \n",
    "$f(t) = \\sin(t)$    \n",
    "\n",
    "This will then cause the GP to look as follows:    \n",
    "$G \\sim \\mathcal{GP}\n",
    "(\\mathbf{0}, d_{t_1}^2 k(t_1, t_2) d_{t_2}^2)$"
   ]
  },
  {
   "cell_type": "code",
   "execution_count": 3,
   "metadata": {
    "scrolled": false
   },
   "outputs": [],
   "source": [
    "#import sys\n",
    "#!{sys.executable} -m pip install torch==1.8.1 line_profiler --no-cache-dir"
   ]
  },
  {
   "cell_type": "code",
   "execution_count": 4,
   "metadata": {
    "scrolled": false
   },
   "outputs": [],
   "source": [
    "%load_ext line_profiler"
   ]
  },
  {
   "cell_type": "code",
   "execution_count": 5,
   "metadata": {
    "scrolled": false
   },
   "outputs": [],
   "source": [
    "#import sys\n",
    "#!{sys.executable} -m pip install pyro-ppl --no-cache-dir"
   ]
  },
  {
   "cell_type": "code",
   "execution_count": 6,
   "metadata": {
    "scrolled": false
   },
   "outputs": [],
   "source": [
    "import os\n",
    "import matplotlib.pyplot as plt\n",
    "import torch\n",
    "# To ensure that it takes the local pyro copy, add it to the PATH\n",
    "import sys\n",
    "sys.path.insert(0, 'pyro')\n",
    "\n",
    "import pyro\n",
    "import pyro.contrib.gp as gp\n",
    "import pyro.distributions as dist\n",
    "from inspect import getmembers, isfunction"
   ]
  },
  {
   "cell_type": "code",
   "execution_count": 7,
   "metadata": {
    "scrolled": false
   },
   "outputs": [
    {
     "data": {
      "text/plain": [
       "<torch.autograd.anomaly_mode.set_detect_anomaly object at 0x7f2462b294e0>"
      ]
     },
     "execution_count": 7,
     "metadata": {},
     "output_type": "execute_result"
    }
   ],
   "source": [
    "torch.autograd.set_detect_anomaly(True)"
   ]
  },
  {
   "cell_type": "code",
   "execution_count": null,
   "metadata": {
    "scrolled": false
   },
   "outputs": [],
   "source": []
  },
  {
   "cell_type": "code",
   "execution_count": null,
   "metadata": {
    "scrolled": false
   },
   "outputs": [],
   "source": []
  },
  {
   "cell_type": "code",
   "execution_count": null,
   "metadata": {
    "scrolled": false
   },
   "outputs": [],
   "source": []
  },
  {
   "cell_type": "markdown",
   "metadata": {
    "scrolled": false
   },
   "source": [
    "# Kernels"
   ]
  },
  {
   "cell_type": "code",
   "execution_count": null,
   "metadata": {},
   "outputs": [],
   "source": []
  },
  {
   "cell_type": "code",
   "execution_count": 8,
   "metadata": {},
   "outputs": [],
   "source": [
    "ONE_DIM = False"
   ]
  },
  {
   "cell_type": "code",
   "execution_count": null,
   "metadata": {
    "scrolled": false
   },
   "outputs": [],
   "source": []
  },
  {
   "cell_type": "code",
   "execution_count": null,
   "metadata": {
    "scrolled": false
   },
   "outputs": [],
   "source": []
  },
  {
   "cell_type": "code",
   "execution_count": null,
   "metadata": {},
   "outputs": [],
   "source": []
  },
  {
   "cell_type": "code",
   "execution_count": null,
   "metadata": {
    "scrolled": false
   },
   "outputs": [],
   "source": []
  },
  {
   "cell_type": "code",
   "execution_count": 9,
   "metadata": {
    "scrolled": false
   },
   "outputs": [],
   "source": [
    "smoke_test = ('CI' in os.environ)  # ignore; used to check code integrity in the Pyro repo\n",
    "pyro.enable_validation(True)       # can help with debugging\n",
    "pyro.set_rng_seed(0)"
   ]
  },
  {
   "cell_type": "code",
   "execution_count": 10,
   "metadata": {
    "scrolled": false
   },
   "outputs": [],
   "source": [
    "# note that this helper function does three different things:\n",
    "# (i) plots the observed data;\n",
    "# (ii) plots the predictions from the learned GP after conditioning on data;\n",
    "# (iii) plots samples from the GP prior (with no conditioning on observed data)\n",
    "\n",
    "def plot(plot_observed_data=False, plot_predictions=False, n_prior_samples=int(0),\n",
    "         model=None, kernel=None, n_test=int(500)):\n",
    "    #pdb.set_trace()\n",
    "    plt.figure(figsize=(int(12), int(6)))\n",
    "    if plot_observed_data:\n",
    "        plt.plot(X.numpy(), y.numpy(), 'kx')\n",
    "    if plot_predictions:\n",
    "        Xtest = torch.linspace(float(-0.5), float(5.5), n_test)  # test inputs\n",
    "        # compute predictive mean and variance\n",
    "        with torch.no_grad():\n",
    "            if type(model) == gp.models.VariationalSparseGP:\n",
    "                mean, cov = model(Xtest, full_cov=True)\n",
    "            else:\n",
    "                mean, cov = model(Xtest, full_cov=True, noiseless=False)\n",
    "        sd = cov.diag().sqrt()  # standard deviation at each input point x\n",
    "        plt.plot(Xtest.numpy(), mean.numpy(), 'r', lw=2)  # plot the mean\n",
    "        plt.fill_between(Xtest.numpy(),  # plot the two-sigma uncertainty about the mean\n",
    "                         (mean - float(2.0) * sd).numpy(),\n",
    "                         (mean + float(2.0) * sd).numpy(),\n",
    "                         color='C0', alpha=0.3)\n",
    "    if n_prior_samples > 0:  # plot samples from the GP prior\n",
    "        Xtest = torch.linspace(float(-0.5), float(5.5), n_test)  # test inputs\n",
    "        noise = (model.noise if type(model) != gp.models.VariationalSparseGP\n",
    "                 else model.likelihood.variance)\n",
    "        cov = kernel.forward(Xtest) + noise.expand(n_test).diag()\n",
    "        samples = dist.MultivariateNormal(torch.zeros(n_test), covariance_matrix=cov)\\\n",
    "                      .sample(sample_shape=(n_prior_samples,))\n",
    "        plt.plot(Xtest.numpy(), samples.numpy().T, lw=int(2), alpha=float(0.4))\n",
    "\n",
    "    plt.xlim(float(-0.5), float(5.5))"
   ]
  },
  {
   "cell_type": "code",
   "execution_count": 11,
   "metadata": {
    "scrolled": false
   },
   "outputs": [],
   "source": [
    "# note that this helper function does three different things:\n",
    "# (i) plots the observed data;\n",
    "# (ii) plots the predictions from the learned GP after conditioning on data;\n",
    "# (iii) plots samples from the GP prior (with no conditioning on observed data)\n",
    "\n",
    "def mult_dim_plot(plot_observed_data=False, plot_predictions=False, n_prior_samples=int(0),\n",
    "         model=None, kernel=None, n_test=int(500)):\n",
    "    #plt.figure(figsize=(int(24), int(12)))\n",
    "    if y.ndim == 1:\n",
    "        assert \"This seems to be one dimensional, use the `plot` function instead\"\n",
    "    else:\n",
    "        # Initialise the subplot function using number of rows and columns\n",
    "        figure, axis = plt.subplots(1, y.ndim)\n",
    "    if plot_observed_data:\n",
    "            for dim in range(y.ndim):\n",
    "                axis[dim].plot(X.numpy(), y[dim].numpy(), 'kx')\n",
    "    \n",
    "    if plot_predictions:\n",
    "        Xtest = torch.linspace(float(-0.5), float(5.5), n_test)  # test inputs\n",
    "        # compute predictive mean and variance\n",
    "        with torch.no_grad():\n",
    "            if type(model) == gp.models.VariationalSparseGP:\n",
    "                mean, cov = model(Xtest, full_cov=True)\n",
    "            else:\n",
    "                mean, cov = model(Xtest, full_cov=True, noiseless=False)\n",
    "                #mean = [torch.index_select(mean, int(0), torch.as_tensor([i for i in range(n_test*y.ndim) if i%y.ndim == k])) for k in range(y.ndim)]\n",
    "                mean = [torch.index_select(mean, int(0), torch.as_tensor([i for i in range(n_test*k, n_test*(k+1))])) for k in range(y.ndim)]\n",
    "        sd = cov.diag().sqrt()  # standard deviation at each input point x\n",
    "        sd = [torch.index_select(sd, int(0), torch.as_tensor([i for i in range(n_test*k, n_test*(k+1))])) for k in range(y.ndim)]\n",
    "        for dim in range(y.ndim):\n",
    "            axis[dim].plot(Xtest.numpy(), mean[dim].numpy(), 'r', lw=int(2))\n",
    "            axis[dim].fill_between(Xtest.numpy(),  # plot the two-sigma uncertainty about the mean\n",
    "                 (mean[dim] - float(2.0) * sd[dim]).numpy(),\n",
    "                 (mean[dim] + float(2.0) * sd[dim]).numpy(),\n",
    "                 color='C0', alpha=0.3)\n",
    "    if n_prior_samples > 0:  # plot samples from the GP prior\n",
    "        Xtest = torch.linspace(float(-0.5), float(5.5), n_test)  # test inputs\n",
    "        noise = (model.noise if type(model) != gp.models.VariationalSparseGP\n",
    "                 else model.likelihood.variance)\n",
    "        cov = kernel.forward(Xtest) + noise.expand(n_test*y.ndim).diag()\n",
    "        samples = dist.MultivariateNormal(torch.zeros(n_test*y.ndim), covariance_matrix=cov)\\\n",
    "                      .sample(sample_shape=(n_prior_samples,))\n",
    "        temp_samples = [torch.index_select(samples[0], int(0), torch.as_tensor([i for i in range(n_test*k, n_test*(k+1))])) for k in range(y.ndim)]\n",
    "\n",
    "        \n",
    "        for dim in range(y.ndim):\n",
    "            axis[dim].plot(Xtest.numpy(), temp_samples[dim], lw=int(2), alpha=float(0.4))\n",
    "\n",
    "    plt.xlim(float(-0.5), float(5.5))\n",
    "    plt.show"
   ]
  },
  {
   "cell_type": "code",
   "execution_count": 12,
   "metadata": {
    "scrolled": false
   },
   "outputs": [
    {
     "data": {
      "image/png": "[encoded data removed]",
      "text/plain": [
       "<Figure size 432x288 with 2 Axes>"
      ]
     },
     "metadata": {},
     "output_type": "display_data"
    }
   ],
   "source": [
    "N = 500\n",
    "X = dist.Uniform(0.0, 5.0).sample(sample_shape=(N,))\n",
    "if ONE_DIM:\n",
    "    # One dimensional case\n",
    "    y = float(0.5) * torch.sin(int(3)*X) + dist.Normal(float(0.0), float(0.2)).sample(sample_shape=(N,))\n",
    "    plot(plot_observed_data=True)  # let's plot the observed data\n",
    "else:\n",
    "    # 2D outputs\n",
    "    y = float(0.5) * torch.sin(int(3)*torch.stack([X, X])) + dist.Normal(float(0.0), float(0.2)).sample(sample_shape=(2,N))\n",
    "    mult_dim_plot(plot_observed_data=True)  # let's plot the observed data\n",
    "\n"
   ]
  },
  {
   "cell_type": "code",
   "execution_count": 13,
   "metadata": {},
   "outputs": [
    {
     "data": {
      "text/plain": [
       "<class 'torch.Tensor'>"
      ]
     },
     "execution_count": 13,
     "metadata": {},
     "output_type": "execute_result"
    }
   ],
   "source": [
    "type(X)"
   ]
  },
  {
   "cell_type": "raw",
   "metadata": {
    "scrolled": false
   },
   "source": [
    "print(y)\n",
    "y.size(int(-1))"
   ]
  },
  {
   "cell_type": "raw",
   "metadata": {},
   "source": [
    "[np.array([i for i in range(100) if i % int(5) == k]) for k in range(int(5))]"
   ]
  },
  {
   "cell_type": "markdown",
   "metadata": {},
   "source": [
    "# Creating a Kernel"
   ]
  },
  {
   "cell_type": "code",
   "execution_count": null,
   "metadata": {},
   "outputs": [],
   "source": []
  },
  {
   "cell_type": "code",
   "execution_count": 14,
   "metadata": {},
   "outputs": [
    {
     "data": {
      "text/plain": [
       "\"\\na, d = var('a, d')\\ndx1, dx2 = var('dx1, dx2')\\n\\nleft_poly = dx1^2 + dx1 + dx1^2 + dx1^10\\nright_poly = dx2 + dx2^2 + dx2^10\\nkernel3 = kernel.asymmetric_deriv(left_poly, right_poly)(X, Z=Z)\""
      ]
     },
     "execution_count": 14,
     "metadata": {},
     "output_type": "execute_result"
    }
   ],
   "source": [
    "\"\"\"\n",
    "a, d = var('a, d')\n",
    "dx1, dx2 = var('dx1, dx2')\n",
    "\n",
    "left_poly = dx1^2 + dx1 + dx1^2 + dx1^10\n",
    "right_poly = dx2 + dx2^2 + dx2^10\n",
    "kernel3 = kernel.asymmetric_deriv(left_poly, right_poly)(X, Z=Z)\"\"\""
   ]
  },
  {
   "cell_type": "code",
   "execution_count": null,
   "metadata": {},
   "outputs": [],
   "source": []
  },
  {
   "cell_type": "code",
   "execution_count": 15,
   "metadata": {},
   "outputs": [],
   "source": [
    "from kernels import *"
   ]
  },
  {
   "cell_type": "code",
   "execution_count": 16,
   "metadata": {
    "scrolled": true
   },
   "outputs": [],
   "source": [
    "#sigma, l = var('sigma, l')\n",
    "#kernel = SageExpression(1, sigma^2*exp(-1*(x1-x2)^2/(2*l^2)), hyperparameters={'sigma':0.1, 'l':1})\n",
    "\n",
    "#kernel = gp.kernels.RBF(input_dim=int(1), variance=torch.tensor(float(0.1)),\n",
    "#                        lengthscale=torch.tensor(float(1.)))\n",
    "\n",
    "kernel = TestKernel(input_dim=int(1))\n",
    "kernel2 = TestKernel(input_dim=int(1), var=float(0.1), length=int(1))\n",
    "if ONE_DIM:\n",
    "    kernel3 = MatrixKernel(int(1), [kernel])\n",
    "else:\n",
    "    kernel3 = MatrixKernel(int(1), [kernel, kernel2])\n",
    "gpr = gp.models.GPRegression(X, y, kernel3, noise=torch.tensor(float(1.)))\n",
    "#gpr = torch.jit.script(gp.models.GPRegression(X, y, kernel3, noise=torch.tensor(float(1.))))"
   ]
  },
  {
   "cell_type": "code",
   "execution_count": 17,
   "metadata": {
    "scrolled": false
   },
   "outputs": [
    {
     "name": "stdout",
     "output_type": "stream",
     "text": [
      "('var_unconstrained', Parameter containing:\n",
      "tensor(0., requires_grad=True))\n",
      "('length_unconstrained', Parameter containing:\n",
      "tensor(0., requires_grad=True))\n"
     ]
    }
   ],
   "source": [
    "dx1, dx2, a, b = var('dx1', 'dx2', 'a', 'b')\n",
    "left = a*dx1\n",
    "right = b*dx2\n",
    "kernel.asymmetric_deriv(left_poly=left, right_poly=right)\n",
    "for p in kernel.named_parameters():\n",
    "    print(p)"
   ]
  },
  {
   "cell_type": "code",
   "execution_count": null,
   "metadata": {
    "scrolled": false
   },
   "outputs": [],
   "source": []
  },
  {
   "cell_type": "code",
   "execution_count": null,
   "metadata": {
    "scrolled": false
   },
   "outputs": [],
   "source": []
  },
  {
   "cell_type": "code",
   "execution_count": null,
   "metadata": {
    "scrolled": false
   },
   "outputs": [],
   "source": []
  },
  {
   "cell_type": "code",
   "execution_count": null,
   "metadata": {
    "scrolled": false
   },
   "outputs": [],
   "source": []
  },
  {
   "cell_type": "code",
   "execution_count": null,
   "metadata": {
    "scrolled": false
   },
   "outputs": [],
   "source": []
  },
  {
   "cell_type": "code",
   "execution_count": null,
   "metadata": {
    "scrolled": false
   },
   "outputs": [],
   "source": []
  },
  {
   "cell_type": "code",
   "execution_count": null,
   "metadata": {
    "scrolled": false
   },
   "outputs": [],
   "source": []
  },
  {
   "cell_type": "code",
   "execution_count": 18,
   "metadata": {
    "scrolled": false
   },
   "outputs": [],
   "source": [
    "import timeit\n",
    "Z = dist.Uniform(0.0, 5.0).sample(sample_shape=(N,))\n",
    "#print(timeit.timeit(lambda: kernel2.forward(X,Z=Z), number=int(1)))\n"
   ]
  },
  {
   "cell_type": "code",
   "execution_count": 19,
   "metadata": {},
   "outputs": [],
   "source": [
    "#print(all(entry < float(0.00001) for entry in (kernel3.forward(X, Z=X)-torch.transpose(kernel3.forward(X, Z=X), int(0), int(1))).flatten()))\n",
    "#print(torch.transpose(kernel3.forward(X, Z=X), int(0), int(1))[:4,:4])\n",
    "#print(kernel3.forward(X, Z=X)[:4,:4])\n",
    "#torch.eig(kernel3.forward(X, Z=X))[0]"
   ]
  },
  {
   "cell_type": "raw",
   "metadata": {},
   "source": [
    "sigma, l = var('sigma,l')\n",
    "f = sigma^2*exp(-1*(x1-x2)^2/(2*l^2))\n",
    "#df = f.diff(x1, x2, x1) + f.diff(x1, x2)\n",
    "param_dict = {l:1, sigma: 1}\n",
    "result = [[0 for i in range(len(Z))] for j in range(len(X))]\n",
    "for i, a in enumerate(X):\n",
    "    for j, b in enumerate(X):\n",
    "        param_dict[x1] = float(a.float())\n",
    "        param_dict[x2] = float(b.float())\n",
    "        result[i][j] = float(f.subs(param_dict))\n",
    "        \n",
    "for row in result:\n",
    "    print(row)\n",
    "#print(ascii_art(df))"
   ]
  },
  {
   "cell_type": "code",
   "execution_count": null,
   "metadata": {
    "scrolled": true
   },
   "outputs": [],
   "source": []
  },
  {
   "cell_type": "code",
   "execution_count": null,
   "metadata": {},
   "outputs": [],
   "source": []
  },
  {
   "cell_type": "raw",
   "metadata": {},
   "source": []
  },
  {
   "cell_type": "code",
   "execution_count": 20,
   "metadata": {
    "scrolled": false
   },
   "outputs": [],
   "source": [
    "#%lprun -f kernel3.matrix[0].forward kernel3.matrix[0].forward(X, Z=Z)\n",
    "#%lprun -f kernel42.forward kernel42.forward(X, Z=Z)\n",
    "#kernel3.forward(X, Z = Z)\n",
    "#%lprun -f kernel3.forward kernel3.forward(X, Z = Z)\n",
    "\n",
    "#%time kernel.forward(X, Z = Z)"
   ]
  },
  {
   "cell_type": "code",
   "execution_count": 21,
   "metadata": {
    "scrolled": false
   },
   "outputs": [],
   "source": [
    "#result1 = kernel.forward(X, Z = Z)\n",
    "#result2 = kernel2.forward(X,Z=Z)\n",
    "#result3 = kernel3.forward(X,Z=Z)\n",
    "\n",
    "#%time kernel2.forward(X, Z = Z)\n"
   ]
  },
  {
   "cell_type": "code",
   "execution_count": null,
   "metadata": {
    "scrolled": false
   },
   "outputs": [],
   "source": []
  },
  {
   "cell_type": "code",
   "execution_count": 22,
   "metadata": {
    "scrolled": false
   },
   "outputs": [
    {
     "name": "stdout",
     "output_type": "stream",
     "text": [
      "('noise', tensor(1., grad_fn=<AddBackward0>))\n",
      "('kernel.kernel_0.var', tensor(1., grad_fn=<AddBackward0>))\n",
      "('kernel.kernel_0.length', tensor(1., grad_fn=<AddBackward0>))\n",
      "('kernel.kernel_1.var', tensor(0.1000, grad_fn=<AddBackward0>))\n",
      "('kernel.kernel_1.length', tensor(1., grad_fn=<AddBackward0>))\n"
     ]
    }
   ],
   "source": [
    "for gppm in gpr.named_pyro_params():\n",
    "    print(gppm)"
   ]
  },
  {
   "cell_type": "code",
   "execution_count": null,
   "metadata": {},
   "outputs": [],
   "source": []
  },
  {
   "cell_type": "code",
   "execution_count": null,
   "metadata": {
    "scrolled": false
   },
   "outputs": [],
   "source": []
  },
  {
   "cell_type": "code",
   "execution_count": 31,
   "metadata": {
    "scrolled": true
   },
   "outputs": [
    {
     "data": {
      "image/png": "[encoded data removed]",
      "text/plain": [
       "<Figure size 432x288 with 2 Axes>"
      ]
     },
     "metadata": {},
     "output_type": "display_data"
    }
   ],
   "source": [
    "if ONE_DIM:\n",
    "    plot(model=gpr, kernel=kernel3, n_prior_samples=int(2))\n",
    "else:\n",
    "    mult_dim_plot(model=gpr, kernel=kernel3, n_prior_samples=int(1))"
   ]
  },
  {
   "cell_type": "code",
   "execution_count": 24,
   "metadata": {
    "scrolled": false
   },
   "outputs": [
    {
     "name": "stdout",
     "output_type": "stream",
     "text": [
      "This took 20.44 seconds\n",
      "avg_time = 20.437963247299194\n"
     ]
    }
   ],
   "source": [
    "#%%prun\n",
    "optimizer = torch.optim.Adam(gpr.parameters(), lr=float(0.05))\n",
    "loss_fn = pyro.infer.Trace_ELBO().differentiable_loss\n",
    "# TODO Torch newton optimizer?\n",
    "# Trust-region, SQP, BFGS, LBFGS recherchieren!\n",
    "# TODO Hyperparameter während Training plotten\n",
    "\n",
    "losses = []\n",
    "num_steps = 100 if not smoke_test else 2\n",
    "import time\n",
    "time_list = list()\n",
    "hyper_iteration_list = list()\n",
    "for j in range(1):\n",
    "    hyperparam_dict = {param[0]:list() for param in gpr.named_parameters()}\n",
    "    timestamp1 = time.time()\n",
    "    for i in range(num_steps):\n",
    "        #hyperparam_list.append(gpr.named_pyro_params())\n",
    "        optimizer.zero_grad()\n",
    "        loss = loss_fn(gpr.model, gpr.guide)\n",
    "        loss.backward(retain_graph=True)\n",
    "        optimizer.step()\n",
    "        losses.append(loss.item())\n",
    "        for param in gpr.named_parameters():\n",
    "            hyperparam_dict[param[0]].append(float(param[1]))\n",
    "    timestamp2 = time.time()\n",
    "    time_list.append(timestamp2 - timestamp1)\n",
    "    hyper_iteration_list.append(hyperparam_dict)\n",
    "    print(\"This took %.2f seconds\"% (timestamp2 - timestamp1))\n",
    "print(f\"avg_time = {np.mean(time_list)}\")\n"
   ]
  },
  {
   "cell_type": "code",
   "execution_count": 25,
   "metadata": {},
   "outputs": [
    {
     "data": {
      "image/png": "[encoded data removed]",
      "text/plain": [
       "<Figure size 432x288 with 1 Axes>"
      ]
     },
     "metadata": {},
     "output_type": "display_data"
    },
    {
     "data": {
      "image/png": "[encoded data removed]",
      "text/plain": [
       "<Figure size 432x288 with 1 Axes>"
      ]
     },
     "metadata": {},
     "output_type": "display_data"
    },
    {
     "data": {
      "image/png": "[encoded data removed]",
      "text/plain": [
       "<Figure size 432x288 with 1 Axes>"
      ]
     },
     "metadata": {},
     "output_type": "display_data"
    },
    {
     "data": {
      "image/png": "[encoded data removed]",
      "text/plain": [
       "<Figure size 432x288 with 1 Axes>"
      ]
     },
     "metadata": {},
     "output_type": "display_data"
    },
    {
     "data": {
      "image/png": "[encoded data removed]",
      "text/plain": [
       "<Figure size 432x288 with 1 Axes>"
      ]
     },
     "metadata": {},
     "output_type": "display_data"
    }
   ],
   "source": [
    "for i in range(len(hyper_iteration_list)):\n",
    "    for key in hyper_iteration_list[i]:\n",
    "        plt.plot([k for k in range(len(hyper_iteration_list[i][key]))], hyper_iteration_list[i][key], label=\"Hyperparam\")\n",
    "        plt.xlabel(f\"iteration\")\n",
    "        plt.ylabel(f\"{key}\")\n",
    "        plt.show()"
   ]
  },
  {
   "cell_type": "code",
   "execution_count": 26,
   "metadata": {},
   "outputs": [
    {
     "data": {
      "text/plain": [
       "[<matplotlib.lines.Line2D object at 0x7f2407a8a160>]"
      ]
     },
     "execution_count": 26,
     "metadata": {},
     "output_type": "execute_result"
    },
    {
     "data": {
      "image/png": "[encoded data removed]",
      "text/plain": [
       "<Figure size 432x288 with 1 Axes>"
      ]
     },
     "metadata": {},
     "output_type": "display_data"
    }
   ],
   "source": [
    "# let's plot the loss curve after 2500 steps of training\n",
    "plt.plot(losses)"
   ]
  },
  {
   "cell_type": "code",
   "execution_count": 27,
   "metadata": {},
   "outputs": [
    {
     "data": {
      "image/png": "[encoded data removed]",
      "text/plain": [
       "<Figure size 432x288 with 2 Axes>"
      ]
     },
     "metadata": {},
     "output_type": "display_data"
    }
   ],
   "source": [
    "if ONE_DIM:\n",
    "    plot(model=gpr, plot_observed_data=True, plot_predictions=True)\n",
    "else:\n",
    "    mult_dim_plot(model=gpr, plot_observed_data=True, plot_predictions=True)"
   ]
  },
  {
   "cell_type": "code",
   "execution_count": 28,
   "metadata": {
    "scrolled": false
   },
   "outputs": [
    {
     "data": {
      "text/plain": [
       "'\\nFehlersuche:\\n - Matrix[0] trainiert die Hyperparameter wahrscheinlich nicht\\n - TODO check if noise_unconstrained & other hyperparams are log(noise)\\n - Wahrscheinlich y falsch zusammengebaut\\n - Cov. Matr. ist kaputt (Negative Eigenwerte)\\n - Erwartung Diagonale: Cov. Matr = var**2\\n \\n \\nMögliche Überprüfungen (Unit Tests):\\n - Eigenwerte alle positiv (oder sehr sehr klein negativ)\\n - && Eigenwerte dürfen keinen Imaginärteil haben (oder sehr sehr klein)\\n - M - M.t() == 0 ?\\n - Diagonalelemente immer größer als restlichen Werte auf der Horizontalen/Vertikalen Achse\\n'"
      ]
     },
     "execution_count": 28,
     "metadata": {},
     "output_type": "execute_result"
    }
   ],
   "source": [
    "\"\"\"\n",
    "Fehlersuche:\n",
    " - Matrix[0] trainiert die Hyperparameter wahrscheinlich nicht\n",
    " - TODO check if noise_unconstrained & other hyperparams are log(noise)\n",
    " - Wahrscheinlich y falsch zusammengebaut\n",
    " - Cov. Matr. ist kaputt (Negative Eigenwerte)\n",
    " - Erwartung Diagonale: Cov. Matr = var**2\n",
    " \n",
    " \n",
    "Mögliche Überprüfungen (Unit Tests):\n",
    " - Eigenwerte alle positiv (oder sehr sehr klein negativ)\n",
    " - && Eigenwerte dürfen keinen Imaginärteil haben (oder sehr sehr klein)\n",
    " - M - M.t() == 0 ?\n",
    " - Diagonalelemente immer größer als restlichen Werte auf der Horizontalen/Vertikalen Achse\n",
    "\"\"\"\n",
    "\n",
    "\n",
    "#print(kernel3.var)\n",
    "#print(kernel3.length)"
   ]
  },
  {
   "cell_type": "code",
   "execution_count": 29,
   "metadata": {
    "scrolled": false
   },
   "outputs": [
    {
     "name": "stdout",
     "output_type": "stream",
     "text": [
      "('noise', tensor(0.0390, grad_fn=<AddBackward0>))\n",
      "('kernel.kernel_0.var', tensor(0.1682, grad_fn=<AddBackward0>))\n",
      "('kernel.kernel_0.length', tensor(0.5309, grad_fn=<AddBackward0>))\n",
      "('kernel.kernel_1.var', tensor(0.2175, grad_fn=<AddBackward0>))\n",
      "('kernel.kernel_1.length', tensor(0.5796, grad_fn=<AddBackward0>))\n"
     ]
    }
   ],
   "source": [
    "for gppm in gpr.named_pyro_params():\n",
    "    print(gppm)"
   ]
  },
  {
   "cell_type": "markdown",
   "metadata": {},
   "source": [
    "# Running more complex tests\n",
    "\n",
    "## Simple system of differential equations\n",
    "**Function:**    \n"
   ]
  },
  {
   "cell_type": "code",
   "execution_count": null,
   "metadata": {
    "scrolled": false
   },
   "outputs": [],
   "source": []
  },
  {
   "cell_type": "code",
   "execution_count": null,
   "metadata": {
    "scrolled": false
   },
   "outputs": [],
   "source": [
    "\n"
   ]
  },
  {
   "cell_type": "code",
   "execution_count": null,
   "metadata": {
    "scrolled": false
   },
   "outputs": [],
   "source": []
  },
  {
   "cell_type": "code",
   "execution_count": null,
   "metadata": {
    "scrolled": false
   },
   "outputs": [],
   "source": []
  },
  {
   "cell_type": "code",
   "execution_count": null,
   "metadata": {
    "scrolled": false
   },
   "outputs": [],
   "source": []
  },
  {
   "cell_type": "code",
   "execution_count": null,
   "metadata": {
    "scrolled": false
   },
   "outputs": [],
   "source": []
  },
  {
   "cell_type": "code",
   "execution_count": null,
   "metadata": {
    "scrolled": false
   },
   "outputs": [],
   "source": []
  },
  {
   "cell_type": "code",
   "execution_count": 30,
   "metadata": {
    "scrolled": false
   },
   "outputs": [
    {
     "data": {
      "text/plain": [
       "0.00636680576090901"
      ]
     },
     "execution_count": 30,
     "metadata": {},
     "output_type": "execute_result"
    }
   ],
   "source": [
    "0.7^(2000/50)*10000"
   ]
  }
 ],
 "metadata": {
  "kernelspec": {
   "display_name": "SageMath 9.2",
   "language": "sage",
   "name": "sagemath"
  },
  "language_info": {
   "codemirror_mode": {
    "name": "ipython",
    "version": 3
   },
   "file_extension": ".py",
   "mimetype": "text/x-python",
   "name": "python",
   "nbconvert_exporter": "python",
   "pygments_lexer": "ipython3",
   "version": "3.9.5"
  }
 },
 "nbformat": 4,
 "nbformat_minor": 2
}
