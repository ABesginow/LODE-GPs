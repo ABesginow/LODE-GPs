{
 "cells": [
  {
   "cell_type": "code",
   "execution_count": 1,
   "id": "6eaef263",
   "metadata": {},
   "outputs": [],
   "source": [
    "import math\n",
    "import torch\n",
    "import gpytorch\n",
    "from matplotlib import pyplot as plt\n",
    "from kernels import *\n",
    "import pdb\n",
    "import gpytorch\n",
    "from itertools import product\n",
    "\n",
    "%matplotlib inline\n",
    "%load_ext autoreload\n",
    "%autoreload 2"
   ]
  },
  {
   "cell_type": "code",
   "execution_count": 2,
   "id": "779684f0",
   "metadata": {},
   "outputs": [],
   "source": [
    "train_x = torch.linspace(float(0), float(1), int(50))\n",
    "one = torch.sin(train_x * (float(2) * math.pi)) + torch.randn(train_x.size()) * float(0.2)\n",
    "two = torch.cos(train_x * (float(2) * math.pi)) + torch.randn(train_x.size()) * float(0.2)\n",
    "train_y = torch.stack([one, two], int(-1))\n"
   ]
  },
  {
   "cell_type": "code",
   "execution_count": null,
   "id": "361022cb",
   "metadata": {},
   "outputs": [],
   "source": []
  },
  {
   "cell_type": "raw",
   "id": "8734672a",
   "metadata": {},
   "source": []
  },
  {
   "cell_type": "code",
   "execution_count": null,
   "id": "b15ef0d8",
   "metadata": {},
   "outputs": [],
   "source": []
  },
  {
   "cell_type": "raw",
   "id": "de84d184",
   "metadata": {},
   "source": []
  },
  {
   "cell_type": "code",
   "execution_count": 3,
   "id": "9d5dedb4",
   "metadata": {},
   "outputs": [
    {
     "name": "stdout",
     "output_type": "stream",
     "text": [
      "> \u001b[0;32m/Users/andreas/Documents/container_storage/sage/DiffEqGPs/kernels.py\u001b[0m(325)\u001b[0;36msingle_term_extract\u001b[0;34m()\u001b[0m\n",
      "\u001b[0;32m    323 \u001b[0;31m        \u001b[0;32melif\u001b[0m \u001b[0;34m(\u001b[0m\u001b[0;32mnot\u001b[0m \u001b[0mlen\u001b[0m\u001b[0;34m(\u001b[0m\u001b[0md_poly\u001b[0m\u001b[0;34m.\u001b[0m\u001b[0moperands\u001b[0m\u001b[0;34m(\u001b[0m\u001b[0;34m)\u001b[0m\u001b[0;34m)\u001b[0m \u001b[0;34m==\u001b[0m \u001b[0;36m0\u001b[0m\u001b[0;34m)\u001b[0m\u001b[0;34m:\u001b[0m\u001b[0;34m\u001b[0m\u001b[0;34m\u001b[0m\u001b[0m\n",
      "\u001b[0m\u001b[0;32m    324 \u001b[0;31m            \u001b[0mpdb\u001b[0m\u001b[0;34m.\u001b[0m\u001b[0mset_trace\u001b[0m\u001b[0;34m(\u001b[0m\u001b[0;34m)\u001b[0m\u001b[0;34m\u001b[0m\u001b[0;34m\u001b[0m\u001b[0m\n",
      "\u001b[0m\u001b[0;32m--> 325 \u001b[0;31m            \u001b[0;32mfor\u001b[0m \u001b[0mitem\u001b[0m \u001b[0;32min\u001b[0m \u001b[0md_poly\u001b[0m\u001b[0;34m.\u001b[0m\u001b[0moperands\u001b[0m\u001b[0;34m(\u001b[0m\u001b[0;34m)\u001b[0m\u001b[0;34m:\u001b[0m\u001b[0;34m\u001b[0m\u001b[0;34m\u001b[0m\u001b[0m\n",
      "\u001b[0m\u001b[0;32m    326 \u001b[0;31m                \u001b[0;31m# Check if power or d_var is in item and skip that\u001b[0m\u001b[0;34m\u001b[0m\u001b[0;34m\u001b[0m\u001b[0;34m\u001b[0m\u001b[0m\n",
      "\u001b[0m\u001b[0;32m    327 \u001b[0;31m                \u001b[0;32mif\u001b[0m \u001b[0;34m'^'\u001b[0m \u001b[0;32min\u001b[0m \u001b[0mstr\u001b[0m\u001b[0;34m(\u001b[0m\u001b[0mitem\u001b[0m\u001b[0;34m)\u001b[0m \u001b[0;32mor\u001b[0m \u001b[0mitem\u001b[0m\u001b[0;34m.\u001b[0m\u001b[0mhas\u001b[0m\u001b[0;34m(\u001b[0m\u001b[0md_var\u001b[0m\u001b[0;34m)\u001b[0m\u001b[0;34m:\u001b[0m\u001b[0;34m\u001b[0m\u001b[0;34m\u001b[0m\u001b[0m\n",
      "\u001b[0m\n",
      "ipdb> c\n",
      "> \u001b[0;32m/Users/andreas/Documents/container_storage/sage/DiffEqGPs/kernels.py\u001b[0m(325)\u001b[0;36msingle_term_extract\u001b[0;34m()\u001b[0m\n",
      "\u001b[0;32m    323 \u001b[0;31m        \u001b[0;32melif\u001b[0m \u001b[0;34m(\u001b[0m\u001b[0;32mnot\u001b[0m \u001b[0mlen\u001b[0m\u001b[0;34m(\u001b[0m\u001b[0md_poly\u001b[0m\u001b[0;34m.\u001b[0m\u001b[0moperands\u001b[0m\u001b[0;34m(\u001b[0m\u001b[0;34m)\u001b[0m\u001b[0;34m)\u001b[0m \u001b[0;34m==\u001b[0m \u001b[0;36m0\u001b[0m\u001b[0;34m)\u001b[0m\u001b[0;34m:\u001b[0m\u001b[0;34m\u001b[0m\u001b[0;34m\u001b[0m\u001b[0m\n",
      "\u001b[0m\u001b[0;32m    324 \u001b[0;31m            \u001b[0mpdb\u001b[0m\u001b[0;34m.\u001b[0m\u001b[0mset_trace\u001b[0m\u001b[0;34m(\u001b[0m\u001b[0;34m)\u001b[0m\u001b[0;34m\u001b[0m\u001b[0;34m\u001b[0m\u001b[0m\n",
      "\u001b[0m\u001b[0;32m--> 325 \u001b[0;31m            \u001b[0;32mfor\u001b[0m \u001b[0mitem\u001b[0m \u001b[0;32min\u001b[0m \u001b[0md_poly\u001b[0m\u001b[0;34m.\u001b[0m\u001b[0moperands\u001b[0m\u001b[0;34m(\u001b[0m\u001b[0;34m)\u001b[0m\u001b[0;34m:\u001b[0m\u001b[0;34m\u001b[0m\u001b[0;34m\u001b[0m\u001b[0m\n",
      "\u001b[0m\u001b[0;32m    326 \u001b[0;31m                \u001b[0;31m# Check if power or d_var is in item and skip that\u001b[0m\u001b[0;34m\u001b[0m\u001b[0;34m\u001b[0m\u001b[0;34m\u001b[0m\u001b[0m\n",
      "\u001b[0m\u001b[0;32m    327 \u001b[0;31m                \u001b[0;32mif\u001b[0m \u001b[0;34m'^'\u001b[0m \u001b[0;32min\u001b[0m \u001b[0mstr\u001b[0m\u001b[0;34m(\u001b[0m\u001b[0mitem\u001b[0m\u001b[0;34m)\u001b[0m \u001b[0;32mor\u001b[0m \u001b[0mitem\u001b[0m\u001b[0;34m.\u001b[0m\u001b[0mhas\u001b[0m\u001b[0;34m(\u001b[0m\u001b[0md_var\u001b[0m\u001b[0;34m)\u001b[0m\u001b[0;34m:\u001b[0m\u001b[0;34m\u001b[0m\u001b[0;34m\u001b[0m\u001b[0m\n",
      "\u001b[0m\n",
      "ipdb> c\n",
      "> \u001b[0;32m/Users/andreas/Documents/container_storage/sage/DiffEqGPs/kernels.py\u001b[0m(325)\u001b[0;36msingle_term_extract\u001b[0;34m()\u001b[0m\n",
      "\u001b[0;32m    323 \u001b[0;31m        \u001b[0;32melif\u001b[0m \u001b[0;34m(\u001b[0m\u001b[0;32mnot\u001b[0m \u001b[0mlen\u001b[0m\u001b[0;34m(\u001b[0m\u001b[0md_poly\u001b[0m\u001b[0;34m.\u001b[0m\u001b[0moperands\u001b[0m\u001b[0;34m(\u001b[0m\u001b[0;34m)\u001b[0m\u001b[0;34m)\u001b[0m \u001b[0;34m==\u001b[0m \u001b[0;36m0\u001b[0m\u001b[0;34m)\u001b[0m\u001b[0;34m:\u001b[0m\u001b[0;34m\u001b[0m\u001b[0;34m\u001b[0m\u001b[0m\n",
      "\u001b[0m\u001b[0;32m    324 \u001b[0;31m            \u001b[0mpdb\u001b[0m\u001b[0;34m.\u001b[0m\u001b[0mset_trace\u001b[0m\u001b[0;34m(\u001b[0m\u001b[0;34m)\u001b[0m\u001b[0;34m\u001b[0m\u001b[0;34m\u001b[0m\u001b[0m\n",
      "\u001b[0m\u001b[0;32m--> 325 \u001b[0;31m            \u001b[0;32mfor\u001b[0m \u001b[0mitem\u001b[0m \u001b[0;32min\u001b[0m \u001b[0md_poly\u001b[0m\u001b[0;34m.\u001b[0m\u001b[0moperands\u001b[0m\u001b[0;34m(\u001b[0m\u001b[0;34m)\u001b[0m\u001b[0;34m:\u001b[0m\u001b[0;34m\u001b[0m\u001b[0;34m\u001b[0m\u001b[0m\n",
      "\u001b[0m\u001b[0;32m    326 \u001b[0;31m                \u001b[0;31m# Check if power or d_var is in item and skip that\u001b[0m\u001b[0;34m\u001b[0m\u001b[0;34m\u001b[0m\u001b[0;34m\u001b[0m\u001b[0m\n",
      "\u001b[0m\u001b[0;32m    327 \u001b[0;31m                \u001b[0;32mif\u001b[0m \u001b[0;34m'^'\u001b[0m \u001b[0;32min\u001b[0m \u001b[0mstr\u001b[0m\u001b[0;34m(\u001b[0m\u001b[0mitem\u001b[0m\u001b[0;34m)\u001b[0m \u001b[0;32mor\u001b[0m \u001b[0mitem\u001b[0m\u001b[0;34m.\u001b[0m\u001b[0mhas\u001b[0m\u001b[0;34m(\u001b[0m\u001b[0md_var\u001b[0m\u001b[0;34m)\u001b[0m\u001b[0;34m:\u001b[0m\u001b[0;34m\u001b[0m\u001b[0;34m\u001b[0m\u001b[0m\n",
      "\u001b[0m\n",
      "ipdb> c\n",
      "> \u001b[0;32m/Users/andreas/Documents/container_storage/sage/DiffEqGPs/kernels.py\u001b[0m(325)\u001b[0;36msingle_term_extract\u001b[0;34m()\u001b[0m\n",
      "\u001b[0;32m    323 \u001b[0;31m        \u001b[0;32melif\u001b[0m \u001b[0;34m(\u001b[0m\u001b[0;32mnot\u001b[0m \u001b[0mlen\u001b[0m\u001b[0;34m(\u001b[0m\u001b[0md_poly\u001b[0m\u001b[0;34m.\u001b[0m\u001b[0moperands\u001b[0m\u001b[0;34m(\u001b[0m\u001b[0;34m)\u001b[0m\u001b[0;34m)\u001b[0m \u001b[0;34m==\u001b[0m \u001b[0;36m0\u001b[0m\u001b[0;34m)\u001b[0m\u001b[0;34m:\u001b[0m\u001b[0;34m\u001b[0m\u001b[0;34m\u001b[0m\u001b[0m\n",
      "\u001b[0m\u001b[0;32m    324 \u001b[0;31m            \u001b[0mpdb\u001b[0m\u001b[0;34m.\u001b[0m\u001b[0mset_trace\u001b[0m\u001b[0;34m(\u001b[0m\u001b[0;34m)\u001b[0m\u001b[0;34m\u001b[0m\u001b[0;34m\u001b[0m\u001b[0m\n",
      "\u001b[0m\u001b[0;32m--> 325 \u001b[0;31m            \u001b[0;32mfor\u001b[0m \u001b[0mitem\u001b[0m \u001b[0;32min\u001b[0m \u001b[0md_poly\u001b[0m\u001b[0;34m.\u001b[0m\u001b[0moperands\u001b[0m\u001b[0;34m(\u001b[0m\u001b[0;34m)\u001b[0m\u001b[0;34m:\u001b[0m\u001b[0;34m\u001b[0m\u001b[0;34m\u001b[0m\u001b[0m\n",
      "\u001b[0m\u001b[0;32m    326 \u001b[0;31m                \u001b[0;31m# Check if power or d_var is in item and skip that\u001b[0m\u001b[0;34m\u001b[0m\u001b[0;34m\u001b[0m\u001b[0;34m\u001b[0m\u001b[0m\n",
      "\u001b[0m\u001b[0;32m    327 \u001b[0;31m                \u001b[0;32mif\u001b[0m \u001b[0;34m'^'\u001b[0m \u001b[0;32min\u001b[0m \u001b[0mstr\u001b[0m\u001b[0;34m(\u001b[0m\u001b[0mitem\u001b[0m\u001b[0;34m)\u001b[0m \u001b[0;32mor\u001b[0m \u001b[0mitem\u001b[0m\u001b[0;34m.\u001b[0m\u001b[0mhas\u001b[0m\u001b[0;34m(\u001b[0m\u001b[0md_var\u001b[0m\u001b[0;34m)\u001b[0m\u001b[0;34m:\u001b[0m\u001b[0;34m\u001b[0m\u001b[0;34m\u001b[0m\u001b[0m\n",
      "\u001b[0m\n",
      "ipdb> c\n"
     ]
    }
   ],
   "source": [
    "class MultitaskGPModel(gpytorch.models.ExactGP):\n",
    "    def __init__(self, train_x, train_y, likelihood):\n",
    "        super(MultitaskGPModel, self).__init__(train_x, train_y, likelihood)\n",
    "        self.mean_module = gpytorch.means.MultitaskMean(\n",
    "            gpytorch.means.ZeroMean(), num_tasks=2\n",
    "        )\n",
    "        kernel = Diff_SE_kernel()\n",
    "        kernel2 = Diff_SE_kernel()\n",
    "        q, dx1, dx2 = var('q, dx1, dx2')\n",
    "        # TODO test what happens with \n",
    "        #L = matrix(2, 2, (dx1, q, 0, dx1))\n",
    "        # -> does it learn q as a parameter?\n",
    "        #AND\n",
    "        #L = matrix(2, 2, (q*dx1, q, 0, dx1))\n",
    "        # -> does it learn multiple separate q?\n",
    "        L = matrix(2, 2, (q*dx1, 0, 0, dx1))\n",
    "        R = matrix(2, 2, (dx2, 0, 0, dx2))\n",
    "        p = DiffMatrixKernel([[kernel, None], [None, kernel2]])\n",
    "        self.covar_module = p.diff(left_matrix=L, right_matrix=R)\n",
    "        #kernel0 = Diff_SE_kernel()\n",
    "        #kernel1 = Diff_SE_kernel()\n",
    "        #kernel2 = Diff_SE_kernel()\n",
    "        #self.covar_module = MatrixKernel([[kernel0, None], [None, kernel2]])\n",
    "\n",
    "    def forward(self, x):\n",
    "        #pdb.set_trace()\n",
    "        mean_x = self.mean_module(x)\n",
    "        covar_x = self.covar_module(x)\n",
    "        #print(f\"{covar_x.detach().evaluate()}\")\n",
    "        return gpytorch.distributions.MultitaskMultivariateNormal(mean_x, covar_x, validate_args=True)\n",
    "\n",
    "\n",
    "likelihood = gpytorch.likelihoods.MultitaskGaussianLikelihood(num_tasks=2)\n",
    "model = MultitaskGPModel(train_x, train_y, likelihood)"
   ]
  },
  {
   "cell_type": "code",
   "execution_count": 4,
   "id": "3f0a9b7f",
   "metadata": {},
   "outputs": [
    {
     "name": "stdout",
     "output_type": "stream",
     "text": [
      "tensor([[1.0000, 0.9994, 0.9975,  ..., 0.0505, 0.0250, 0.0000],\n",
      "        [0.9994, 1.0000, 0.9994,  ..., 0.0764, 0.0505, 0.0250],\n",
      "        [0.9975, 0.9994, 1.0000,  ..., 0.1027, 0.0764, 0.0505],\n",
      "        ...,\n",
      "        [0.0505, 0.0764, 0.1027,  ..., 1.0000, 0.9994, 0.9975],\n",
      "        [0.0250, 0.0505, 0.0764,  ..., 0.9994, 1.0000, 0.9994],\n",
      "        [0.0000, 0.0250, 0.0505,  ..., 0.9975, 0.9994, 1.0000]],\n",
      "       grad_fn=<CatBackward>)\n",
      "tensor([[1.4938, 1.4927, 1.4892,  ..., 0.1097, 0.0932, 0.0769],\n",
      "        [1.4927, 1.4938, 1.4927,  ..., 0.1263, 0.1097, 0.0932],\n",
      "        [1.4892, 1.4927, 1.4938,  ..., 0.1431, 0.1263, 0.1097],\n",
      "        ...,\n",
      "        [0.1219, 0.1404, 0.1590,  ..., 1.3580, 1.3570, 1.3538],\n",
      "        [0.1035, 0.1219, 0.1404,  ..., 1.3570, 1.3580, 1.3570],\n",
      "        [0.0854, 0.1035, 0.1219,  ..., 1.3538, 1.3570, 1.3580]],\n",
      "       grad_fn=<CatBackward>)\n",
      "tensor([[1.9902, 1.9884, 1.9829,  ..., 0.1173, 0.1052, 0.0933],\n",
      "        [1.9884, 1.9902, 1.9884,  ..., 0.1293, 0.1173, 0.1052],\n",
      "        [1.9829, 1.9884, 1.9902,  ..., 0.1415, 0.1293, 0.1173],\n",
      "        ...,\n",
      "        [0.1412, 0.1557, 0.1703,  ..., 1.8211, 1.8193, 1.8141],\n",
      "        [0.1267, 0.1412, 0.1557,  ..., 1.8193, 1.8211, 1.8193],\n",
      "        [0.1123, 0.1267, 0.1412,  ..., 1.8141, 1.8193, 1.8211]],\n",
      "       grad_fn=<CatBackward>)\n",
      "tensor([[2.5526, 2.5499, 2.5416,  ..., 0.1128, 0.1035, 0.0943],\n",
      "        [2.5499, 2.5526, 2.5499,  ..., 0.1221, 0.1128, 0.1035],\n",
      "        [2.5416, 2.5499, 2.5526,  ..., 0.1314, 0.1221, 0.1128],\n",
      "        ...,\n",
      "        [0.1455, 0.1575, 0.1695,  ..., 2.5108, 2.5077, 2.4985],\n",
      "        [0.1335, 0.1455, 0.1575,  ..., 2.5077, 2.5108, 2.5077],\n",
      "        [0.1217, 0.1335, 0.1455,  ..., 2.4985, 2.5077, 2.5108]],\n",
      "       grad_fn=<CatBackward>)\n",
      "tensor([[3.2476, 3.2435, 3.2310,  ..., 0.1051, 0.0977, 0.0903],\n",
      "        [3.2435, 3.2476, 3.2435,  ..., 0.1125, 0.1051, 0.0977],\n",
      "        [3.2310, 3.2435, 3.2476,  ..., 0.1199, 0.1125, 0.1051],\n",
      "        ...,\n",
      "        [0.1441, 0.1543, 0.1645,  ..., 3.5681, 3.5623, 3.5449],\n",
      "        [0.1340, 0.1441, 0.1543,  ..., 3.5623, 3.5681, 3.5623],\n",
      "        [0.1238, 0.1340, 0.1441,  ..., 3.5449, 3.5623, 3.5681]],\n",
      "       grad_fn=<CatBackward>)\n",
      "tensor([[4.1751, 4.1685, 4.1489,  ..., 0.0970, 0.0909, 0.0848],\n",
      "        [4.1685, 4.1751, 4.1685,  ..., 0.1031, 0.0970, 0.0909],\n",
      "        [4.1489, 4.1685, 4.1751,  ..., 0.1091, 0.1031, 0.0970],\n",
      "        ...,\n",
      "        [0.1405, 0.1493, 0.1581,  ..., 5.1724, 5.1609, 5.1264],\n",
      "        [0.1317, 0.1405, 0.1493,  ..., 5.1609, 5.1724, 5.1609],\n",
      "        [0.1229, 0.1317, 0.1405,  ..., 5.1264, 5.1609, 5.1724]],\n",
      "       grad_fn=<CatBackward>)\n",
      "tensor([[5.4390, 5.4283, 5.3964,  ..., 0.0894, 0.0842, 0.0791],\n",
      "        [5.4283, 5.4390, 5.4283,  ..., 0.0945, 0.0894, 0.0842],\n",
      "        [5.3964, 5.4283, 5.4390,  ..., 0.0996, 0.0945, 0.0894],\n",
      "        ...,\n",
      "        [0.1361, 0.1439, 0.1516,  ..., 7.4820, 7.4588, 7.3896],\n",
      "        [0.1283, 0.1361, 0.1439,  ..., 7.4588, 7.4820, 7.4588],\n",
      "        [0.1205, 0.1283, 0.1361,  ..., 7.3896, 7.4588, 7.4820]],\n",
      "       grad_fn=<CatBackward>)\n",
      "tensor([[ 6.9701,  6.9530,  6.9019,  ...,  0.0825,  0.0781,  0.0737],\n",
      "        [ 6.9530,  6.9701,  6.9530,  ...,  0.0868,  0.0825,  0.0781],\n",
      "        [ 6.9019,  6.9530,  6.9701,  ...,  0.0912,  0.0868,  0.0825],\n",
      "        ...,\n",
      "        [ 0.1314,  0.1384,  0.1453,  ..., 10.1856, 10.1439, 10.0194],\n",
      "        [ 0.1244,  0.1314,  0.1384,  ..., 10.1439, 10.1856, 10.1439],\n",
      "        [ 0.1174,  0.1244,  0.1314,  ..., 10.0194, 10.1439, 10.1856]],\n",
      "       grad_fn=<CatBackward>)\n",
      "tensor([[ 8.3384,  8.3142,  8.2417,  ...,  0.0763,  0.0725,  0.0687],\n",
      "        [ 8.3142,  8.3384,  8.3142,  ...,  0.0801,  0.0763,  0.0725],\n",
      "        [ 8.2417,  8.3142,  8.3384,  ...,  0.0839,  0.0801,  0.0763],\n",
      "        ...,\n",
      "        [ 0.1268,  0.1331,  0.1394,  ..., 12.0188, 11.9616, 11.7912],\n",
      "        [ 0.1204,  0.1268,  0.1331,  ..., 11.9616, 12.0188, 11.9616],\n",
      "        [ 0.1141,  0.1204,  0.1268,  ..., 11.7912, 11.9616, 12.0188]],\n",
      "       grad_fn=<CatBackward>)\n",
      "tensor([[ 8.9479,  8.9197,  8.8354,  ...,  0.0709,  0.0675,  0.0642],\n",
      "        [ 8.9197,  8.9479,  8.9197,  ...,  0.0743,  0.0709,  0.0675],\n",
      "        [ 8.8354,  8.9197,  8.9479,  ...,  0.0776,  0.0743,  0.0709],\n",
      "        ...,\n",
      "        [ 0.1224,  0.1282,  0.1340,  ..., 12.1092, 12.0516, 11.8797],\n",
      "        [ 0.1166,  0.1224,  0.1282,  ..., 12.0516, 12.1092, 12.0516],\n",
      "        [ 0.1108,  0.1166,  0.1224,  ..., 11.8797, 12.0516, 12.1092]],\n",
      "       grad_fn=<CatBackward>)\n",
      "tensor([[ 8.5934,  8.5668,  8.4871,  ...,  0.0661,  0.0631,  0.0601],\n",
      "        [ 8.5668,  8.5934,  8.5668,  ...,  0.0691,  0.0661,  0.0631],\n",
      "        [ 8.4871,  8.5668,  8.5934,  ...,  0.0721,  0.0691,  0.0661],\n",
      "        ...,\n",
      "        [ 0.1183,  0.1237,  0.1290,  ..., 10.8459, 10.7996, 10.6614],\n",
      "        [ 0.1129,  0.1183,  0.1237,  ..., 10.7996, 10.8459, 10.7996],\n",
      "        [ 0.1075,  0.1129,  0.1183,  ..., 10.6614, 10.7996, 10.8459]],\n",
      "       grad_fn=<CatBackward>)\n",
      "tensor([[7.5817, 7.5601, 7.4955,  ..., 0.0619, 0.0592, 0.0565],\n",
      "        [7.5601, 7.5817, 7.5601,  ..., 0.0646, 0.0619, 0.0592],\n",
      "        [7.4955, 7.5601, 7.5817,  ..., 0.0673, 0.0646, 0.0619],\n",
      "        ...,\n",
      "        [0.1145, 0.1195, 0.1245,  ..., 9.0796, 9.0468, 8.9491],\n",
      "        [0.1095, 0.1145, 0.1195,  ..., 9.0468, 9.0796, 9.0468],\n",
      "        [0.1045, 0.1095, 0.1145,  ..., 8.9491, 9.0468, 9.0796]],\n",
      "       grad_fn=<CatBackward>)\n",
      "tensor([[6.3608, 6.3448, 6.2969,  ..., 0.0582, 0.0558, 0.0533],\n",
      "        [6.3448, 6.3608, 6.3448,  ..., 0.0607, 0.0582, 0.0558],\n",
      "        [6.2969, 6.3448, 6.3608,  ..., 0.0631, 0.0607, 0.0582],\n",
      "        ...,\n",
      "        [0.1111, 0.1157, 0.1204,  ..., 7.3951, 7.3731, 7.3074],\n",
      "        [0.1064, 0.1111, 0.1157,  ..., 7.3731, 7.3951, 7.3731],\n",
      "        [0.1016, 0.1064, 0.1111,  ..., 7.3074, 7.3731, 7.3951]],\n",
      "       grad_fn=<CatBackward>)\n",
      "tensor([[5.2684, 5.2568, 5.2219,  ..., 0.0550, 0.0527, 0.0505],\n",
      "        [5.2568, 5.2684, 5.2568,  ..., 0.0572, 0.0550, 0.0527],\n",
      "        [5.2219, 5.2568, 5.2684,  ..., 0.0595, 0.0572, 0.0550],\n",
      "        ...,\n",
      "        [0.1079, 0.1123, 0.1167,  ..., 6.0503, 6.0353, 5.9905],\n",
      "        [0.1034, 0.1079, 0.1123,  ..., 6.0353, 6.0503, 6.0353],\n",
      "        [0.0990, 0.1034, 0.1079,  ..., 5.9905, 6.0353, 6.0503]],\n",
      "       grad_fn=<CatBackward>)\n",
      "tensor([[4.5612, 4.5519, 4.5241,  ..., 0.0521, 0.0500, 0.0480],\n",
      "        [4.5519, 4.5612, 4.5519,  ..., 0.0542, 0.0521, 0.0500],\n",
      "        [4.5241, 4.5519, 4.5612,  ..., 0.0563, 0.0542, 0.0521],\n",
      "        ...,\n",
      "        [0.1050, 0.1092, 0.1133,  ..., 5.1528, 5.1417, 5.1086],\n",
      "        [0.1008, 0.1050, 0.1092,  ..., 5.1417, 5.1528, 5.1417],\n",
      "        [0.0966, 0.1008, 0.1050,  ..., 5.1086, 5.1417, 5.1528]],\n",
      "       grad_fn=<CatBackward>)\n",
      "tensor([[4.5829, 4.5731, 4.5438,  ..., 0.0496, 0.0477, 0.0457],\n",
      "        [4.5731, 4.5829, 4.5731,  ..., 0.0515, 0.0496, 0.0477],\n",
      "        [4.5438, 4.5731, 4.5829,  ..., 0.0534, 0.0515, 0.0496],\n",
      "        ...,\n",
      "        [0.1024, 0.1063, 0.1103,  ..., 4.8624, 4.8524, 4.8224],\n",
      "        [0.0984, 0.1024, 0.1063,  ..., 4.8524, 4.8624, 4.8524],\n",
      "        [0.0943, 0.0984, 0.1024,  ..., 4.8224, 4.8524, 4.8624]],\n",
      "       grad_fn=<CatBackward>)\n",
      "tensor([[5.5063, 5.4922, 5.4501,  ..., 0.0473, 0.0455, 0.0437],\n",
      "        [5.4922, 5.5063, 5.4922,  ..., 0.0491, 0.0473, 0.0455],\n",
      "        [5.4501, 5.4922, 5.5063,  ..., 0.0509, 0.0491, 0.0473],\n",
      "        ...,\n",
      "        [0.0998, 0.1036, 0.1074,  ..., 5.3830, 5.3707, 5.3338],\n",
      "        [0.0960, 0.0998, 0.1036,  ..., 5.3707, 5.3830, 5.3707],\n",
      "        [0.0922, 0.0960, 0.0998,  ..., 5.3338, 5.3707, 5.3830]],\n",
      "       grad_fn=<CatBackward>)\n",
      "tensor([[7.1184, 7.0950, 7.0252,  ..., 0.0452, 0.0435, 0.0418],\n",
      "        [7.0950, 7.1184, 7.0950,  ..., 0.0469, 0.0452, 0.0435],\n",
      "        [7.0252, 7.0950, 7.1184,  ..., 0.0485, 0.0469, 0.0452],\n",
      "        ...,\n",
      "        [0.0974, 0.1010, 0.1046,  ..., 6.4178, 6.4003, 6.3481],\n",
      "        [0.0937, 0.0974, 0.1010,  ..., 6.4003, 6.4178, 6.4003],\n",
      "        [0.0901, 0.0937, 0.0974,  ..., 6.3481, 6.4003, 6.4178]],\n",
      "       grad_fn=<CatBackward>)\n",
      "tensor([[8.6167, 8.5820, 8.4785,  ..., 0.0433, 0.0417, 0.0401],\n",
      "        [8.5820, 8.6167, 8.5820,  ..., 0.0449, 0.0433, 0.0417],\n",
      "        [8.4785, 8.5820, 8.6167,  ..., 0.0465, 0.0449, 0.0433],\n",
      "        ...,\n",
      "        [0.0952, 0.0987, 0.1022,  ..., 7.4842, 7.4604, 7.3891],\n",
      "        [0.0917, 0.0952, 0.0987,  ..., 7.4604, 7.4842, 7.4604],\n",
      "        [0.0881, 0.0917, 0.0952,  ..., 7.3891, 7.4604, 7.4842]],\n",
      "       grad_fn=<CatBackward>)\n",
      "tensor([[9.3656, 9.3231, 9.1964,  ..., 0.0416, 0.0401, 0.0386],\n",
      "        [9.3231, 9.3656, 9.3231,  ..., 0.0431, 0.0416, 0.0401],\n",
      "        [9.1964, 9.3231, 9.3656,  ..., 0.0446, 0.0431, 0.0416],\n",
      "        ...,\n",
      "        [0.0932, 0.0966, 0.0999,  ..., 8.3306, 8.3008, 8.2117],\n",
      "        [0.0898, 0.0932, 0.0966,  ..., 8.3008, 8.3306, 8.3008],\n",
      "        [0.0864, 0.0898, 0.0932,  ..., 8.2117, 8.3008, 8.3306]],\n",
      "       grad_fn=<CatBackward>)\n"
     ]
    }
   ],
   "source": [
    "# this is for running the notebook in our testing framework\n",
    "import os\n",
    "smoke_test = ('CI' in os.environ)\n",
    "training_iter = int(2) if smoke_test else int(20)\n",
    "\n",
    "\n",
    "# Find optimal model hyperparameters\n",
    "model.train()\n",
    "likelihood.train()\n",
    "\n",
    "# Use the adam optimizer\n",
    "optimizer = torch.optim.Adam(model.parameters(), lr=float(0.1))  # Includes GaussianLikelihood parameters\n",
    "\n",
    "# \"Loss\" for GPs - the marginal log likelihood\n",
    "mll = gpytorch.mlls.ExactMarginalLogLikelihood(likelihood, model)\n",
    "\n",
    "for i in range(training_iter):\n",
    "    # Zero gradients from previous iteration\n",
    "    optimizer.zero_grad()\n",
    "    # Output from model\n",
    "    output = model(train_x)\n",
    "    # Calc loss and backprop gradients\n",
    "    loss = -mll(output, train_y)\n",
    "    loss.backward()\n",
    "    #print('Iter %d/%d - Loss: %.3f   lengthscale: %.3f  variance: %.3f noise: %.3f' % (\n",
    "    #    i + 1, training_iter, loss.item(),\n",
    "    #    model.covar_module.length.item(),\n",
    "    #    model.covar_module.var.item(),\n",
    "    #    model.likelihood.noise.item()\n",
    "    #))\n",
    "    optimizer.step()"
   ]
  },
  {
   "cell_type": "raw",
   "id": "75730997",
   "metadata": {},
   "source": [
    "model.named_parameters()"
   ]
  },
  {
   "cell_type": "code",
   "execution_count": 5,
   "id": "7d1b8824",
   "metadata": {
    "scrolled": true
   },
   "outputs": [
    {
     "name": "stdout",
     "output_type": "stream",
     "text": [
      "('likelihood.raw_task_noises', Parameter containing:\n",
      "tensor([-1.9742, -1.9669], requires_grad=True))\n",
      "('likelihood.raw_noise', Parameter containing:\n",
      "tensor([-1.9717], requires_grad=True))\n",
      "('covar_module.kernel_00.kernels.0.var', Parameter containing:\n",
      "tensor(1.1050, requires_grad=True))\n",
      "('covar_module.kernel_00.kernels.0.length', Parameter containing:\n",
      "tensor(0.3569, requires_grad=True))\n",
      "('covar_module.kernel_00.kernels.0.q', Parameter containing:\n",
      "tensor(1.1050, requires_grad=True))\n",
      "('covar_module.kernel_00.kernels.1.var', Parameter containing:\n",
      "tensor(1., requires_grad=True))\n",
      "('covar_module.kernel_00.kernels.1.length', Parameter containing:\n",
      "tensor(1., requires_grad=True))\n",
      "('covar_module.kernel_00.kernels.2.var', Parameter containing:\n",
      "tensor(1., requires_grad=True))\n",
      "('covar_module.kernel_00.kernels.2.length', Parameter containing:\n",
      "tensor(1., requires_grad=True))\n",
      "('covar_module.kernel_00.kernels.2.q', Parameter containing:\n",
      "tensor(1., requires_grad=True))\n",
      "('covar_module.kernel_00.kernels.3.var', Parameter containing:\n",
      "tensor(1., requires_grad=True))\n",
      "('covar_module.kernel_00.kernels.3.length', Parameter containing:\n",
      "tensor(1., requires_grad=True))\n",
      "('covar_module.kernel_01.kernels.0.var', Parameter containing:\n",
      "tensor(1., requires_grad=True))\n",
      "('covar_module.kernel_01.kernels.0.length', Parameter containing:\n",
      "tensor(1., requires_grad=True))\n",
      "('covar_module.kernel_01.kernels.0.q', Parameter containing:\n",
      "tensor(1., requires_grad=True))\n",
      "('covar_module.kernel_01.kernels.1.var', Parameter containing:\n",
      "tensor(1., requires_grad=True))\n",
      "('covar_module.kernel_01.kernels.1.length', Parameter containing:\n",
      "tensor(1., requires_grad=True))\n",
      "('covar_module.kernel_01.kernels.2.var', Parameter containing:\n",
      "tensor(0.4343, requires_grad=True))\n",
      "('covar_module.kernel_01.kernels.2.length', Parameter containing:\n",
      "tensor(1.5317, requires_grad=True))\n",
      "('covar_module.kernel_01.kernels.2.q', Parameter containing:\n",
      "tensor(0.4343, requires_grad=True))\n",
      "('covar_module.kernel_01.kernels.3.var', Parameter containing:\n",
      "tensor(1., requires_grad=True))\n",
      "('covar_module.kernel_01.kernels.3.length', Parameter containing:\n",
      "tensor(1., requires_grad=True))\n",
      "('covar_module.kernel_10.kernels.0.var', Parameter containing:\n",
      "tensor(1., requires_grad=True))\n",
      "('covar_module.kernel_10.kernels.0.length', Parameter containing:\n",
      "tensor(1., requires_grad=True))\n",
      "('covar_module.kernel_10.kernels.1.var', Parameter containing:\n",
      "tensor(0.4293, requires_grad=True))\n",
      "('covar_module.kernel_10.kernels.1.length', Parameter containing:\n",
      "tensor(1.5315, requires_grad=True))\n",
      "('covar_module.kernel_10.kernels.2.var', Parameter containing:\n",
      "tensor(1., requires_grad=True))\n",
      "('covar_module.kernel_10.kernels.2.length', Parameter containing:\n",
      "tensor(1., requires_grad=True))\n",
      "('covar_module.kernel_10.kernels.3.var', Parameter containing:\n",
      "tensor(1., requires_grad=True))\n",
      "('covar_module.kernel_10.kernels.3.length', Parameter containing:\n",
      "tensor(1., requires_grad=True))\n",
      "('covar_module.kernel_11.kernels.0.var', Parameter containing:\n",
      "tensor(1., requires_grad=True))\n",
      "('covar_module.kernel_11.kernels.0.length', Parameter containing:\n",
      "tensor(1., requires_grad=True))\n",
      "('covar_module.kernel_11.kernels.1.var', Parameter containing:\n",
      "tensor(1., requires_grad=True))\n",
      "('covar_module.kernel_11.kernels.1.length', Parameter containing:\n",
      "tensor(1., requires_grad=True))\n",
      "('covar_module.kernel_11.kernels.2.var', Parameter containing:\n",
      "tensor(1., requires_grad=True))\n",
      "('covar_module.kernel_11.kernels.2.length', Parameter containing:\n",
      "tensor(1., requires_grad=True))\n",
      "('covar_module.kernel_11.kernels.3.var', Parameter containing:\n",
      "tensor(1.4306, requires_grad=True))\n",
      "('covar_module.kernel_11.kernels.3.length', Parameter containing:\n",
      "tensor(0.4006, requires_grad=True))\n"
     ]
    }
   ],
   "source": [
    "for parameter in model.named_parameters():\n",
    "    print(parameter)"
   ]
  },
  {
   "cell_type": "code",
   "execution_count": 6,
   "id": "8dd409d7",
   "metadata": {},
   "outputs": [
    {
     "data": {
      "text/plain": [
       "(1, 2)"
      ]
     },
     "execution_count": 6,
     "metadata": {},
     "output_type": "execute_result"
    }
   ],
   "source": [
    "tuple([1,2])"
   ]
  },
  {
   "cell_type": "code",
   "execution_count": 7,
   "id": "f0c869eb",
   "metadata": {
    "scrolled": false
   },
   "outputs": [
    {
     "name": "stdout",
     "output_type": "stream",
     "text": [
      "tensor([[9.5872, 9.5403, 9.4001,  ..., 0.0402, 0.0387, 0.0373],\n",
      "        [9.5403, 9.5872, 9.5403,  ..., 0.0416, 0.0402, 0.0387],\n",
      "        [9.4001, 9.5403, 9.5872,  ..., 0.0430, 0.0416, 0.0402],\n",
      "        ...,\n",
      "        [0.0914, 0.0947, 0.0979,  ..., 8.9156, 8.8809, 8.7773],\n",
      "        [0.0881, 0.0914, 0.0947,  ..., 8.8809, 8.9156, 8.8809],\n",
      "        [0.0848, 0.0881, 0.0914,  ..., 8.7773, 8.8809, 8.9156]])\n",
      "tensor([[ 9.5872,  9.5403,  9.4001,  ..., -0.0209, -0.0226, -0.0242],\n",
      "        [ 9.5403,  9.5872,  9.5403,  ..., -0.0200, -0.0217, -0.0234],\n",
      "        [ 9.4001,  9.5403,  9.5872,  ..., -0.0191, -0.0209, -0.0226],\n",
      "        ...,\n",
      "        [-0.0475, -0.0455, -0.0434,  ...,  8.9156,  8.7773,  8.3697],\n",
      "        [-0.0514, -0.0495, -0.0475,  ...,  8.7773,  8.9156,  8.7773],\n",
      "        [-0.0550, -0.0532, -0.0514,  ...,  8.3697,  8.7773,  8.9156]])\n"
     ]
    },
    {
     "name": "stderr",
     "output_type": "stream",
     "text": [
      "/Users/andreas/Documents/container_storage/sage/DiffEqGPs/gpytorch/distributions/multivariate_normal.py:259: NumericalWarning: Negative variance values detected. This is likely due to numerical instabilities. Rounding negative variances up to 1e-06.\n",
      "  warnings.warn(\n"
     ]
    }
   ],
   "source": [
    "# Set into eval mode\n",
    "model.eval()\n",
    "likelihood.eval()\n",
    "\n",
    "# Initialize plots\n",
    "\n",
    "number_of_samples = int(50)\n",
    "# Make predictions\n",
    "with torch.no_grad():#, gpytorch.settings.fast_pred_var():\n",
    "    test_x = torch.linspace(float(0), float(2), number_of_samples)\n",
    "    #pdb.set_trace()\n",
    "    outputs = model(test_x)\n",
    "    predictions = likelihood(outputs)\n",
    "    \n",
    "    mean = predictions.mean\n",
    "    lower, upper = predictions.confidence_region()\n",
    "#print(mean)\n",
    "#print(lower)\n",
    "#print(upper)\n",
    "# This contains predictions for both tasks, flattened out\n",
    "# The first half of the predictions is for the first task\n",
    "# The second half is for the second task\n",
    "\n",
    "#dims = int(2)\n",
    "#indices = [list(range(i, len(train_y), dims)) for i in range(dims)]\n"
   ]
  },
  {
   "cell_type": "raw",
   "id": "49b79859",
   "metadata": {},
   "source": []
  },
  {
   "cell_type": "code",
   "execution_count": null,
   "id": "ad4df72d",
   "metadata": {},
   "outputs": [],
   "source": []
  },
  {
   "cell_type": "code",
   "execution_count": 8,
   "id": "f0a03a44",
   "metadata": {},
   "outputs": [
    {
     "data": {
      "text/plain": [
       "Text(0.5, 1.0, 'Observed Values (Likelihood)')"
      ]
     },
     "execution_count": 8,
     "metadata": {},
     "output_type": "execute_result"
    },
    {
     "data": {
      "image/png": "[encoded data removed]",
      "text/plain": [
       "<Figure size 576x216 with 2 Axes>"
      ]
     },
     "metadata": {
      "needs_background": "light"
     },
     "output_type": "display_data"
    }
   ],
   "source": [
    "f, (y1_ax, y2_ax) = plt.subplots(int(1), int(2), figsize=(int(8), int(3)))\n",
    "\n",
    "# Plot training data as black stars\n",
    "y1_ax.plot(train_x.detach().numpy(), train_y[:, 0].detach().numpy(), 'k*')\n",
    "# Predictive mean as blue line\n",
    "y1_ax.plot(test_x.numpy(), mean[:, 0].numpy(), 'b')\n",
    "# Shade in confidence\n",
    "y1_ax.fill_between(test_x.numpy(), lower[:, 0].numpy(), upper[:, 0].numpy(), alpha=0.5)\n",
    "y1_ax.set_ylim([-3, 8])\n",
    "y1_ax.legend(['Observed Data', 'Mean', 'Confidence'])\n",
    "y1_ax.set_title('Observed Values (Likelihood)')\n",
    "\n",
    "# Plot training data as black stars\n",
    "y2_ax.plot(train_x.detach().numpy(), train_y[:, 1].detach().numpy(), 'k*')\n",
    "# Predictive mean as blue line\n",
    "y2_ax.plot(test_x.numpy(), mean[:, 1].numpy(), 'b')\n",
    "# Shade in confidence\n",
    "y2_ax.fill_between(test_x.numpy(), lower[:, 1].numpy(), upper[:, 1].numpy(), alpha=0.5)\n",
    "y2_ax.set_ylim([-3, 8])\n",
    "y2_ax.legend(['Observed Data', 'Mean', 'Confidence'])\n",
    "y2_ax.set_title('Observed Values (Likelihood)')\n"
   ]
  },
  {
   "cell_type": "code",
   "execution_count": null,
   "id": "822f0426",
   "metadata": {},
   "outputs": [],
   "source": []
  },
  {
   "cell_type": "markdown",
   "id": "bf73a6c3",
   "metadata": {},
   "source": [
    "# Test Diffable SE Kernel"
   ]
  },
  {
   "cell_type": "code",
   "execution_count": 9,
   "id": "b432934f",
   "metadata": {},
   "outputs": [
    {
     "data": {
      "text/plain": [
       "tensor([1, 2, 3])"
      ]
     },
     "execution_count": 9,
     "metadata": {},
     "output_type": "execute_result"
    }
   ],
   "source": [
    "X = torch.tensor([int(1), int(2), int(3)])\n",
    "X"
   ]
  },
  {
   "cell_type": "code",
   "execution_count": null,
   "id": "ae01ece4",
   "metadata": {},
   "outputs": [],
   "source": []
  },
  {
   "cell_type": "code",
   "execution_count": 10,
   "id": "d46856bd",
   "metadata": {
    "scrolled": true
   },
   "outputs": [
    {
     "data": {
      "text/plain": [
       "[[1, 0, -3*e^(-2)], [0, 1, 0], [-3*e^(-2), 0, 1]]"
      ]
     },
     "execution_count": 10,
     "metadata": {},
     "output_type": "execute_result"
    }
   ],
   "source": [
    "x1, x2, l, sigma = var('x1, x2, l, sigma')\n",
    "lengthscale = 1\n",
    "variance = 1\n",
    "SE(x1, x2, l, sigma) = sigma^2*exp(-(x1-x2)^2/(2*l^2))\n",
    "cov_matr = [[None for i in range(len(X))] for j in range(len(X))]\n",
    "for i, (v1, v2) in enumerate(product(X, X)):\n",
    "    cov_matr[int(i/len(X))][int(i%len(X))] = SE.diff(x2).diff(x1)(int(v1), int(v2), lengthscale, variance)\n",
    "cov_matr"
   ]
  },
  {
   "cell_type": "code",
   "execution_count": 11,
   "id": "55bee06a",
   "metadata": {},
   "outputs": [
    {
     "data": {
      "text/plain": [
       "[sigma^2, e^(-1/2*(x1 - x2)^2/l^2)]"
      ]
     },
     "execution_count": 11,
     "metadata": {},
     "output_type": "execute_result"
    }
   ],
   "source": [
    "SE.operands()"
   ]
  },
  {
   "cell_type": "code",
   "execution_count": 12,
   "id": "ea4620c2",
   "metadata": {},
   "outputs": [
    {
     "data": {
      "text/plain": [
       "tensor([[ 1.0000,  0.0000, -0.4060],\n",
       "        [ 0.0000,  1.0000,  0.0000],\n",
       "        [-0.4060,  0.0000,  1.0000]], grad_fn=<MulBackward0>)"
      ]
     },
     "execution_count": 12,
     "metadata": {},
     "output_type": "execute_result"
    }
   ],
   "source": [
    "a = Diff_SE_kernel(var=int(variance), length=int(lengthscale))\n",
    "q, dx1, dx2 = var('q, dx1, dx2')\n",
    "left_poly = dx2\n",
    "right_poly = dx1\n",
    "diffed_kernel = a.diff(left_poly=left_poly, right_poly=right_poly, left_d_var=var('dx2'), right_d_var=var('dx1'))\n",
    "diffed_kernel(X).evaluate()"
   ]
  },
  {
   "cell_type": "code",
   "execution_count": 13,
   "id": "6422f5c5",
   "metadata": {},
   "outputs": [],
   "source": [
    "def calc_cell_diff(L, M, R, row, col):\n",
    "    len_M = M.number_of_arguments()\n",
    "    temp = None\n",
    "    for j in range(int(sqrt(len_M))):\n",
    "        if temp == None:\n",
    "            import itertools\n",
    "            #M_tr = list(map(list, itertools.zip_longest(*M, fillvalue=None)))\n",
    "            #[M_tr[j].diff(left_poly=L[row][k], right_poly=R.transpose()[col][j]) for k in range(L.number_of_arguments())]\n",
    "            temp = L[row]*M.transpose()[j]*R.transpose()[col][j]\n",
    "        else:\n",
    "            temp += L[row]*M.transpose()[j]*R.transpose()[col][j]\n",
    "    return temp"
   ]
  },
  {
   "cell_type": "code",
   "execution_count": 14,
   "id": "2732ed50",
   "metadata": {
    "scrolled": false
   },
   "outputs": [
    {
     "name": "stdout",
     "output_type": "stream",
     "text": [
      "[l_11 l_12]\n",
      "[l_21 l_22]\n",
      "[m_11 m_12]\n",
      "[m_21 m_22]\n",
      "[r_11 r_12]\n",
      "[r_21 r_22]\n",
      "(l_21*m_11 + l_22*m_21)*r_11 + (l_21*m_12 + l_22*m_22)*r_21\n"
     ]
    },
    {
     "data": {
      "text/plain": [
       "(l_21*m_11 + l_22*m_21)*r_11 + (l_21*m_12 + l_22*m_22)*r_21"
      ]
     },
     "execution_count": 14,
     "metadata": {},
     "output_type": "execute_result"
    }
   ],
   "source": [
    "dimension = 2\n",
    "length = dimension*dimension +1\n",
    "L_list = [var(f'l_{i}{j}') for i in range(1, dimension+1) for j in range(1, dimension+1)]\n",
    "M_list = [var(f'm_{i}{j}') for i in range(1, dimension+1) for j in range(1, dimension+1)]\n",
    "R_list = [var(f'r_{i}{j}') for i in range(1, dimension+1) for j in range(1, dimension+1)]\n",
    "L = matrix(dimension, dimension, L_list)\n",
    "M = matrix(dimension, dimension, M_list)\n",
    "R = matrix(dimension, dimension, R_list)\n",
    "print(L)\n",
    "print(M)\n",
    "print(R)\n",
    "row = 1\n",
    "col = 0\n",
    "print((L*M*R)[row][col])\n",
    "\n",
    "calc_cell_diff(L, M, R, row, col)"
   ]
  },
  {
   "cell_type": "code",
   "execution_count": 15,
   "id": "8e93355b",
   "metadata": {},
   "outputs": [
    {
     "name": "stdout",
     "output_type": "stream",
     "text": [
      "((l_11, l_12), (r_11, r_21))\n",
      "((l_11, l_12), (r_12, r_22))\n",
      "((l_21, l_22), (r_11, r_21))\n",
      "((l_21, l_22), (r_12, r_22))\n"
     ]
    }
   ],
   "source": [
    "from itertools import product\n",
    "for p in product(L.rows(),R.columns()):\n",
    "    print(p)"
   ]
  },
  {
   "cell_type": "code",
   "execution_count": 16,
   "id": "ebf9f2d5",
   "metadata": {},
   "outputs": [
    {
     "data": {
      "text/plain": [
       "(x1, x2, sigma, l) |--> [sigma^2*e^(-1/2*(x1 - x2)^2/l^2)                                0]\n",
       "[                               0 sigma^2*e^(-1/2*(x1 - x2)^2/l^2)]"
      ]
     },
     "execution_count": 16,
     "metadata": {},
     "output_type": "execute_result"
    }
   ],
   "source": [
    "MSE(x1, x2, sigma, l) = matrix(2,2, (sigma^2*exp(-(x1-x2)^2/(2*l^2)), 0, 0, sigma^2*exp(-(x1-x2)^2/(2*l^2))))\n",
    "dx1 = matrix(2,2,(dx1, 0, 0, dx1))\n",
    "MSE"
   ]
  },
  {
   "cell_type": "code",
   "execution_count": 17,
   "id": "9459151f",
   "metadata": {},
   "outputs": [],
   "source": [
    "kernel = Diff_SE_kernel()\n",
    "kernel2 = Diff_SE_kernel()\n",
    "\n",
    "p = DiffMatrixKernel([[kernel, None], [None, kernel2]])"
   ]
  },
  {
   "cell_type": "code",
   "execution_count": 18,
   "id": "421fa954",
   "metadata": {},
   "outputs": [],
   "source": [
    "q, dx1, dx2 = var('q, dx1, dx2')\n",
    "left_poly = dx1\n",
    "right_poly = dx2\n",
    "L = matrix(2, 2, (dx1, 0, 0, dx1))\n",
    "R = matrix(2, 2, (dx2, 0, 0, dx2))"
   ]
  },
  {
   "cell_type": "code",
   "execution_count": 19,
   "id": "08967429",
   "metadata": {},
   "outputs": [
    {
     "name": "stdout",
     "output_type": "stream",
     "text": [
      "tensor([[ 1.0000,  0.0000, -0.4060,  1.0000,  0.0000, -0.4060],\n",
      "        [ 0.0000,  1.0000,  0.0000,  0.0000,  1.0000,  0.0000],\n",
      "        [-0.4060,  0.0000,  1.0000, -0.4060,  0.0000,  1.0000],\n",
      "        [ 1.0000,  0.0000, -0.4060,  1.0000,  0.0000, -0.4060],\n",
      "        [ 0.0000,  1.0000,  0.0000,  0.0000,  1.0000,  0.0000],\n",
      "        [-0.4060,  0.0000,  1.0000, -0.4060,  0.0000,  1.0000]],\n",
      "       grad_fn=<CatBackward>)\n"
     ]
    },
    {
     "data": {
      "text/plain": [
       "tensor([[ 1.0000,  1.0000,  0.0000,  0.0000, -0.4060, -0.4060],\n",
       "        [ 1.0000,  1.0000,  0.0000,  0.0000, -0.4060, -0.4060],\n",
       "        [ 0.0000,  0.0000,  1.0000,  1.0000,  0.0000,  0.0000],\n",
       "        [ 0.0000,  0.0000,  1.0000,  1.0000,  0.0000,  0.0000],\n",
       "        [-0.4060, -0.4060,  0.0000,  0.0000,  1.0000,  1.0000],\n",
       "        [-0.4060, -0.4060,  0.0000,  0.0000,  1.0000,  1.0000]],\n",
       "       grad_fn=<CatBackward>)"
      ]
     },
     "execution_count": 19,
     "metadata": {},
     "output_type": "execute_result"
    }
   ],
   "source": [
    "p.diff(left_matrix=L, right_matrix=R).forward(X, X)"
   ]
  },
  {
   "cell_type": "code",
   "execution_count": null,
   "id": "723f0512",
   "metadata": {},
   "outputs": [],
   "source": []
  },
  {
   "cell_type": "code",
   "execution_count": 20,
   "id": "679f2f27",
   "metadata": {},
   "outputs": [
    {
     "data": {
      "text/plain": [
       "[dx1, 2]"
      ]
     },
     "execution_count": 20,
     "metadata": {},
     "output_type": "execute_result"
    }
   ],
   "source": [
    "w, q, dx1, dx2 = var('w, q, dx1, dx2')\n",
    "a = dx1^2\n",
    "#a.degree(dx1)\n",
    "a.operands()"
   ]
  },
  {
   "cell_type": "code",
   "execution_count": 21,
   "id": "853df9b1",
   "metadata": {},
   "outputs": [
    {
     "data": {
      "text/plain": [
       "6"
      ]
     },
     "execution_count": 21,
     "metadata": {},
     "output_type": "execute_result"
    }
   ],
   "source": [
    "prod([1,2,3])"
   ]
  }
 ],
 "metadata": {
  "kernelspec": {
   "display_name": "SageMath 9.2",
   "language": "sage",
   "name": "sagemath"
  },
  "language_info": {
   "codemirror_mode": {
    "name": "ipython",
    "version": 3
   },
   "file_extension": ".py",
   "mimetype": "text/x-python",
   "name": "python",
   "nbconvert_exporter": "python",
   "pygments_lexer": "ipython3",
   "version": "3.9.5"
  }
 },
 "nbformat": 4,
 "nbformat_minor": 5
}
