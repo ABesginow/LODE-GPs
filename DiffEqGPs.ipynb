{
 "cells": [
  {
   "cell_type": "code",
   "execution_count": 1,
   "id": "6eaef263",
   "metadata": {
    "scrolled": true
   },
   "outputs": [],
   "source": [
    "import math\n",
    "import torch\n",
    "import gpytorch\n",
    "from matplotlib import pyplot as plt\n",
    "from kernels import *\n",
    "import pdb\n",
    "import gpytorch\n",
    "from itertools import product\n",
    "import random\n",
    "import sys\n",
    "\n",
    "%matplotlib inline\n",
    "%load_ext autoreload\n",
    "%autoreload 2"
   ]
  },
  {
   "cell_type": "code",
   "execution_count": 2,
   "id": "b41770b7",
   "metadata": {},
   "outputs": [],
   "source": [
    "torch.set_default_tensor_type(torch.DoubleTensor)"
   ]
  },
  {
   "cell_type": "code",
   "execution_count": 3,
   "id": "5b3fcb60",
   "metadata": {},
   "outputs": [],
   "source": [
    "# TODO There is also .complex_roots() for finding the others\n",
    "# TODO Or use .roots(ring=CC) to find complex roots as well\n",
    "# |                  sage: f.roots(ring=CC)   # note -- low order bits slightly different on ppc.\n",
    "# |                  [(1.00000000000000, 1), (-0.500000000000000 - 0.86602540378443...*I, 1), (-0.500000000000000 + 0.86602540378443...*I, 1)]\n",
    "\n",
    "\n",
    "def find_all_real_roots(expr, max_iterations=10000):\n",
    "    degr = expr.degree(var('x'))\n",
    "    zeros = []\n",
    "    iteration = 0\n",
    "    for root in expr.roots():\n",
    "        for i in range(root[1]):\n",
    "            zeros.append(root[0])\n",
    "    if not len(zeros) == degr:\n",
    "        while not len(zeros) == degr or iteration >= max_iterations:\n",
    "            iteration += 1\n",
    "            max_search = randrange(sys.maxsize)\n",
    "            min_search = min_search - int(sys.maxsize*0.1)\n",
    "            try:\n",
    "                root = find_root(expr, min_search, max_search)\n",
    "                zeros.append(root)\n",
    "            except:\n",
    "                continue\n",
    "    return zeros"
   ]
  },
  {
   "cell_type": "code",
   "execution_count": 4,
   "id": "06280d6d",
   "metadata": {},
   "outputs": [],
   "source": [
    "# TODO Nochmal durchlaufen lassen\n",
    "def get_prepared_SNF(input_matrix, left_var=var('dx1'), right_var=var('dx2')):\n",
    "    d, u, v = input_matrix.smith_form()\n",
    "    (r, c) = np.shape(d)\n",
    "    if r > c:\n",
    "        assert \"More rows than columns in diagonal matrix D\"\n",
    "    if not d == u*input_matrix*v:\n",
    "        assert \"The calculation of the Smith form failed or is not possible\"\n",
    "    # TODO try out using e.change_variable_name(left_var)\n",
    "    V_left = matrix([[e.change_variable_name(left_var) for e in row] for row in v])\n",
    "    V_right_transpose = matrix([[e.change_variable_name(right_var) for e in row] for row in v.transpose()])\n",
    "    #V_left = matrix([[e.substitute(left_var) for e in row] for row in v])\n",
    "    #V_right_transpose = matrix([[e.substitute(right_var) for e in row] for row in v.transpose()])\n",
    "    row = [None] * c\n",
    "    pre_diff_kernel_matrix = []\n",
    "    for i in range(c):\n",
    "        temp = copy(row)\n",
    "        if i < r and d[i][i] == 0 or i >= r:\n",
    "            temp[i] = Diff_SE_kernel(var=0, length=0)\n",
    "        # Real roots case (i.e. exp kernel)\n",
    "        elif i < r and not SR(str(d[i][i])).is_numeric():\n",
    "            list_of_summands = SR(str(d[i][i])).factor_list()\n",
    "            if len(list_of_summands) > 1:\n",
    "                raise \"I can't deal with that right now\"\n",
    "            kernel = None\n",
    "            for summand in list_of_summands:\n",
    "                roots = summand[0].roots()\n",
    "                for root in roots:\n",
    "                    if root[1] > 1:\n",
    "                        raise \"I can't deal with that right now\"\n",
    "                    if root[0].imag() == 0:\n",
    "                        factor = summand[0].content(x)\n",
    "                        exp_coeff = root[0]\n",
    "                        if kernel is None:\n",
    "                            kernel = exp_kernel(torch.tensor(float(factor)), torch.tensor(float(exp_coeff)))\n",
    "            temp[i] = kernel\n",
    "        # TODO with poly.content(x) I can potentially get the coefficients in the front and make the stuff cleaner\n",
    "        #\n",
    "        #    find_all_real_roots(d[i][i])\n",
    "        # Complex roots case (i.e. sin/cos kernel)\n",
    "        #elif something_else:\n",
    "        # Mixed roots case?\n",
    "        #elif something_completely_different:\n",
    "        \n",
    "            \n",
    "        pre_diff_kernel_matrix.append(temp)\n",
    "    return pre_diff_kernel_matrix, V_left, V_right_transpose"
   ]
  },
  {
   "cell_type": "code",
   "execution_count": 5,
   "id": "2eb77e1c",
   "metadata": {},
   "outputs": [],
   "source": [
    "a = SR('x^3')\n"
   ]
  },
  {
   "cell_type": "code",
   "execution_count": null,
   "id": "2fe16641",
   "metadata": {},
   "outputs": [],
   "source": []
  },
  {
   "cell_type": "code",
   "execution_count": 6,
   "id": "94d38e5a",
   "metadata": {},
   "outputs": [
    {
     "name": "stdout",
     "output_type": "stream",
     "text": [
      "3*x1^3 - 3\n",
      "3*x1^3 - 3\n",
      "[[-3, 0], [3, 3]]\n",
      "[3*x1^3, -3]\n",
      "[(1/2*I*sqrt(3) - 1/2, 1), (-1/2*I*sqrt(3) - 1/2, 1), (1, 1)]\n",
      "[(x1^2 + x1 + 1, 1), (x1 - 1, 1), (3, 1)]\n",
      "3\n",
      "-3*imag_part(x1)^3 + 9*imag_part(x1)*real_part(x1)^2\n"
     ]
    }
   ],
   "source": [
    "poly = SR(str('3*(x1^3-1)'))\n",
    "print(poly.simplify_full())\n",
    "print(poly.expand())\n",
    "print(poly.coefficients())\n",
    "print(poly.operands())\n",
    "print(poly.roots())\n",
    "print(poly.factor_list())\n",
    "print(poly.content(x1))\n",
    "print(poly.imag())\n"
   ]
  },
  {
   "cell_type": "code",
   "execution_count": 7,
   "id": "336fecb4",
   "metadata": {},
   "outputs": [
    {
     "name": "stdout",
     "output_type": "stream",
     "text": [
      "[  1/2   1/2]\n",
      "[x - 2     x]\n"
     ]
    }
   ],
   "source": [
    "\n",
    "R.<x> = QQ[]\n",
    "m = x^2*matrix(R, 2,3,[1, 0, 1, 1, 0, 0]) +x* matrix(R, 2,3,[-1, -1, -2, -2, 1, 1]) + matrix(R, 2,3,[0, 1, 1, 0, 0, -1])\n",
    "\n",
    "\n",
    "dx1 = var('dx1')\n",
    "dx2 = var('dx2')\n",
    "#L = [[2, 1, 0], [3/2, -1/2*dx1 + 2, -1], [-dx1 - 1, dx1^2 - 3*dx1, 2*dx1]]\n",
    "#R = [[2, 3/2, -dx2 - 1], [1, -1/2*dx2 + 2, dx2^2 - 3*dx2], [0, -1, 2*dx2]]\n",
    "#L = matrix(L)\n",
    "#R = matrix(R)\n",
    "\n",
    "#T, L, R = get_prepared_SNF(m, dx1, dx2)\n",
    "#print(m)\n",
    "\n",
    "#print(T)\n",
    "#print(L)\n",
    "#print(R)\n",
    "A = matrix(R, 2, 3, [x, -x^2+x-1, x-2, 2-x, x^2-x-1, -x])\n",
    "#print(\"---\")\n",
    "d, u, v = A.smith_form()\n",
    "#d[1][1].roots()\n",
    "print(u)"
   ]
  },
  {
   "cell_type": "code",
   "execution_count": 8,
   "id": "cc3d2f8b",
   "metadata": {},
   "outputs": [
    {
     "name": "stdout",
     "output_type": "stream",
     "text": [
      "[(1, 1), (-1, 1)]\n"
     ]
    }
   ],
   "source": [
    "\n",
    "a = x^2 - 1\n",
    "print(a.roots())\n",
    "#find_root(a, -2, 10)\n"
   ]
  },
  {
   "cell_type": "code",
   "execution_count": 9,
   "id": "bfee9772",
   "metadata": {},
   "outputs": [
    {
     "data": {
      "text/plain": [
       "-510941710956364658"
      ]
     },
     "execution_count": 9,
     "metadata": {},
     "output_type": "execute_result"
    }
   ],
   "source": [
    "randrange(sys.maxsize)- int(sys.maxsize*0.1)"
   ]
  },
  {
   "cell_type": "raw",
   "id": "d750964e",
   "metadata": {},
   "source": [
    "R.<x> = QQ[]\n",
    "m = x^2*matrix(R, 2,3,[1, 0, 1, 1, 0, 0]) +x* matrix(R, 2,3,[-1, -1, -2, -2, 1, 1]) + matrix(R, 2,3,[0, 1, 1, 0, 0, -1])\n",
    "#dx1 = var('dx1')\n",
    "#m[0, 0].substitute(dx1)\n",
    "get_prepared_SNF(m)"
   ]
  },
  {
   "cell_type": "raw",
   "id": "d56d1013",
   "metadata": {
    "scrolled": false
   },
   "source": [
    "def test_get_prepared_SNF():\n",
    "    m = matrix(2,2,(1,0,1,0))\n",
    "    v1 = vector((1,2,3,4))\n",
    "    v2 = vector((1,2,3,4))\n",
    "    # Standard SE Kernel on the [1][1]-Entry\n",
    "    assert get_cov_fkt_from_SNF(m)(v1, v2).tolist() == [[0., 0.],[0., 1.]], \"Test 1 failed\"\n",
    "    \n",
    "    R.<x> = QQ[]\n",
    "    m=x^2*matrix(R, 2,3,[1, 0, 1, 1, 0, 0]) +x* matrix(R, 2,3,[-1, -1, -2, -2, 1, 1]) + matrix(R, 2,3,[0, 1, 1, 0, 0, -1])\n",
    "    v1 = vector((1,2,3,4))\n",
    "    v2 = vector((1,2,3,4))\n",
    "    # Standard SE Kernel on the [2][2]-Entry\n",
    "    assert get_cov_fkt_from_SNF(m)(v1, v2).tolist() == [[0., 0., 0.],[0., 0., 0.],[0., 0., 1.]], \"Test 2 failed\"\n",
    "    \n",
    "test_get_cov_fkt_from_SNF()"
   ]
  },
  {
   "cell_type": "code",
   "execution_count": 10,
   "id": "779684f0",
   "metadata": {},
   "outputs": [],
   "source": [
    "train_x = torch.linspace(float(0), float(5), int(10))\n",
    "# The original sin/cos data\n",
    "#one = torch.sin(train_x * (float(2) * math.pi)) + torch.randn(train_x.size()) * float(0.2)\n",
    "#two = torch.cos(train_x * (float(2) * math.pi)) + torch.randn(train_x.size()) * float(0.2)\n",
    "\n",
    "# Polynomials + diff(poly) data\n",
    "#one = torch.pow(train_x, int(3)) + torch.randn(train_x.size()) * float(0.2)\n",
    "#two = int(3)*torch.pow(train_x, int(2)) + torch.randn(train_x.size()) * float(0.2)\n",
    "\n",
    "# Polynomials + diff(poly) data\n",
    "#one = torch.pow(train_x, int(3)) + torch.randn(train_x.size()) * float(0.2)\n",
    "#two = int(6)*train_x + torch.randn(train_x.size()) * float(0.2)\n",
    "\n",
    "# Polynomials + diff(poly) data\n",
    "#one = torch.pow(train_x, int(5)) + torch.randn(train_x.size()) * float(0.2)\n",
    "#two = int(60)*torch.pow(train_x, int(2)) + torch.randn(train_x.size()) * float(0.2)\n",
    "\n",
    "# Polynomials + diff(poly) data\n",
    "#one = torch.exp(train_x) + torch.randn(train_x.size()) * float(0.2)\n",
    "#two = torch.exp(train_x) + torch.randn(train_x.size()) * float(0.2)\n",
    "#three = torch.exp(train_x) + torch.randn(train_x.size()) * float(0.2)\n",
    "\n",
    "\n",
    "noise = float(0.1)\n",
    "# ODE_GP_Example.mw\n",
    "one = torch.div(torch.cos(train_x) - torch.sin(train_x), int(2)) - torch.div(torch.exp(train_x), int(10)) + torch.randn(train_x.size()) * float(noise)\n",
    "two = torch.cos(train_x) + torch.randn(train_x.size()) * float(noise)\n",
    "three = torch.div(- torch.cos(train_x) - torch.sin(train_x), int(2)) - torch.div(torch.exp(train_x), int(10)) + torch.randn(train_x.size()) * float(noise)\n",
    "\n",
    "\n",
    "\n",
    "train_y = torch.stack([one, two, three], int(-1))\n"
   ]
  },
  {
   "cell_type": "code",
   "execution_count": 11,
   "id": "385213ae",
   "metadata": {},
   "outputs": [],
   "source": [
    "\n",
    "\n",
    "# = torch.Tensor([[float(-0.3), float(0.99)],[float(-0.07), float(1.01)]])"
   ]
  },
  {
   "cell_type": "code",
   "execution_count": 12,
   "id": "8c5884c7",
   "metadata": {},
   "outputs": [
    {
     "data": {
      "text/plain": [
       "2"
      ]
     },
     "execution_count": 12,
     "metadata": {},
     "output_type": "execute_result"
    }
   ],
   "source": [
    "\n",
    "len(train_y.shape)"
   ]
  },
  {
   "cell_type": "raw",
   "id": "37706537",
   "metadata": {},
   "source": [
    "In Reihenfolge:\n",
    "- Mal ohne Ableitung durchlaufen lassen\n",
    "- Mal mit 1-en auf der Diagonale\n",
    "- Mal mit der Ableitungsdiagonale drehen\n",
    "- Gradienten ausgeben lassen\n",
    "- Mal den Datenvektor mit L multiplizieren und als neuen \"Ersteller\" für die Daten nehmen\n",
    "- Lasse L und R nicht quadratisch sein\n",
    "- Einfach -> L (2x3)\n",
    "- Schwer -> L (3x2)"
   ]
  },
  {
   "cell_type": "code",
   "execution_count": 13,
   "id": "361022cb",
   "metadata": {},
   "outputs": [
    {
     "data": {
      "text/plain": [
       "[<matplotlib.lines.Line2D object at 0x26a2d5b50>,\n",
       " <matplotlib.lines.Line2D object at 0x26a2d5b80>,\n",
       " <matplotlib.lines.Line2D object at 0x26a2d5be0>]"
      ]
     },
     "execution_count": 13,
     "metadata": {},
     "output_type": "execute_result"
    },
    {
     "data": {
      "image/png": "[encoded data removed]",
      "text/plain": [
       "<Figure size 432x288 with 1 Axes>"
      ]
     },
     "metadata": {
      "needs_background": "light"
     },
     "output_type": "display_data"
    }
   ],
   "source": [
    "plt.plot(train_y)"
   ]
  },
  {
   "cell_type": "markdown",
   "id": "23ec0044",
   "metadata": {},
   "source": [
    "$$\n",
    "\\begin{align}\n",
    "L =& \n",
    "\\left[\n",
    "\\begin{matrix}\n",
    "1 & dx_1 \\\\\n",
    "0 & 1\n",
    "\\end{matrix}\n",
    "\\right]\\\\\n",
    "R =& \n",
    "\\left[\n",
    "\\begin{matrix}\n",
    "1 & 0\\\\\n",
    "dx_2 & 1\n",
    "\\end{matrix}\n",
    "\\right]\\\\\n",
    "\\hat{k} =& \n",
    "\\left[\n",
    "\\begin{matrix}\n",
    "SE_1 & 0\\\\\n",
    "0 & SE_2\n",
    "\\end{matrix}\n",
    "\\right]\\\\\n",
    "k =& L*\\hat{k}*R\\\\\n",
    "=& \\left[\n",
    "\\begin{matrix}\n",
    "dx_1 dx_2 SE_2 + SE_1 & dx_1 SE_2\\\\\n",
    "dx_2 SE_2 & SE_2\n",
    "\\end{matrix}\n",
    "\\right]\n",
    "\\end{align}\n",
    "$$"
   ]
  },
  {
   "cell_type": "code",
   "execution_count": 14,
   "id": "b15ef0d8",
   "metadata": {},
   "outputs": [
    {
     "data": {
      "text/plain": [
       "[            k1       dx2^2*k1]\n",
       "[      dx1^2*k1 dx1^2*dx2^2*k1]"
      ]
     },
     "execution_count": 14,
     "metadata": {},
     "output_type": "execute_result"
    }
   ],
   "source": [
    "dx1, dx2, k1, k2, f, g = var('dx1, dx2, k1, k2, f, g')\n",
    "K = matrix(2,2, (k1, 0, 0, 0))\n",
    "L = matrix(2, 2, (1, 0, dx1^2, 1))\n",
    "R = matrix(2, 2, (1, dx2^2, 0, 1))\n",
    "L*K*R\n",
    "# used to see how the data should be created if I \n",
    "# decide to create it exactly as I create the kernel\n",
    "#K = matrix(2,1, (f, g))\n",
    "#L*L*K"
   ]
  },
  {
   "cell_type": "code",
   "execution_count": null,
   "id": "85a3102a",
   "metadata": {},
   "outputs": [],
   "source": [
    "\n",
    "    "
   ]
  },
  {
   "cell_type": "code",
   "execution_count": 15,
   "id": "473d2663",
   "metadata": {},
   "outputs": [
    {
     "data": {
      "text/plain": [
       "[False, False, True]"
      ]
     },
     "execution_count": 15,
     "metadata": {},
     "output_type": "execute_result"
    }
   ],
   "source": [
    "dx1, a, b = var('dx1, a, b')\n",
    "p = dx1*a + dx1*b + dx1^2\n",
    "p.operands()\n",
    "[('+' in str(op) or '^' in str(op)) for op in p.operands()]\n",
    "#[not(not op in [sage.rings.integer.Integer, sage.rings.real_mpfr.RealLiteral] and op.has(d_var)) and ('+' in str(op) or '^' in str(op)) for op in p.operands()]"
   ]
  },
  {
   "cell_type": "code",
   "execution_count": 16,
   "id": "66d6fc23",
   "metadata": {},
   "outputs": [],
   "source": [
    "d_var=(dx1)\n",
    "if type(p) in [sage.symbolic.expression.Expression] and any(not(not op in [sage.rings.integer.Integer, sage.rings.real_mpfr.RealLiteral] and op.has(d_var)) and ('+' in str(op) or '^' in str(op)) for op in p.operands()):\n",
    "    print(\"Damn\")"
   ]
  },
  {
   "cell_type": "code",
   "execution_count": 17,
   "id": "81d767c3",
   "metadata": {},
   "outputs": [
    {
     "data": {
      "text/plain": [
       "Univariate Polynomial Ring in dx1 over Rational function field in a over Rational Field"
      ]
     },
     "execution_count": 17,
     "metadata": {},
     "output_type": "execute_result"
    }
   ],
   "source": [
    "F.<a> = FunctionField(QQ)\n",
    "R.<x> = F[]\n",
    "R.<dx1> = F[]\n",
    "#e = x+a\n",
    "#e.substitute(dx1)\n",
    "R"
   ]
  },
  {
   "cell_type": "code",
   "execution_count": 18,
   "id": "66faff00",
   "metadata": {},
   "outputs": [
    {
     "name": "stdout",
     "output_type": "stream",
     "text": [
      "[]\n",
      "[]\n",
      "[]\n",
      "[]\n",
      "[a, b]\n",
      "[]\n"
     ]
    }
   ],
   "source": [
    "F.<a> = FunctionField(QQ)\n",
    "F.<b> = FunctionField(F)\n",
    "R.<x> = F[]\n",
    "#F.base_extend(R)\n",
    "#P.<x> = SR[]\n",
    "#R.<x> = F[]\n",
    "#R.base_extend()\n",
    "m1 = matrix(R, 2, 3, [[a, b, x], [1, a+b, x]])\n",
    "for row in m1:\n",
    "    for e in row:\n",
    "        print(SR(str(e)).operands())\n",
    "\n"
   ]
  },
  {
   "cell_type": "code",
   "execution_count": null,
   "id": "7645cdc5",
   "metadata": {},
   "outputs": [],
   "source": []
  },
  {
   "cell_type": "code",
   "execution_count": null,
   "id": "db47133a",
   "metadata": {},
   "outputs": [],
   "source": []
  },
  {
   "cell_type": "code",
   "execution_count": null,
   "id": "7c4572c4",
   "metadata": {},
   "outputs": [],
   "source": []
  },
  {
   "cell_type": "raw",
   "id": "cdc5f12e",
   "metadata": {},
   "source": [
    "R = ZZ[I] \n",
    "x = var('x')\n",
    "#Gaussian Integers in Number Field in I with defining polynomial x^2 + 1\n",
    "I = R.basis()[1]\n",
    "M=matrix([[2+I,0],[0,1]]) \n",
    "M.parent()\n",
    "#Full MatrixSpace of 2 by 2 dense matrices over Gaussian Integers in Number Field in I with defining polynomial x^2 + 1\n",
    "M.smith_form()"
   ]
  },
  {
   "cell_type": "raw",
   "id": "ff9fd73e",
   "metadata": {},
   "source": [
    "a, b = var('a, b', domain=RR)\n",
    "q, dx1, dx2, x = var('q, dx1, dx2, x')\n",
    "R.<x> = QQ[]\n",
    "#Gaussian Integers in Number Field in I with defining polynomial x^2 + 1\n",
    "A = matrix(R, 2, 3, [x+a, -a, -1, -b, x+b, 0])\n",
    "A.smith_form()"
   ]
  },
  {
   "cell_type": "raw",
   "id": "ee0900f5",
   "metadata": {},
   "source": []
  },
  {
   "cell_type": "code",
   "execution_count": null,
   "id": "28df6dba",
   "metadata": {},
   "outputs": [],
   "source": []
  },
  {
   "cell_type": "code",
   "execution_count": null,
   "id": "ff1c603a",
   "metadata": {},
   "outputs": [],
   "source": []
  },
  {
   "cell_type": "code",
   "execution_count": null,
   "id": "73200044",
   "metadata": {},
   "outputs": [],
   "source": []
  },
  {
   "cell_type": "code",
   "execution_count": null,
   "id": "31918bf8",
   "metadata": {},
   "outputs": [],
   "source": []
  },
  {
   "cell_type": "code",
   "execution_count": null,
   "id": "808151c7",
   "metadata": {},
   "outputs": [],
   "source": []
  },
  {
   "cell_type": "code",
   "execution_count": 19,
   "id": "1b285d83",
   "metadata": {
    "scrolled": true
   },
   "outputs": [
    {
     "name": "stdout",
     "output_type": "stream",
     "text": [
      "List of all kernels: [exp_kernel(), Diff_SE_kernel()]\n",
      "[        1      -1/4 2*dx1 + 2]\n",
      "[        0         0         4]\n",
      "[        0      -1/4 2*dx1 - 2]\n",
      "---\n",
      "[        1         0         0]\n",
      "[     -1/4         0      -1/4]\n",
      "[2*dx2 + 2         4 2*dx2 - 2]\n",
      "---\n",
      "[[None, None, None], [None, exp_kernel(), None], [None, None, Diff_SE_kernel()]]\n",
      "---\n",
      "i\n",
      "0\n",
      "left\n",
      "(1, -1/4, 2*dx1 + 2)\n",
      "right\n",
      "(1, -1/4, 2*dx2 + 2)\n",
      "Result kernel\n",
      "AdditiveKernel(\n",
      "  (kernels): ModuleList(\n",
      "    (0): diffed_exp_kernel()\n",
      "    (1): diffed_SE_kernel()\n",
      "  )\n",
      ")\n",
      "i\n",
      "1\n",
      "left\n",
      "(1, -1/4, 2*dx1 + 2)\n",
      "right\n",
      "(0, 0, 4)\n",
      "Result kernel\n",
      "AdditiveKernel(\n",
      "  (kernels): ModuleList(\n",
      "    (0): diffed_exp_kernel()\n",
      "    (1): diffed_SE_kernel()\n",
      "  )\n",
      ")\n",
      "i\n",
      "2\n",
      "left\n",
      "(1, -1/4, 2*dx1 + 2)\n",
      "right\n",
      "(0, -1/4, 2*dx2 - 2)\n",
      "Result kernel\n",
      "AdditiveKernel(\n",
      "  (kernels): ModuleList(\n",
      "    (0): diffed_exp_kernel()\n",
      "    (1): diffed_SE_kernel()\n",
      "  )\n",
      ")\n",
      "i\n",
      "3\n",
      "left\n",
      "(0, 0, 4)\n",
      "right\n",
      "(1, -1/4, 2*dx2 + 2)\n",
      "Result kernel\n",
      "AdditiveKernel(\n",
      "  (kernels): ModuleList(\n",
      "    (0): diffed_exp_kernel()\n",
      "    (1): diffed_SE_kernel()\n",
      "  )\n",
      ")\n",
      "i\n",
      "4\n",
      "left\n",
      "(0, 0, 4)\n",
      "right\n",
      "(0, 0, 4)\n",
      "Result kernel\n",
      "AdditiveKernel(\n",
      "  (kernels): ModuleList(\n",
      "    (0): diffed_exp_kernel()\n",
      "    (1): diffed_SE_kernel()\n",
      "  )\n",
      ")\n",
      "i\n",
      "5\n",
      "left\n",
      "(0, 0, 4)\n",
      "right\n",
      "(0, -1/4, 2*dx2 - 2)\n",
      "Result kernel\n",
      "AdditiveKernel(\n",
      "  (kernels): ModuleList(\n",
      "    (0): diffed_exp_kernel()\n",
      "    (1): diffed_SE_kernel()\n",
      "  )\n",
      ")\n",
      "i\n",
      "6\n",
      "left\n",
      "(0, -1/4, 2*dx1 - 2)\n",
      "right\n",
      "(1, -1/4, 2*dx2 + 2)\n",
      "Result kernel\n",
      "AdditiveKernel(\n",
      "  (kernels): ModuleList(\n",
      "    (0): diffed_exp_kernel()\n",
      "    (1): diffed_SE_kernel()\n",
      "  )\n",
      ")\n",
      "i\n",
      "7\n",
      "left\n",
      "(0, -1/4, 2*dx1 - 2)\n",
      "right\n",
      "(0, 0, 4)\n",
      "Result kernel\n",
      "AdditiveKernel(\n",
      "  (kernels): ModuleList(\n",
      "    (0): diffed_exp_kernel()\n",
      "    (1): diffed_SE_kernel()\n",
      "  )\n",
      ")\n",
      "i\n",
      "8\n",
      "left\n",
      "(0, -1/4, 2*dx1 - 2)\n",
      "right\n",
      "(0, -1/4, 2*dx2 - 2)\n",
      "Result kernel\n",
      "AdditiveKernel(\n",
      "  (kernels): ModuleList(\n",
      "    (0): diffed_exp_kernel()\n",
      "    (1): diffed_SE_kernel()\n",
      "  )\n",
      ")\n",
      "[[AdditiveKernel(\n",
      "  (kernels): ModuleList(\n",
      "    (0): diffed_exp_kernel()\n",
      "    (1): diffed_SE_kernel()\n",
      "  )\n",
      "), AdditiveKernel(\n",
      "  (kernels): ModuleList(\n",
      "    (0): diffed_exp_kernel()\n",
      "    (1): diffed_SE_kernel()\n",
      "  )\n",
      "), AdditiveKernel(\n",
      "  (kernels): ModuleList(\n",
      "    (0): diffed_exp_kernel()\n",
      "    (1): diffed_SE_kernel()\n",
      "  )\n",
      ")], [AdditiveKernel(\n",
      "  (kernels): ModuleList(\n",
      "    (0): diffed_exp_kernel()\n",
      "    (1): diffed_SE_kernel()\n",
      "  )\n",
      "), AdditiveKernel(\n",
      "  (kernels): ModuleList(\n",
      "    (0): diffed_exp_kernel()\n",
      "    (1): diffed_SE_kernel()\n",
      "  )\n",
      "), AdditiveKernel(\n",
      "  (kernels): ModuleList(\n",
      "    (0): diffed_exp_kernel()\n",
      "    (1): diffed_SE_kernel()\n",
      "  )\n",
      ")], [AdditiveKernel(\n",
      "  (kernels): ModuleList(\n",
      "    (0): diffed_exp_kernel()\n",
      "    (1): diffed_SE_kernel()\n",
      "  )\n",
      "), AdditiveKernel(\n",
      "  (kernels): ModuleList(\n",
      "    (0): diffed_exp_kernel()\n",
      "    (1): diffed_SE_kernel()\n",
      "  )\n",
      "), AdditiveKernel(\n",
      "  (kernels): ModuleList(\n",
      "    (0): diffed_exp_kernel()\n",
      "    (1): diffed_SE_kernel()\n",
      "  )\n",
      ")]]\n",
      "[0,0]: _diffed_exp_kernel_\n",
      "Received derivation form: [[[tensor(-0.2500), tensor(-0.2500)], 0, 0]]\n",
      "Resulting list (including parameters):\n",
      " > Summand 0:\n",
      "coefficients:[tensor(-0.2500), tensor(-0.2500)]\n",
      "exponent:0 \n",
      "_diffed_SE_kernel_\n",
      "Received derivation form: [[[tensor(2.), tensor(2.)], 0, 0], [[tensor(2.), tensor(2.)], 0, 1], [[tensor(2.), tensor(2.)], 1, 0], [[tensor(2.), tensor(2.)], 1, 1]]\n",
      "Resulting list (including parameters):\n",
      " > Summand 0, entry 0:\n",
      "polynom coefficients:[tensor(2.), tensor(2.)]\n",
      "derivation coefficient:1\n",
      "l exponent:0\n",
      "(x1-x2) exponent:0\n",
      " > Summand 1, entry 0:\n",
      "polynom coefficients:[tensor(2.), tensor(2.)]\n",
      "derivation coefficient:1\n",
      "l exponent:1\n",
      "(x1-x2) exponent:1\n",
      " > Summand 2, entry 0:\n",
      "polynom coefficients:[tensor(2.), tensor(2.)]\n",
      "derivation coefficient:-1\n",
      "l exponent:1\n",
      "(x1-x2) exponent:1\n",
      " > Summand 3, entry 0:\n",
      "polynom coefficients:[tensor(2.), tensor(2.)]\n",
      "derivation coefficient:1\n",
      "l exponent:1\n",
      "(x1-x2) exponent:0\n",
      " > Summand 3, entry 1:\n",
      "polynom coefficients:[tensor(2.), tensor(2.)]\n",
      "derivation coefficient:-1\n",
      "l exponent:2\n",
      "(x1-x2) exponent:2\n",
      " \n",
      "\n",
      "\n",
      "[0,1]: _diffed_exp_kernel_\n",
      "Received derivation form: [[[tensor(-0.2500), tensor(0.)], 0, 0]]\n",
      "Resulting list (including parameters):\n",
      " > Summand 0:\n",
      "coefficients:[tensor(-0.2500), tensor(0.)]\n",
      "exponent:0 \n",
      "_diffed_SE_kernel_\n",
      "Received derivation form: [[[tensor(2.), tensor(4.)], 0, 0], [[tensor(2.), tensor(4.)], 1, 0]]\n",
      "Resulting list (including parameters):\n",
      " > Summand 0, entry 0:\n",
      "polynom coefficients:[tensor(2.), tensor(4.)]\n",
      "derivation coefficient:1\n",
      "l exponent:0\n",
      "(x1-x2) exponent:0\n",
      " > Summand 1, entry 0:\n",
      "polynom coefficients:[tensor(2.), tensor(4.)]\n",
      "derivation coefficient:-1\n",
      "l exponent:1\n",
      "(x1-x2) exponent:1\n",
      " \n",
      "\n",
      "\n",
      "[0,2]: _diffed_exp_kernel_\n",
      "Received derivation form: [[[tensor(-0.2500), tensor(-0.2500)], 0, 0]]\n",
      "Resulting list (including parameters):\n",
      " > Summand 0:\n",
      "coefficients:[tensor(-0.2500), tensor(-0.2500)]\n",
      "exponent:0 \n",
      "_diffed_SE_kernel_\n",
      "Received derivation form: [[[tensor(2.), tensor(-2.)], 0, 0], [[tensor(2.), tensor(2.)], 0, 1], [[tensor(2.), tensor(-2.)], 1, 0], [[tensor(2.), tensor(2.)], 1, 1]]\n",
      "Resulting list (including parameters):\n",
      " > Summand 0, entry 0:\n",
      "polynom coefficients:[tensor(2.), tensor(-2.)]\n",
      "derivation coefficient:1\n",
      "l exponent:0\n",
      "(x1-x2) exponent:0\n",
      " > Summand 1, entry 0:\n",
      "polynom coefficients:[tensor(2.), tensor(2.)]\n",
      "derivation coefficient:1\n",
      "l exponent:1\n",
      "(x1-x2) exponent:1\n",
      " > Summand 2, entry 0:\n",
      "polynom coefficients:[tensor(2.), tensor(-2.)]\n",
      "derivation coefficient:-1\n",
      "l exponent:1\n",
      "(x1-x2) exponent:1\n",
      " > Summand 3, entry 0:\n",
      "polynom coefficients:[tensor(2.), tensor(2.)]\n",
      "derivation coefficient:1\n",
      "l exponent:1\n",
      "(x1-x2) exponent:0\n",
      " > Summand 3, entry 1:\n",
      "polynom coefficients:[tensor(2.), tensor(2.)]\n",
      "derivation coefficient:-1\n",
      "l exponent:2\n",
      "(x1-x2) exponent:2\n",
      " \n",
      "\n",
      "\n",
      "[1,0]: _diffed_exp_kernel_\n",
      "Received derivation form: [[[tensor(0.), tensor(-0.2500)], 0, 0]]\n",
      "Resulting list (including parameters):\n",
      " > Summand 0:\n",
      "coefficients:[tensor(0.), tensor(-0.2500)]\n",
      "exponent:0 \n",
      "_diffed_SE_kernel_\n",
      "Received derivation form: [[[tensor(4.), tensor(2.)], 0, 0], [[tensor(4.), tensor(2.)], 0, 1]]\n",
      "Resulting list (including parameters):\n",
      " > Summand 0, entry 0:\n",
      "polynom coefficients:[tensor(4.), tensor(2.)]\n",
      "derivation coefficient:1\n",
      "l exponent:0\n",
      "(x1-x2) exponent:0\n",
      " > Summand 1, entry 0:\n",
      "polynom coefficients:[tensor(4.), tensor(2.)]\n",
      "derivation coefficient:1\n",
      "l exponent:1\n",
      "(x1-x2) exponent:1\n",
      " \n",
      "\n",
      "\n",
      "[1,1]: _diffed_exp_kernel_\n",
      "Received derivation form: [[[tensor(0.), tensor(0.)], 0, 0]]\n",
      "Resulting list (including parameters):\n",
      " > Summand 0:\n",
      "coefficients:[tensor(0.), tensor(0.)]\n",
      "exponent:0 \n",
      "_diffed_SE_kernel_\n",
      "Received derivation form: [[[tensor(4.), tensor(4.)], 0, 0]]\n",
      "Resulting list (including parameters):\n",
      " > Summand 0, entry 0:\n",
      "polynom coefficients:[tensor(4.), tensor(4.)]\n",
      "derivation coefficient:1\n",
      "l exponent:0\n",
      "(x1-x2) exponent:0\n",
      " \n",
      "\n",
      "\n",
      "[1,2]: _diffed_exp_kernel_\n",
      "Received derivation form: [[[tensor(0.), tensor(-0.2500)], 0, 0]]\n",
      "Resulting list (including parameters):\n",
      " > Summand 0:\n",
      "coefficients:[tensor(0.), tensor(-0.2500)]\n",
      "exponent:0 \n",
      "_diffed_SE_kernel_\n",
      "Received derivation form: [[[tensor(4.), tensor(-2.)], 0, 0], [[tensor(4.), tensor(2.)], 0, 1]]\n",
      "Resulting list (including parameters):\n",
      " > Summand 0, entry 0:\n",
      "polynom coefficients:[tensor(4.), tensor(-2.)]\n",
      "derivation coefficient:1\n",
      "l exponent:0\n",
      "(x1-x2) exponent:0\n",
      " > Summand 1, entry 0:\n",
      "polynom coefficients:[tensor(4.), tensor(2.)]\n",
      "derivation coefficient:1\n",
      "l exponent:1\n",
      "(x1-x2) exponent:1\n",
      " \n",
      "\n",
      "\n",
      "[2,0]: _diffed_exp_kernel_\n",
      "Received derivation form: [[[tensor(-0.2500), tensor(-0.2500)], 0, 0]]\n",
      "Resulting list (including parameters):\n",
      " > Summand 0:\n",
      "coefficients:[tensor(-0.2500), tensor(-0.2500)]\n",
      "exponent:0 \n",
      "_diffed_SE_kernel_\n",
      "Received derivation form: [[[tensor(-2.), tensor(2.)], 0, 0], [[tensor(-2.), tensor(2.)], 0, 1], [[tensor(2.), tensor(2.)], 1, 0], [[tensor(2.), tensor(2.)], 1, 1]]\n",
      "Resulting list (including parameters):\n",
      " > Summand 0, entry 0:\n",
      "polynom coefficients:[tensor(-2.), tensor(2.)]\n",
      "derivation coefficient:1\n",
      "l exponent:0\n",
      "(x1-x2) exponent:0\n",
      " > Summand 1, entry 0:\n",
      "polynom coefficients:[tensor(-2.), tensor(2.)]\n",
      "derivation coefficient:1\n",
      "l exponent:1\n",
      "(x1-x2) exponent:1\n",
      " > Summand 2, entry 0:\n",
      "polynom coefficients:[tensor(2.), tensor(2.)]\n",
      "derivation coefficient:-1\n",
      "l exponent:1\n",
      "(x1-x2) exponent:1\n",
      " > Summand 3, entry 0:\n",
      "polynom coefficients:[tensor(2.), tensor(2.)]\n",
      "derivation coefficient:1\n",
      "l exponent:1\n",
      "(x1-x2) exponent:0\n",
      " > Summand 3, entry 1:\n",
      "polynom coefficients:[tensor(2.), tensor(2.)]\n",
      "derivation coefficient:-1\n",
      "l exponent:2\n",
      "(x1-x2) exponent:2\n",
      " \n",
      "\n",
      "\n",
      "[2,1]: _diffed_exp_kernel_\n",
      "Received derivation form: [[[tensor(-0.2500), tensor(0.)], 0, 0]]\n",
      "Resulting list (including parameters):\n",
      " > Summand 0:\n",
      "coefficients:[tensor(-0.2500), tensor(0.)]\n",
      "exponent:0 \n",
      "_diffed_SE_kernel_\n",
      "Received derivation form: [[[tensor(-2.), tensor(4.)], 0, 0], [[tensor(2.), tensor(4.)], 1, 0]]\n",
      "Resulting list (including parameters):\n",
      " > Summand 0, entry 0:\n",
      "polynom coefficients:[tensor(-2.), tensor(4.)]\n",
      "derivation coefficient:1\n",
      "l exponent:0\n",
      "(x1-x2) exponent:0\n",
      " > Summand 1, entry 0:\n",
      "polynom coefficients:[tensor(2.), tensor(4.)]\n",
      "derivation coefficient:-1\n",
      "l exponent:1\n",
      "(x1-x2) exponent:1\n",
      " \n",
      "\n",
      "\n",
      "[2,2]: _diffed_exp_kernel_\n",
      "Received derivation form: [[[tensor(-0.2500), tensor(-0.2500)], 0, 0]]\n",
      "Resulting list (including parameters):\n",
      " > Summand 0:\n",
      "coefficients:[tensor(-0.2500), tensor(-0.2500)]\n",
      "exponent:0 \n",
      "_diffed_SE_kernel_\n",
      "Received derivation form: [[[tensor(-2.), tensor(-2.)], 0, 0], [[tensor(-2.), tensor(2.)], 0, 1], [[tensor(2.), tensor(-2.)], 1, 0], [[tensor(2.), tensor(2.)], 1, 1]]\n",
      "Resulting list (including parameters):\n",
      " > Summand 0, entry 0:\n",
      "polynom coefficients:[tensor(-2.), tensor(-2.)]\n",
      "derivation coefficient:1\n",
      "l exponent:0\n",
      "(x1-x2) exponent:0\n",
      " > Summand 1, entry 0:\n",
      "polynom coefficients:[tensor(-2.), tensor(2.)]\n",
      "derivation coefficient:1\n",
      "l exponent:1\n",
      "(x1-x2) exponent:1\n",
      " > Summand 2, entry 0:\n",
      "polynom coefficients:[tensor(2.), tensor(-2.)]\n",
      "derivation coefficient:-1\n",
      "l exponent:1\n",
      "(x1-x2) exponent:1\n",
      " > Summand 3, entry 0:\n",
      "polynom coefficients:[tensor(2.), tensor(2.)]\n",
      "derivation coefficient:1\n",
      "l exponent:1\n",
      "(x1-x2) exponent:0\n",
      " > Summand 3, entry 1:\n",
      "polynom coefficients:[tensor(2.), tensor(2.)]\n",
      "derivation coefficient:-1\n",
      "l exponent:2\n",
      "(x1-x2) exponent:2\n",
      " \n",
      "\n",
      "\n",
      "\n"
     ]
    }
   ],
   "source": [
    "\n",
    "\n",
    "\n",
    "class MultitaskGPModel(gpytorch.models.ExactGP):\n",
    "    def __init__(self, train_x, train_y, likelihood):\n",
    "        super(MultitaskGPModel, self).__init__(train_x, train_y, likelihood)\n",
    "        self.mean_module = gpytorch.means.MultitaskMean(\n",
    "            gpytorch.means.ZeroMean(), num_tasks=3\n",
    "        )\n",
    "        kernel = Diff_SE_kernel(var=0, length=0)\n",
    "        kernel2 = Diff_SE_kernel(var=0, length=0)\n",
    "        a, b, q, dx1, dx2, x = var('a, b, q, dx1, dx2, x')\n",
    "        \n",
    "        # Control example 1 (AirControl3)\n",
    "        \"\"\"\n",
    "        variables=[]\n",
    "        F.<a> = FunctionField(QQ)\n",
    "        variables.append(f\"{F.variable_name()}\")\n",
    "        F.<b> = FunctionField(F)\n",
    "        variables.append(f\"{F.variable_name()}\")\n",
    "        R.<x> = F[]\n",
    "        variables.append(f\"{R.variable_name()}\")\n",
    "        R.<dx1> = F[]\n",
    "        variables.append(f\"{R.variable_name()}\")\n",
    "        R.<dx2> = F[]\n",
    "        variables.append(f\"{R.variable_name()}\")\n",
    "        A = matrix(R, 2, 3, [x+a, -a, -1, -b, x+b, 0])\n",
    "        \"\"\"\n",
    "        \n",
    "        # Control example 2 (ODE_GP_Example)\n",
    "        variables=[]\n",
    "        F.<a> = FunctionField(QQ)\n",
    "        variables.append(f\"{F.variable_name()}\")\n",
    "        R.<x> = F[]\n",
    "        variables.append(f\"{F.variable_name()}\")\n",
    "        R.<x> = QQ[]\n",
    "        variables.append(f\"{F.variable_name()}\")\n",
    "        A = matrix(R, 2, 3, [x, -x^2+x-1, x-2, 2-x, x^2-x-1, -x])\n",
    "        \n",
    "        \n",
    "        #m = x^2*matrix(R, 2,3,[1, 0, 1, 1, 0, 0]) +x* matrix(R, 2,3,[-1, -1, -2, -2, 1, 1]) + matrix(R, 2,3,[0, 1, 1, 0, 0, -1])\n",
    "        \n",
    "        T, L, R = get_prepared_SNF(A, dx1, dx2)\n",
    "       \n",
    "        #L = matrix(3, 3, (0, 0, dx1+b, 0, 0, b, 0, 0, dx1*a + dx1*b + dx1^2))\n",
    "        #R = matrix(3, 3, (dx2^2+dx2*b+dx2*a, b, dx2+b, 0, 0, 0, 0, 0, 0))\n",
    "        p = DiffMatrixKernel(T)\n",
    "\n",
    "        print(L)\n",
    "        print(\"---\")\n",
    "        print(R)\n",
    "        print(\"---\")\n",
    "        print(T)\n",
    "        print(\"---\")\n",
    "        \n",
    "        #p = DiffMatrixKernel([[None, None, None], [None, None, None], [None, None, kernel]])\n",
    "        #p = DiffMatrixKernel([[kernel, None], [None, None]])\n",
    "\n",
    "        self.covar_module = p.diff(left_matrix=L, right_matrix=R, var_dict=variables)\n",
    "        \n",
    "        #kernel0 = gpytorch.kernels.RBFKernel()\n",
    "        #kernel1 = gpytorch.kernels.RBFKernel()\n",
    "        #kernel2 = gpytorch.kernels.RBFKernel()\n",
    "        #kernel0 = gpytorch.kernels.PeriodicKernel()\n",
    "        #kernel1 = gpytorch.kernels.PeriodicKernel()\n",
    "        #kernel0 = Diff_SE_kernel(var = 0, length=0)\n",
    "        #kernel1 = Diff_SE_kernel(var = 0, length=0.01)\n",
    "        #kernel2 = Diff_SE_kernel(var = 0, length=0.02)\n",
    "        #self.covar_module = MatrixKernel([[kernel0, None], [None, kernel1]])\n",
    "\n",
    "    def forward(self, x):\n",
    "        #pdb.set_trace()\n",
    "        mean_x = self.mean_module(x)\n",
    "        covar_x = self.covar_module(x)\n",
    "        #print(f\"{covar_x.detach().evaluate()}\")\n",
    "        return gpytorch.distributions.MultitaskMultivariateNormal(mean_x, covar_x, validate_args=True)\n",
    "\n",
    "# Likelihood nochmal mit Noise constraint = E-20 durchlaufen lassen und auf quasi 0 setzen\n",
    "from gpytorch.constraints import GreaterThan\n",
    "local_noise_constraint = GreaterThan(float(1e-20))\n",
    "likelihood = gpytorch.likelihoods.MultitaskGaussianLikelihood(num_tasks=3, noise_constraint=local_noise_constraint)\n",
    "#likelihood = gpytorch.likelihoods.MultitaskGaussianLikelihood(num_tasks=2, has_global_noise=False, has_task_noise=False)\n",
    "likelihood._set_task_noises(torch.Tensor([float(0.0001), float(0.0001), float(0.0001)]))\n",
    "#likelihood._set_noise(torch.tensor(float(1e-19)))\n",
    "model = MultitaskGPModel(train_x, train_y, likelihood)\n",
    "print(model.covar_module)"
   ]
  },
  {
   "cell_type": "code",
   "execution_count": 20,
   "id": "bb43d122",
   "metadata": {},
   "outputs": [
    {
     "data": {
      "text/plain": [
       "[[a*b, 3]]"
      ]
     },
     "execution_count": 20,
     "metadata": {},
     "output_type": "execute_result"
    }
   ],
   "source": [
    "w0 = SR.wild(0)\n",
    "w1 = SR.wild(1)\n",
    "w2 = SR.wild(2)\n",
    "\n",
    "a, b, c, x = var('a, b, c, x') \n",
    "\n",
    "polynomial = a**2*x**2\n",
    "# Check for a**n things -> needs coefficient splitting\n",
    "#polynomial = a**2*x**2\n",
    "#any(not p.has(x) for p in polynomial.find(w0**w1))\n",
    "# Check for b/a etc. -> needs coefficient splitting\n",
    "polynomial = a*b*x * x**2\n",
    "polynomial.coefficients(x)\n",
    "#polynomial.coefficients(x)[0][0].find(w0/w1)"
   ]
  },
  {
   "cell_type": "code",
   "execution_count": 21,
   "id": "9fb76256",
   "metadata": {},
   "outputs": [],
   "source": [
    "model.likelihood._set_noise(torch.tensor(float(0.0001)))"
   ]
  },
  {
   "cell_type": "code",
   "execution_count": 22,
   "id": "b96f7295",
   "metadata": {},
   "outputs": [],
   "source": [
    "#model.covar_module.a.data = torch.tensor(float(2.))\n",
    "#model.covar_module.b.data = torch.tensor(float(2.))"
   ]
  },
  {
   "cell_type": "code",
   "execution_count": 23,
   "id": "935e9d77",
   "metadata": {},
   "outputs": [],
   "source": [
    "#data = torch.Tensor([1, 0.01])\n",
    "#K = model.covar_module(test_x).evaluate()\n",
    "#K == K.T\n",
    "#print(torch.norm(K-K.T))"
   ]
  },
  {
   "cell_type": "code",
   "execution_count": null,
   "id": "7a8144ac",
   "metadata": {},
   "outputs": [],
   "source": []
  },
  {
   "cell_type": "code",
   "execution_count": 24,
   "id": "20cf56b2",
   "metadata": {},
   "outputs": [],
   "source": [
    "with gpytorch.settings.fast_pred_var():\n",
    "    model.eval()\n",
    "    likelihood.eval()\n",
    "    data = torch.Tensor([1, 0.01])\n",
    "    output = model(data)\n",
    "    output.covariance_matrix\n",
    "# NIPS 2018 Paper zur Invertierung"
   ]
  },
  {
   "cell_type": "code",
   "execution_count": 25,
   "id": "d2c24c0c",
   "metadata": {},
   "outputs": [
    {
     "data": {
      "text/plain": [
       "tensor([[True, True, True, True, True, True],\n",
       "        [True, True, True, True, True, True],\n",
       "        [True, True, True, True, True, True],\n",
       "        [True, True, True, True, True, True],\n",
       "        [True, True, True, True, True, True],\n",
       "        [True, True, True, True, True, True]])"
      ]
     },
     "execution_count": 25,
     "metadata": {},
     "output_type": "execute_result"
    }
   ],
   "source": [
    "output.covariance_matrix == output.covariance_matrix.T"
   ]
  },
  {
   "cell_type": "code",
   "execution_count": null,
   "id": "e351c097",
   "metadata": {},
   "outputs": [],
   "source": []
  },
  {
   "cell_type": "code",
   "execution_count": null,
   "id": "671d0be8",
   "metadata": {},
   "outputs": [],
   "source": []
  },
  {
   "cell_type": "code",
   "execution_count": null,
   "id": "1c152048",
   "metadata": {},
   "outputs": [],
   "source": []
  },
  {
   "cell_type": "code",
   "execution_count": 26,
   "id": "84641c42",
   "metadata": {},
   "outputs": [
    {
     "name": "stdout",
     "output_type": "stream",
     "text": [
      "from sage.rings.polynomial.polynomial_ring_constructor import PolynomialRing\n"
     ]
    }
   ],
   "source": [
    "import_statements(PolynomialRing)"
   ]
  },
  {
   "cell_type": "code",
   "execution_count": 27,
   "id": "e6f583d0",
   "metadata": {},
   "outputs": [],
   "source": [
    "# Set into eval mode\n",
    "model.eval()\n",
    "likelihood.eval()\n",
    "\n",
    "# Initialize plots\n",
    "\n",
    "number_of_samples = int(150)\n",
    "# Make predictions\n",
    "with torch.no_grad(), gpytorch.settings.fast_pred_var():#, gpytorch.settings.fast_pred_var():\n",
    "    test_x = torch.linspace(float(-4), float(7), number_of_samples)\n",
    "    #pdb.set_trace()\n",
    "    outputs = model(test_x)\n",
    "    predictions = likelihood(outputs)\n",
    "    \n",
    "    mean = predictions.mean\n",
    "    lower, upper = predictions.confidence_region()\n",
    "#print(mean)\n",
    "#print(lower)\n",
    "#print(upper)\n",
    "# This contains predictions for both tasks, flattened out\n",
    "# The first half of the predictions is for the first task\n",
    "# The second half is for the second task\n",
    "\n",
    "#dims = int(2)\n",
    "#indices = [list(range(i, len(train_y), dims)) for i in range(dims)]\n"
   ]
  },
  {
   "cell_type": "code",
   "execution_count": 28,
   "id": "7d3a45db",
   "metadata": {},
   "outputs": [
    {
     "data": {
      "text/plain": [
       "Text(0.5, 1.0, 'Prior')"
      ]
     },
     "execution_count": 28,
     "metadata": {},
     "output_type": "execute_result"
    },
    {
     "data": {
      "image/png": "[encoded data removed]",
      "text/plain": [
       "<Figure size 1080x288 with 3 Axes>"
      ]
     },
     "metadata": {
      "needs_background": "light"
     },
     "output_type": "display_data"
    }
   ],
   "source": [
    "f, (y1_ax, y2_ax, y3_ax) = plt.subplots(int(1), int(3), figsize=(int(15), int(4)))\n",
    "\n",
    "# Plot training data as black stars\n",
    "#y1_ax.plot(train_x.detach().numpy(), train_y[:, 0].detach().numpy(), 'k*')\n",
    "# Predictive mean as blue line\n",
    "y1_ax.plot(test_x.numpy(), mean[:, 0].numpy(), 'b')\n",
    "# Shade in confidence\n",
    "y1_ax.fill_between(test_x.numpy(), lower[:, 0].numpy(), upper[:, 0].numpy(), alpha=0.5)\n",
    "y1_ax.set_ylim([-30, 30])\n",
    "y1_ax.legend(['Mean', 'Confidence'])\n",
    "y1_ax.set_title('Prior')\n",
    "\n",
    "# Plot training data as black stars\n",
    "#y2_ax.plot(train_x.detach().numpy(), train_y[:, 1].detach().numpy(), 'k*')\n",
    "# Predictive mean as blue line\n",
    "y2_ax.plot(test_x.numpy(), mean[:, 1].numpy(), 'b')\n",
    "# Shade in confidence\n",
    "y2_ax.fill_between(test_x.numpy(), lower[:, 1].numpy(), upper[:, 1].numpy(), alpha=0.5)\n",
    "y2_ax.set_ylim([-30, 30])\n",
    "y2_ax.legend(['Mean', 'Confidence'])\n",
    "y2_ax.set_title('Prior')\n",
    "\n",
    "# Plot training data as black stars\n",
    "#y2_ax.plot(train_x.detach().numpy(), train_y[:, 1].detach().numpy(), 'k*')\n",
    "# Predictive mean as blue line\n",
    "y3_ax.plot(test_x.numpy(), mean[:, 2].numpy(), 'b')\n",
    "# Shade in confidence\n",
    "y3_ax.fill_between(test_x.numpy(), lower[:, 2].numpy(), upper[:, 2].numpy(), alpha=0.5)\n",
    "y3_ax.set_ylim([-30, 30])\n",
    "y3_ax.legend(['Mean', 'Confidence'])\n",
    "y3_ax.set_title('Prior')\n"
   ]
  },
  {
   "cell_type": "code",
   "execution_count": 29,
   "id": "83acb24a",
   "metadata": {},
   "outputs": [
    {
     "name": "stdout",
     "output_type": "stream",
     "text": [
      "('likelihood.raw_task_noises', Parameter containing:\n",
      "tensor([-9.2103, -9.2103, -9.2103], requires_grad=True))\n",
      "('likelihood.raw_noise', Parameter containing:\n",
      "tensor([-9.2103], requires_grad=True))\n",
      "('covar_module.a', Parameter containing:\n",
      "tensor(1., requires_grad=True))\n",
      "('covar_module.10373243616.var', Parameter containing:\n",
      "tensor(0., requires_grad=True))\n",
      "('covar_module.10373243616.length', Parameter containing:\n",
      "tensor(0., requires_grad=True))\n"
     ]
    }
   ],
   "source": [
    "for p in model.named_parameters():\n",
    "    print(p)"
   ]
  },
  {
   "cell_type": "code",
   "execution_count": null,
   "id": "891b9043",
   "metadata": {},
   "outputs": [],
   "source": []
  },
  {
   "cell_type": "code",
   "execution_count": 30,
   "id": "3f0a9b7f",
   "metadata": {
    "scrolled": true
   },
   "outputs": [
    {
     "name": "stdout",
     "output_type": "stream",
     "text": [
      "1/100\n",
      "2/100\n",
      "3/100\n",
      "4/100\n",
      "5/100\n",
      "6/100\n",
      "7/100\n",
      "8/100\n",
      "9/100\n",
      "10/100\n",
      "11/100\n",
      "12/100\n",
      "13/100\n",
      "14/100\n",
      "15/100\n",
      "16/100\n",
      "17/100\n",
      "18/100\n",
      "19/100\n",
      "20/100\n",
      "21/100\n",
      "22/100\n",
      "23/100\n",
      "24/100\n",
      "25/100\n",
      "26/100\n",
      "27/100\n",
      "28/100\n",
      "29/100\n",
      "30/100\n",
      "31/100\n",
      "32/100\n",
      "33/100\n",
      "34/100\n",
      "35/100\n",
      "36/100\n",
      "37/100\n",
      "38/100\n",
      "39/100\n",
      "40/100\n",
      "41/100\n",
      "42/100\n",
      "43/100\n",
      "44/100\n",
      "45/100\n",
      "46/100\n",
      "47/100\n",
      "48/100\n",
      "49/100\n",
      "50/100\n",
      "51/100\n",
      "52/100\n",
      "53/100\n",
      "54/100\n",
      "55/100\n",
      "56/100\n",
      "57/100\n",
      "58/100\n",
      "59/100\n",
      "60/100\n",
      "61/100\n",
      "62/100\n",
      "63/100\n",
      "64/100\n",
      "65/100\n",
      "66/100\n",
      "67/100\n",
      "68/100\n",
      "69/100\n",
      "70/100\n",
      "71/100\n",
      "72/100\n",
      "73/100\n",
      "74/100\n",
      "75/100\n",
      "76/100\n",
      "77/100\n",
      "78/100\n",
      "79/100\n",
      "80/100\n",
      "81/100\n",
      "82/100\n",
      "83/100\n",
      "84/100\n",
      "85/100\n",
      "86/100\n",
      "87/100\n",
      "88/100\n",
      "89/100\n",
      "90/100\n",
      "91/100\n",
      "92/100\n",
      "93/100\n",
      "94/100\n",
      "95/100\n",
      "96/100\n",
      "97/100\n",
      "98/100\n",
      "99/100\n",
      "100/100\n"
     ]
    }
   ],
   "source": [
    "# this is for running the notebook in our testing framework\n",
    "import os\n",
    "smoke_test = ('CI' in os.environ)\n",
    "training_iter = int(2) if smoke_test else int(100)\n",
    "\n",
    "\n",
    "# Find optimal model hyperparameters\n",
    "model.train()\n",
    "likelihood.train()\n",
    "\n",
    "# Use the adam optimizer\n",
    "optimizer = torch.optim.Adam(model.parameters(), lr=float(0.1))  # Includes GaussianLikelihood parameters\n",
    "\n",
    "\n",
    "# \"Loss\" for GPs - the marginal log likelihood\n",
    "mll = gpytorch.mlls.ExactMarginalLogLikelihood(likelihood, model)\n",
    "\n",
    "param_dict = {p[0]:[] for p in model.named_parameters() if 'covar' in p[0]}\n",
    "param_dict['loss'] = []\n",
    "param_dict['noise'] = []\n",
    "if len(likelihood.task_noises) > 1:\n",
    "    param_dict['task_noises'] = [[] for i in range(len(likelihood.task_noises))]\n",
    "for p in model.named_parameters():\n",
    "    if 'covar' in p[0]:\n",
    "        param_dict[f\"{p[0]}_grad\"] = []\n",
    "\n",
    "for i in range(training_iter):\n",
    "    print(f\"{i+1}/{training_iter}\")\n",
    "    # Zero gradients from previous iteration\n",
    "    optimizer.zero_grad()\n",
    "    # Output from model\n",
    "    output = model(train_x)\n",
    "    # Calc loss and backprop gradients\n",
    "    loss = -mll(output, train_y)\n",
    "    param_dict['loss'].append(loss.item())\n",
    "    #pdb.set_trace()\n",
    "    loss.backward()\n",
    "    for parameter in model.named_parameters():\n",
    "        if 'covar' in parameter[0]:\n",
    "            param_dict[parameter[0]].append(parameter[1].item())\n",
    "            #param_dict[f\"{parameter[0]}_grad\"].append(parameter[1].grad.item())\n",
    "    param_dict['noise'].append(likelihood.noise.item())\n",
    "    for l in range(len(likelihood.task_noises)):\n",
    "        param_dict['task_noises'][l].append(likelihood.task_noises[l].item())\n",
    "    optimizer.step()"
   ]
  },
  {
   "cell_type": "code",
   "execution_count": null,
   "id": "7bd2781c",
   "metadata": {},
   "outputs": [],
   "source": [
    "\n"
   ]
  },
  {
   "cell_type": "code",
   "execution_count": 31,
   "id": "b2fe4c78",
   "metadata": {},
   "outputs": [],
   "source": [
    "def coeffs(given_n):\n",
    "    # See http://oeis.org/A096713\n",
    "    real_n = int(given_n/2)\n",
    "    m, k = var('m, k')\n",
    "    # even\n",
    "    # T(2*m, k) = (-1)^(m+k)*(2*m)!*2^(k-m)/((m-k)!*(2*k)!), k = 0..m.\n",
    "    if given_n % 2 == 0:\n",
    "        # This notation is only valid in iPython\n",
    "        #T(m,k) = factorial(2*m)*2^(k-m)/(factorial(m-k)*factorial(2*k))\n",
    "        # As an actual Python file I need to use:\n",
    "        T = lambda m, k : (-1)**(m+k)*factorial(2*m)*2**(k-m)/(factorial(m-k)*factorial(2*k))\n",
    "    # odd\n",
    "    # T(2*m+1, k) = (-1)^(m+k)*(2*m+1)!*2^(k-m)/((m-k)!*(2*k+1)!), k = 0..m. (End)\n",
    "    else:\n",
    "        # See above\n",
    "        #T(m,k) = factorial(2*m+1)*2^(k-m)/(factorial(m-k)*factorial(2*k+1))\n",
    "        T = lambda m, k: (-1)**(m+k)*factorial(2*m+1)*2**(k-m)/(factorial(m-k)*factorial(2*k+1))\n",
    "    return [int(T(real_n, k)) for k in range(real_n+1)]\n"
   ]
  },
  {
   "cell_type": "code",
   "execution_count": 32,
   "id": "9d1d7907",
   "metadata": {},
   "outputs": [
    {
     "name": "stdout",
     "output_type": "stream",
     "text": [
      "[1]\n",
      "[1]\n",
      "[-1, 1]\n",
      "[-3, 1]\n",
      "[3, -6, 1]\n",
      "[15, -10, 1]\n",
      "[-15, 45, -15, 1]\n",
      "[-105, 105, -21, 1]\n",
      "[105, -420, 210, -28, 1]\n",
      "[945, -1260, 378, -36, 1]\n"
     ]
    }
   ],
   "source": [
    "for i in range(10):\n",
    "    print(coeffs(i))"
   ]
  },
  {
   "cell_type": "raw",
   "id": "c663e6b9",
   "metadata": {},
   "source": [
    "def dynamic_sage_diff(dx1_num, dx2_num):\n",
    "    SE(x1, x2, l, sigma) = sigma^2*exp(-(x1-x2)^2/(2*l^2))\n",
    "    for i in range(dx1_num):\n",
    "        SE = SE.diff(x1)\n",
    "    for j in range(dx2_num):\n",
    "        SE = SE.diff(x2)\n",
    "    return SE\n",
    "\n",
    "for j in range(6):\n",
    "    for i in range(6):\n",
    "        print(f\"dx1: {i}; dx2:{j}\")\n",
    "        print(ascii_art(dynamic_sage_diff(i, j)))\n",
    "        print(\"---\")"
   ]
  },
  {
   "cell_type": "code",
   "execution_count": 33,
   "id": "6f9a08a4",
   "metadata": {},
   "outputs": [
    {
     "data": {
      "text/plain": [
       "MultitaskGaussianLikelihood(\n",
       "  (raw_task_noises_constraint): GreaterThan(1.000E-20)\n",
       "  (raw_noise_constraint): GreaterThan(1.000E-20)\n",
       ")"
      ]
     },
     "execution_count": 33,
     "metadata": {},
     "output_type": "execute_result"
    }
   ],
   "source": [
    "likelihood\n",
    "#torch.autograd.functional.hessian(likelihood, train_x)"
   ]
  },
  {
   "cell_type": "code",
   "execution_count": 34,
   "id": "d0219bd8",
   "metadata": {},
   "outputs": [
    {
     "name": "stdout",
     "output_type": "stream",
     "text": [
      "('likelihood.raw_task_noises', Parameter containing:\n",
      "tensor([-6.4696, -6.6289, -4.1773], requires_grad=True))\n",
      "('likelihood.raw_noise', Parameter containing:\n",
      "tensor([-6.1808], requires_grad=True))\n",
      "('covar_module.a', Parameter containing:\n",
      "tensor(1., requires_grad=True))\n",
      "('covar_module.10373243616.var', Parameter containing:\n",
      "tensor(-4.0159, requires_grad=True))\n",
      "('covar_module.10373243616.length', Parameter containing:\n",
      "tensor(-0.9355, requires_grad=True))\n"
     ]
    }
   ],
   "source": [
    "for parameter in model.named_parameters():\n",
    "    print(parameter)\n"
   ]
  },
  {
   "cell_type": "code",
   "execution_count": 35,
   "id": "e6fb5fa0",
   "metadata": {},
   "outputs": [
    {
     "data": {
      "text/plain": [
       "<matplotlib.legend.Legend object at 0x26a6c1850>"
      ]
     },
     "execution_count": 35,
     "metadata": {},
     "output_type": "execute_result"
    },
    {
     "data": {
      "image/png": "[encoded data removed]",
      "text/plain": [
       "<Figure size 432x288 with 1 Axes>"
      ]
     },
     "metadata": {
      "needs_background": "light"
     },
     "output_type": "display_data"
    }
   ],
   "source": [
    "for param_key in param_dict:\n",
    "    if param_key == 'task_noises':\n",
    "        pass\n",
    "    else:\n",
    "        plt.plot(param_dict[param_key], label=param_key)\n",
    "    \n",
    "plt.legend(loc='upper center', bbox_to_anchor=(0.5, -0.05), shadow=True, ncol=2)\n"
   ]
  },
  {
   "cell_type": "code",
   "execution_count": 36,
   "id": "38d928e9",
   "metadata": {},
   "outputs": [
    {
     "name": "stdout",
     "output_type": "stream",
     "text": [
      "tensor([0.0021], grad_fn=<AddBackward0>)\n",
      "tensor([0.0015, 0.0013, 0.0152], grad_fn=<AddBackward0>)\n"
     ]
    }
   ],
   "source": [
    "print(likelihood.noise)\n",
    "print(likelihood.task_noises)"
   ]
  },
  {
   "cell_type": "code",
   "execution_count": 37,
   "id": "c2b924f7",
   "metadata": {},
   "outputs": [
    {
     "data": {
      "text/plain": [
       "[  2.000000000000000?                    0  0.6065000000000000?  0.6065000000000000?]\n",
       "[                   0                    1 -0.6065000000000000?  0.6065000000000000?]\n",
       "[ 0.6065000000000000? -0.6065000000000000?   2.000000000000000?              0.?e-18]\n",
       "[ 0.6065000000000000?  0.6065000000000000?              0.?e-18   1.000000000000000?]"
      ]
     },
     "execution_count": 37,
     "metadata": {},
     "output_type": "execute_result"
    }
   ],
   "source": [
    "A = matrix(QQ, 4, 4, (2,0,0.6065,0.6065,0,1,-0.6065,0.6065,0.6065,-0.6065,2,0,0.6065,0.6065,0,1))\n",
    "L = A.cholesky()\n",
    "L*L.transpose()"
   ]
  },
  {
   "cell_type": "code",
   "execution_count": null,
   "id": "afdc9a70",
   "metadata": {},
   "outputs": [],
   "source": []
  },
  {
   "cell_type": "code",
   "execution_count": 38,
   "id": "7d1b8824",
   "metadata": {
    "scrolled": true
   },
   "outputs": [
    {
     "name": "stdout",
     "output_type": "stream",
     "text": [
      "('likelihood.raw_task_noises', Parameter containing:\n",
      "tensor([-6.4696, -6.6289, -4.1773], requires_grad=True))\n",
      "('likelihood.raw_noise', Parameter containing:\n",
      "tensor([-6.1808], requires_grad=True))\n",
      "('covar_module.a', Parameter containing:\n",
      "tensor(1., requires_grad=True))\n",
      "('covar_module.10373243616.var', Parameter containing:\n",
      "tensor(-4.0159, requires_grad=True))\n",
      "('covar_module.10373243616.length', Parameter containing:\n",
      "tensor(-0.9355, requires_grad=True))\n"
     ]
    }
   ],
   "source": [
    "for parameter in model.named_parameters():\n",
    "    print(parameter)\n",
    "    \n"
   ]
  },
  {
   "cell_type": "code",
   "execution_count": null,
   "id": "8dd409d7",
   "metadata": {},
   "outputs": [],
   "source": []
  },
  {
   "cell_type": "code",
   "execution_count": 39,
   "id": "f0c869eb",
   "metadata": {
    "scrolled": true
   },
   "outputs": [],
   "source": [
    "# Set into eval mode\n",
    "model.eval()\n",
    "likelihood.eval()\n",
    "\n",
    "# Initialize plots\n",
    "\n",
    "number_of_samples = int(100)\n",
    "# Make predictions\n",
    "with torch.no_grad(), gpytorch.settings.fast_pred_var():\n",
    "    test_x = torch.linspace(float(0), float(5), number_of_samples)\n",
    "    outputs = model(test_x)\n",
    "    predictions = likelihood(outputs)\n",
    "    \n",
    "    \n",
    "    mean = predictions.mean\n",
    "    lower, upper = predictions.confidence_region()\n",
    "#print(mean)\n",
    "#print(lower)\n",
    "#print(upper)\n",
    "# This contains predictions for both tasks, flattened out\n",
    "# The first half of the predictions is for the first task\n",
    "# The second half is for the second task\n",
    "\n",
    "#dims = int(2)\n",
    "#indices = [list(range(i, len(train_y), dims)) for i in range(dims)]\n"
   ]
  },
  {
   "cell_type": "code",
   "execution_count": 40,
   "id": "35f5bef2",
   "metadata": {},
   "outputs": [
    {
     "data": {
      "text/plain": [
       "tensor(90000)"
      ]
     },
     "execution_count": 40,
     "metadata": {},
     "output_type": "execute_result"
    }
   ],
   "source": [
    "torch.count_nonzero(outputs.covariance_matrix == outputs.covariance_matrix.T)\n"
   ]
  },
  {
   "cell_type": "code",
   "execution_count": null,
   "id": "1b4ccc43",
   "metadata": {},
   "outputs": [],
   "source": []
  },
  {
   "cell_type": "code",
   "execution_count": null,
   "id": "bf0bc1e1",
   "metadata": {},
   "outputs": [],
   "source": []
  },
  {
   "cell_type": "code",
   "execution_count": null,
   "id": "7ac8860d",
   "metadata": {},
   "outputs": [],
   "source": []
  },
  {
   "cell_type": "code",
   "execution_count": null,
   "id": "ad284ee3",
   "metadata": {},
   "outputs": [],
   "source": []
  },
  {
   "cell_type": "code",
   "execution_count": 41,
   "id": "f0a03a44",
   "metadata": {
    "scrolled": true
   },
   "outputs": [
    {
     "data": {
      "text/plain": [
       "Text(0.5, 1.0, 'Prior')"
      ]
     },
     "execution_count": 41,
     "metadata": {},
     "output_type": "execute_result"
    },
    {
     "data": {
      "image/png": "[encoded data removed]",
      "text/plain": [
       "<Figure size 1080x288 with 3 Axes>"
      ]
     },
     "metadata": {
      "needs_background": "light"
     },
     "output_type": "display_data"
    }
   ],
   "source": [
    "f, (y1_ax, y2_ax, y3_ax) = plt.subplots(int(1), int(3), figsize=(int(15), int(4)))\n",
    "\n",
    "# Plot training data as black stars\n",
    "y1_ax.plot(train_x.detach().numpy(), train_y[:, 0].detach().numpy(), 'k*')\n",
    "# Predictive mean as blue line\n",
    "y1_ax.plot(test_x.numpy(), mean[:, 0].numpy(), 'b')\n",
    "# Shade in confidence\n",
    "y1_ax.fill_between(test_x.numpy(), lower[:, 0].numpy(), upper[:, 0].numpy(), alpha=0.5)\n",
    "y1_ax.set_ylim([-5, 5])\n",
    "y1_ax.legend(['Observed Data', 'Mean', 'Confidence'])\n",
    "y1_ax.set_title('Observed Values (Likelihood)')\n",
    "\n",
    "# Plot training data as black stars\n",
    "y2_ax.plot(train_x.detach().numpy(), train_y[:, 1].detach().numpy(), 'k*')\n",
    "# Predictive mean as blue line\n",
    "y2_ax.plot(test_x.numpy(), mean[:, 1].numpy(), 'b')\n",
    "# Shade in confidence\n",
    "y2_ax.fill_between(test_x.numpy(), lower[:, 1].numpy(), upper[:, 1].numpy(), alpha=0.5)\n",
    "y2_ax.set_ylim([-5, 5])\n",
    "y2_ax.legend(['Observed Data', 'Mean', 'Confidence'])\n",
    "y2_ax.set_title('Observed Values (Likelihood)')\n",
    "\n",
    "# Plot training data as black stars\n",
    "y3_ax.plot(train_x.detach().numpy(), train_y[:, 2].detach().numpy(), 'k*')\n",
    "# Predictive mean as blue line\n",
    "y3_ax.plot(test_x.numpy(), mean[:, 2].numpy(), 'b')\n",
    "# Shade in confidence\n",
    "y3_ax.fill_between(test_x.numpy(), lower[:, 2].numpy(), upper[:, 2].numpy(), alpha=0.5)\n",
    "y3_ax.set_ylim([-5, 5])\n",
    "y3_ax.legend(['Observed Data', 'Mean', 'Confidence'])\n",
    "#y3_ax.legend(['Mean', 'Confidence'])\n",
    "y3_ax.set_title('Prior')\n",
    "\n"
   ]
  },
  {
   "cell_type": "code",
   "execution_count": 42,
   "id": "a06dc4f8",
   "metadata": {
    "scrolled": false
   },
   "outputs": [
    {
     "data": {
      "text/plain": [
       "torch.return_types.linalg_eig(\n",
       "eigenvalues=tensor([ 3.7946e-01+0.j,  2.6954e-01+0.j,  2.5271e-01+0.j,  2.2609e-01+0.j,\n",
       "         1.9220e-01+0.j,  1.5348e-01+0.j,  1.1485e-01+0.j,  7.9837e-02+0.j,\n",
       "         5.4191e-02+0.j,  4.4073e-02+0.j,  4.3443e-02+0.j,  2.4201e-02+0.j,\n",
       "         2.2201e-02+0.j,  3.8345e-02+0.j,  3.6647e-02+0.j,  3.4313e-02+0.j,\n",
       "         3.5601e-02+0.j,  3.5541e-02+0.j,  3.5315e-02+0.j,  3.5384e-02+0.j,\n",
       "         1.1236e-02+0.j,  8.4978e-03+0.j,  5.9810e-03+0.j,  3.4398e-03+0.j,\n",
       "         1.5742e-03+0.j,  6.4583e-04+0.j,  2.4983e-04+0.j,  9.2654e-05+0.j,\n",
       "         3.3145e-05+0.j,  1.1466e-05+0.j,  3.8397e-06+0.j,  1.2458e-06+0.j,\n",
       "         3.9182e-07+0.j,  1.1952e-07+0.j,  3.5376e-08+0.j,  1.0165e-08+0.j,\n",
       "         2.8363e-09+0.j,  7.6877e-10+0.j,  2.0238e-10+0.j,  5.1993e-11+0.j,\n",
       "         1.4162e-11+0.j,  8.7147e-12+0.j, -8.9697e-12+0.j,  3.0348e-12+0.j,\n",
       "         1.9779e-12+0.j, -1.7196e-12+0.j,  1.5114e-12+0.j, -1.4475e-12+0.j,\n",
       "         1.3428e-12+0.j, -1.3042e-12+0.j,  1.1995e-12+0.j, -1.0899e-12+0.j,\n",
       "         1.0517e-12+0.j, -9.9969e-13+0.j,  8.7626e-13+0.j, -8.5968e-13+0.j,\n",
       "         8.0975e-13+0.j, -7.9035e-13+0.j, -7.1759e-13+0.j,  7.0534e-13+0.j,\n",
       "         6.6626e-13+0.j, -6.2728e-13+0.j,  5.9556e-13+0.j,  5.7613e-13+0.j,\n",
       "        -5.6411e-13+0.j, -5.4988e-13+0.j,  5.0680e-13+0.j, -4.8476e-13+0.j,\n",
       "        -4.6688e-13+0.j,  4.5012e-13+0.j, -4.0398e-13+0.j,  4.1065e-13+0.j,\n",
       "         3.6473e-13+0.j,  3.4373e-13+0.j, -3.0463e-13+0.j, -2.8900e-13+0.j,\n",
       "        -2.8611e-13+0.j,  2.7632e-13+0.j,  2.4984e-13+0.j, -2.2758e-13+0.j,\n",
       "         2.2626e-13+0.j, -2.1452e-13+0.j, -2.0522e-13+0.j,  1.9637e-13+0.j,\n",
       "        -1.7488e-13+0.j,  1.8372e-13+0.j,  1.7798e-13+0.j, -1.5078e-13+0.j,\n",
       "         1.5737e-13+0.j, -1.3537e-13+0.j, -1.1410e-13+0.j,  1.2791e-13+0.j,\n",
       "         1.2878e-13+0.j, -1.0301e-13+0.j,  1.1897e-13+0.j,  1.1087e-13+0.j,\n",
       "         1.0633e-13+0.j, -9.1087e-14+0.j, -8.4256e-14+0.j, -7.8982e-14+0.j,\n",
       "         8.8242e-14+0.j, -7.2162e-14+0.j,  8.0554e-14+0.j, -6.0429e-14+0.j,\n",
       "         6.8802e-14+0.j,  6.2863e-14+0.j,  6.0473e-14+0.j, -5.6028e-14+0.j,\n",
       "         5.7341e-14+0.j, -5.1583e-14+0.j,  5.2797e-14+0.j, -4.9178e-14+0.j,\n",
       "         4.5806e-14+0.j,  4.5198e-14+0.j, -4.2850e-14+0.j, -4.2148e-14+0.j,\n",
       "        -3.8680e-14+0.j,  4.0529e-14+0.j,  3.6545e-14+0.j,  3.4126e-14+0.j,\n",
       "        -3.1868e-14+0.j, -3.0480e-14+0.j,  3.1390e-14+0.j,  2.9324e-14+0.j,\n",
       "         2.7206e-14+0.j, -2.6139e-14+0.j, -2.5034e-14+0.j,  2.5286e-14+0.j,\n",
       "        -2.3781e-14+0.j, -2.1124e-14+0.j, -2.0236e-14+0.j,  2.1375e-14+0.j,\n",
       "         2.0703e-14+0.j,  1.9753e-14+0.j, -1.7814e-14+0.j,  1.7535e-14+0.j,\n",
       "        -1.5970e-14+0.j, -1.5492e-14+0.j, -1.3457e-14+0.j,  1.4331e-14+0.j,\n",
       "         1.3310e-14+0.j, -1.1749e-14+0.j, -1.1295e-14+0.j,  1.2170e-14+0.j,\n",
       "         1.1669e-14+0.j,  1.1291e-14+0.j, -1.0265e-14+0.j,  1.0492e-14+0.j,\n",
       "         9.8555e-15+0.j, -9.3710e-15+0.j,  8.7796e-15+0.j,  8.7362e-15+0.j,\n",
       "         8.4847e-15+0.j,  8.3017e-15+0.j, -8.9662e-15+0.j, -8.4321e-15+0.j,\n",
       "        -8.2125e-15+0.j, -7.7433e-15+0.j,  7.1568e-15+0.j,  6.4092e-15+0.j,\n",
       "         6.1722e-15+0.j, -7.0145e-15+0.j, -6.5274e-15+0.j, -6.2730e-15+0.j,\n",
       "        -6.0265e-15+0.j, -5.7063e-15+0.j, -5.5948e-15+0.j, -5.2529e-15+0.j,\n",
       "        -5.0176e-15+0.j, -4.7978e-15+0.j, -4.7546e-15+0.j, -4.4344e-15+0.j,\n",
       "        -4.3683e-15+0.j,  5.7130e-15+0.j,  5.6696e-15+0.j, -3.8244e-15+0.j,\n",
       "        -3.6270e-15+0.j, -3.5011e-15+0.j,  5.3454e-15+0.j,  5.0430e-15+0.j,\n",
       "         4.9186e-15+0.j,  4.7325e-15+0.j,  4.6780e-15+0.j, -3.1008e-15+0.j,\n",
       "         4.3188e-15+0.j,  4.1645e-15+0.j,  3.9554e-15+0.j,  3.7343e-15+0.j,\n",
       "         3.5587e-15+0.j,  3.2542e-15+0.j, -3.1758e-15+0.j,  3.1733e-15+0.j,\n",
       "        -2.8382e-15+0.j, -2.6685e-15+0.j, -2.6834e-15+0.j, -2.4735e-15+0.j,\n",
       "         2.9000e-15+0.j, -2.3820e-15+0.j,  2.7523e-15+0.j, -2.2367e-15+0.j,\n",
       "         2.6177e-15+0.j,  2.5471e-15+0.j,  2.3815e-15+0.j,  2.3699e-15+0.j,\n",
       "         2.2287e-15+0.j,  2.1461e-15+0.j,  1.9110e-15+0.j,  1.8821e-15+0.j,\n",
       "        -2.0824e-15+0.j, -1.9638e-15+0.j, -1.8266e-15+0.j, -1.7250e-15+0.j,\n",
       "        -1.6861e-15+0.j,  1.7349e-15+0.j, -1.5809e-15+0.j,  1.6439e-15+0.j,\n",
       "        -1.4923e-15+0.j, -1.4679e-15+0.j, -1.3837e-15+0.j, -1.3396e-15+0.j,\n",
       "         1.5539e-15+0.j, -1.2210e-15+0.j, -1.1955e-15+0.j, -1.1194e-15+0.j,\n",
       "        -1.0275e-15+0.j, -1.0072e-15+0.j, -9.5564e-16+0.j,  1.4430e-15+0.j,\n",
       "         1.4186e-15+0.j,  1.3521e-15+0.j,  1.2991e-15+0.j,  1.2038e-15+0.j,\n",
       "         1.1755e-15+0.j,  1.1366e-15+0.j,  1.0575e-15+0.j,  1.0481e-15+0.j,\n",
       "         9.7797e-16+0.j, -8.8847e-16+0.j, -8.2962e-16+0.j, -7.8419e-16+0.j,\n",
       "        -7.6586e-16+0.j,  9.0679e-16+0.j, -7.3293e-16+0.j,  8.7020e-16+0.j,\n",
       "         8.3094e-16+0.j,  8.2627e-16+0.j, -6.9018e-16+0.j, -6.6311e-16+0.j,\n",
       "         7.8772e-16+0.j, -6.0817e-16+0.j, -5.7737e-16+0.j,  7.3419e-16+0.j,\n",
       "         6.8850e-16+0.j, -5.2017e-16+0.j, -4.8692e-16+0.j,  6.0781e-16+0.j,\n",
       "         5.8750e-16+0.j, -4.3611e-16+0.j, -4.5329e-16+0.j,  5.6279e-16+0.j,\n",
       "        -3.5501e-16+0.j, -4.0124e-16+0.j, -3.1999e-16+0.j, -3.7024e-16+0.j,\n",
       "         5.3233e-16+0.j,  5.1354e-16+0.j,  4.8532e-16+0.j, -2.7630e-16+0.j,\n",
       "        -2.6890e-16+0.j, -1.9267e-16+0.j, -2.4484e-16+0.j, -2.1594e-16+0.j,\n",
       "        -1.6402e-16+0.j, -1.7772e-16+0.j,  4.4889e-16+0.j, -1.1694e-16+0.j,\n",
       "        -1.0353e-16+0.j, -8.5154e-17+0.j, -6.5591e-17+0.j, -3.6863e-17+0.j,\n",
       "        -8.5969e-18+0.j,  1.5534e-17+0.j,  5.5876e-17+0.j,  6.8480e-17+0.j,\n",
       "         9.9496e-17+0.j,  4.2632e-16+0.j,  3.5507e-16+0.j,  4.0413e-16+0.j,\n",
       "         3.8268e-16+0.j,  3.9219e-16+0.j,  3.2763e-16+0.j,  1.4327e-16+0.j,\n",
       "         1.6333e-16+0.j,  1.2828e-16+0.j,  2.7564e-16+0.j,  1.9021e-16+0.j,\n",
       "         2.3217e-16+0.j,  2.5758e-16+0.j,  2.0327e-16+0.j,  3.0240e-16+0.j]),\n",
       "eigenvectors=tensor([[ 5.7059e-04+0.j, -1.8119e-03+0.j,  3.4566e-03+0.j,  ...,\n",
       "          2.7018e-02+0.j, -9.8153e-02+0.j, -2.2438e-03+0.j],\n",
       "        [ 3.0858e-04+0.j, -6.2271e-03+0.j,  1.2736e-02+0.j,  ...,\n",
       "         -1.5448e-01+0.j,  1.6175e-01+0.j,  1.1422e-01+0.j],\n",
       "        [ 2.6201e-04+0.j,  4.4152e-03+0.j, -9.2792e-03+0.j,  ...,\n",
       "         -2.9993e-02+0.j,  1.0032e-01+0.j,  4.0397e-03+0.j],\n",
       "        ...,\n",
       "        [ 1.0868e-02+0.j, -8.8665e-04+0.j, -1.6902e-03+0.j,  ...,\n",
       "          1.0150e-04+0.j,  5.1131e-04+0.j, -2.8189e-04+0.j],\n",
       "        [ 1.7565e-02+0.j,  2.0460e-03+0.j,  4.7322e-03+0.j,  ...,\n",
       "          9.8171e-03+0.j, -2.3330e-03+0.j,  3.0043e-02+0.j],\n",
       "        [-6.6972e-03+0.j, -2.9327e-03+0.j, -6.4224e-03+0.j,  ...,\n",
       "         -5.3413e-04+0.j, -4.9653e-04+0.j, -8.1904e-04+0.j]]))"
      ]
     },
     "execution_count": 42,
     "metadata": {},
     "output_type": "execute_result"
    }
   ],
   "source": [
    "truth_vector = (outputs.covariance_matrix == outputs.covariance_matrix.T).flatten()\n",
    "true_count = 0\n",
    "for entry in truth_vector:\n",
    "    if entry:\n",
    "        true_count += 1\n",
    "float(true_count / len(truth_vector))*100\n",
    "torch.linalg.eig(outputs.covariance_matrix)"
   ]
  },
  {
   "cell_type": "code",
   "execution_count": 43,
   "id": "ad4df72d",
   "metadata": {},
   "outputs": [
    {
     "name": "stderr",
     "output_type": "stream",
     "text": [
      "/Users/andreas/Documents/container_storage/sage/DiffEqGPs/gpytorch/utils/cholesky.py:44: NumericalWarning: A not p.d., added jitter of 1.0e-08 to the diagonal\n",
      "  warnings.warn(f\"A not p.d., added jitter of {jitter_new:.1e} to the diagonal\", NumericalWarning)\n"
     ]
    },
    {
     "ename": "AttributeError",
     "evalue": "'MatrixKernel' object has no attribute 'b'",
     "output_type": "error",
     "traceback": [
      "\u001b[0;31m---------------------------------------------------------------------------\u001b[0m",
      "\u001b[0;31mAttributeError\u001b[0m                            Traceback (most recent call last)",
      "\u001b[0;32m~/Documents/container_storage/sage/DiffEqGPs/gpytorch/module.py\u001b[0m in \u001b[0;36m__getattr__\u001b[0;34m(self, name)\u001b[0m\n\u001b[1;32m    432\u001b[0m             \u001b[0;32mtry\u001b[0m\u001b[0;34m:\u001b[0m\u001b[0;34m\u001b[0m\u001b[0;34m\u001b[0m\u001b[0m\n\u001b[0;32m--> 433\u001b[0;31m                 \u001b[0;32mreturn\u001b[0m \u001b[0msuper\u001b[0m\u001b[0;34m(\u001b[0m\u001b[0;34m)\u001b[0m\u001b[0;34m.\u001b[0m\u001b[0m__getattribute__\u001b[0m\u001b[0;34m(\u001b[0m\u001b[0mname\u001b[0m\u001b[0;34m)\u001b[0m\u001b[0;34m\u001b[0m\u001b[0;34m\u001b[0m\u001b[0m\n\u001b[0m\u001b[1;32m    434\u001b[0m             \u001b[0;32mexcept\u001b[0m \u001b[0mAttributeError\u001b[0m\u001b[0;34m:\u001b[0m\u001b[0;34m\u001b[0m\u001b[0;34m\u001b[0m\u001b[0m\n",
      "\u001b[0;31mAttributeError\u001b[0m: 'MatrixKernel' object has no attribute 'b'",
      "\nDuring handling of the above exception, another exception occurred:\n",
      "\u001b[0;31mAttributeError\u001b[0m                            Traceback (most recent call last)",
      "\u001b[0;32m<ipython-input-43-812b98a09249>\u001b[0m in \u001b[0;36m<module>\u001b[0;34m\u001b[0m\n\u001b[1;32m      5\u001b[0m \u001b[0;31m#sample = outputs.mean\u001b[0m\u001b[0;34m\u001b[0m\u001b[0;34m\u001b[0m\u001b[0m\n\u001b[1;32m      6\u001b[0m \u001b[0mp_a\u001b[0m \u001b[0;34m=\u001b[0m \u001b[0mmodel\u001b[0m\u001b[0;34m.\u001b[0m\u001b[0mcovar_module\u001b[0m\u001b[0;34m.\u001b[0m\u001b[0ma\u001b[0m\u001b[0;34m\u001b[0m\u001b[0;34m\u001b[0m\u001b[0m\n\u001b[0;32m----> 7\u001b[0;31m \u001b[0mp_b\u001b[0m \u001b[0;34m=\u001b[0m \u001b[0mmodel\u001b[0m\u001b[0;34m.\u001b[0m\u001b[0mcovar_module\u001b[0m\u001b[0;34m.\u001b[0m\u001b[0mb\u001b[0m\u001b[0;34m\u001b[0m\u001b[0;34m\u001b[0m\u001b[0m\n\u001b[0m\u001b[1;32m      8\u001b[0m \u001b[0mstep_size\u001b[0m \u001b[0;34m=\u001b[0m \u001b[0mfloat\u001b[0m\u001b[0;34m(\u001b[0m\u001b[0mint\u001b[0m\u001b[0;34m(\u001b[0m\u001b[0mInteger\u001b[0m\u001b[0;34m(\u001b[0m\u001b[0;36m1\u001b[0m\u001b[0;34m)\u001b[0m\u001b[0;34m)\u001b[0m \u001b[0;34m/\u001b[0m \u001b[0mnumber_of_samples\u001b[0m\u001b[0;34m)\u001b[0m\u001b[0;34m\u001b[0m\u001b[0;34m\u001b[0m\u001b[0m\n\u001b[1;32m      9\u001b[0m \u001b[0mc1_difference\u001b[0m \u001b[0;34m=\u001b[0m \u001b[0;34m[\u001b[0m\u001b[0;34m]\u001b[0m\u001b[0;34m\u001b[0m\u001b[0;34m\u001b[0m\u001b[0m\n",
      "\u001b[0;32m~/Documents/container_storage/sage/DiffEqGPs/gpytorch/module.py\u001b[0m in \u001b[0;36m__getattr__\u001b[0;34m(self, name)\u001b[0m\n\u001b[1;32m    433\u001b[0m                 \u001b[0;32mreturn\u001b[0m \u001b[0msuper\u001b[0m\u001b[0;34m(\u001b[0m\u001b[0;34m)\u001b[0m\u001b[0;34m.\u001b[0m\u001b[0m__getattribute__\u001b[0m\u001b[0;34m(\u001b[0m\u001b[0mname\u001b[0m\u001b[0;34m)\u001b[0m\u001b[0;34m\u001b[0m\u001b[0;34m\u001b[0m\u001b[0m\n\u001b[1;32m    434\u001b[0m             \u001b[0;32mexcept\u001b[0m \u001b[0mAttributeError\u001b[0m\u001b[0;34m:\u001b[0m\u001b[0;34m\u001b[0m\u001b[0;34m\u001b[0m\u001b[0m\n\u001b[0;32m--> 435\u001b[0;31m                 \u001b[0;32mraise\u001b[0m \u001b[0me\u001b[0m\u001b[0;34m\u001b[0m\u001b[0;34m\u001b[0m\u001b[0m\n\u001b[0m\u001b[1;32m    436\u001b[0m \u001b[0;34m\u001b[0m\u001b[0m\n\u001b[1;32m    437\u001b[0m \u001b[0;34m\u001b[0m\u001b[0m\n",
      "\u001b[0;32m~/Documents/container_storage/sage/DiffEqGPs/gpytorch/module.py\u001b[0m in \u001b[0;36m__getattr__\u001b[0;34m(self, name)\u001b[0m\n\u001b[1;32m    428\u001b[0m     \u001b[0;32mdef\u001b[0m \u001b[0m__getattr__\u001b[0m\u001b[0;34m(\u001b[0m\u001b[0mself\u001b[0m\u001b[0;34m,\u001b[0m \u001b[0mname\u001b[0m\u001b[0;34m)\u001b[0m\u001b[0;34m:\u001b[0m\u001b[0;34m\u001b[0m\u001b[0;34m\u001b[0m\u001b[0m\n\u001b[1;32m    429\u001b[0m         \u001b[0;32mtry\u001b[0m\u001b[0;34m:\u001b[0m\u001b[0;34m\u001b[0m\u001b[0;34m\u001b[0m\u001b[0m\n\u001b[0;32m--> 430\u001b[0;31m             \u001b[0;32mreturn\u001b[0m \u001b[0msuper\u001b[0m\u001b[0;34m(\u001b[0m\u001b[0;34m)\u001b[0m\u001b[0;34m.\u001b[0m\u001b[0m__getattr__\u001b[0m\u001b[0;34m(\u001b[0m\u001b[0mname\u001b[0m\u001b[0;34m)\u001b[0m\u001b[0;34m\u001b[0m\u001b[0;34m\u001b[0m\u001b[0m\n\u001b[0m\u001b[1;32m    431\u001b[0m         \u001b[0;32mexcept\u001b[0m \u001b[0mAttributeError\u001b[0m \u001b[0;32mas\u001b[0m \u001b[0me\u001b[0m\u001b[0;34m:\u001b[0m\u001b[0;34m\u001b[0m\u001b[0;34m\u001b[0m\u001b[0m\n\u001b[1;32m    432\u001b[0m             \u001b[0;32mtry\u001b[0m\u001b[0;34m:\u001b[0m\u001b[0;34m\u001b[0m\u001b[0;34m\u001b[0m\u001b[0m\n",
      "\u001b[0;32m/opt/anaconda3/envs/sage/lib/python3.9/site-packages/torch/nn/modules/module.py\u001b[0m in \u001b[0;36m__getattr__\u001b[0;34m(self, name)\u001b[0m\n\u001b[1;32m   1128\u001b[0m             \u001b[0;32mif\u001b[0m \u001b[0mname\u001b[0m \u001b[0;32min\u001b[0m \u001b[0mmodules\u001b[0m\u001b[0;34m:\u001b[0m\u001b[0;34m\u001b[0m\u001b[0;34m\u001b[0m\u001b[0m\n\u001b[1;32m   1129\u001b[0m                 \u001b[0;32mreturn\u001b[0m \u001b[0mmodules\u001b[0m\u001b[0;34m[\u001b[0m\u001b[0mname\u001b[0m\u001b[0;34m]\u001b[0m\u001b[0;34m\u001b[0m\u001b[0;34m\u001b[0m\u001b[0m\n\u001b[0;32m-> 1130\u001b[0;31m         raise AttributeError(\"'{}' object has no attribute '{}'\".format(\n\u001b[0m\u001b[1;32m   1131\u001b[0m             type(self).__name__, name))\n\u001b[1;32m   1132\u001b[0m \u001b[0;34m\u001b[0m\u001b[0m\n",
      "\u001b[0;31mAttributeError\u001b[0m: 'MatrixKernel' object has no attribute 'b'"
     ]
    }
   ],
   "source": [
    "### check if the differential equation is fulfilled for the given datapoint\n",
    "\n",
    "with gpytorch.settings.fast_pred_var():\n",
    "    sample = outputs.sample()\n",
    "#sample = outputs.mean\n",
    "p_a = model.covar_module.a\n",
    "p_b = model.covar_module.b\n",
    "step_size = float(int(1) / number_of_samples)\n",
    "c1_difference = []\n",
    "c2_difference = []\n",
    "c1_fin_diff = []\n",
    "c2_fin_diff = []\n",
    "\n",
    "for index in range(len(sample)-1):\n",
    "    c1 = sample[index][0]\n",
    "    c2 = sample[index][1]\n",
    "    c3 = sample[index][2]\n",
    "    \n",
    "    # Calculate the finite differences at channels 1 and 2\n",
    "    c1_diff = (-sample[index][0] + sample[index+1][0])/step_size\n",
    "    c2_diff = (-sample[index][1] + sample[index+1][1])/step_size\n",
    "    c1_fin_diff.append(c1_diff)\n",
    "    c2_fin_diff.append(c2_diff)\n",
    "\n",
    "    # matrix(R, 2, 3, [x+a, -a, -1, -b, x+b, 0])\n",
    "    # Check the error in solving the first differential equation\n",
    "    dgl1_difference.append(abs(c1_diff + p_a*(c1-c2)-c3))\n",
    "\n",
    "    # Check the error in solving the second differential equation\n",
    "    dgl2_difference.append(abs(c2_diff + p_b*(c2-c1)))\n",
    "    #print(\"\")\n",
    "    #assert (c1_diff - p_a*(c1+c2)-c3) < float(0.0001)\n",
    "    #assert (c2_diff - p_b*(c2-c1)) < float(0.0001)\n",
    "print(f\"avg. error c1:{torch.mean(torch.Tensor(dgl1_difference))}\")\n",
    "print(f\"avg. error c2:{torch.mean(torch.Tensor(dgl2_difference))}\")"
   ]
  },
  {
   "cell_type": "code",
   "execution_count": 44,
   "id": "e702edfd",
   "metadata": {},
   "outputs": [
    {
     "name": "stdout",
     "output_type": "stream",
     "text": [
      "avg. error c1:22.985891464511493\n",
      "avg. error c2:32.43788267480592\n"
     ]
    }
   ],
   "source": [
    "### check if the differential equation is fulfilled for the given datapoint \n",
    "\n",
    "with gpytorch.settings.fast_pred_var():\n",
    "    sample = outputs.sample()\n",
    "#sample = outputs.mean\n",
    "step_size = float(int(1) / number_of_samples)\n",
    "dgl1_difference = []\n",
    "dgl2_difference = []\n",
    "c1_fin_diff = []\n",
    "c2_fin_diff = []\n",
    "c3_fin_diff = []\n",
    "c2_fin_d2 = []\n",
    "\n",
    "import scipy.signal\n",
    "b, a = scipy.signal.butter(3, 0.05, \"lowpass\")\n",
    "    \n",
    "\n",
    "# Create the finite differences in lists\n",
    "for index in range(len(sample)-1):\n",
    "    c1 = sample[index][0]\n",
    "    c2 = sample[index][1]\n",
    "    c3 = sample[index][2]\n",
    "    \n",
    "    # Calculate the finite differences at channels 1 and 2\n",
    "    c1_diff = (-sample[index][0] + sample[index+1][0])/step_size\n",
    "    c2_diff = (-sample[index][1] + sample[index+1][1])/step_size\n",
    "    c3_diff = (-sample[index][2] + sample[index+1][2])/step_size\n",
    "    c1_fin_diff.append(c1_diff)\n",
    "    c2_fin_diff.append(c2_diff)\n",
    "    c3_fin_diff.append(c3_diff)\n",
    "    \n",
    "c2_fin_diff_smooth = scipy.signal.filtfilt(b, a, c2_fin_diff)\n",
    "for index in range(1, len(sample)-1):\n",
    "    c2_fin_d2.append((-c2_fin_diff_smooth[index-1] + c2_fin_diff_smooth[index])/step_size)\n",
    "    \n",
    "for index in range(len(sample)-3):\n",
    "    c1 = sample[index][0]\n",
    "    c2 = sample[index][1]\n",
    "    c3 = sample[index][2]\n",
    "    \n",
    "    # matrix(R, 2, 3, [x, -x^2+x-1, x-2, 2-x, x^2-x-1, -x])\n",
    "    # Check the error in solving the first differential equation\n",
    "    dgl1_difference.append(abs(-c2_fin_d2[index]+c2_fin_diff[index] +c3_fin_diff[index] - int(2)*c3-c2+c1 ))\n",
    "\n",
    "    # Check the error in solving the second differential equation\n",
    "    dgl2_difference.append(abs(c2_fin_d2[index] - c1_fin_diff[index] - c2_fin_diff[index] - c3_fin_diff[index] + int(2)*c1-c2))\n",
    "    #print(\"\")\n",
    "    #assert (c1_diff - p_a*(c1+c2)-c3) < float(0.0001)\n",
    "    #assert (c2_diff - p_b*(c2-c1)) < float(0.0001)\n",
    "print(f\"avg. error c1:{torch.mean(torch.Tensor(dgl1_difference))}\")\n",
    "print(f\"avg. error c2:{torch.mean(torch.Tensor(dgl2_difference))}\")"
   ]
  },
  {
   "cell_type": "code",
   "execution_count": 45,
   "id": "b18929ba",
   "metadata": {},
   "outputs": [
    {
     "name": "stdout",
     "output_type": "stream",
     "text": [
      "torch.Size([100, 3])\n"
     ]
    },
    {
     "data": {
      "text/plain": [
       "[<matplotlib.lines.Line2D object at 0x276525d00>,\n",
       " <matplotlib.lines.Line2D object at 0x276525d30>,\n",
       " <matplotlib.lines.Line2D object at 0x276525e50>]"
      ]
     },
     "execution_count": 45,
     "metadata": {},
     "output_type": "execute_result"
    },
    {
     "data": {
      "image/png": "[encoded data removed]",
      "text/plain": [
       "<Figure size 432x288 with 1 Axes>"
      ]
     },
     "metadata": {
      "needs_background": "light"
     },
     "output_type": "display_data"
    }
   ],
   "source": [
    "#plt.plot(torch.Tensor(c1_difference).detach().numpy())\n",
    "print(np.shape(sample))\n",
    "plt.plot(sample)"
   ]
  },
  {
   "cell_type": "code",
   "execution_count": 46,
   "id": "fe8d3693",
   "metadata": {},
   "outputs": [
    {
     "data": {
      "text/plain": [
       "[<matplotlib.lines.Line2D object at 0x2765a7040>]"
      ]
     },
     "execution_count": 46,
     "metadata": {},
     "output_type": "execute_result"
    },
    {
     "data": {
      "image/png": "[encoded data removed]",
      "text/plain": [
       "<Figure size 432x288 with 1 Axes>"
      ]
     },
     "metadata": {
      "needs_background": "light"
     },
     "output_type": "display_data"
    }
   ],
   "source": [
    "plt.plot(torch.Tensor(c1_fin_diff).detach().numpy())\n",
    "plt.plot(torch.Tensor(c2_fin_diff).detach().numpy())\n",
    "plt.plot(torch.Tensor(c3_fin_diff).detach().numpy())\n",
    "#plt.plot(torch.Tensor(c2_fin_d2).detach().numpy())"
   ]
  },
  {
   "cell_type": "code",
   "execution_count": 47,
   "id": "26a320de",
   "metadata": {},
   "outputs": [
    {
     "data": {
      "text/plain": [
       "[<matplotlib.lines.Line2D object at 0x2765fff40>]"
      ]
     },
     "execution_count": 47,
     "metadata": {},
     "output_type": "execute_result"
    },
    {
     "data": {
      "image/png": "[encoded data removed]",
      "text/plain": [
       "<Figure size 432x288 with 1 Axes>"
      ]
     },
     "metadata": {
      "needs_background": "light"
     },
     "output_type": "display_data"
    }
   ],
   "source": [
    "import scipy.signal\n",
    "b, a = scipy.signal.butter(3, 0.05, \"lowpass\")\n",
    "c2_fin_diff_smooth = scipy.signal.filtfilt(b, a, c2_fin_diff)\n",
    "plt.plot(c2_fin_diff_smooth)\n",
    "#plt.plot(torch.Tensor(c1_fin_diff_smooth).detach().numpy())"
   ]
  },
  {
   "cell_type": "code",
   "execution_count": null,
   "id": "96efe38d",
   "metadata": {},
   "outputs": [],
   "source": []
  },
  {
   "cell_type": "markdown",
   "id": "51d60cac",
   "metadata": {},
   "source": [
    "# Manually sampling from a multivariate normal distribution\n",
    "\n",
    "Code Taken from [here](https://peterroelants.github.io/posts/multivariate-normal-primer/)"
   ]
  },
  {
   "cell_type": "code",
   "execution_count": null,
   "id": "6b720d7d",
   "metadata": {},
   "outputs": [],
   "source": [
    "# Sample from:\n",
    "\n",
    "# Maybe necessery\n",
    "\n",
    "mean = outputs.mean.flatten().reshape((300,1)).numpy()\n",
    "\n",
    "covariance = outputs.covariance_matrix.numpy()\n",
    "covariance = covariance + np.eye(len(covariance)) *float(0.0001)\n",
    "\n",
    "d = len(covariance) # Number of dimensions (in my case: number of sample-points)\n",
    "# Create L\n",
    "L = np.linalg.cholesky(covariance)\n",
    "# Sample X from standard normal\n",
    "n = 1  # Samples to draw\n",
    "X = np.random.normal(size=(d, n))\n",
    "# Apply the transformation\n",
    "print(np.shape(L))\n",
    "print(np.shape(X))\n",
    "print(np.shape(mean))\n",
    "Y = L.dot(X) + mean"
   ]
  },
  {
   "cell_type": "code",
   "execution_count": null,
   "id": "0c54b9db",
   "metadata": {},
   "outputs": [],
   "source": [
    "Y = Y.reshape((100,3))"
   ]
  },
  {
   "cell_type": "code",
   "execution_count": null,
   "id": "79d5066a",
   "metadata": {},
   "outputs": [],
   "source": [
    "plt.plot(Y)"
   ]
  },
  {
   "cell_type": "code",
   "execution_count": null,
   "id": "718c3260",
   "metadata": {},
   "outputs": [],
   "source": []
  },
  {
   "cell_type": "code",
   "execution_count": null,
   "id": "a325d93f",
   "metadata": {},
   "outputs": [],
   "source": [
    "from torch.distributions import *\n",
    "m = MultivariateNormal(torch.Tensor(mean.reshape((1, 300))), torch.Tensor(covariance))\n",
    "sample = m.sample()  # normally distributed with mean=`[0,0]` and covariance_matrix=`I`\n",
    "sample = sample.reshape((100, 3))\n",
    "plt.plot(sample)"
   ]
  },
  {
   "cell_type": "code",
   "execution_count": null,
   "id": "128155d6",
   "metadata": {},
   "outputs": [],
   "source": []
  },
  {
   "cell_type": "code",
   "execution_count": null,
   "id": "dff74e88",
   "metadata": {},
   "outputs": [],
   "source": []
  },
  {
   "cell_type": "code",
   "execution_count": null,
   "id": "97a68246",
   "metadata": {},
   "outputs": [],
   "source": [
    "# Sampling Methods from Jörn\n",
    "\n",
    "def SampleGP(K, m, x, n_s):\n",
    "    if not isinstance(m, int):\n",
    "        if m.ndim == 1:\n",
    "            m = m.reshape(-1, 1)\n",
    "    #ys = torch.normal(m, torch.diag(K))\n",
    "    ys = m + torch.linalg.cholesky(K) @ torch.randn((x.numel(), n_s))\n",
    "    return ys\n",
    "\n",
    "Y_joern = SampleGP(torch.Tensor(K), torch.Tensor(mean.reshape((300, 1))), torch.stack((test_x, test_x, test_x)), 1)\n",
    "print(np.shape(Y_joern))\n",
    "\n",
    "Y_joern = Y_joern.reshape((100,3))\n",
    "plt.plot(Y_joern)"
   ]
  },
  {
   "cell_type": "code",
   "execution_count": null,
   "id": "67ff4c15",
   "metadata": {},
   "outputs": [],
   "source": [
    "K = torch.Tensor(covariance)\n",
    "print(torch.norm(K-K.T))\n",
    "\n",
    "K = float(0.5)*K+float(0.5)*K.T\n",
    "K == K.T\n",
    "print(torch.linalg.eigh(torch.Tensor(covariance)))\n",
    "torch.linalg.eigh(K)"
   ]
  },
  {
   "cell_type": "code",
   "execution_count": null,
   "id": "b50a5a1b",
   "metadata": {},
   "outputs": [],
   "source": [
    "Y_joern_chol = SampleGP(torch.Tensor(covariance), torch.Tensor(mean.reshape((300, 1))), torch.stack((test_x, test_x, test_x)), 1, False)\n",
    "print(np.shape(Y_joern_chol))\n",
    "\n",
    "Y_joern_chol = Y_joern_chol.reshape((100,3))\n",
    "plt.plot(Y_joern_chol)"
   ]
  },
  {
   "cell_type": "code",
   "execution_count": null,
   "id": "2866d282",
   "metadata": {},
   "outputs": [],
   "source": []
  },
  {
   "cell_type": "markdown",
   "id": "bf73a6c3",
   "metadata": {},
   "source": [
    "# Test Diffable SE Kernel"
   ]
  },
  {
   "cell_type": "code",
   "execution_count": null,
   "id": "b432934f",
   "metadata": {},
   "outputs": [],
   "source": [
    "X = torch.tensor([int(1), int(2), int(3)])\n",
    "X"
   ]
  },
  {
   "cell_type": "code",
   "execution_count": null,
   "id": "ae01ece4",
   "metadata": {},
   "outputs": [],
   "source": [
    "X = torch.linspace(float(0), float(1), int(2))"
   ]
  },
  {
   "cell_type": "code",
   "execution_count": null,
   "id": "d46856bd",
   "metadata": {
    "scrolled": true
   },
   "outputs": [],
   "source": [
    "x1, x2, l, sigma = var('x1, x2, l, sigma')\n",
    "lengthscale = 1\n",
    "variance = 1\n",
    "SE(x1, x2, l, sigma) = sigma^2*exp(-(x1-x2)^2/(2*l^2))\n",
    "cov_matr = [[None for i in range(len(X))] for j in range(len(X))]\n",
    "for i, (v1, v2) in enumerate(product(X, X)):\n",
    "    cov_matr[int(i/len(X))][int(i%len(X))] = float(SE.diff(x2).diff(x2)(int(v1), int(v2), lengthscale, variance))\n",
    "cov_matr"
   ]
  },
  {
   "cell_type": "code",
   "execution_count": null,
   "id": "29571cd7",
   "metadata": {},
   "outputs": [],
   "source": []
  },
  {
   "cell_type": "code",
   "execution_count": null,
   "id": "55bee06a",
   "metadata": {},
   "outputs": [],
   "source": [
    "SE(x1, x2, l, sigma) = sigma^2*exp(-(x1-x2)^2/(2*l^2))\n",
    "#print(SE)\n",
    "#print(SE.diff(x1).diff(x2))\n",
    "print(SE.diff(x2).diff(x2))\n",
    "#print(SE.diff(x1).diff(x2).diff(x1).diff(x2).diff(x1))\n",
    "#print(SE.diff(x1).diff(x2).diff(x1).diff(x2))\n",
    "#float(SE.diff(x2).diff(x1)(float(1.), float(1.), 1, 1))"
   ]
  },
  {
   "cell_type": "code",
   "execution_count": null,
   "id": "ea4620c2",
   "metadata": {},
   "outputs": [],
   "source": [
    "a = Diff_SE_kernel(var=int(variance), length=int(lengthscale))\n",
    "q, dx1, dx2 = var('q, dx1, dx2')\n",
    "left_poly = dx2\n",
    "right_poly = dx1^3 \n",
    "diffed_kernel = a.diff(left_poly=left_poly, right_poly=right_poly, left_d_var=var('dx2'), right_d_var=var('dx1'))\n",
    "left_poly = dx2\n",
    "right_poly = 1\n",
    "diffed_kernel2 = a.diff(left_poly=left_poly, right_poly=right_poly, left_d_var=var('dx2'), right_d_var=var('dx1'))\n",
    "diffed_kernel(X).evaluate() + diffed_kernel2(X).evaluate()"
   ]
  },
  {
   "cell_type": "code",
   "execution_count": null,
   "id": "bd8e3474",
   "metadata": {},
   "outputs": [],
   "source": [
    "def calc_cell_diff(L, M, R, context=None):\n",
    "    len_M = np.shape(M)[0]\n",
    "    temp = None\n",
    "    # https://stackoverflow.com/questions/6473679/transpose-list-\n",
    "    # of-lists\n",
    "    M_transpose = list(\n",
    "       map(list, itertools.zip_longest(*M, fillvalue=None)))\n",
    "    for r_elem, row_M in zip(R, M_transpose):\n",
    "        for l_elem, m_elem in zip(L, row_M):\n",
    "            if temp is None:\n",
    "                #if M_transpose[int(j/len_M)][j % len_M] is not None:\n",
    "                if m_elem is not None:\n",
    "                    temp = l_elem * m_elem*r_elem\n",
    "                    #temp = l_elem * M_transpose[int(j/len_M)][j % len_M]*r_elem\n",
    "                else:\n",
    "                    pass\n",
    "            else:\n",
    "                if m_elem is not None:\n",
    "                #if M_transpose[int(j/len_M)][j % len_M] is not None:\n",
    "                    temp += l_elem * m_elem*r_elem\n",
    "                    #temp += l_elem * M_transpose[int(j/len_M)][j % len_M]*r_elem\n",
    "                else:\n",
    "                    pass\n",
    "    return temp.simplify_full()\n"
   ]
  },
  {
   "cell_type": "code",
   "execution_count": null,
   "id": "9a14736e",
   "metadata": {},
   "outputs": [],
   "source": [
    "dimension = 3\n",
    "length = dimension*dimension +1\n",
    "L_list = [var(f'l_{i}{j}') for i in range(1, dimension+1) for j in range(1, dimension+1)]\n",
    "M_list = [var(f'm_{i}{j}') for i in range(1, dimension+1) for j in range(1, dimension+1)]\n",
    "R_list = [var(f'r_{i}{j}') for i in range(1, dimension+1) for j in range(1, dimension+1)]\n",
    "L = matrix(dimension, dimension, L_list)\n",
    "M = matrix(dimension, dimension, M_list)\n",
    "R = matrix(dimension, dimension, R_list)\n",
    "print(L)\n",
    "print(M)\n",
    "print(R)\n",
    "row = 0\n",
    "col = 0\n",
    "for row in range(dimension):\n",
    "    for col in range(dimension):\n",
    "        print((L*M*R)[row][col])\n",
    "print(\"\\n\\n\")\n",
    "for i, (l, r) in enumerate(itertools.product(L.rows(), R.columns())):\n",
    "\n",
    "    print(calc_cell_diff(l, M, r))\n",
    "    print(\"\\n\")"
   ]
  },
  {
   "cell_type": "code",
   "execution_count": null,
   "id": "5347513f",
   "metadata": {},
   "outputs": [],
   "source": []
  },
  {
   "cell_type": "code",
   "execution_count": null,
   "id": "ecb35080",
   "metadata": {},
   "outputs": [],
   "source": []
  },
  {
   "cell_type": "code",
   "execution_count": null,
   "id": "8cbb4445",
   "metadata": {},
   "outputs": [],
   "source": [
    "def calc_cell_diff_sage(L, M, R, context=None):\n",
    "    temp = None\n",
    "    # https://stackoverflow.com/questions/6473679/transpose-list-\n",
    "    # of-lists\n",
    "    M_transpose = list(\n",
    "        map(list, itertools.zip_longest(*M, fillvalue=None)))\n",
    "    # Every row in 'M' is combined with each elem of the row given in 'R'\n",
    "    # Or: For each elemtn in row 'R' combine with 'row_M'\n",
    "    for r_elem, row_M in zip(R, M_transpose):\n",
    "        # Each element in L gets exactly one element in 'row_M' to multiply\n",
    "        # Or: Combine each element in row_M with exactly one element in 'L'\n",
    "        for l_elem, m_elem in zip(L, row_M):\n",
    "            if temp is None:\n",
    "                if m_elem is not None:\n",
    "                    if not l_elem == 0 and not r_elem == 0:\n",
    "                        temp = m_elem.diff(l_elem).diff(r_elem)\n",
    "                    #elif l_elem == 0 and not r_elem == 0:\n",
    "                    #    temp = m_elem.diff(r_elem)\n",
    "                    #elif not l_elem == 0 and r_elem == 0:\n",
    "                    #    temp = m_elem.diff(l_elem)\n",
    "                else:\n",
    "                    pass\n",
    "            else:\n",
    "                if m_elem is not None:\n",
    "                    if not l_elem == 0 and not r_elem == 0:\n",
    "                        temp += m_elem.diff(l_elem).diff(r_elem)\n",
    "                    #elif l_elem == 0 and not r_elem == 0:\n",
    "                    #    temp += m_elem.diff(r_elem)\n",
    "                    #elif not l_elem == 0 and r_elem == 0:\n",
    "                    #    temp += m_elem.diff(l_elem)\n",
    "                    \n",
    "                else:\n",
    "                    pass\n",
    "    return temp\n",
    "\n",
    "def diff_sage(matrix, left_matrix=None, right_matrix=None):\n",
    "    # iterate left matrix by rows and right matrix by columns and call the\n",
    "    # respective diff command of the kernels with the row/cols as params\n",
    "    kernel = MatrixKernel(None)\n",
    "    output_matrix = [[0 for i in range(np.shape(matrix)[1])] for j in range(np.shape(matrix)[0])]\n",
    "    for i, (l, r) in enumerate(itertools.product(left_matrix.rows(), right_matrix.columns())):\n",
    "        res = calc_cell_diff_sage(l, matrix, r, context=kernel)\n",
    "        output_matrix[int(i/np.shape(matrix)[0])][\n",
    "                    int(i % np.shape(matrix)[0])]  = res\n",
    "    kernel.set_matrix(output_matrix)\n",
    "    return output_matrix\n"
   ]
  },
  {
   "cell_type": "code",
   "execution_count": null,
   "id": "01f7f9d0",
   "metadata": {},
   "outputs": [],
   "source": [
    "import pprint\n",
    "L = matrix(2, 2, (x1, x1, 0, x1))\n",
    "R = matrix(2, 2, (x2, 0, x2, x2))\n",
    "x1, x2, l, sigma, l2, sigma2 = var('x1, x2, l, sigma, l2, sigma2')\n",
    "lengthscale = torch.nn.functional.softplus(torch.tensor(float(0.0)))\n",
    "variance = 1\n",
    "lengthscale2 = torch.nn.functional.softplus(torch.tensor(float(0.0)))\n",
    "variance2 = 1\n",
    "SEKernelMatrix = [[sigma^2*exp(-(x1-x2)^2/(2*l^2)), sigma2^2*exp(-(x1-x2)^2/(2*l2^2))], [sigma2^2*exp(-(x1-x2)^2/(2*l2^2)), sigma^2*exp(-(x1-x2)^2/(2*l^2))]]\n",
    "#diffed_SE_sage_matrix_kernel = diff_sage(SEKernelMatrix, left_matrix=L, right_matrix=R)\n",
    "#pprint.pprint(diffed_SE_sage_matrix_kernel)\n",
    "cov_matr = [[None for i in range(len(X)*len(SEKernelMatrix))] for j in range(len(X)*len(SEKernelMatrix))]\n",
    "for i, (v1, v2) in enumerate(product(X, X)):\n",
    "    for row in range(len(SEKernelMatrix)):\n",
    "        for col in range(len(SEKernelMatrix)):\n",
    "            # Blockwise\n",
    "            #cov_matr[int(i/len(X))+row*len(X)][int(i%len(X))+col*len(X)] = SEKernelMatrix[row][col].substitute(x1=int(v1), x2=int(v2), l=float(lengthscale), sigma=variance, l2=float(lengthscale2), sigma2=variance2)\n",
    "            # Interleaved\n",
    "            text=f\"x-pos: {int(((i*len(SEKernelMatrix))+row)/(len(X)*len(SEKernelMatrix)))*2+row}\" +\\\n",
    "            f\" y-pos: {int((i*len(SEKernelMatrix))+col)%(len(X)*len(SEKernelMatrix))}\" + \\\n",
    "            f\" x1, x2: {v1}, {v2}\\n\" +\\\n",
    "            f\"(x1-x2)^2: {(v1-v2)**2}\"+\\\n",
    "            f\" exp((x1-x2)^2): {np.exp((v1-v2)**2)}\\n\"+\\\n",
    "            f\"val: {float(SEKernelMatrix[row][col].substitute(x1=float(v1), x2=float(v2), l=float(lengthscale), sigma=variance, l2=float(lengthscale2), sigma2=variance2))}\"\n",
    "            print(text)\n",
    "            print(\"---\")\n",
    "            cov_matr[int(((i*len(SEKernelMatrix))+row)/(len(X)*len(SEKernelMatrix)))*2+row][int((i*len(SEKernelMatrix))+col)%(len(X)*len(SEKernelMatrix))] = float(SEKernelMatrix[row][col].substitute(x1=float(v1), x2=float(v2), l=float(lengthscale), sigma=variance, l2=float(lengthscale2), sigma2=variance2))\n",
    "cov_matr\n"
   ]
  },
  {
   "cell_type": "code",
   "execution_count": null,
   "id": "bd554171",
   "metadata": {},
   "outputs": [],
   "source": [
    "print(X)\n",
    "print(torch.Tensor(cov_matr).eig())"
   ]
  },
  {
   "cell_type": "code",
   "execution_count": null,
   "id": "d7195921",
   "metadata": {},
   "outputs": [],
   "source": []
  },
  {
   "cell_type": "code",
   "execution_count": null,
   "id": "780479da",
   "metadata": {},
   "outputs": [],
   "source": [
    "exp(-(-2-0.66)^2/(2))"
   ]
  },
  {
   "cell_type": "code",
   "execution_count": null,
   "id": "4b359f6b",
   "metadata": {},
   "outputs": [],
   "source": [
    "\n",
    "kernel = Diff_SE_kernel()\n",
    "kernel2 = Diff_SE_kernel()\n",
    "q, dx1, dx2 = var('q, dx1, dx2')\n",
    "L = matrix(2, 2, (dx1, dx1, 0, dx1))\n",
    "R = matrix(2, 2, (dx2, 0, dx2, dx2))\n",
    "\n",
    "p = DiffMatrixKernel([[kernel, None], [None, kernel2]])\n",
    "covar_module = p.diff(left_matrix=L, right_matrix=R)\n",
    "\n",
    "covar_x = covar_module(X)\n",
    "covar_x.evaluate()"
   ]
  },
  {
   "cell_type": "code",
   "execution_count": null,
   "id": "5c54aecb",
   "metadata": {},
   "outputs": [],
   "source": [
    "matr = [[2, 0, -6*e^(-2), 1, e^(-1/2), -e^(-2)],\n",
    " [0, 2, 0, -e^(-1/2), 1, e^(-1/2)],\n",
    " [-6*e^(-2), 0, 2, -5*e^(-2), -e^(-1/2), 1],\n",
    " [1, e^(-1/2), -e^(-2), 1, 0, -3*e^(-2)],\n",
    " [-e^(-1/2), 1, e^(-1/2), 0, 1, 0],\n",
    " [-5*e^(-2), -e^(-1/2), 1, -3*e^(-2), 0, 1]]\n",
    "\n",
    "matr = [[2, 0, -6*e^(-2), 1, 0, -3*e^(-2)],\n",
    " [0, 2, 0, 0, 1, 0],\n",
    " [-6*e^(-2), 0, 2, -3*e^(-2), 0, 1],\n",
    " [1, 0, -3*e^(-2), 1, 0, -3*e^(-2)],\n",
    " [0, 1, 0, 0, 1, 0],\n",
    " [-3*e^(-2), 0, 1, -3*e^(-2), 0, 1]]\n",
    "\n",
    "matr = torch.Tensor(matr)\n",
    "import pprint\n",
    "pprint.pprint(matr)\n",
    "print(matr[0::3, 0::3])\n",
    "H_x = 3\n",
    "torch.vstack([torch.hstack([matr[k::H_x, l::H_x] for l in range(H_x)]) for k in range(H_x)])"
   ]
  },
  {
   "cell_type": "code",
   "execution_count": null,
   "id": "39fa5cce",
   "metadata": {},
   "outputs": [],
   "source": []
  },
  {
   "cell_type": "code",
   "execution_count": null,
   "id": "b970f6f9",
   "metadata": {},
   "outputs": [],
   "source": [
    "class testobject():\n",
    "    def __init__(self, val):\n",
    "        self.val = val\n",
    "    \n",
    "    def setVal(self, val):\n",
    "        self.val = val\n",
    "        \n",
    "    def printVal(self):\n",
    "        return self.val\n",
    "    \n",
    "    def __call__(self):\n",
    "        return self.val"
   ]
  },
  {
   "cell_type": "code",
   "execution_count": null,
   "id": "1d23c16d",
   "metadata": {},
   "outputs": [],
   "source": [
    "t1 = testobject(42)\n",
    "t2 = testobject(21)\n",
    "t3 = testobject(17)\n",
    "l = [[t1, t2], [t2, t3]]\n",
    "print(l)\n",
    "t2.setVal(170)\n",
    "print(l[0][1].printVal())\n",
    "print(l[1][0].printVal())"
   ]
  },
  {
   "cell_type": "code",
   "execution_count": null,
   "id": "f894c2d7",
   "metadata": {},
   "outputs": [],
   "source": []
  },
  {
   "cell_type": "code",
   "execution_count": null,
   "id": "900df7d9",
   "metadata": {},
   "outputs": [],
   "source": [
    "q, dx1, dx2 = var('q, dx1, dx2')\n",
    "left_poly = dx1\n",
    "right_poly = dx2\n",
    "L = matrix(2, 2, (dx1, 0, 0, dx1))\n",
    "R = matrix(2, 2, (dx2, 0, 0, dx2))"
   ]
  },
  {
   "cell_type": "code",
   "execution_count": null,
   "id": "234faf1f",
   "metadata": {},
   "outputs": [],
   "source": [
    "p.diff(left_matrix=L, right_matrix=R).forward(X, X)"
   ]
  },
  {
   "cell_type": "code",
   "execution_count": null,
   "id": "51a46303",
   "metadata": {},
   "outputs": [],
   "source": []
  },
  {
   "cell_type": "code",
   "execution_count": null,
   "id": "fce7622e",
   "metadata": {},
   "outputs": [],
   "source": [
    "w, q, dx1, dx2 = var('w, q, dx1, dx2')\n",
    "a = dx1^2\n",
    "#a.degree(dx1)\n",
    "a.operands()"
   ]
  },
  {
   "cell_type": "code",
   "execution_count": null,
   "id": "c9a98d09",
   "metadata": {},
   "outputs": [],
   "source": [
    "prod([1,2,3])"
   ]
  },
  {
   "cell_type": "code",
   "execution_count": null,
   "id": "16d88618",
   "metadata": {},
   "outputs": [],
   "source": [
    "a = torch.Tensor([[int(1), int(2), int(3)], [int(4), int(5), int(6)], [int(7), int(8), int(9)]])\n",
    "for i, row in enumerate(a):\n",
    "    for j, elem in enumerate(row[i:]):\n",
    "        print(f\"row: {i}, col: {i+j}\")\n",
    "        print(elem)"
   ]
  },
  {
   "cell_type": "code",
   "execution_count": null,
   "id": "2b30b54d",
   "metadata": {},
   "outputs": [],
   "source": [
    "a, b, c, d = var('a, b, c, d')\n",
    "A = matrix(2,2, (a, b, c, d))\n",
    "B = matrix(2, 2, (dx1, dx1, 0, dx1))\n",
    "C = matrix(2, 2, (dx2, 0, dx2, dx2))\n",
    "print(A)\n",
    "print(B)\n",
    "B*A"
   ]
  },
  {
   "cell_type": "code",
   "execution_count": null,
   "id": "612d1b1d",
   "metadata": {},
   "outputs": [],
   "source": []
  },
  {
   "cell_type": "raw",
   "id": "78a512e0",
   "metadata": {},
   "source": [
    "a, b, c, d, x, y, dx1 = var('a, b, c, d, x, y, dx1')\n",
    "poly = x*x\n",
    "#poly = a*b*dx1**3\n",
    "print(type(poly))\n",
    "#poly = 839840583*x^75\n",
    "print(poly.degree(dx1))\n",
    "print(poly.operands())\n",
    "print([op.is_numeric() for op in poly.operands()])\n",
    "poly.is_polynomial(x)"
   ]
  },
  {
   "cell_type": "code",
   "execution_count": null,
   "id": "ac5ab94e",
   "metadata": {},
   "outputs": [],
   "source": [
    "def big_func(a, b, c):\n",
    "    print(a)\n",
    "    print(b)\n",
    "    return c*4\n",
    "a = lambda x: big_func(1, 2, x)\n",
    "\n",
    "a(42)"
   ]
  },
  {
   "cell_type": "code",
   "execution_count": null,
   "id": "86f6fe9d",
   "metadata": {},
   "outputs": [],
   "source": [
    "from kernels import *\n",
    "k1 = exp_kernel(int(1), int(1))\n",
    "dx1, dx2 = var('dx1, dx2')\n",
    "left = dx1\n",
    "right = dx2\n",
    "k1_d = k1.diff(left, right)\n",
    "print(k1_d)\n",
    "#print(k1_d.derivation_coefficients_list)\n",
    "X = torch.linspace(int(1), int(2), int(2))\n",
    "print(X)\n",
    "\n",
    "k1_d.forward(X)"
   ]
  },
  {
   "cell_type": "code",
   "execution_count": null,
   "id": "1fd0978e",
   "metadata": {},
   "outputs": [],
   "source": [
    "a, b, x = var('a, b, x')\n",
    "\n",
    "x = SR.var(x)\n",
    "expr = (1/b)*x^2\n",
    "#expr\n",
    "#expr.coefficient(x^(expr.degree(x))) == 1\n",
    "#expr = expr.expand()\n",
    "expr.variables()"
   ]
  },
  {
   "cell_type": "code",
   "execution_count": null,
   "id": "9733d46d",
   "metadata": {},
   "outputs": [],
   "source": [
    "#x = var('x')\n",
    "w0 = SR.wild(0)\n",
    "w1 = SR.wild(1)\n",
    "w2 = SR.wild(2)\n",
    "x = SR.var('x')\n",
    "polynomial = SR('-2*x**2-2')\n",
    "x is polynomial.variables()[0]\n",
    "#polynomial\n",
    "polynomial.find(w2*x**w0+w1)"
   ]
  },
  {
   "cell_type": "code",
   "execution_count": null,
   "id": "75657925",
   "metadata": {},
   "outputs": [],
   "source": [
    "import torch\n",
    "torch.mul(torch.tensor(int(3)),torch.tensor(int(3)),torch.tensor(int(3)))"
   ]
  },
  {
   "cell_type": "code",
   "execution_count": null,
   "id": "7d3e2ae7",
   "metadata": {},
   "outputs": [],
   "source": [
    "a, b, c, x = var('a, b, c, x')\n",
    "p = (a*b*c)*x^3\n",
    "print(p)\n",
    "print(p.coefficients(x)[0][0])\n",
    "print(p.coefficients(x)[0][0].is_symbol())\n",
    "\n",
    "#k = lambda f: f**int(2)\n",
    "#type(k)"
   ]
  },
  {
   "cell_type": "code",
   "execution_count": null,
   "id": "3a6e9c9f",
   "metadata": {},
   "outputs": [],
   "source": []
  },
  {
   "cell_type": "code",
   "execution_count": null,
   "id": "492295c2",
   "metadata": {},
   "outputs": [],
   "source": [
    "k = lambda : torch.mul(torch.tensor(int(3)), torch.tensor(int(4)))\n",
    "k()"
   ]
  },
  {
   "cell_type": "code",
   "execution_count": null,
   "id": "8a78525d",
   "metadata": {},
   "outputs": [],
   "source": [
    "a, b, n = var('a, b, n')\n",
    "f = tan(3)\n",
    "print(type(f))\n",
    "f.operator()"
   ]
  },
  {
   "cell_type": "code",
   "execution_count": null,
   "id": "2cbdb1fb",
   "metadata": {},
   "outputs": [],
   "source": [
    "import torch\n",
    "torch_operations = {'mul': torch.mul, 'add': torch.add, \n",
    "                    'pow': torch.pow, 'exp':torch.exp, \n",
    "                    'sin':torch.sin, 'cos':torch.cos, \n",
    "                    'log': torch.log}\n",
    "def extract_operation(operation : str):\n",
    "    # 'log' -> log(a), log(3), ...\n",
    "    # 'sin' -> sin(a), sin(3), ...\n",
    "    # 'exp' ...\n",
    "    # 'cos' ...\n",
    "    if operation in ['log', 'sin', 'exp', 'cos']:\n",
    "        return operation\n",
    "    # Operations are otherwise coded like '<function mul_varargs at 0xbbf31>'\n",
    "    # '<built-in function pow>' -> i.e. 1/a or a^n\n",
    "    elif operation == '<built-in function pow>':\n",
    "        return 'pow'\n",
    "    # '<function mul_vararg at 0x2ae95fb80>' -> a*b, 3/a, b/a etc.\n",
    "    elif 'mul_vararg' in operation:\n",
    "        return 'mul'\n",
    "    # '<function add_vararg at 0x2ae95f9d0>' -> a+b, 4+b, a+1/b\n",
    "    elif 'add_vararg' in operation: \n",
    "        return 'add'\n",
    "\n",
    "def extract_coefficient_recursively(coefficient, context):\n",
    "\n",
    "    # We have a big group of summands/multiplicants (e.g. a+b+c)\n",
    "    if len(coefficient.operands()) > 2:\n",
    "        # Do something with lists and loops\n",
    "        prev_entry = None\n",
    "        for entry in coefficient.operands():\n",
    "            if not entry.is_symbol() or entry.is_numeric() or entry.is_constant():\n",
    "                stuff = extract_coefficient_recursively(entry, context)\n",
    "            if prev_entry is None:\n",
    "                prev_entry = stuff                \n",
    "            elif prev_entry and callable(prev_entry) and not type(prev_entry) in [sage.symbolic.expression.Expression]:\n",
    "                # TODO see if the order of operation is correct this way (but should be actually)\n",
    "                prev_entry = lambda : torch_operations[extract_operation(str(coefficient.operator()))](prev_entry(), stuff)\n",
    "            else: \n",
    "                prev_entry = lambda : torch_operations[extract_operation(str(coefficient.operator()))](prev_entry, stuff)\n",
    "                    \n",
    "    # We have e.g. 3*a or 5/a etc.\n",
    "    elif len(coefficient.operands()) == 2:\n",
    "        left, right = coefficient.operands()\n",
    "        left = extract_coefficient_recursively(left, context)\n",
    "        right = extract_coefficient_recursively(right, context)\n",
    "        coeff = lambda: torch_operations[extract_operation(str(coefficient.operator()))](left, right)\n",
    "        \n",
    "    # coefficient is variable, find the corresponding parameter\n",
    "    elif coefficient.is_symbol():\n",
    "        coeff = getattr(context, str(coefficient))\n",
    "        \n",
    "    # if coefficient is numeric/constant, float() it\n",
    "    else:\n",
    "        coeff = torch.tensor(float(coefficient))\n",
    "        \n",
    "    return coeff"
   ]
  },
  {
   "cell_type": "code",
   "execution_count": null,
   "id": "90b6da12",
   "metadata": {},
   "outputs": [],
   "source": [
    "class ob():\n",
    "    def __init__(self):\n",
    "        self.a = torch.tensor(int(42))\n",
    "\n",
    "a, x = var('a, x')\n",
    "p = 1/a*x^3\n",
    "p = p.expand()\n",
    "print(p)\n",
    "print(p.coefficients(x)[0][0])\n",
    "coefficient = p.coefficients(x)[0][0]\n",
    "context = ob()\n",
    "var_dict = {'a':a, 'x':x}\n",
    "\n",
    "extract_coefficient_recursively(coefficient, context)()\n"
   ]
  },
  {
   "cell_type": "raw",
   "id": "8a953bb3",
   "metadata": {},
   "source": []
  },
  {
   "cell_type": "code",
   "execution_count": null,
   "id": "6ca7d19a",
   "metadata": {},
   "outputs": [],
   "source": []
  }
 ],
 "metadata": {
  "kernelspec": {
   "display_name": "SageMath 9.4",
   "language": "sage",
   "name": "sagemath"
  },
  "language_info": {
   "codemirror_mode": {
    "name": "ipython",
    "version": 3
   },
   "file_extension": ".py",
   "mimetype": "text/x-python",
   "name": "python",
   "nbconvert_exporter": "python",
   "pygments_lexer": "ipython3",
   "version": "3.9.7"
  }
 },
 "nbformat": 4,
 "nbformat_minor": 5
}
