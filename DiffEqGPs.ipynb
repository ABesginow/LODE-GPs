{
 "cells": [
  {
   "cell_type": "code",
   "execution_count": 1,
   "id": "6eaef263",
   "metadata": {},
   "outputs": [],
   "source": [
    "import math\n",
    "import torch\n",
    "import gpytorch\n",
    "from matplotlib import pyplot as plt\n",
    "from kernels import *\n",
    "import pdb\n",
    "import gpytorch\n",
    "from itertools import product\n",
    "\n",
    "%matplotlib inline\n",
    "%load_ext autoreload\n",
    "%autoreload 2"
   ]
  },
  {
   "cell_type": "code",
   "execution_count": 2,
   "id": "779684f0",
   "metadata": {},
   "outputs": [],
   "source": [
    "train_x = torch.linspace(float(0), float(1), int(50))\n",
    "one = torch.sin(train_x * (float(2) * math.pi)) + torch.randn(train_x.size()) * float(0.2)\n",
    "two = torch.cos(train_x * (float(2) * math.pi)) + torch.randn(train_x.size()) * float(0.2)\n",
    "train_y = torch.stack([one, two], int(-1))\n"
   ]
  },
  {
   "cell_type": "code",
   "execution_count": null,
   "id": "361022cb",
   "metadata": {},
   "outputs": [],
   "source": []
  },
  {
   "cell_type": "raw",
   "id": "8734672a",
   "metadata": {},
   "source": []
  },
  {
   "cell_type": "code",
   "execution_count": null,
   "id": "b15ef0d8",
   "metadata": {},
   "outputs": [],
   "source": []
  },
  {
   "cell_type": "raw",
   "id": "de84d184",
   "metadata": {},
   "source": []
  },
  {
   "cell_type": "code",
   "execution_count": 3,
   "id": "9d5dedb4",
   "metadata": {},
   "outputs": [],
   "source": [
    "class MultitaskGPModel(gpytorch.models.ExactGP):\n",
    "    def __init__(self, train_x, train_y, likelihood):\n",
    "        super(MultitaskGPModel, self).__init__(train_x, train_y, likelihood)\n",
    "        self.mean_module = gpytorch.means.MultitaskMean(\n",
    "            gpytorch.means.ZeroMean(), num_tasks=2\n",
    "        )\n",
    "        kernel = Diff_SE_kernel()\n",
    "        kernel2 = Diff_SE_kernel()\n",
    "        q, dx1, dx2 = var('q, dx1, dx2')\n",
    "        # TODO test what happens with \n",
    "        #L = matrix(2, 2, (dx1, q, 0, dx1))\n",
    "        # -> does it learn q as a parameter?\n",
    "        #AND\n",
    "        #L = matrix(2, 2, (q*dx1, q, 0, dx1))\n",
    "        # -> does it learn multiple separate q?\n",
    "        L = matrix(2, 2, (dx1, 0, 0, dx1))\n",
    "        R = matrix(2, 2, (dx2, 0, 0, dx2))\n",
    "        p = DiffMatrixKernel([[kernel, None], [None, kernel2]])\n",
    "        self.covar_module = p.diff(left_matrix=L, right_matrix=R)\n",
    "        #kernel0 = Diff_SE_kernel()\n",
    "        #kernel1 = Diff_SE_kernel()\n",
    "        #kernel2 = Diff_SE_kernel()\n",
    "        #self.covar_module = MatrixKernel([[kernel0, None], [None, kernel2]])\n",
    "\n",
    "    def forward(self, x):\n",
    "        #pdb.set_trace()\n",
    "        mean_x = self.mean_module(x)\n",
    "        covar_x = self.covar_module(x)\n",
    "        #print(f\"{covar_x.detach().evaluate()}\")\n",
    "        return gpytorch.distributions.MultitaskMultivariateNormal(mean_x, covar_x, validate_args=True)\n",
    "\n",
    "\n",
    "likelihood = gpytorch.likelihoods.MultitaskGaussianLikelihood(num_tasks=2)\n",
    "model = MultitaskGPModel(train_x, train_y, likelihood)"
   ]
  },
  {
   "cell_type": "code",
   "execution_count": 4,
   "id": "3f0a9b7f",
   "metadata": {},
   "outputs": [
    {
     "name": "stdout",
     "output_type": "stream",
     "text": [
      "tensor([[1.0000, 0.9994, 0.9975,  ..., 0.0505, 0.0250, 0.0000],\n",
      "        [0.9994, 1.0000, 0.9994,  ..., 0.0764, 0.0505, 0.0250],\n",
      "        [0.9975, 0.9994, 1.0000,  ..., 0.1027, 0.0764, 0.0505],\n",
      "        ...,\n",
      "        [0.0505, 0.0764, 0.1027,  ..., 1.0000, 0.9994, 0.9975],\n",
      "        [0.0250, 0.0505, 0.0764,  ..., 0.9994, 1.0000, 0.9994],\n",
      "        [0.0000, 0.0250, 0.0505,  ..., 0.9975, 0.9994, 1.0000]],\n",
      "       grad_fn=<CatBackward>)\n",
      "tensor([[1.3580, 1.3570, 1.3538,  ..., 0.1219, 0.1035, 0.0854],\n",
      "        [1.3570, 1.3580, 1.3570,  ..., 0.1404, 0.1219, 0.1035],\n",
      "        [1.3538, 1.3570, 1.3580,  ..., 0.1590, 0.1404, 0.1219],\n",
      "        ...,\n",
      "        [0.1219, 0.1404, 0.1590,  ..., 1.3580, 1.3570, 1.3538],\n",
      "        [0.1035, 0.1219, 0.1404,  ..., 1.3570, 1.3580, 1.3570],\n",
      "        [0.0854, 0.1035, 0.1219,  ..., 1.3538, 1.3570, 1.3580]],\n",
      "       grad_fn=<CatBackward>)\n",
      "tensor([[1.6594, 1.6579, 1.6534,  ..., 0.1416, 0.1270, 0.1124],\n",
      "        [1.6579, 1.6594, 1.6579,  ..., 0.1563, 0.1416, 0.1270],\n",
      "        [1.6534, 1.6579, 1.6594,  ..., 0.1711, 0.1563, 0.1416],\n",
      "        ...,\n",
      "        [0.1416, 0.1563, 0.1711,  ..., 1.7879, 1.7862, 1.7811],\n",
      "        [0.1270, 0.1416, 0.1563,  ..., 1.7862, 1.7879, 1.7862],\n",
      "        [0.1124, 0.1270, 0.1416,  ..., 1.7811, 1.7862, 1.7879]],\n",
      "       grad_fn=<CatBackward>)\n",
      "tensor([[1.9291, 1.9271, 1.9212,  ..., 0.1472, 0.1350, 0.1228],\n",
      "        [1.9271, 1.9291, 1.9271,  ..., 0.1595, 0.1472, 0.1350],\n",
      "        [1.9212, 1.9271, 1.9291,  ..., 0.1718, 0.1595, 0.1472],\n",
      "        ...,\n",
      "        [0.1472, 0.1595, 0.1718,  ..., 2.3877, 2.3849, 2.3765],\n",
      "        [0.1350, 0.1472, 0.1595,  ..., 2.3849, 2.3877, 2.3849],\n",
      "        [0.1228, 0.1350, 0.1472,  ..., 2.3765, 2.3849, 2.3877]],\n",
      "       grad_fn=<CatBackward>)\n",
      "tensor([[2.1783, 2.1758, 2.1684,  ..., 0.1474, 0.1368, 0.1263],\n",
      "        [2.1758, 2.1783, 2.1758,  ..., 0.1580, 0.1474, 0.1368],\n",
      "        [2.1684, 2.1758, 2.1783,  ..., 0.1685, 0.1580, 0.1474],\n",
      "        ...,\n",
      "        [0.1474, 0.1580, 0.1685,  ..., 3.2398, 3.2350, 3.2204],\n",
      "        [0.1368, 0.1474, 0.1580,  ..., 3.2350, 3.2398, 3.2350],\n",
      "        [0.1263, 0.1368, 0.1474,  ..., 3.2204, 3.2350, 3.2398]],\n",
      "       grad_fn=<CatBackward>)\n",
      "tensor([[2.4224, 2.4193, 2.4102,  ..., 0.1454, 0.1361, 0.1268],\n",
      "        [2.4193, 2.4224, 2.4193,  ..., 0.1547, 0.1454, 0.1361],\n",
      "        [2.4102, 2.4193, 2.4224,  ..., 0.1640, 0.1547, 0.1454],\n",
      "        ...,\n",
      "        [0.1454, 0.1547, 0.1640,  ..., 4.3855, 4.3770, 4.3515],\n",
      "        [0.1361, 0.1454, 0.1547,  ..., 4.3770, 4.3855, 4.3770],\n",
      "        [0.1268, 0.1361, 0.1454,  ..., 4.3515, 4.3770, 4.3855]],\n",
      "       grad_fn=<CatBackward>)\n",
      "tensor([[2.6860, 2.6823, 2.6710,  ..., 0.1425, 0.1342, 0.1258],\n",
      "        [2.6823, 2.6860, 2.6823,  ..., 0.1508, 0.1425, 0.1342],\n",
      "        [2.6710, 2.6823, 2.6860,  ..., 0.1592, 0.1508, 0.1425],\n",
      "        ...,\n",
      "        [0.1425, 0.1508, 0.1592,  ..., 5.7233, 5.7092, 5.6670],\n",
      "        [0.1342, 0.1425, 0.1508,  ..., 5.7092, 5.7233, 5.7092],\n",
      "        [0.1258, 0.1342, 0.1425,  ..., 5.6670, 5.7092, 5.7233]],\n",
      "       grad_fn=<CatBackward>)\n",
      "tensor([[3.0040, 2.9993, 2.9850,  ..., 0.1394, 0.1318, 0.1241],\n",
      "        [2.9993, 3.0040, 2.9993,  ..., 0.1469, 0.1394, 0.1318],\n",
      "        [2.9850, 2.9993, 3.0040,  ..., 0.1545, 0.1469, 0.1394],\n",
      "        ...,\n",
      "        [0.1394, 0.1469, 0.1545,  ..., 6.9074, 6.8871, 6.8263],\n",
      "        [0.1318, 0.1394, 0.1469,  ..., 6.8871, 6.9074, 6.8871],\n",
      "        [0.1241, 0.1318, 0.1394,  ..., 6.8263, 6.8871, 6.9074]],\n",
      "       grad_fn=<CatBackward>)\n",
      "tensor([[3.4161, 3.4099, 3.3912,  ..., 0.1362, 0.1292, 0.1222],\n",
      "        [3.4099, 3.4161, 3.4099,  ..., 0.1432, 0.1362, 0.1292],\n",
      "        [3.3912, 3.4099, 3.4161,  ..., 0.1502, 0.1432, 0.1362],\n",
      "        ...,\n",
      "        [0.1362, 0.1432, 0.1502,  ..., 7.4532, 7.4294, 7.3582],\n",
      "        [0.1292, 0.1362, 0.1432,  ..., 7.4294, 7.4532, 7.4294],\n",
      "        [0.1222, 0.1292, 0.1362,  ..., 7.3582, 7.4294, 7.4532]],\n",
      "       grad_fn=<CatBackward>)\n",
      "tensor([[3.9421, 3.9336, 3.9083,  ..., 0.1332, 0.1267, 0.1202],\n",
      "        [3.9336, 3.9421, 3.9336,  ..., 0.1397, 0.1332, 0.1267],\n",
      "        [3.9083, 3.9336, 3.9421,  ..., 0.1462, 0.1397, 0.1332],\n",
      "        ...,\n",
      "        [0.1332, 0.1397, 0.1462,  ..., 7.1970, 7.1744, 7.1069],\n",
      "        [0.1267, 0.1332, 0.1397,  ..., 7.1744, 7.1970, 7.1744],\n",
      "        [0.1202, 0.1267, 0.1332,  ..., 7.1069, 7.1744, 7.1970]],\n",
      "       grad_fn=<CatBackward>)\n",
      "tensor([[4.5160, 4.5046, 4.4705,  ..., 0.1305, 0.1244, 0.1183],\n",
      "        [4.5046, 4.5160, 4.5046,  ..., 0.1366, 0.1305, 0.1244],\n",
      "        [4.4705, 4.5046, 4.5160,  ..., 0.1426, 0.1366, 0.1305],\n",
      "        ...,\n",
      "        [0.1305, 0.1366, 0.1426,  ..., 6.4101, 6.3917, 6.3367],\n",
      "        [0.1244, 0.1305, 0.1366,  ..., 6.3917, 6.4101, 6.3917],\n",
      "        [0.1183, 0.1244, 0.1305,  ..., 6.3367, 6.3917, 6.4101]],\n",
      "       grad_fn=<CatBackward>)\n",
      "tensor([[4.9168, 4.9028, 4.8610,  ..., 0.1280, 0.1222, 0.1164],\n",
      "        [4.9028, 4.9168, 4.9028,  ..., 0.1337, 0.1280, 0.1222],\n",
      "        [4.8610, 4.9028, 4.9168,  ..., 0.1394, 0.1337, 0.1280],\n",
      "        ...,\n",
      "        [0.1280, 0.1337, 0.1394,  ..., 5.4555, 5.4417, 5.4004],\n",
      "        [0.1222, 0.1280, 0.1337,  ..., 5.4417, 5.4555, 5.4417],\n",
      "        [0.1164, 0.1222, 0.1280,  ..., 5.4004, 5.4417, 5.4555]],\n",
      "       grad_fn=<CatBackward>)\n",
      "tensor([[4.9052, 4.8906, 4.8470,  ..., 0.1257, 0.1202, 0.1147],\n",
      "        [4.8906, 4.9052, 4.8906,  ..., 0.1312, 0.1257, 0.1202],\n",
      "        [4.8470, 4.8906, 4.9052,  ..., 0.1366, 0.1312, 0.1257],\n",
      "        ...,\n",
      "        [0.1257, 0.1312, 0.1366,  ..., 4.5665, 4.5564, 4.5262],\n",
      "        [0.1202, 0.1257, 0.1312,  ..., 4.5564, 4.5665, 4.5564],\n",
      "        [0.1147, 0.1202, 0.1257,  ..., 4.5262, 4.5564, 4.5665]],\n",
      "       grad_fn=<CatBackward>)\n",
      "tensor([[4.4836, 4.4707, 4.4321,  ..., 0.1237, 0.1185, 0.1132],\n",
      "        [4.4707, 4.4836, 4.4707,  ..., 0.1289, 0.1237, 0.1185],\n",
      "        [4.4321, 4.4707, 4.4836,  ..., 0.1341, 0.1289, 0.1237],\n",
      "        ...,\n",
      "        [0.1237, 0.1289, 0.1341,  ..., 3.8375, 3.8300, 3.8077],\n",
      "        [0.1185, 0.1237, 0.1289,  ..., 3.8300, 3.8375, 3.8300],\n",
      "        [0.1132, 0.1185, 0.1237,  ..., 3.8077, 3.8300, 3.8375]],\n",
      "       grad_fn=<CatBackward>)\n",
      "tensor([[3.8560, 3.8457, 3.8152,  ..., 0.1220, 0.1169, 0.1119],\n",
      "        [3.8457, 3.8560, 3.8457,  ..., 0.1270, 0.1220, 0.1169],\n",
      "        [3.8152, 3.8457, 3.8560,  ..., 0.1320, 0.1270, 0.1220],\n",
      "        ...,\n",
      "        [0.1220, 0.1270, 0.1320,  ..., 3.2863, 3.2805, 3.2633],\n",
      "        [0.1169, 0.1220, 0.1270,  ..., 3.2805, 3.2863, 3.2805],\n",
      "        [0.1119, 0.1169, 0.1220,  ..., 3.2633, 3.2805, 3.2863]],\n",
      "       grad_fn=<CatBackward>)\n",
      "tensor([[3.2325, 3.2247, 3.2015,  ..., 0.1205, 0.1156, 0.1107],\n",
      "        [3.2247, 3.2325, 3.2247,  ..., 0.1253, 0.1205, 0.1156],\n",
      "        [3.2015, 3.2247, 3.2325,  ..., 0.1301, 0.1253, 0.1205],\n",
      "        ...,\n",
      "        [0.1205, 0.1253, 0.1301,  ..., 2.9016, 2.8969, 2.8827],\n",
      "        [0.1156, 0.1205, 0.1253,  ..., 2.8969, 2.9016, 2.8969],\n",
      "        [0.1107, 0.1156, 0.1205,  ..., 2.8827, 2.8969, 2.9016]],\n",
      "       grad_fn=<CatBackward>)\n",
      "tensor([[2.7403, 2.7342, 2.7159,  ..., 0.1192, 0.1145, 0.1097],\n",
      "        [2.7342, 2.7403, 2.7342,  ..., 0.1239, 0.1192, 0.1145],\n",
      "        [2.7159, 2.7342, 2.7403,  ..., 0.1285, 0.1239, 0.1192],\n",
      "        ...,\n",
      "        [0.1192, 0.1239, 0.1285,  ..., 2.6651, 2.6609, 2.6484],\n",
      "        [0.1145, 0.1192, 0.1239,  ..., 2.6609, 2.6651, 2.6609],\n",
      "        [0.1097, 0.1145, 0.1192,  ..., 2.6484, 2.6609, 2.6651]],\n",
      "       grad_fn=<CatBackward>)\n",
      "tensor([[2.4221, 2.4168, 2.4011,  ..., 0.1181, 0.1135, 0.1089],\n",
      "        [2.4168, 2.4221, 2.4168,  ..., 0.1227, 0.1181, 0.1135],\n",
      "        [2.4011, 2.4168, 2.4221,  ..., 0.1272, 0.1227, 0.1181],\n",
      "        ...,\n",
      "        [0.1181, 0.1227, 0.1272,  ..., 2.5590, 2.5550, 2.5429],\n",
      "        [0.1135, 0.1181, 0.1227,  ..., 2.5550, 2.5590, 2.5550],\n",
      "        [0.1089, 0.1135, 0.1181,  ..., 2.5429, 2.5550, 2.5590]],\n",
      "       grad_fn=<CatBackward>)\n",
      "tensor([[2.2621, 2.2570, 2.2418,  ..., 0.1172, 0.1127, 0.1082],\n",
      "        [2.2570, 2.2621, 2.2570,  ..., 0.1217, 0.1172, 0.1127],\n",
      "        [2.2418, 2.2570, 2.2621,  ..., 0.1261, 0.1217, 0.1172],\n",
      "        ...,\n",
      "        [0.1172, 0.1217, 0.1261,  ..., 2.5681, 2.5639, 2.5512],\n",
      "        [0.1127, 0.1172, 0.1217,  ..., 2.5639, 2.5681, 2.5639],\n",
      "        [0.1082, 0.1127, 0.1172,  ..., 2.5512, 2.5639, 2.5681]],\n",
      "       grad_fn=<CatBackward>)\n",
      "tensor([[2.2168, 2.2113, 2.1950,  ..., 0.1166, 0.1122, 0.1078],\n",
      "        [2.2113, 2.2168, 2.2113,  ..., 0.1209, 0.1166, 0.1122],\n",
      "        [2.1950, 2.2113, 2.2168,  ..., 0.1253, 0.1209, 0.1166],\n",
      "        ...,\n",
      "        [0.1166, 0.1209, 0.1253,  ..., 2.6799, 2.6751, 2.6608],\n",
      "        [0.1122, 0.1166, 0.1209,  ..., 2.6751, 2.6799, 2.6751],\n",
      "        [0.1078, 0.1122, 0.1166,  ..., 2.6608, 2.6751, 2.6799]],\n",
      "       grad_fn=<CatBackward>)\n"
     ]
    }
   ],
   "source": [
    "# this is for running the notebook in our testing framework\n",
    "import os\n",
    "smoke_test = ('CI' in os.environ)\n",
    "training_iter = int(2) if smoke_test else int(20)\n",
    "\n",
    "\n",
    "# Find optimal model hyperparameters\n",
    "model.train()\n",
    "likelihood.train()\n",
    "\n",
    "# Use the adam optimizer\n",
    "optimizer = torch.optim.Adam(model.parameters(), lr=float(0.1))  # Includes GaussianLikelihood parameters\n",
    "\n",
    "# \"Loss\" for GPs - the marginal log likelihood\n",
    "mll = gpytorch.mlls.ExactMarginalLogLikelihood(likelihood, model)\n",
    "\n",
    "for i in range(training_iter):\n",
    "    # Zero gradients from previous iteration\n",
    "    optimizer.zero_grad()\n",
    "    # Output from model\n",
    "    output = model(train_x)\n",
    "    # Calc loss and backprop gradients\n",
    "    loss = -mll(output, train_y)\n",
    "    loss.backward()\n",
    "    #print('Iter %d/%d - Loss: %.3f   lengthscale: %.3f  variance: %.3f noise: %.3f' % (\n",
    "    #    i + 1, training_iter, loss.item(),\n",
    "    #    model.covar_module.length.item(),\n",
    "    #    model.covar_module.var.item(),\n",
    "    #    model.likelihood.noise.item()\n",
    "    #))\n",
    "    optimizer.step()"
   ]
  },
  {
   "cell_type": "raw",
   "id": "75730997",
   "metadata": {},
   "source": [
    "model.named_parameters()"
   ]
  },
  {
   "cell_type": "code",
   "execution_count": 5,
   "id": "7d1b8824",
   "metadata": {
    "scrolled": true
   },
   "outputs": [
    {
     "name": "stdout",
     "output_type": "stream",
     "text": [
      "('likelihood.raw_task_noises', Parameter containing:\n",
      "tensor([-2.0393, -2.0372], requires_grad=True))\n",
      "('likelihood.raw_noise', Parameter containing:\n",
      "tensor([-2.0390], requires_grad=True))\n",
      "('covar_module.kernel_00.kernels.0.var', Parameter containing:\n",
      "tensor(0.4973, requires_grad=True))\n",
      "('covar_module.kernel_00.kernels.0.length', Parameter containing:\n",
      "tensor(0.4734, requires_grad=True))\n",
      "('covar_module.kernel_00.kernels.1.var', Parameter containing:\n",
      "tensor(1., requires_grad=True))\n",
      "('covar_module.kernel_00.kernels.1.length', Parameter containing:\n",
      "tensor(1., requires_grad=True))\n",
      "('covar_module.kernel_00.kernels.2.var', Parameter containing:\n",
      "tensor(1., requires_grad=True))\n",
      "('covar_module.kernel_00.kernels.2.length', Parameter containing:\n",
      "tensor(1., requires_grad=True))\n",
      "('covar_module.kernel_00.kernels.3.var', Parameter containing:\n",
      "tensor(1., requires_grad=True))\n",
      "('covar_module.kernel_00.kernels.3.length', Parameter containing:\n",
      "tensor(1., requires_grad=True))\n",
      "('covar_module.kernel_01.kernels.0.var', Parameter containing:\n",
      "tensor(1., requires_grad=True))\n",
      "('covar_module.kernel_01.kernels.0.length', Parameter containing:\n",
      "tensor(1., requires_grad=True))\n",
      "('covar_module.kernel_01.kernels.1.var', Parameter containing:\n",
      "tensor(1., requires_grad=True))\n",
      "('covar_module.kernel_01.kernels.1.length', Parameter containing:\n",
      "tensor(1., requires_grad=True))\n",
      "('covar_module.kernel_01.kernels.2.var', Parameter containing:\n",
      "tensor(0.5438, requires_grad=True))\n",
      "('covar_module.kernel_01.kernels.2.length', Parameter containing:\n",
      "tensor(1.5130, requires_grad=True))\n",
      "('covar_module.kernel_01.kernels.3.var', Parameter containing:\n",
      "tensor(1., requires_grad=True))\n",
      "('covar_module.kernel_01.kernels.3.length', Parameter containing:\n",
      "tensor(1., requires_grad=True))\n",
      "('covar_module.kernel_10.kernels.0.var', Parameter containing:\n",
      "tensor(1., requires_grad=True))\n",
      "('covar_module.kernel_10.kernels.0.length', Parameter containing:\n",
      "tensor(1., requires_grad=True))\n",
      "('covar_module.kernel_10.kernels.1.var', Parameter containing:\n",
      "tensor(0.5438, requires_grad=True))\n",
      "('covar_module.kernel_10.kernels.1.length', Parameter containing:\n",
      "tensor(1.5130, requires_grad=True))\n",
      "('covar_module.kernel_10.kernels.2.var', Parameter containing:\n",
      "tensor(1., requires_grad=True))\n",
      "('covar_module.kernel_10.kernels.2.length', Parameter containing:\n",
      "tensor(1., requires_grad=True))\n",
      "('covar_module.kernel_10.kernels.3.var', Parameter containing:\n",
      "tensor(1., requires_grad=True))\n",
      "('covar_module.kernel_10.kernels.3.length', Parameter containing:\n",
      "tensor(1., requires_grad=True))\n",
      "('covar_module.kernel_11.kernels.0.var', Parameter containing:\n",
      "tensor(1., requires_grad=True))\n",
      "('covar_module.kernel_11.kernels.0.length', Parameter containing:\n",
      "tensor(1., requires_grad=True))\n",
      "('covar_module.kernel_11.kernels.1.var', Parameter containing:\n",
      "tensor(1., requires_grad=True))\n",
      "('covar_module.kernel_11.kernels.1.length', Parameter containing:\n",
      "tensor(1., requires_grad=True))\n",
      "('covar_module.kernel_11.kernels.2.var', Parameter containing:\n",
      "tensor(1., requires_grad=True))\n",
      "('covar_module.kernel_11.kernels.2.length', Parameter containing:\n",
      "tensor(1., requires_grad=True))\n",
      "('covar_module.kernel_11.kernels.3.var', Parameter containing:\n",
      "tensor(0.9037, requires_grad=True))\n",
      "('covar_module.kernel_11.kernels.3.length', Parameter containing:\n",
      "tensor(0.5598, requires_grad=True))\n"
     ]
    }
   ],
   "source": [
    "for parameter in model.named_parameters():\n",
    "    print(parameter)"
   ]
  },
  {
   "cell_type": "code",
   "execution_count": 6,
   "id": "8dd409d7",
   "metadata": {},
   "outputs": [
    {
     "data": {
      "text/plain": [
       "(1, 2)"
      ]
     },
     "execution_count": 6,
     "metadata": {},
     "output_type": "execute_result"
    }
   ],
   "source": [
    "tuple([1,2])"
   ]
  },
  {
   "cell_type": "code",
   "execution_count": 7,
   "id": "f0c869eb",
   "metadata": {
    "scrolled": false
   },
   "outputs": [
    {
     "name": "stdout",
     "output_type": "stream",
     "text": [
      "tensor([[2.2185, 2.2123, 2.1938,  ..., 0.1162, 0.1119, 0.1075],\n",
      "        [2.2123, 2.2185, 2.2123,  ..., 0.1205, 0.1162, 0.1119],\n",
      "        [2.1938, 2.2123, 2.2185,  ..., 0.1248, 0.1205, 0.1162],\n",
      "        ...,\n",
      "        [0.1162, 0.1205, 0.1248,  ..., 2.8833, 2.8776, 2.8604],\n",
      "        [0.1119, 0.1162, 0.1205,  ..., 2.8776, 2.8833, 2.8776],\n",
      "        [0.1075, 0.1119, 0.1162,  ..., 2.8604, 2.8776, 2.8833]])\n",
      "tensor([[ 2.2185,  2.2123,  2.1938,  ..., -0.0646, -0.0695, -0.0741],\n",
      "        [ 2.2123,  2.2185,  2.2123,  ..., -0.0620, -0.0671, -0.0719],\n",
      "        [ 2.1938,  2.2123,  2.2185,  ..., -0.0594, -0.0646, -0.0695],\n",
      "        ...,\n",
      "        [-0.0646, -0.0620, -0.0594,  ...,  2.8833,  2.8604,  2.7922],\n",
      "        [-0.0695, -0.0671, -0.0646,  ...,  2.8604,  2.8833,  2.8604],\n",
      "        [-0.0741, -0.0719, -0.0695,  ...,  2.7922,  2.8604,  2.8833]])\n"
     ]
    }
   ],
   "source": [
    "# Set into eval mode\n",
    "model.eval()\n",
    "likelihood.eval()\n",
    "\n",
    "# Initialize plots\n",
    "\n",
    "number_of_samples = int(50)\n",
    "# Make predictions\n",
    "with torch.no_grad():#, gpytorch.settings.fast_pred_var():\n",
    "    test_x = torch.linspace(float(0), float(2), number_of_samples)\n",
    "    #pdb.set_trace()\n",
    "    outputs = model(test_x)\n",
    "    predictions = likelihood(outputs)\n",
    "    \n",
    "    mean = predictions.mean\n",
    "    lower, upper = predictions.confidence_region()\n",
    "#print(mean)\n",
    "#print(lower)\n",
    "#print(upper)\n",
    "# This contains predictions for both tasks, flattened out\n",
    "# The first half of the predictions is for the first task\n",
    "# The second half is for the second task\n",
    "\n",
    "#dims = int(2)\n",
    "#indices = [list(range(i, len(train_y), dims)) for i in range(dims)]\n"
   ]
  },
  {
   "cell_type": "raw",
   "id": "49b79859",
   "metadata": {},
   "source": []
  },
  {
   "cell_type": "code",
   "execution_count": null,
   "id": "ad4df72d",
   "metadata": {},
   "outputs": [],
   "source": []
  },
  {
   "cell_type": "code",
   "execution_count": 8,
   "id": "f0a03a44",
   "metadata": {},
   "outputs": [
    {
     "data": {
      "text/plain": [
       "Text(0.5, 1.0, 'Observed Values (Likelihood)')"
      ]
     },
     "execution_count": 8,
     "metadata": {},
     "output_type": "execute_result"
    },
    {
     "data": {
      "image/png": "[encoded data removed]",
      "text/plain": [
       "<Figure size 576x216 with 2 Axes>"
      ]
     },
     "metadata": {
      "needs_background": "light"
     },
     "output_type": "display_data"
    }
   ],
   "source": [
    "f, (y1_ax, y2_ax) = plt.subplots(int(1), int(2), figsize=(int(8), int(3)))\n",
    "\n",
    "# Plot training data as black stars\n",
    "y1_ax.plot(train_x.detach().numpy(), train_y[:, 0].detach().numpy(), 'k*')\n",
    "# Predictive mean as blue line\n",
    "y1_ax.plot(test_x.numpy(), mean[:, 0].numpy(), 'b')\n",
    "# Shade in confidence\n",
    "y1_ax.fill_between(test_x.numpy(), lower[:, 0].numpy(), upper[:, 0].numpy(), alpha=0.5)\n",
    "y1_ax.set_ylim([-3, 8])\n",
    "y1_ax.legend(['Observed Data', 'Mean', 'Confidence'])\n",
    "y1_ax.set_title('Observed Values (Likelihood)')\n",
    "\n",
    "# Plot training data as black stars\n",
    "y2_ax.plot(train_x.detach().numpy(), train_y[:, 1].detach().numpy(), 'k*')\n",
    "# Predictive mean as blue line\n",
    "y2_ax.plot(test_x.numpy(), mean[:, 1].numpy(), 'b')\n",
    "# Shade in confidence\n",
    "y2_ax.fill_between(test_x.numpy(), lower[:, 1].numpy(), upper[:, 1].numpy(), alpha=0.5)\n",
    "y2_ax.set_ylim([-3, 8])\n",
    "y2_ax.legend(['Observed Data', 'Mean', 'Confidence'])\n",
    "y2_ax.set_title('Observed Values (Likelihood)')\n"
   ]
  },
  {
   "cell_type": "code",
   "execution_count": null,
   "id": "822f0426",
   "metadata": {},
   "outputs": [],
   "source": []
  },
  {
   "cell_type": "markdown",
   "id": "bf73a6c3",
   "metadata": {},
   "source": [
    "# Test Diffable SE Kernel"
   ]
  },
  {
   "cell_type": "code",
   "execution_count": 9,
   "id": "b432934f",
   "metadata": {},
   "outputs": [
    {
     "data": {
      "text/plain": [
       "tensor([1, 2, 3])"
      ]
     },
     "execution_count": 9,
     "metadata": {},
     "output_type": "execute_result"
    }
   ],
   "source": [
    "X = torch.tensor([int(1), int(2), int(3)])\n",
    "X"
   ]
  },
  {
   "cell_type": "code",
   "execution_count": null,
   "id": "ae01ece4",
   "metadata": {},
   "outputs": [],
   "source": []
  },
  {
   "cell_type": "code",
   "execution_count": 10,
   "id": "d46856bd",
   "metadata": {
    "scrolled": true
   },
   "outputs": [
    {
     "data": {
      "text/plain": [
       "[[1, 0, -3*e^(-2)], [0, 1, 0], [-3*e^(-2), 0, 1]]"
      ]
     },
     "execution_count": 10,
     "metadata": {},
     "output_type": "execute_result"
    }
   ],
   "source": [
    "x1, x2, l, sigma = var('x1, x2, l, sigma')\n",
    "lengthscale = 1\n",
    "variance = 1\n",
    "SE(x1, x2, l, sigma) = sigma^2*exp(-(x1-x2)^2/(2*l^2))\n",
    "cov_matr = [[None for i in range(len(X))] for j in range(len(X))]\n",
    "for i, (v1, v2) in enumerate(product(X, X)):\n",
    "    cov_matr[int(i/len(X))][int(i%len(X))] = SE.diff(x2).diff(x1)(int(v1), int(v2), lengthscale, variance)\n",
    "cov_matr"
   ]
  },
  {
   "cell_type": "code",
   "execution_count": 11,
   "id": "55bee06a",
   "metadata": {},
   "outputs": [
    {
     "data": {
      "text/plain": [
       "[sigma^2, e^(-1/2*(x1 - x2)^2/l^2)]"
      ]
     },
     "execution_count": 11,
     "metadata": {},
     "output_type": "execute_result"
    }
   ],
   "source": [
    "SE.operands()"
   ]
  },
  {
   "cell_type": "code",
   "execution_count": 12,
   "id": "ea4620c2",
   "metadata": {},
   "outputs": [
    {
     "data": {
      "text/plain": [
       "tensor([[ 1.0000,  0.0000, -0.4060],\n",
       "        [ 0.0000,  1.0000,  0.0000],\n",
       "        [-0.4060,  0.0000,  1.0000]], grad_fn=<MulBackward0>)"
      ]
     },
     "execution_count": 12,
     "metadata": {},
     "output_type": "execute_result"
    }
   ],
   "source": [
    "a = Diff_SE_kernel(var=int(variance), length=int(lengthscale))\n",
    "q, dx1, dx2 = var('q, dx1, dx2')\n",
    "left_poly = dx2\n",
    "right_poly = dx1\n",
    "diffed_kernel = a.diff(left_poly=left_poly, right_poly=right_poly, left_d_var=var('dx2'), right_d_var=var('dx1'))\n",
    "diffed_kernel(X).evaluate()"
   ]
  },
  {
   "cell_type": "code",
   "execution_count": 13,
   "id": "724a1d2b",
   "metadata": {},
   "outputs": [],
   "source": [
    "def calc_cell_diff(L, M, R, row, col):\n",
    "    len_M = M.number_of_arguments()\n",
    "    temp = None\n",
    "    for j in range(int(sqrt(len_M))):\n",
    "        if temp == None:\n",
    "            import itertools\n",
    "            #M_tr = list(map(list, itertools.zip_longest(*M, fillvalue=None)))\n",
    "            #[M_tr[j].diff(left_poly=L[row][k], right_poly=R.transpose()[col][j]) for k in range(L.number_of_arguments())]\n",
    "            temp = L[row]*M.transpose()[j]*R.transpose()[col][j]\n",
    "        else:\n",
    "            temp += L[row]*M.transpose()[j]*R.transpose()[col][j]\n",
    "    return temp"
   ]
  },
  {
   "cell_type": "code",
   "execution_count": 14,
   "id": "2732ed50",
   "metadata": {
    "scrolled": false
   },
   "outputs": [
    {
     "name": "stdout",
     "output_type": "stream",
     "text": [
      "[l_11 l_12]\n",
      "[l_21 l_22]\n",
      "[m_11 m_12]\n",
      "[m_21 m_22]\n",
      "[r_11 r_12]\n",
      "[r_21 r_22]\n",
      "(l_21*m_11 + l_22*m_21)*r_11 + (l_21*m_12 + l_22*m_22)*r_21\n"
     ]
    },
    {
     "data": {
      "text/plain": [
       "(l_21*m_11 + l_22*m_21)*r_11 + (l_21*m_12 + l_22*m_22)*r_21"
      ]
     },
     "execution_count": 14,
     "metadata": {},
     "output_type": "execute_result"
    }
   ],
   "source": [
    "dimension = 2\n",
    "length = dimension*dimension +1\n",
    "L_list = [var(f'l_{i}{j}') for i in range(1, dimension+1) for j in range(1, dimension+1)]\n",
    "M_list = [var(f'm_{i}{j}') for i in range(1, dimension+1) for j in range(1, dimension+1)]\n",
    "R_list = [var(f'r_{i}{j}') for i in range(1, dimension+1) for j in range(1, dimension+1)]\n",
    "L = matrix(dimension, dimension, L_list)\n",
    "M = matrix(dimension, dimension, M_list)\n",
    "R = matrix(dimension, dimension, R_list)\n",
    "print(L)\n",
    "print(M)\n",
    "print(R)\n",
    "row = 1\n",
    "col = 0\n",
    "print((L*M*R)[row][col])\n",
    "\n",
    "calc_cell_diff(L, M, R, row, col)"
   ]
  },
  {
   "cell_type": "code",
   "execution_count": 15,
   "id": "aadece30",
   "metadata": {},
   "outputs": [
    {
     "name": "stdout",
     "output_type": "stream",
     "text": [
      "((l_11, l_12), (r_11, r_21))\n",
      "((l_11, l_12), (r_12, r_22))\n",
      "((l_21, l_22), (r_11, r_21))\n",
      "((l_21, l_22), (r_12, r_22))\n"
     ]
    }
   ],
   "source": [
    "from itertools import product\n",
    "for p in product(L.rows(),R.columns()):\n",
    "    print(p)"
   ]
  },
  {
   "cell_type": "code",
   "execution_count": 16,
   "id": "cc793e90",
   "metadata": {},
   "outputs": [
    {
     "data": {
      "text/plain": [
       "(x1, x2, sigma, l) |--> [sigma^2*e^(-1/2*(x1 - x2)^2/l^2)                                0]\n",
       "[                               0 sigma^2*e^(-1/2*(x1 - x2)^2/l^2)]"
      ]
     },
     "execution_count": 16,
     "metadata": {},
     "output_type": "execute_result"
    }
   ],
   "source": [
    "MSE(x1, x2, sigma, l) = matrix(2,2, (sigma^2*exp(-(x1-x2)^2/(2*l^2)), 0, 0, sigma^2*exp(-(x1-x2)^2/(2*l^2))))\n",
    "dx1 = matrix(2,2,(dx1, 0, 0, dx1))\n",
    "MSE"
   ]
  },
  {
   "cell_type": "code",
   "execution_count": 17,
   "id": "9be396a7",
   "metadata": {},
   "outputs": [],
   "source": [
    "kernel = Diff_SE_kernel()\n",
    "kernel2 = Diff_SE_kernel()\n",
    "\n",
    "p = DiffMatrixKernel([[kernel, None], [None, kernel2]])"
   ]
  },
  {
   "cell_type": "code",
   "execution_count": 18,
   "id": "7111b5e3",
   "metadata": {},
   "outputs": [],
   "source": [
    "q, dx1, dx2 = var('q, dx1, dx2')\n",
    "left_poly = dx1\n",
    "right_poly = dx2\n",
    "L = matrix(2, 2, (dx1, 0, 0, dx1))\n",
    "R = matrix(2, 2, (dx2, 0, 0, dx2))"
   ]
  },
  {
   "cell_type": "code",
   "execution_count": 19,
   "id": "47041a65",
   "metadata": {},
   "outputs": [
    {
     "name": "stdout",
     "output_type": "stream",
     "text": [
      "tensor([[ 1.0000,  0.0000, -0.4060,  1.0000,  0.0000, -0.4060],\n",
      "        [ 0.0000,  1.0000,  0.0000,  0.0000,  1.0000,  0.0000],\n",
      "        [-0.4060,  0.0000,  1.0000, -0.4060,  0.0000,  1.0000],\n",
      "        [ 1.0000,  0.0000, -0.4060,  1.0000,  0.0000, -0.4060],\n",
      "        [ 0.0000,  1.0000,  0.0000,  0.0000,  1.0000,  0.0000],\n",
      "        [-0.4060,  0.0000,  1.0000, -0.4060,  0.0000,  1.0000]],\n",
      "       grad_fn=<CatBackward>)\n"
     ]
    },
    {
     "data": {
      "text/plain": [
       "tensor([[ 1.0000,  1.0000,  0.0000,  0.0000, -0.4060, -0.4060],\n",
       "        [ 1.0000,  1.0000,  0.0000,  0.0000, -0.4060, -0.4060],\n",
       "        [ 0.0000,  0.0000,  1.0000,  1.0000,  0.0000,  0.0000],\n",
       "        [ 0.0000,  0.0000,  1.0000,  1.0000,  0.0000,  0.0000],\n",
       "        [-0.4060, -0.4060,  0.0000,  0.0000,  1.0000,  1.0000],\n",
       "        [-0.4060, -0.4060,  0.0000,  0.0000,  1.0000,  1.0000]],\n",
       "       grad_fn=<CatBackward>)"
      ]
     },
     "execution_count": 19,
     "metadata": {},
     "output_type": "execute_result"
    }
   ],
   "source": [
    "p.diff(left_matrix=L, right_matrix=R).forward(X, X)"
   ]
  },
  {
   "cell_type": "code",
   "execution_count": null,
   "id": "5b234e01",
   "metadata": {},
   "outputs": [],
   "source": []
  },
  {
   "cell_type": "code",
   "execution_count": 20,
   "id": "465abebe",
   "metadata": {},
   "outputs": [
    {
     "data": {
      "text/plain": [
       "[dx1, 2]"
      ]
     },
     "execution_count": 20,
     "metadata": {},
     "output_type": "execute_result"
    }
   ],
   "source": [
    "w, q, dx1, dx2 = var('w, q, dx1, dx2')\n",
    "a = dx1^2\n",
    "#a.degree(dx1)\n",
    "a.operands()"
   ]
  },
  {
   "cell_type": "code",
   "execution_count": 21,
   "id": "b8490d35",
   "metadata": {},
   "outputs": [
    {
     "data": {
      "text/plain": [
       "6"
      ]
     },
     "execution_count": 21,
     "metadata": {},
     "output_type": "execute_result"
    }
   ],
   "source": [
    "prod([1,2,3])"
   ]
  }
 ],
 "metadata": {
  "kernelspec": {
   "display_name": "SageMath 9.2",
   "language": "sage",
   "name": "sagemath"
  },
  "language_info": {
   "codemirror_mode": {
    "name": "ipython",
    "version": 3
   },
   "file_extension": ".py",
   "mimetype": "text/x-python",
   "name": "python",
   "nbconvert_exporter": "python",
   "pygments_lexer": "ipython3",
   "version": "3.9.5"
  }
 },
 "nbformat": 4,
 "nbformat_minor": 5
}
