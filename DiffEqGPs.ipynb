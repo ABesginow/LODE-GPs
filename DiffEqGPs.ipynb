{
 "cells": [
  {
   "cell_type": "code",
   "execution_count": 1,
   "id": "6eaef263",
   "metadata": {
    "scrolled": true
   },
   "outputs": [],
   "source": [
    "import math\n",
    "import torch\n",
    "import gpytorch\n",
    "from matplotlib import pyplot as plt\n",
    "from kernels import *\n",
    "import pdb\n",
    "import gpytorch\n",
    "from itertools import product\n",
    "import random\n",
    "import sys\n",
    "\n",
    "%matplotlib inline\n",
    "%load_ext autoreload\n",
    "%autoreload 2"
   ]
  },
  {
   "cell_type": "code",
   "execution_count": 2,
   "id": "5b3fcb60",
   "metadata": {},
   "outputs": [],
   "source": [
    "# TODO There is also .complex_roots() for finding the others\n",
    "# TODO Or use .roots(ring=CC) to find complex roots as well\n",
    "# |                  sage: f.roots(ring=CC)   # note -- low order bits slightly different on ppc.\n",
    "# |                  [(1.00000000000000, 1), (-0.500000000000000 - 0.86602540378443...*I, 1), (-0.500000000000000 + 0.86602540378443...*I, 1)]\n",
    "\n",
    "\n",
    "def find_all_real_roots(expr, max_iterations=10000):\n",
    "    degr = expr.degree(var('x'))\n",
    "    zeros = []\n",
    "    iteration = 0\n",
    "    for root in expr.roots():\n",
    "        for i in range(root[1]):\n",
    "            zeros.append(root[0])\n",
    "    if not len(zeros) == degr:\n",
    "        while not len(zeros) == degr or iteration >= max_iterations:\n",
    "            iteration += 1\n",
    "            max_search = randrange(sys.maxsize)\n",
    "            min_search = min_search - int(sys.maxsize*0.1)\n",
    "            try:\n",
    "                root = find_root(expr, min_search, max_search)\n",
    "                zeros.append(root)\n",
    "            except:\n",
    "                continue\n",
    "    return zeros"
   ]
  },
  {
   "cell_type": "code",
   "execution_count": 3,
   "id": "06280d6d",
   "metadata": {},
   "outputs": [],
   "source": [
    "# TODO Nochmal durchlaufen lassen\n",
    "def get_prepared_SNF(input_matrix, left_var=var('dx1'), right_var=var('dx2')):\n",
    "    d, u, v = input_matrix.smith_form()\n",
    "    (r, c) = np.shape(d)\n",
    "    if r > c:\n",
    "        assert \"More rows than columns in diagonal matrix D\"\n",
    "    if not d == u*input_matrix*v:\n",
    "        assert \"The calculation of the Smith form failed or is not possible\"\n",
    "    # TODO try out using e.change_variable_name(left_var)\n",
    "    V_left = matrix([[e.change_variable_name(left_var) for e in row] for row in v])\n",
    "    V_right_transpose = matrix([[e.change_variable_name(right_var) for e in row] for row in v.transpose()])\n",
    "    #V_left = matrix([[e.substitute(left_var) for e in row] for row in v])\n",
    "    #V_right_transpose = matrix([[e.substitute(right_var) for e in row] for row in v.transpose()])\n",
    "    row = [None] * c\n",
    "    pre_diff_kernel_matrix = []\n",
    "    for i in range(c):\n",
    "        temp = copy(row)\n",
    "        if i < r and d[i][i] == 0 or i >= r:\n",
    "            temp[i] = Diff_SE_kernel(var=0, length=0)\n",
    "        # Real roots case (i.e. exp kernel)\n",
    "        elif i < r and not SR(str(d[i][i])).is_numeric():\n",
    "            list_of_summands = SR(str(d[i][i])).factor_list()\n",
    "            if len(list_of_summands) > 1:\n",
    "                raise \"I can't deal with that right now\"\n",
    "            kernel = None\n",
    "            for summand in list_of_summands:\n",
    "                roots = summand[0].roots()\n",
    "                for root in roots:\n",
    "                    if root[1] > 1:\n",
    "                        raise \"I can't deal with that right now\"\n",
    "                    if root[0].imag() == 0:\n",
    "                        factor = summand[0].content(x)\n",
    "                        exp_coeff = root[0]\n",
    "                        if kernel is None:\n",
    "                            kernel = exp_kernel(torch.tensor(float(factor)), torch.tensor(float(exp_coeff)))\n",
    "            temp[i] = kernel\n",
    "        # TODO with poly.content(x) I can potentially get the coefficients in the front and make the stuff cleaner\n",
    "        #\n",
    "        #    find_all_real_roots(d[i][i])\n",
    "        # Complex roots case (i.e. sin/cos kernel)\n",
    "        #elif something_else:\n",
    "        # Mixed roots case?\n",
    "        #elif something_completely_different:\n",
    "        \n",
    "            \n",
    "        pre_diff_kernel_matrix.append(temp)\n",
    "    return pre_diff_kernel_matrix, V_left, V_right_transpose"
   ]
  },
  {
   "cell_type": "code",
   "execution_count": 4,
   "id": "2eb77e1c",
   "metadata": {},
   "outputs": [],
   "source": [
    "a = SR('x^3')\n"
   ]
  },
  {
   "cell_type": "code",
   "execution_count": null,
   "id": "2fe16641",
   "metadata": {},
   "outputs": [],
   "source": []
  },
  {
   "cell_type": "code",
   "execution_count": 5,
   "id": "94d38e5a",
   "metadata": {},
   "outputs": [
    {
     "name": "stdout",
     "output_type": "stream",
     "text": [
      "3*x1^3 - 3\n",
      "3*x1^3 - 3\n",
      "[[-3, 0], [3, 3]]\n",
      "[3*x1^3, -3]\n",
      "[(1/2*I*sqrt(3) - 1/2, 1), (-1/2*I*sqrt(3) - 1/2, 1), (1, 1)]\n",
      "[(x1^2 + x1 + 1, 1), (x1 - 1, 1), (3, 1)]\n",
      "3\n",
      "-3*imag_part(x1)^3 + 9*imag_part(x1)*real_part(x1)^2\n"
     ]
    }
   ],
   "source": [
    "poly = SR(str('3*(x1^3-1)'))\n",
    "print(poly.simplify_full())\n",
    "print(poly.expand())\n",
    "print(poly.coefficients())\n",
    "print(poly.operands())\n",
    "print(poly.roots())\n",
    "print(poly.factor_list())\n",
    "print(poly.content(x1))\n",
    "print(poly.imag())\n"
   ]
  },
  {
   "cell_type": "code",
   "execution_count": 6,
   "id": "336fecb4",
   "metadata": {},
   "outputs": [
    {
     "name": "stdout",
     "output_type": "stream",
     "text": [
      "[  1/2   1/2]\n",
      "[x - 2     x]\n"
     ]
    }
   ],
   "source": [
    "\n",
    "R.<x> = QQ[]\n",
    "m = x^2*matrix(R, 2,3,[1, 0, 1, 1, 0, 0]) +x* matrix(R, 2,3,[-1, -1, -2, -2, 1, 1]) + matrix(R, 2,3,[0, 1, 1, 0, 0, -1])\n",
    "\n",
    "\n",
    "dx1 = var('dx1')\n",
    "dx2 = var('dx2')\n",
    "#L = [[2, 1, 0], [3/2, -1/2*dx1 + 2, -1], [-dx1 - 1, dx1^2 - 3*dx1, 2*dx1]]\n",
    "#R = [[2, 3/2, -dx2 - 1], [1, -1/2*dx2 + 2, dx2^2 - 3*dx2], [0, -1, 2*dx2]]\n",
    "#L = matrix(L)\n",
    "#R = matrix(R)\n",
    "\n",
    "#T, L, R = get_prepared_SNF(m, dx1, dx2)\n",
    "#print(m)\n",
    "\n",
    "#print(T)\n",
    "#print(L)\n",
    "#print(R)\n",
    "A = matrix(R, 2, 3, [x, -x^2+x-1, x-2, 2-x, x^2-x-1, -x])\n",
    "#print(\"---\")\n",
    "d, u, v = A.smith_form()\n",
    "#d[1][1].roots()\n",
    "print(u)"
   ]
  },
  {
   "cell_type": "code",
   "execution_count": 7,
   "id": "cc3d2f8b",
   "metadata": {},
   "outputs": [
    {
     "name": "stdout",
     "output_type": "stream",
     "text": [
      "[(1, 1), (-1, 1)]\n"
     ]
    }
   ],
   "source": [
    "\n",
    "a = x^2 - 1\n",
    "print(a.roots())\n",
    "#find_root(a, -2, 10)\n"
   ]
  },
  {
   "cell_type": "code",
   "execution_count": 8,
   "id": "bfee9772",
   "metadata": {},
   "outputs": [
    {
     "data": {
      "text/plain": [
       "2055008465520100616"
      ]
     },
     "execution_count": 8,
     "metadata": {},
     "output_type": "execute_result"
    }
   ],
   "source": [
    "randrange(sys.maxsize)- int(sys.maxsize*0.1)"
   ]
  },
  {
   "cell_type": "raw",
   "id": "d750964e",
   "metadata": {},
   "source": [
    "R.<x> = QQ[]\n",
    "m = x^2*matrix(R, 2,3,[1, 0, 1, 1, 0, 0]) +x* matrix(R, 2,3,[-1, -1, -2, -2, 1, 1]) + matrix(R, 2,3,[0, 1, 1, 0, 0, -1])\n",
    "#dx1 = var('dx1')\n",
    "#m[0, 0].substitute(dx1)\n",
    "get_prepared_SNF(m)"
   ]
  },
  {
   "cell_type": "raw",
   "id": "d56d1013",
   "metadata": {
    "scrolled": false
   },
   "source": [
    "def test_get_prepared_SNF():\n",
    "    m = matrix(2,2,(1,0,1,0))\n",
    "    v1 = vector((1,2,3,4))\n",
    "    v2 = vector((1,2,3,4))\n",
    "    # Standard SE Kernel on the [1][1]-Entry\n",
    "    assert get_cov_fkt_from_SNF(m)(v1, v2).tolist() == [[0., 0.],[0., 1.]], \"Test 1 failed\"\n",
    "    \n",
    "    R.<x> = QQ[]\n",
    "    m=x^2*matrix(R, 2,3,[1, 0, 1, 1, 0, 0]) +x* matrix(R, 2,3,[-1, -1, -2, -2, 1, 1]) + matrix(R, 2,3,[0, 1, 1, 0, 0, -1])\n",
    "    v1 = vector((1,2,3,4))\n",
    "    v2 = vector((1,2,3,4))\n",
    "    # Standard SE Kernel on the [2][2]-Entry\n",
    "    assert get_cov_fkt_from_SNF(m)(v1, v2).tolist() == [[0., 0., 0.],[0., 0., 0.],[0., 0., 1.]], \"Test 2 failed\"\n",
    "    \n",
    "test_get_cov_fkt_from_SNF()"
   ]
  },
  {
   "cell_type": "code",
   "execution_count": 9,
   "id": "779684f0",
   "metadata": {},
   "outputs": [],
   "source": [
    "train_x = torch.linspace(float(0), float(3), int(75))\n",
    "# The original sin/cos data\n",
    "#one = torch.sin(train_x * (float(2) * math.pi)) + torch.randn(train_x.size()) * float(0.2)\n",
    "#two = torch.cos(train_x * (float(2) * math.pi)) + torch.randn(train_x.size()) * float(0.2)\n",
    "\n",
    "# Polynomials + diff(poly) data\n",
    "#one = torch.pow(train_x, int(3)) + torch.randn(train_x.size()) * float(0.2)\n",
    "#two = int(3)*torch.pow(train_x, int(2)) + torch.randn(train_x.size()) * float(0.2)\n",
    "\n",
    "# Polynomials + diff(poly) data\n",
    "#one = torch.pow(train_x, int(3)) + torch.randn(train_x.size()) * float(0.2)\n",
    "#two = int(6)*train_x + torch.randn(train_x.size()) * float(0.2)\n",
    "\n",
    "# Polynomials + diff(poly) data\n",
    "#one = torch.pow(train_x, int(5)) + torch.randn(train_x.size()) * float(0.2)\n",
    "#two = int(60)*torch.pow(train_x, int(2)) + torch.randn(train_x.size()) * float(0.2)\n",
    "\n",
    "# Polynomials + diff(poly) data\n",
    "#one = torch.exp(train_x) + torch.randn(train_x.size()) * float(0.2)\n",
    "#two = torch.exp(train_x) + torch.randn(train_x.size()) * float(0.2)\n",
    "#three = torch.exp(train_x) + torch.randn(train_x.size()) * float(0.2)\n",
    "\n",
    "\n",
    "noise = float(0)\n",
    "# ODE_GP_Example.mw\n",
    "one = torch.div(torch.cos(train_x) - torch.sin(train_x), int(2)) - torch.div(torch.exp(train_x), int(10)) + torch.randn(train_x.size()) * float(noise)\n",
    "two = torch.cos(train_x) + torch.randn(train_x.size()) * float(noise)\n",
    "three = torch.div(- torch.cos(train_x) - torch.sin(train_x), int(2)) - torch.div(torch.exp(train_x), int(10)) + torch.randn(train_x.size()) * float(noise)\n",
    "\n",
    "\n",
    "\n",
    "train_y = torch.stack([one, two, three], int(-1))\n"
   ]
  },
  {
   "cell_type": "code",
   "execution_count": 10,
   "id": "385213ae",
   "metadata": {},
   "outputs": [
    {
     "name": "stdout",
     "output_type": "stream",
     "text": [
      "tensor([0.0000, 0.0405, 0.0811, 0.1216, 0.1622, 0.2027, 0.2432, 0.2838, 0.3243,\n",
      "        0.3649, 0.4054, 0.4459, 0.4865, 0.5270, 0.5676, 0.6081, 0.6486, 0.6892,\n",
      "        0.7297, 0.7703, 0.8108, 0.8514, 0.8919, 0.9324, 0.9730, 1.0135, 1.0541,\n",
      "        1.0946, 1.1351, 1.1757, 1.2162, 1.2568, 1.2973, 1.3378, 1.3784, 1.4189,\n",
      "        1.4595, 1.5000, 1.5405, 1.5811, 1.6216, 1.6622, 1.7027, 1.7432, 1.7838,\n",
      "        1.8243, 1.8649, 1.9054, 1.9459, 1.9865, 2.0270, 2.0676, 2.1081, 2.1486,\n",
      "        2.1892, 2.2297, 2.2703, 2.3108, 2.3514, 2.3919, 2.4324, 2.4730, 2.5135,\n",
      "        2.5541, 2.5946, 2.6351, 2.6757, 2.7162, 2.7568, 2.7973, 2.8378, 2.8784,\n",
      "        2.9189, 2.9595, 3.0000])\n",
      "tensor([[ 0.4000,  1.0000, -0.6000],\n",
      "        [ 0.3752,  0.9992, -0.6240],\n",
      "        [ 0.3494,  0.9967, -0.6473],\n",
      "        [ 0.3227,  0.9926, -0.6699],\n",
      "        [ 0.2951,  0.9869, -0.6918],\n",
      "        [ 0.2666,  0.9795, -0.7129],\n",
      "        [ 0.2373,  0.9706, -0.7332],\n",
      "        [ 0.2072,  0.9600, -0.7528],\n",
      "        [ 0.1763,  0.9479, -0.7716],\n",
      "        [ 0.1446,  0.9342, -0.7895],\n",
      "        [ 0.1123,  0.9189, -0.8067],\n",
      "        [ 0.0792,  0.9022, -0.8230],\n",
      "        [ 0.0456,  0.8840, -0.8384],\n",
      "        [ 0.0113,  0.8643, -0.8530],\n",
      "        [-0.0236,  0.8432, -0.8668],\n",
      "        [-0.0590,  0.8207, -0.8797],\n",
      "        [-0.0949,  0.7969, -0.8918],\n",
      "        [-0.1313,  0.7718, -0.9030],\n",
      "        [-0.1681,  0.7454, -0.9135],\n",
      "        [-0.2053,  0.7177, -0.9231],\n",
      "        [-0.2429,  0.6889, -0.9319],\n",
      "        [-0.2809,  0.6590, -0.9399],\n",
      "        [-0.3191,  0.6279, -0.9471],\n",
      "        [-0.3577,  0.5959, -0.9535],\n",
      "        [-0.3964,  0.5628, -0.9593],\n",
      "        [-0.4354,  0.5289, -0.9643],\n",
      "        [-0.4746,  0.4941, -0.9687],\n",
      "        [-0.5140,  0.4584, -0.9724],\n",
      "        [-0.5534,  0.4220, -0.9755],\n",
      "        [-0.5930,  0.3849, -0.9780],\n",
      "        [-0.6327,  0.3472, -0.9799],\n",
      "        [-0.6725,  0.3089, -0.9814],\n",
      "        [-0.7123,  0.2701, -0.9824],\n",
      "        [-0.7521,  0.2309, -0.9830],\n",
      "        [-0.7920,  0.1912, -0.9832],\n",
      "        [-0.8319,  0.1513, -0.9832],\n",
      "        [-0.8717,  0.1111, -0.9828],\n",
      "        [-0.9115,  0.0707, -0.9823],\n",
      "        [-0.9514,  0.0303, -0.9816],\n",
      "        [-0.9911, -0.0103, -0.9809],\n",
      "        [-1.0309, -0.0508, -0.9801],\n",
      "        [-1.0706, -0.0912, -0.9794],\n",
      "        [-1.1103, -0.1315, -0.9788],\n",
      "        [-1.1500, -0.1716, -0.9784],\n",
      "        [-1.1896, -0.2114, -0.9782],\n",
      "        [-1.2293, -0.2508, -0.9785],\n",
      "        [-1.2690, -0.2898, -0.9791],\n",
      "        [-1.3087, -0.3284, -0.9803],\n",
      "        [-1.3485, -0.3664, -0.9820],\n",
      "        [-1.3883, -0.4038, -0.9845],\n",
      "        [-1.4283, -0.4406, -0.9877],\n",
      "        [-1.4684, -0.4766, -0.9918],\n",
      "        [-1.5087, -0.5118, -0.9969],\n",
      "        [-1.5493, -0.5462, -1.0030],\n",
      "        [-1.5901, -0.5797, -1.0103],\n",
      "        [-1.6312, -0.6123, -1.0189],\n",
      "        [-1.6727, -0.6438, -1.0289],\n",
      "        [-1.7146, -0.6743, -1.0403],\n",
      "        [-1.7571, -0.7037, -1.0534],\n",
      "        [-1.8001, -0.7319, -1.0682],\n",
      "        [-1.8437, -0.7589, -1.0848],\n",
      "        [-1.8881, -0.7847, -1.1034],\n",
      "        [-1.9332, -0.8092, -1.1240],\n",
      "        [-1.9792, -0.8323, -1.1469],\n",
      "        [-2.0262, -0.8541, -1.1721],\n",
      "        [-2.0743, -0.8745, -1.1998],\n",
      "        [-2.1235, -0.8934, -1.2301],\n",
      "        [-2.1741, -0.9109, -1.2632],\n",
      "        [-2.2260, -0.9269, -1.2991],\n",
      "        [-2.2794, -0.9413, -1.3381],\n",
      "        [-2.3345, -0.9542, -1.3803],\n",
      "        [-2.3914, -0.9656, -1.4259],\n",
      "        [-2.4502, -0.9753, -1.4749],\n",
      "        [-2.5110, -0.9835, -1.5276],\n",
      "        [-2.5741, -0.9900, -1.5841]])\n",
      "torch.Size([75, 3])\n"
     ]
    }
   ],
   "source": [
    "print(train_x)\n",
    "print(train_y)\n",
    "print(np.shape(train_y))\n",
    "\n",
    "# = torch.Tensor([[float(-0.3), float(0.99)],[float(-0.07), float(1.01)]])"
   ]
  },
  {
   "cell_type": "code",
   "execution_count": 11,
   "id": "8c5884c7",
   "metadata": {},
   "outputs": [
    {
     "data": {
      "text/plain": [
       "2"
      ]
     },
     "execution_count": 11,
     "metadata": {},
     "output_type": "execute_result"
    }
   ],
   "source": [
    "\n",
    "len(train_y.shape)"
   ]
  },
  {
   "cell_type": "raw",
   "id": "37706537",
   "metadata": {},
   "source": [
    "In Reihenfolge:\n",
    "- Mal ohne Ableitung durchlaufen lassen\n",
    "- Mal mit 1-en auf der Diagonale\n",
    "- Mal mit der Ableitungsdiagonale drehen\n",
    "- Gradienten ausgeben lassen\n",
    "- Mal den Datenvektor mit L multiplizieren und als neuen \"Ersteller\" für die Daten nehmen\n",
    "- Lasse L und R nicht quadratisch sein\n",
    "- Einfach -> L (2x3)\n",
    "- Schwer -> L (3x2)"
   ]
  },
  {
   "cell_type": "code",
   "execution_count": 12,
   "id": "361022cb",
   "metadata": {},
   "outputs": [
    {
     "data": {
      "text/plain": [
       "[<matplotlib.lines.Line2D object at 0x2fc0d5940>,\n",
       " <matplotlib.lines.Line2D object at 0x2fc0d5970>,\n",
       " <matplotlib.lines.Line2D object at 0x2fc0d58b0>]"
      ]
     },
     "execution_count": 12,
     "metadata": {},
     "output_type": "execute_result"
    },
    {
     "data": {
      "image/png": "[encoded data removed]",
      "text/plain": [
       "<Figure size 432x288 with 1 Axes>"
      ]
     },
     "metadata": {
      "needs_background": "light"
     },
     "output_type": "display_data"
    }
   ],
   "source": [
    "plt.plot(train_y)"
   ]
  },
  {
   "cell_type": "markdown",
   "id": "23ec0044",
   "metadata": {},
   "source": [
    "$$\n",
    "\\begin{align}\n",
    "L =& \n",
    "\\left[\n",
    "\\begin{matrix}\n",
    "1 & dx_1 \\\\\n",
    "0 & 1\n",
    "\\end{matrix}\n",
    "\\right]\\\\\n",
    "R =& \n",
    "\\left[\n",
    "\\begin{matrix}\n",
    "1 & 0\\\\\n",
    "dx_2 & 1\n",
    "\\end{matrix}\n",
    "\\right]\\\\\n",
    "\\hat{k} =& \n",
    "\\left[\n",
    "\\begin{matrix}\n",
    "SE_1 & 0\\\\\n",
    "0 & SE_2\n",
    "\\end{matrix}\n",
    "\\right]\\\\\n",
    "k =& L*\\hat{k}*R\\\\\n",
    "=& \\left[\n",
    "\\begin{matrix}\n",
    "dx_1 dx_2 SE_2 + SE_1 & dx_1 SE_2\\\\\n",
    "dx_2 SE_2 & SE_2\n",
    "\\end{matrix}\n",
    "\\right]\n",
    "\\end{align}\n",
    "$$"
   ]
  },
  {
   "cell_type": "code",
   "execution_count": 13,
   "id": "b15ef0d8",
   "metadata": {},
   "outputs": [
    {
     "data": {
      "text/plain": [
       "[            k1       dx2^2*k1]\n",
       "[      dx1^2*k1 dx1^2*dx2^2*k1]"
      ]
     },
     "execution_count": 13,
     "metadata": {},
     "output_type": "execute_result"
    }
   ],
   "source": [
    "dx1, dx2, k1, k2, f, g = var('dx1, dx2, k1, k2, f, g')\n",
    "K = matrix(2,2, (k1, 0, 0, 0))\n",
    "L = matrix(2, 2, (1, 0, dx1^2, 1))\n",
    "R = matrix(2, 2, (1, dx2^2, 0, 1))\n",
    "L*K*R\n",
    "# used to see how the data should be created if I \n",
    "# decide to create it exactly as I create the kernel\n",
    "#K = matrix(2,1, (f, g))\n",
    "#L*L*K"
   ]
  },
  {
   "cell_type": "code",
   "execution_count": null,
   "id": "85a3102a",
   "metadata": {},
   "outputs": [],
   "source": [
    "\n",
    "    "
   ]
  },
  {
   "cell_type": "code",
   "execution_count": 14,
   "id": "473d2663",
   "metadata": {},
   "outputs": [
    {
     "data": {
      "text/plain": [
       "[False, False, True]"
      ]
     },
     "execution_count": 14,
     "metadata": {},
     "output_type": "execute_result"
    }
   ],
   "source": [
    "dx1, a, b = var('dx1, a, b')\n",
    "p = dx1*a + dx1*b + dx1^2\n",
    "p.operands()\n",
    "[('+' in str(op) or '^' in str(op)) for op in p.operands()]\n",
    "#[not(not op in [sage.rings.integer.Integer, sage.rings.real_mpfr.RealLiteral] and op.has(d_var)) and ('+' in str(op) or '^' in str(op)) for op in p.operands()]"
   ]
  },
  {
   "cell_type": "code",
   "execution_count": 15,
   "id": "66d6fc23",
   "metadata": {},
   "outputs": [],
   "source": [
    "d_var=(dx1)\n",
    "if type(p) in [sage.symbolic.expression.Expression] and any(not(not op in [sage.rings.integer.Integer, sage.rings.real_mpfr.RealLiteral] and op.has(d_var)) and ('+' in str(op) or '^' in str(op)) for op in p.operands()):\n",
    "    print(\"Damn\")"
   ]
  },
  {
   "cell_type": "code",
   "execution_count": 16,
   "id": "81d767c3",
   "metadata": {},
   "outputs": [
    {
     "data": {
      "text/plain": [
       "Univariate Polynomial Ring in dx1 over Rational function field in a over Rational Field"
      ]
     },
     "execution_count": 16,
     "metadata": {},
     "output_type": "execute_result"
    }
   ],
   "source": [
    "F.<a> = FunctionField(QQ)\n",
    "R.<x> = F[]\n",
    "R.<dx1> = F[]\n",
    "#e = x+a\n",
    "#e.substitute(dx1)\n",
    "R"
   ]
  },
  {
   "cell_type": "code",
   "execution_count": 17,
   "id": "66faff00",
   "metadata": {},
   "outputs": [
    {
     "name": "stdout",
     "output_type": "stream",
     "text": [
      "[]\n",
      "[]\n",
      "[]\n",
      "[]\n",
      "[a, b]\n",
      "[]\n"
     ]
    }
   ],
   "source": [
    "F.<a> = FunctionField(QQ)\n",
    "F.<b> = FunctionField(F)\n",
    "R.<x> = F[]\n",
    "#F.base_extend(R)\n",
    "#P.<x> = SR[]\n",
    "#R.<x> = F[]\n",
    "#R.base_extend()\n",
    "m1 = matrix(R, 2, 3, [[a, b, x], [1, a+b, x]])\n",
    "for row in m1:\n",
    "    for e in row:\n",
    "        print(SR(str(e)).operands())\n",
    "\n"
   ]
  },
  {
   "cell_type": "code",
   "execution_count": null,
   "id": "7645cdc5",
   "metadata": {},
   "outputs": [],
   "source": []
  },
  {
   "cell_type": "code",
   "execution_count": null,
   "id": "db47133a",
   "metadata": {},
   "outputs": [],
   "source": []
  },
  {
   "cell_type": "code",
   "execution_count": null,
   "id": "7c4572c4",
   "metadata": {},
   "outputs": [],
   "source": []
  },
  {
   "cell_type": "raw",
   "id": "cdc5f12e",
   "metadata": {},
   "source": [
    "R = ZZ[I] \n",
    "x = var('x')\n",
    "#Gaussian Integers in Number Field in I with defining polynomial x^2 + 1\n",
    "I = R.basis()[1]\n",
    "M=matrix([[2+I,0],[0,1]]) \n",
    "M.parent()\n",
    "#Full MatrixSpace of 2 by 2 dense matrices over Gaussian Integers in Number Field in I with defining polynomial x^2 + 1\n",
    "M.smith_form()"
   ]
  },
  {
   "cell_type": "raw",
   "id": "ff9fd73e",
   "metadata": {},
   "source": [
    "a, b = var('a, b', domain=RR)\n",
    "q, dx1, dx2, x = var('q, dx1, dx2, x')\n",
    "R.<x> = QQ[]\n",
    "#Gaussian Integers in Number Field in I with defining polynomial x^2 + 1\n",
    "A = matrix(R, 2, 3, [x+a, -a, -1, -b, x+b, 0])\n",
    "A.smith_form()"
   ]
  },
  {
   "cell_type": "raw",
   "id": "ee0900f5",
   "metadata": {},
   "source": []
  },
  {
   "cell_type": "code",
   "execution_count": null,
   "id": "28df6dba",
   "metadata": {},
   "outputs": [],
   "source": []
  },
  {
   "cell_type": "code",
   "execution_count": null,
   "id": "ff1c603a",
   "metadata": {},
   "outputs": [],
   "source": []
  },
  {
   "cell_type": "code",
   "execution_count": null,
   "id": "73200044",
   "metadata": {},
   "outputs": [],
   "source": []
  },
  {
   "cell_type": "code",
   "execution_count": null,
   "id": "31918bf8",
   "metadata": {},
   "outputs": [],
   "source": []
  },
  {
   "cell_type": "code",
   "execution_count": null,
   "id": "808151c7",
   "metadata": {},
   "outputs": [],
   "source": []
  },
  {
   "cell_type": "code",
   "execution_count": 18,
   "id": "1b285d83",
   "metadata": {
    "scrolled": false
   },
   "outputs": [
    {
     "name": "stdout",
     "output_type": "stream",
     "text": [
      "List of all kernels: [Diff_SE_kernel()]\n",
      "i\n",
      "0\n",
      "left\n",
      "(1, 1, 0)\n",
      "right\n",
      "(1, 1, 0)\n",
      "Result kernel\n",
      "_diffed_SE_kernel_\n",
      "Received derivation form: [[[tensor(0.), tensor(0.)], 0, 0]]\n",
      "Resulting list (including parameters):\n",
      " > Summand 0, entry 0:\n",
      "polynom coefficients:[tensor(0.), tensor(0.)]\n",
      "derivation coefficient:1\n",
      "l exponent:0\n",
      "(x1-x2) exponent:0\n",
      "\n",
      "i\n",
      "1\n",
      "left\n",
      "(1, 1, 0)\n",
      "right\n",
      "(1, 0, 1)\n",
      "Result kernel\n",
      "_diffed_SE_kernel_\n",
      "Received derivation form: [[[tensor(0.), tensor(1.)], 0, 0]]\n",
      "Resulting list (including parameters):\n",
      " > Summand 0, entry 0:\n",
      "polynom coefficients:[tensor(0.), tensor(1.)]\n",
      "derivation coefficient:1\n",
      "l exponent:0\n",
      "(x1-x2) exponent:0\n",
      "\n",
      "i\n",
      "2\n",
      "left\n",
      "(1, 1, 0)\n",
      "right\n",
      "(0, a*dx2, 1)\n",
      "Result kernel\n",
      "_diffed_SE_kernel_\n",
      "Received derivation form: [[[tensor(0.), tensor(1.)], 0, 0]]\n",
      "Resulting list (including parameters):\n",
      " > Summand 0, entry 0:\n",
      "polynom coefficients:[tensor(0.), tensor(1.)]\n",
      "derivation coefficient:1\n",
      "l exponent:0\n",
      "(x1-x2) exponent:0\n",
      "\n",
      "i\n",
      "3\n",
      "left\n",
      "(1, 0, 1)\n",
      "right\n",
      "(1, 1, 0)\n",
      "Result kernel\n",
      "_diffed_SE_kernel_\n",
      "Received derivation form: [[[tensor(1.), tensor(0.)], 0, 0]]\n",
      "Resulting list (including parameters):\n",
      " > Summand 0, entry 0:\n",
      "polynom coefficients:[tensor(1.), tensor(0.)]\n",
      "derivation coefficient:1\n",
      "l exponent:0\n",
      "(x1-x2) exponent:0\n",
      "\n",
      "i\n",
      "4\n",
      "left\n",
      "(1, 0, 1)\n",
      "right\n",
      "(1, 0, 1)\n",
      "Result kernel\n",
      "_diffed_SE_kernel_\n",
      "Received derivation form: [[[tensor(1.), tensor(1.)], 0, 0]]\n",
      "Resulting list (including parameters):\n",
      " > Summand 0, entry 0:\n",
      "polynom coefficients:[tensor(1.), tensor(1.)]\n",
      "derivation coefficient:1\n",
      "l exponent:0\n",
      "(x1-x2) exponent:0\n",
      "\n",
      "i\n",
      "5\n",
      "left\n",
      "(1, 0, 1)\n",
      "right\n",
      "(0, a*dx2, 1)\n",
      "Result kernel\n",
      "_diffed_SE_kernel_\n",
      "Received derivation form: [[[tensor(1.), tensor(1.)], 0, 0]]\n",
      "Resulting list (including parameters):\n",
      " > Summand 0, entry 0:\n",
      "polynom coefficients:[tensor(1.), tensor(1.)]\n",
      "derivation coefficient:1\n",
      "l exponent:0\n",
      "(x1-x2) exponent:0\n",
      "\n",
      "i\n",
      "6\n",
      "left\n",
      "(0, a*dx1, 1)\n",
      "right\n",
      "(1, 1, 0)\n",
      "Result kernel\n",
      "_diffed_SE_kernel_\n",
      "Received derivation form: [[[tensor(1.), tensor(0.)], 0, 0]]\n",
      "Resulting list (including parameters):\n",
      " > Summand 0, entry 0:\n",
      "polynom coefficients:[tensor(1.), tensor(0.)]\n",
      "derivation coefficient:1\n",
      "l exponent:0\n",
      "(x1-x2) exponent:0\n",
      "\n",
      "i\n",
      "7\n",
      "left\n",
      "(0, a*dx1, 1)\n",
      "right\n",
      "(1, 0, 1)\n",
      "Result kernel\n",
      "_diffed_SE_kernel_\n",
      "Received derivation form: [[[tensor(1.), tensor(1.)], 0, 0]]\n",
      "Resulting list (including parameters):\n",
      " > Summand 0, entry 0:\n",
      "polynom coefficients:[tensor(1.), tensor(1.)]\n",
      "derivation coefficient:1\n",
      "l exponent:0\n",
      "(x1-x2) exponent:0\n",
      "\n",
      "i\n",
      "8\n",
      "left\n",
      "(0, a*dx1, 1)\n",
      "right\n",
      "(0, a*dx2, 1)\n",
      "Result kernel\n",
      "_diffed_SE_kernel_\n",
      "Received derivation form: [[[tensor(1.), tensor(1.)], 0, 0]]\n",
      "Resulting list (including parameters):\n",
      " > Summand 0, entry 0:\n",
      "polynom coefficients:[tensor(1.), tensor(1.)]\n",
      "derivation coefficient:1\n",
      "l exponent:0\n",
      "(x1-x2) exponent:0\n",
      "\n",
      "[[diffed_SE_kernel(), diffed_SE_kernel(), diffed_SE_kernel()], [diffed_SE_kernel(), diffed_SE_kernel(), diffed_SE_kernel()], [diffed_SE_kernel(), diffed_SE_kernel(), diffed_SE_kernel()]]\n",
      "[0,0]: _diffed_SE_kernel_\n",
      "Received derivation form: [[[tensor(0.), tensor(0.)], 0, 0]]\n",
      "Resulting list (including parameters):\n",
      " > Summand 0, entry 0:\n",
      "polynom coefficients:[tensor(0.), tensor(0.)]\n",
      "derivation coefficient:1\n",
      "l exponent:0\n",
      "(x1-x2) exponent:0\n",
      "\n",
      "\n",
      "[0,1]: _diffed_SE_kernel_\n",
      "Received derivation form: [[[tensor(0.), tensor(1.)], 0, 0]]\n",
      "Resulting list (including parameters):\n",
      " > Summand 0, entry 0:\n",
      "polynom coefficients:[tensor(0.), tensor(1.)]\n",
      "derivation coefficient:1\n",
      "l exponent:0\n",
      "(x1-x2) exponent:0\n",
      "\n",
      "\n",
      "[0,2]: _diffed_SE_kernel_\n",
      "Received derivation form: [[[tensor(0.), tensor(1.)], 0, 0]]\n",
      "Resulting list (including parameters):\n",
      " > Summand 0, entry 0:\n",
      "polynom coefficients:[tensor(0.), tensor(1.)]\n",
      "derivation coefficient:1\n",
      "l exponent:0\n",
      "(x1-x2) exponent:0\n",
      "\n",
      "\n",
      "[1,0]: _diffed_SE_kernel_\n",
      "Received derivation form: [[[tensor(1.), tensor(0.)], 0, 0]]\n",
      "Resulting list (including parameters):\n",
      " > Summand 0, entry 0:\n",
      "polynom coefficients:[tensor(1.), tensor(0.)]\n",
      "derivation coefficient:1\n",
      "l exponent:0\n",
      "(x1-x2) exponent:0\n",
      "\n",
      "\n",
      "[1,1]: _diffed_SE_kernel_\n",
      "Received derivation form: [[[tensor(1.), tensor(1.)], 0, 0]]\n",
      "Resulting list (including parameters):\n",
      " > Summand 0, entry 0:\n",
      "polynom coefficients:[tensor(1.), tensor(1.)]\n",
      "derivation coefficient:1\n",
      "l exponent:0\n",
      "(x1-x2) exponent:0\n",
      "\n",
      "\n",
      "[1,2]: _diffed_SE_kernel_\n",
      "Received derivation form: [[[tensor(1.), tensor(1.)], 0, 0]]\n",
      "Resulting list (including parameters):\n",
      " > Summand 0, entry 0:\n",
      "polynom coefficients:[tensor(1.), tensor(1.)]\n",
      "derivation coefficient:1\n",
      "l exponent:0\n",
      "(x1-x2) exponent:0\n",
      "\n",
      "\n",
      "[2,0]: _diffed_SE_kernel_\n",
      "Received derivation form: [[[tensor(1.), tensor(0.)], 0, 0]]\n",
      "Resulting list (including parameters):\n",
      " > Summand 0, entry 0:\n",
      "polynom coefficients:[tensor(1.), tensor(0.)]\n",
      "derivation coefficient:1\n",
      "l exponent:0\n",
      "(x1-x2) exponent:0\n",
      "\n",
      "\n",
      "[2,1]: _diffed_SE_kernel_\n",
      "Received derivation form: [[[tensor(1.), tensor(1.)], 0, 0]]\n",
      "Resulting list (including parameters):\n",
      " > Summand 0, entry 0:\n",
      "polynom coefficients:[tensor(1.), tensor(1.)]\n",
      "derivation coefficient:1\n",
      "l exponent:0\n",
      "(x1-x2) exponent:0\n",
      "\n",
      "\n",
      "[2,2]: _diffed_SE_kernel_\n",
      "Received derivation form: [[[tensor(1.), tensor(1.)], 0, 0]]\n",
      "Resulting list (including parameters):\n",
      " > Summand 0, entry 0:\n",
      "polynom coefficients:[tensor(1.), tensor(1.)]\n",
      "derivation coefficient:1\n",
      "l exponent:0\n",
      "(x1-x2) exponent:0\n",
      "\n",
      "\n",
      "\n"
     ]
    }
   ],
   "source": [
    "\n",
    "\n",
    "\n",
    "class MultitaskGPModel(gpytorch.models.ExactGP):\n",
    "    def __init__(self, train_x, train_y, likelihood):\n",
    "        super(MultitaskGPModel, self).__init__(train_x, train_y, likelihood)\n",
    "        self.mean_module = gpytorch.means.MultitaskMean(\n",
    "            gpytorch.means.ZeroMean(), num_tasks=3\n",
    "        )\n",
    "        kernel = Diff_SE_kernel(var=0, length=0)\n",
    "        kernel2 = Diff_SE_kernel(var=0, length=0)\n",
    "        a, b, q, dx1, dx2, x = var('a, b, q, dx1, dx2, x')\n",
    "        \n",
    "        # Control example 1\n",
    "        #variables=[]\n",
    "        #F.<a> = FunctionField(QQ)\n",
    "        #variables.append(f\"{F.variable_name()}\")\n",
    "        #F.<b> = FunctionField(F)\n",
    "        #variables.append(f\"{F.variable_name()}\")\n",
    "        #R.<x> = F[]\n",
    "        #variables.append(f\"{R.variable_name()}\")\n",
    "        #R.<dx1> = F[]\n",
    "        #variables.append(f\"{R.variable_name()}\")\n",
    "        #R.<dx2> = F[]\n",
    "        #variables.append(f\"{R.variable_name()}\")\n",
    "        #A = matrix(R, 2, 3, [x+a, -a, -1, -b, x+b, 0])\n",
    "\n",
    "        \n",
    "        # Control example 2\n",
    "        #F.<a> = FunctionField(QQ)\n",
    "        #R.<x> = F[]\n",
    "        #R.<x> = QQ[]\n",
    "        #A = matrix(R, 2, 3, [x, -x^2+x-1, x-2, 2-x, x^2-x-1, -x])\n",
    "        \n",
    "        # Throwaway\n",
    "        #variables=[]\n",
    "        #F.<a> = FunctionField(QQ)\n",
    "        #variables.append(f\"{F.variable_name()}\")\n",
    "        #R.<x> = F[]\n",
    "        #variables.append(f\"{R.variable_name()}\")\n",
    "        #R.<dx1> = F[]\n",
    "        #variables.append(f\"{R.variable_name()}\")\n",
    "        #R.<dx2> = F[]\n",
    "        #variables.append(f\"{R.variable_name()}\")\n",
    "        #A = matrix(R, 2, 3, [x, x-1, a, 1, 1, 1])\n",
    "        \n",
    "        \n",
    "        #m = x^2*matrix(R, 2,3,[1, 0, 1, 1, 0, 0]) +x* matrix(R, 2,3,[-1, -1, -2, -2, 1, 1]) + matrix(R, 2,3,[0, 1, 1, 0, 0, -1])\n",
    "        \n",
    "        #T, L, R = get_prepared_SNF(A, dx1, dx2)\n",
    "        #print(L)\n",
    "        #print(\"---\")\n",
    "        #print(R)\n",
    "        #print(\"---\")\n",
    "        #print(T)\n",
    "        #print(\"---\")\n",
    "#        L = matrix(2, 2, (1/2, 0, dx1^3, 1))\n",
    "#        R = matrix(2, 2, (1, dx2^3, 0, 1))\n",
    "        \n",
    "        #L = matrix(3, 3, (0, 0, dx1+b, 0, 0, b, 0, 0, dx1*a + dx1*b + dx1^2))\n",
    "        #R = matrix(3, 3, (dx2^2+dx2*b+dx2*a, b, dx2+b, 0, 0, 0, 0, 0, 0))\n",
    "        #p = DiffMatrixKernel(T)\n",
    "        variables= ['a']\n",
    "\n",
    "        L = matrix(3, 3, (1, 1, 0, 1, 0, 1, 0, a*dx1, 1))\n",
    "        R = matrix(3, 3, [[    1,     1,     0],[    1,     0, a*dx2],[    0,     1,     1]])\n",
    "        \n",
    "        \n",
    "        p = DiffMatrixKernel([[None, None, None], [None, None, None], [None, None, kernel]])\n",
    "        #p = DiffMatrixKernel([[kernel, None], [None, None]])\n",
    "\n",
    "        self.covar_module = p.diff(left_matrix=L, right_matrix=R, var_dict=variables)\n",
    "        \n",
    "        #kernel0 = gpytorch.kernels.RBFKernel()\n",
    "        #kernel1 = gpytorch.kernels.RBFKernel()\n",
    "        #kernel2 = gpytorch.kernels.RBFKernel()\n",
    "        #kernel0 = gpytorch.kernels.PeriodicKernel()\n",
    "        #kernel1 = gpytorch.kernels.PeriodicKernel()\n",
    "        #kernel0 = Diff_SE_kernel(var = 0, length=0)\n",
    "        #kernel1 = Diff_SE_kernel(var = 0, length=0.01)\n",
    "        #kernel2 = Diff_SE_kernel(var = 0, length=0.02)\n",
    "        #self.covar_module = MatrixKernel([[kernel0, None], [None, kernel1]])\n",
    "\n",
    "    def forward(self, x):\n",
    "        #pdb.set_trace()\n",
    "        mean_x = self.mean_module(x)\n",
    "        covar_x = self.covar_module(x)\n",
    "        #print(f\"{covar_x.detach().evaluate()}\")\n",
    "        return gpytorch.distributions.MultitaskMultivariateNormal(mean_x, covar_x, validate_args=True)\n",
    "\n",
    "likelihood = gpytorch.likelihoods.MultitaskGaussianLikelihood(num_tasks=3)\n",
    "#likelihood = gpytorch.likelihoods.MultitaskGaussianLikelihood(num_tasks=2, has_global_noise=False, has_task_noise=False)\n",
    "likelihood._set_task_noises(torch.Tensor([float(0.0001), float(0.0001), float(0.0001)]))\n",
    "#likelihood._set_noise(torch.tensor(float(0.0001)))\n",
    "model = MultitaskGPModel(train_x, train_y, likelihood)\n",
    "print(model.covar_module)"
   ]
  },
  {
   "cell_type": "code",
   "execution_count": 19,
   "id": "bb43d122",
   "metadata": {},
   "outputs": [
    {
     "data": {
      "text/plain": [
       "[[a*b, 3]]"
      ]
     },
     "execution_count": 19,
     "metadata": {},
     "output_type": "execute_result"
    }
   ],
   "source": [
    "w0 = SR.wild(0)\n",
    "w1 = SR.wild(1)\n",
    "w2 = SR.wild(2)\n",
    "\n",
    "a, b, c, x = var('a, b, c, x') \n",
    "\n",
    "polynomial = a**2*x**2\n",
    "# Check for a**n things -> needs coefficient splitting\n",
    "#polynomial = a**2*x**2\n",
    "#any(not p.has(x) for p in polynomial.find(w0**w1))\n",
    "# Check for b/a etc. -> needs coefficient splitting\n",
    "polynomial = a*b*x * x**2\n",
    "polynomial.coefficients(x)\n",
    "#polynomial.coefficients(x)[0][0].find(w0/w1)"
   ]
  },
  {
   "cell_type": "code",
   "execution_count": 20,
   "id": "84641c42",
   "metadata": {},
   "outputs": [
    {
     "name": "stdout",
     "output_type": "stream",
     "text": [
      "from sage.rings.polynomial.polynomial_ring_constructor import PolynomialRing\n"
     ]
    }
   ],
   "source": [
    "import_statements(PolynomialRing)"
   ]
  },
  {
   "cell_type": "code",
   "execution_count": 21,
   "id": "e6f583d0",
   "metadata": {},
   "outputs": [],
   "source": [
    "# Set into eval mode\n",
    "model.eval()\n",
    "likelihood.eval()\n",
    "\n",
    "# Initialize plots\n",
    "\n",
    "number_of_samples = int(150)\n",
    "# Make predictions\n",
    "with torch.no_grad():#, gpytorch.settings.fast_pred_var():\n",
    "    test_x = torch.linspace(float(-4), float(7), number_of_samples)\n",
    "    #pdb.set_trace()\n",
    "    outputs = model(test_x)\n",
    "    predictions = likelihood(outputs)\n",
    "    \n",
    "    mean = predictions.mean\n",
    "    lower, upper = predictions.confidence_region()\n",
    "#print(mean)\n",
    "#print(lower)\n",
    "#print(upper)\n",
    "# This contains predictions for both tasks, flattened out\n",
    "# The first half of the predictions is for the first task\n",
    "# The second half is for the second task\n",
    "\n",
    "#dims = int(2)\n",
    "#indices = [list(range(i, len(train_y), dims)) for i in range(dims)]\n"
   ]
  },
  {
   "cell_type": "code",
   "execution_count": 22,
   "id": "7d3a45db",
   "metadata": {},
   "outputs": [
    {
     "data": {
      "text/plain": [
       "Text(0.5, 1.0, 'Prior')"
      ]
     },
     "execution_count": 22,
     "metadata": {},
     "output_type": "execute_result"
    },
    {
     "data": {
      "image/png": "[encoded data removed]",
      "text/plain": [
       "<Figure size 1080x288 with 3 Axes>"
      ]
     },
     "metadata": {
      "needs_background": "light"
     },
     "output_type": "display_data"
    }
   ],
   "source": [
    "f, (y1_ax, y2_ax, y3_ax) = plt.subplots(int(1), int(3), figsize=(int(15), int(4)))\n",
    "\n",
    "# Plot training data as black stars\n",
    "#y1_ax.plot(train_x.detach().numpy(), train_y[:, 0].detach().numpy(), 'k*')\n",
    "# Predictive mean as blue line\n",
    "y1_ax.plot(test_x.numpy(), mean[:, 0].numpy(), 'b')\n",
    "# Shade in confidence\n",
    "y1_ax.fill_between(test_x.numpy(), lower[:, 0].numpy(), upper[:, 0].numpy(), alpha=0.5)\n",
    "y1_ax.set_ylim([-30, 30])\n",
    "y1_ax.legend(['Mean', 'Confidence'])\n",
    "y1_ax.set_title('Prior')\n",
    "\n",
    "# Plot training data as black stars\n",
    "#y2_ax.plot(train_x.detach().numpy(), train_y[:, 1].detach().numpy(), 'k*')\n",
    "# Predictive mean as blue line\n",
    "y2_ax.plot(test_x.numpy(), mean[:, 1].numpy(), 'b')\n",
    "# Shade in confidence\n",
    "y2_ax.fill_between(test_x.numpy(), lower[:, 1].numpy(), upper[:, 1].numpy(), alpha=0.5)\n",
    "y2_ax.set_ylim([-30, 30])\n",
    "y2_ax.legend(['Mean', 'Confidence'])\n",
    "y2_ax.set_title('Prior')\n",
    "\n",
    "# Plot training data as black stars\n",
    "#y2_ax.plot(train_x.detach().numpy(), train_y[:, 1].detach().numpy(), 'k*')\n",
    "# Predictive mean as blue line\n",
    "y3_ax.plot(test_x.numpy(), mean[:, 2].numpy(), 'b')\n",
    "# Shade in confidence\n",
    "y3_ax.fill_between(test_x.numpy(), lower[:, 2].numpy(), upper[:, 2].numpy(), alpha=0.5)\n",
    "y3_ax.set_ylim([-30, 30])\n",
    "y3_ax.legend(['Mean', 'Confidence'])\n",
    "y3_ax.set_title('Prior')\n"
   ]
  },
  {
   "cell_type": "code",
   "execution_count": 23,
   "id": "83acb24a",
   "metadata": {},
   "outputs": [
    {
     "name": "stdout",
     "output_type": "stream",
     "text": [
      "('likelihood.raw_task_noises', Parameter containing:\n",
      "tensor([-inf, -inf, -inf], requires_grad=True))\n",
      "('likelihood.raw_noise', Parameter containing:\n",
      "tensor([0.], requires_grad=True))\n",
      "('covar_module.a', Parameter containing:\n",
      "tensor(1., requires_grad=True))\n",
      "('covar_module.12820758784.var', Parameter containing:\n",
      "tensor(0., requires_grad=True))\n",
      "('covar_module.12820758784.length', Parameter containing:\n",
      "tensor(0., requires_grad=True))\n"
     ]
    }
   ],
   "source": [
    "for p in model.named_parameters():\n",
    "    print(p)"
   ]
  },
  {
   "cell_type": "code",
   "execution_count": null,
   "id": "891b9043",
   "metadata": {},
   "outputs": [],
   "source": []
  },
  {
   "cell_type": "code",
   "execution_count": 24,
   "id": "3f0a9b7f",
   "metadata": {},
   "outputs": [
    {
     "name": "stdout",
     "output_type": "stream",
     "text": [
      "1/5\n",
      "2/5\n",
      "3/5\n",
      "4/5\n",
      "5/5\n"
     ]
    }
   ],
   "source": [
    "# this is for running the notebook in our testing framework\n",
    "import os\n",
    "smoke_test = ('CI' in os.environ)\n",
    "training_iter = int(2) if smoke_test else int(5)\n",
    "\n",
    "\n",
    "# Find optimal model hyperparameters\n",
    "model.train()\n",
    "likelihood.train()\n",
    "\n",
    "# Use the adam optimizer\n",
    "optimizer = torch.optim.Adam(model.parameters(), lr=float(0.1))  # Includes GaussianLikelihood parameters\n",
    "\n",
    "\n",
    "# \"Loss\" for GPs - the marginal log likelihood\n",
    "mll = gpytorch.mlls.ExactMarginalLogLikelihood(likelihood, model)\n",
    "\n",
    "param_dict = {p[0]:[] for p in model.named_parameters() if 'covar' in p[0]}\n",
    "param_dict['loss'] = []\n",
    "param_dict['noise'] = []\n",
    "if len(likelihood.task_noises) > 1:\n",
    "    param_dict['task_noises'] = [[] for i in range(len(likelihood.task_noises))]\n",
    "for p in model.named_parameters():\n",
    "    if 'covar' in p[0]:\n",
    "        param_dict[f\"{p[0]}_grad\"] = []\n",
    "\n",
    "for i in range(training_iter):\n",
    "    print(f\"{i+1}/{training_iter}\")\n",
    "    # Zero gradients from previous iteration\n",
    "    optimizer.zero_grad()\n",
    "    # Output from model\n",
    "    output = model(train_x)\n",
    "    # Calc loss and backprop gradients\n",
    "    loss = -mll(output, train_y)\n",
    "    param_dict['loss'].append(loss.item())\n",
    "    #pdb.set_trace()\n",
    "    loss.backward()\n",
    "    for parameter in model.named_parameters():\n",
    "        if 'covar' in parameter[0]:\n",
    "            param_dict[parameter[0]].append(parameter[1].item())\n",
    "            #param_dict[f\"{parameter[0]}_grad\"].append(parameter[1].grad.item())\n",
    "    param_dict['noise'].append(likelihood.noise.item())\n",
    "    for l in range(len(likelihood.task_noises)):\n",
    "        param_dict['task_noises'][l].append(likelihood.task_noises[l].item())\n",
    "    optimizer.step()"
   ]
  },
  {
   "cell_type": "code",
   "execution_count": null,
   "id": "7bd2781c",
   "metadata": {},
   "outputs": [],
   "source": [
    "\n"
   ]
  },
  {
   "cell_type": "code",
   "execution_count": 25,
   "id": "b2fe4c78",
   "metadata": {},
   "outputs": [],
   "source": [
    "def coeffs(given_n):\n",
    "    # See http://oeis.org/A096713\n",
    "    real_n = int(given_n/2)\n",
    "    m, k = var('m, k')\n",
    "    # even\n",
    "    # T(2*m, k) = (-1)^(m+k)*(2*m)!*2^(k-m)/((m-k)!*(2*k)!), k = 0..m.\n",
    "    if given_n % 2 == 0:\n",
    "        # This notation is only valid in iPython\n",
    "        #T(m,k) = factorial(2*m)*2^(k-m)/(factorial(m-k)*factorial(2*k))\n",
    "        # As an actual Python file I need to use:\n",
    "        T = lambda m, k : (-1)**(m+k)*factorial(2*m)*2**(k-m)/(factorial(m-k)*factorial(2*k))\n",
    "    # odd\n",
    "    # T(2*m+1, k) = (-1)^(m+k)*(2*m+1)!*2^(k-m)/((m-k)!*(2*k+1)!), k = 0..m. (End)\n",
    "    else:\n",
    "        # See above\n",
    "        #T(m,k) = factorial(2*m+1)*2^(k-m)/(factorial(m-k)*factorial(2*k+1))\n",
    "        T = lambda m, k: (-1)**(m+k)*factorial(2*m+1)*2**(k-m)/(factorial(m-k)*factorial(2*k+1))\n",
    "    return [int(T(real_n, k)) for k in range(real_n+1)]\n"
   ]
  },
  {
   "cell_type": "code",
   "execution_count": 26,
   "id": "9d1d7907",
   "metadata": {},
   "outputs": [
    {
     "name": "stdout",
     "output_type": "stream",
     "text": [
      "[1]\n",
      "[1]\n",
      "[-1, 1]\n",
      "[-3, 1]\n",
      "[3, -6, 1]\n",
      "[15, -10, 1]\n",
      "[-15, 45, -15, 1]\n",
      "[-105, 105, -21, 1]\n",
      "[105, -420, 210, -28, 1]\n",
      "[945, -1260, 378, -36, 1]\n"
     ]
    }
   ],
   "source": [
    "for i in range(10):\n",
    "    print(coeffs(i))"
   ]
  },
  {
   "cell_type": "raw",
   "id": "c663e6b9",
   "metadata": {},
   "source": [
    "def dynamic_sage_diff(dx1_num, dx2_num):\n",
    "    SE(x1, x2, l, sigma) = sigma^2*exp(-(x1-x2)^2/(2*l^2))\n",
    "    for i in range(dx1_num):\n",
    "        SE = SE.diff(x1)\n",
    "    for j in range(dx2_num):\n",
    "        SE = SE.diff(x2)\n",
    "    return SE\n",
    "\n",
    "for j in range(6):\n",
    "    for i in range(6):\n",
    "        print(f\"dx1: {i}; dx2:{j}\")\n",
    "        print(ascii_art(dynamic_sage_diff(i, j)))\n",
    "        print(\"---\")"
   ]
  },
  {
   "cell_type": "code",
   "execution_count": 27,
   "id": "6f9a08a4",
   "metadata": {},
   "outputs": [
    {
     "data": {
      "text/plain": [
       "MultitaskGaussianLikelihood(\n",
       "  (raw_task_noises_constraint): GreaterThan(1.000E-04)\n",
       "  (raw_noise_constraint): GreaterThan(1.000E-04)\n",
       ")"
      ]
     },
     "execution_count": 27,
     "metadata": {},
     "output_type": "execute_result"
    }
   ],
   "source": [
    "likelihood\n",
    "#torch.autograd.functional.hessian(likelihood, train_x)"
   ]
  },
  {
   "cell_type": "code",
   "execution_count": 28,
   "id": "d0219bd8",
   "metadata": {},
   "outputs": [
    {
     "name": "stdout",
     "output_type": "stream",
     "text": [
      "('likelihood.raw_task_noises', Parameter containing:\n",
      "tensor([-inf, -inf, -inf], requires_grad=True))\n",
      "('likelihood.raw_noise', Parameter containing:\n",
      "tensor([0.2981], requires_grad=True))\n",
      "('covar_module.a', Parameter containing:\n",
      "tensor(1., requires_grad=True))\n",
      "('covar_module.12820758784.var', Parameter containing:\n",
      "tensor(-0.4839, requires_grad=True))\n",
      "('covar_module.12820758784.length', Parameter containing:\n",
      "tensor(0.4887, requires_grad=True))\n"
     ]
    }
   ],
   "source": [
    "for parameter in model.named_parameters():\n",
    "    print(parameter)\n"
   ]
  },
  {
   "cell_type": "code",
   "execution_count": 29,
   "id": "e6fb5fa0",
   "metadata": {},
   "outputs": [
    {
     "data": {
      "text/plain": [
       "<matplotlib.legend.Legend object at 0x2fc192af0>"
      ]
     },
     "execution_count": 29,
     "metadata": {},
     "output_type": "execute_result"
    },
    {
     "data": {
      "image/png": "[encoded data removed]",
      "text/plain": [
       "<Figure size 432x288 with 1 Axes>"
      ]
     },
     "metadata": {
      "needs_background": "light"
     },
     "output_type": "display_data"
    }
   ],
   "source": [
    "for param_key in param_dict:\n",
    "    if param_key == 'task_noises':\n",
    "        pass\n",
    "    else:\n",
    "        plt.plot(param_dict[param_key], label=param_key)\n",
    "    \n",
    "plt.legend(loc='upper center', bbox_to_anchor=(0.5, -0.05), shadow=True, ncol=2)\n"
   ]
  },
  {
   "cell_type": "code",
   "execution_count": 30,
   "id": "38d928e9",
   "metadata": {},
   "outputs": [
    {
     "name": "stdout",
     "output_type": "stream",
     "text": [
      "tensor([0.8534], grad_fn=<AddBackward0>)\n",
      "tensor([1.0000e-04, 1.0000e-04, 1.0000e-04], grad_fn=<AddBackward0>)\n"
     ]
    }
   ],
   "source": [
    "print(likelihood.noise)\n",
    "print(likelihood.task_noises)"
   ]
  },
  {
   "cell_type": "code",
   "execution_count": 31,
   "id": "c2b924f7",
   "metadata": {},
   "outputs": [
    {
     "data": {
      "text/plain": [
       "[  2.000000000000000?                    0  0.6065000000000000?  0.6065000000000000?]\n",
       "[                   0                    1 -0.6065000000000000?  0.6065000000000000?]\n",
       "[ 0.6065000000000000? -0.6065000000000000?   2.000000000000000?              0.?e-18]\n",
       "[ 0.6065000000000000?  0.6065000000000000?              0.?e-18   1.000000000000000?]"
      ]
     },
     "execution_count": 31,
     "metadata": {},
     "output_type": "execute_result"
    }
   ],
   "source": [
    "A = matrix(QQ, 4, 4, (2,0,0.6065,0.6065,0,1,-0.6065,0.6065,0.6065,-0.6065,2,0,0.6065,0.6065,0,1))\n",
    "L = A.cholesky()\n",
    "L*L.transpose()"
   ]
  },
  {
   "cell_type": "code",
   "execution_count": null,
   "id": "afdc9a70",
   "metadata": {},
   "outputs": [],
   "source": []
  },
  {
   "cell_type": "code",
   "execution_count": 32,
   "id": "7d1b8824",
   "metadata": {
    "scrolled": true
   },
   "outputs": [
    {
     "name": "stdout",
     "output_type": "stream",
     "text": [
      "('likelihood.raw_task_noises', Parameter containing:\n",
      "tensor([-inf, -inf, -inf], requires_grad=True))\n",
      "('likelihood.raw_noise', Parameter containing:\n",
      "tensor([0.2981], requires_grad=True))\n",
      "('covar_module.a', Parameter containing:\n",
      "tensor(1., requires_grad=True))\n",
      "('covar_module.12820758784.var', Parameter containing:\n",
      "tensor(-0.4839, requires_grad=True))\n",
      "('covar_module.12820758784.length', Parameter containing:\n",
      "tensor(0.4887, requires_grad=True))\n"
     ]
    }
   ],
   "source": [
    "for parameter in model.named_parameters():\n",
    "    print(parameter)"
   ]
  },
  {
   "cell_type": "code",
   "execution_count": null,
   "id": "8dd409d7",
   "metadata": {},
   "outputs": [],
   "source": []
  },
  {
   "cell_type": "code",
   "execution_count": 33,
   "id": "f0c869eb",
   "metadata": {
    "scrolled": true
   },
   "outputs": [],
   "source": [
    "# Set into eval mode\n",
    "model.eval()\n",
    "likelihood.eval()\n",
    "\n",
    "# Initialize plots\n",
    "\n",
    "number_of_samples = int(150)\n",
    "# Make predictions\n",
    "with torch.no_grad():#, gpytorch.settings.fast_pred_var():\n",
    "    test_x = torch.linspace(float(-1), float(4), number_of_samples)\n",
    "    #pdb.set_trace()\n",
    "    outputs = model(test_x)\n",
    "    predictions = likelihood(outputs)\n",
    "    \n",
    "    mean = predictions.mean\n",
    "    lower, upper = predictions.confidence_region()\n",
    "#print(mean)\n",
    "#print(lower)\n",
    "#print(upper)\n",
    "# This contains predictions for both tasks, flattened out\n",
    "# The first half of the predictions is for the first task\n",
    "# The second half is for the second task\n",
    "\n",
    "#dims = int(2)\n",
    "#indices = [list(range(i, len(train_y), dims)) for i in range(dims)]\n"
   ]
  },
  {
   "cell_type": "code",
   "execution_count": 34,
   "id": "f0a03a44",
   "metadata": {
    "scrolled": true
   },
   "outputs": [
    {
     "data": {
      "text/plain": [
       "Text(0.5, 1.0, 'Prior')"
      ]
     },
     "execution_count": 34,
     "metadata": {},
     "output_type": "execute_result"
    },
    {
     "data": {
      "image/png": "[encoded data removed]",
      "text/plain": [
       "<Figure size 1080x288 with 3 Axes>"
      ]
     },
     "metadata": {
      "needs_background": "light"
     },
     "output_type": "display_data"
    }
   ],
   "source": [
    "f, (y1_ax, y2_ax, y3_ax) = plt.subplots(int(1), int(3), figsize=(int(15), int(4)))\n",
    "\n",
    "# Plot training data as black stars\n",
    "y1_ax.plot(train_x.detach().numpy(), train_y[:, 0].detach().numpy(), 'k*')\n",
    "# Predictive mean as blue line\n",
    "y1_ax.plot(test_x.numpy(), mean[:, 0].numpy(), 'b')\n",
    "# Shade in confidence\n",
    "y1_ax.fill_between(test_x.numpy(), lower[:, 0].numpy(), upper[:, 0].numpy(), alpha=0.5)\n",
    "y1_ax.set_ylim([-5, 5])\n",
    "y1_ax.legend(['Observed Data', 'Mean', 'Confidence'])\n",
    "y1_ax.set_title('Observed Values (Likelihood)')\n",
    "\n",
    "# Plot training data as black stars\n",
    "y2_ax.plot(train_x.detach().numpy(), train_y[:, 1].detach().numpy(), 'k*')\n",
    "# Predictive mean as blue line\n",
    "y2_ax.plot(test_x.numpy(), mean[:, 1].numpy(), 'b')\n",
    "# Shade in confidence\n",
    "y2_ax.fill_between(test_x.numpy(), lower[:, 1].numpy(), upper[:, 1].numpy(), alpha=0.5)\n",
    "y2_ax.set_ylim([-5, 5])\n",
    "y2_ax.legend(['Observed Data', 'Mean', 'Confidence'])\n",
    "y2_ax.set_title('Observed Values (Likelihood)')\n",
    "\n",
    "# Plot training data as black stars\n",
    "y3_ax.plot(train_x.detach().numpy(), train_y[:, 2].detach().numpy(), 'k*')\n",
    "# Predictive mean as blue line\n",
    "y3_ax.plot(test_x.numpy(), mean[:, 2].numpy(), 'b')\n",
    "# Shade in confidence\n",
    "y3_ax.fill_between(test_x.numpy(), lower[:, 2].numpy(), upper[:, 2].numpy(), alpha=0.5)\n",
    "y3_ax.set_ylim([-5, 5])\n",
    "y3_ax.legend(['Observed Data', 'Mean', 'Confidence'])\n",
    "#y3_ax.legend(['Mean', 'Confidence'])\n",
    "y3_ax.set_title('Prior')\n",
    "\n"
   ]
  },
  {
   "cell_type": "raw",
   "id": "49b79859",
   "metadata": {},
   "source": []
  },
  {
   "cell_type": "code",
   "execution_count": null,
   "id": "ad4df72d",
   "metadata": {},
   "outputs": [],
   "source": []
  },
  {
   "cell_type": "code",
   "execution_count": 35,
   "id": "822f0426",
   "metadata": {},
   "outputs": [
    {
     "data": {
      "text/plain": [
       "[ 7 10]"
      ]
     },
     "execution_count": 35,
     "metadata": {},
     "output_type": "execute_result"
    }
   ],
   "source": [
    "a = matrix(1, 2, (1, 2))\n",
    "b = matrix(2, 2, (1, 2, 3, 4))\n",
    "a*b"
   ]
  },
  {
   "cell_type": "markdown",
   "id": "bf73a6c3",
   "metadata": {},
   "source": [
    "# Test Diffable SE Kernel"
   ]
  },
  {
   "cell_type": "code",
   "execution_count": 36,
   "id": "b432934f",
   "metadata": {},
   "outputs": [
    {
     "data": {
      "text/plain": [
       "tensor([1, 2, 3])"
      ]
     },
     "execution_count": 36,
     "metadata": {},
     "output_type": "execute_result"
    }
   ],
   "source": [
    "X = torch.tensor([int(1), int(2), int(3)])\n",
    "X"
   ]
  },
  {
   "cell_type": "code",
   "execution_count": 37,
   "id": "ae01ece4",
   "metadata": {},
   "outputs": [],
   "source": [
    "X = torch.linspace(float(0), float(1), int(2))"
   ]
  },
  {
   "cell_type": "code",
   "execution_count": 38,
   "id": "d46856bd",
   "metadata": {
    "scrolled": true
   },
   "outputs": [
    {
     "data": {
      "text/plain": [
       "[[-1.0, 0.0], [0.0, -1.0]]"
      ]
     },
     "execution_count": 38,
     "metadata": {},
     "output_type": "execute_result"
    }
   ],
   "source": [
    "x1, x2, l, sigma = var('x1, x2, l, sigma')\n",
    "lengthscale = 1\n",
    "variance = 1\n",
    "SE(x1, x2, l, sigma) = sigma^2*exp(-(x1-x2)^2/(2*l^2))\n",
    "cov_matr = [[None for i in range(len(X))] for j in range(len(X))]\n",
    "for i, (v1, v2) in enumerate(product(X, X)):\n",
    "    cov_matr[int(i/len(X))][int(i%len(X))] = float(SE.diff(x2).diff(x2)(int(v1), int(v2), lengthscale, variance))\n",
    "cov_matr"
   ]
  },
  {
   "cell_type": "code",
   "execution_count": null,
   "id": "29571cd7",
   "metadata": {},
   "outputs": [],
   "source": []
  },
  {
   "cell_type": "code",
   "execution_count": 39,
   "id": "55bee06a",
   "metadata": {},
   "outputs": [
    {
     "name": "stdout",
     "output_type": "stream",
     "text": [
      "(x1, x2, l, sigma) |--> -sigma^2*e^(-1/2*(x1 - x2)^2/l^2)/l^2 + sigma^2*(x1 - x2)^2*e^(-1/2*(x1 - x2)^2/l^2)/l^4\n"
     ]
    }
   ],
   "source": [
    "SE(x1, x2, l, sigma) = sigma^2*exp(-(x1-x2)^2/(2*l^2))\n",
    "#print(SE)\n",
    "#print(SE.diff(x1).diff(x2))\n",
    "print(SE.diff(x2).diff(x2))\n",
    "#print(SE.diff(x1).diff(x2).diff(x1).diff(x2).diff(x1))\n",
    "#print(SE.diff(x1).diff(x2).diff(x1).diff(x2))\n",
    "#float(SE.diff(x2).diff(x1)(float(1.), float(1.), 1, 1))"
   ]
  },
  {
   "cell_type": "code",
   "execution_count": 40,
   "id": "ea4620c2",
   "metadata": {},
   "outputs": [
    {
     "ename": "AttributeError",
     "evalue": "'sage.rings.integer.Integer' object has no attribute 'variables'",
     "output_type": "error",
     "traceback": [
      "\u001b[0;31m---------------------------------------------------------------------------\u001b[0m",
      "\u001b[0;31mAttributeError\u001b[0m                            Traceback (most recent call last)",
      "\u001b[0;32m<ipython-input-40-905b2e62b592>\u001b[0m in \u001b[0;36m<module>\u001b[0;34m\u001b[0m\n\u001b[1;32m      6\u001b[0m \u001b[0mleft_poly\u001b[0m \u001b[0;34m=\u001b[0m \u001b[0mdx2\u001b[0m\u001b[0;34m\u001b[0m\u001b[0;34m\u001b[0m\u001b[0m\n\u001b[1;32m      7\u001b[0m \u001b[0mright_poly\u001b[0m \u001b[0;34m=\u001b[0m \u001b[0mInteger\u001b[0m\u001b[0;34m(\u001b[0m\u001b[0;36m1\u001b[0m\u001b[0;34m)\u001b[0m\u001b[0;34m\u001b[0m\u001b[0;34m\u001b[0m\u001b[0m\n\u001b[0;32m----> 8\u001b[0;31m \u001b[0mdiffed_kernel2\u001b[0m \u001b[0;34m=\u001b[0m \u001b[0ma\u001b[0m\u001b[0;34m.\u001b[0m\u001b[0mdiff\u001b[0m\u001b[0;34m(\u001b[0m\u001b[0mleft_poly\u001b[0m\u001b[0;34m=\u001b[0m\u001b[0mleft_poly\u001b[0m\u001b[0;34m,\u001b[0m \u001b[0mright_poly\u001b[0m\u001b[0;34m=\u001b[0m\u001b[0mright_poly\u001b[0m\u001b[0;34m,\u001b[0m \u001b[0mleft_d_var\u001b[0m\u001b[0;34m=\u001b[0m\u001b[0mvar\u001b[0m\u001b[0;34m(\u001b[0m\u001b[0;34m'dx2'\u001b[0m\u001b[0;34m)\u001b[0m\u001b[0;34m,\u001b[0m \u001b[0mright_d_var\u001b[0m\u001b[0;34m=\u001b[0m\u001b[0mvar\u001b[0m\u001b[0;34m(\u001b[0m\u001b[0;34m'dx1'\u001b[0m\u001b[0;34m)\u001b[0m\u001b[0;34m)\u001b[0m\u001b[0;34m\u001b[0m\u001b[0;34m\u001b[0m\u001b[0m\n\u001b[0m\u001b[1;32m      9\u001b[0m \u001b[0mdiffed_kernel\u001b[0m\u001b[0;34m(\u001b[0m\u001b[0mX\u001b[0m\u001b[0;34m)\u001b[0m\u001b[0;34m.\u001b[0m\u001b[0mevaluate\u001b[0m\u001b[0;34m(\u001b[0m\u001b[0;34m)\u001b[0m \u001b[0;34m+\u001b[0m \u001b[0mdiffed_kernel2\u001b[0m\u001b[0;34m(\u001b[0m\u001b[0mX\u001b[0m\u001b[0;34m)\u001b[0m\u001b[0;34m.\u001b[0m\u001b[0mevaluate\u001b[0m\u001b[0;34m(\u001b[0m\u001b[0;34m)\u001b[0m\u001b[0;34m\u001b[0m\u001b[0;34m\u001b[0m\u001b[0m\n",
      "\u001b[0;32m~/Documents/container_storage/sage/DiffEqGPs/kernels.py\u001b[0m in \u001b[0;36mdiff\u001b[0;34m(self, left_poly, right_poly, left_d_var, right_d_var, parent_context, var_dict)\u001b[0m\n\u001b[1;32m    631\u001b[0m         \u001b[0;32mif\u001b[0m \u001b[0mparent_context\u001b[0m \u001b[0;32mis\u001b[0m \u001b[0;32mNone\u001b[0m\u001b[0;34m:\u001b[0m\u001b[0;34m\u001b[0m\u001b[0;34m\u001b[0m\u001b[0m\n\u001b[1;32m    632\u001b[0m             \u001b[0mparent_context\u001b[0m \u001b[0;34m=\u001b[0m \u001b[0mdiffed_kernel\u001b[0m\u001b[0;34m\u001b[0m\u001b[0;34m\u001b[0m\u001b[0m\n\u001b[0;32m--> 633\u001b[0;31m         \u001b[0mderivation_term_list\u001b[0m \u001b[0;34m=\u001b[0m \u001b[0mprepare_asym_deriv_dict\u001b[0m\u001b[0;34m(\u001b[0m\u001b[0mleft_poly\u001b[0m\u001b[0;34m,\u001b[0m \u001b[0mright_poly\u001b[0m\u001b[0;34m,\u001b[0m \u001b[0mparent_context\u001b[0m\u001b[0;34m,\u001b[0m \u001b[0mleft_d_var\u001b[0m\u001b[0;34m,\u001b[0m \u001b[0mright_d_var\u001b[0m\u001b[0;34m,\u001b[0m \u001b[0mvar_dict\u001b[0m\u001b[0;34m=\u001b[0m\u001b[0mvar_dict\u001b[0m\u001b[0;34m)\u001b[0m\u001b[0;34m\u001b[0m\u001b[0;34m\u001b[0m\u001b[0m\n\u001b[0m\u001b[1;32m    634\u001b[0m         \u001b[0mderived_form_list\u001b[0m \u001b[0;34m=\u001b[0m \u001b[0;34m[\u001b[0m\u001b[0;34m]\u001b[0m\u001b[0;34m\u001b[0m\u001b[0;34m\u001b[0m\u001b[0m\n\u001b[1;32m    635\u001b[0m         \u001b[0;32mfor\u001b[0m \u001b[0mterm\u001b[0m \u001b[0;32min\u001b[0m \u001b[0mderivation_term_list\u001b[0m\u001b[0;34m:\u001b[0m\u001b[0;34m\u001b[0m\u001b[0;34m\u001b[0m\u001b[0m\n",
      "\u001b[0;32m~/Documents/container_storage/sage/DiffEqGPs/kernels.py\u001b[0m in \u001b[0;36mprepare_asym_deriv_dict\u001b[0;34m(left_poly, right_poly, context, left_d_var, right_d_var, var_dict)\u001b[0m\n\u001b[1;32m    198\u001b[0m                         requires_grad=True))\n\u001b[1;32m    199\u001b[0m     \u001b[0mleft_iteration_list\u001b[0m \u001b[0;34m=\u001b[0m \u001b[0mextract_operand_list\u001b[0m\u001b[0;34m(\u001b[0m\u001b[0mleft_poly\u001b[0m\u001b[0;34m,\u001b[0m \u001b[0mleft_d_var\u001b[0m\u001b[0;34m,\u001b[0m \u001b[0mvar_dict\u001b[0m\u001b[0;34m=\u001b[0m\u001b[0mvar_dict\u001b[0m\u001b[0;34m)\u001b[0m\u001b[0;34m\u001b[0m\u001b[0;34m\u001b[0m\u001b[0m\n\u001b[0;32m--> 200\u001b[0;31m     \u001b[0mright_iteration_list\u001b[0m \u001b[0;34m=\u001b[0m \u001b[0mextract_operand_list\u001b[0m\u001b[0;34m(\u001b[0m\u001b[0mright_poly\u001b[0m\u001b[0;34m,\u001b[0m \u001b[0mright_d_var\u001b[0m\u001b[0;34m,\u001b[0m \u001b[0mvar_dict\u001b[0m\u001b[0;34m=\u001b[0m\u001b[0mvar_dict\u001b[0m\u001b[0;34m)\u001b[0m\u001b[0;34m\u001b[0m\u001b[0;34m\u001b[0m\u001b[0m\n\u001b[0m\u001b[1;32m    201\u001b[0m     \u001b[0mleft_right\u001b[0m \u001b[0;34m=\u001b[0m \u001b[0mitertools\u001b[0m\u001b[0;34m.\u001b[0m\u001b[0mproduct\u001b[0m\u001b[0;34m(\u001b[0m\u001b[0mleft_iteration_list\u001b[0m\u001b[0;34m,\u001b[0m \u001b[0mright_iteration_list\u001b[0m\u001b[0;34m)\u001b[0m\u001b[0;34m\u001b[0m\u001b[0;34m\u001b[0m\u001b[0m\n\u001b[1;32m    202\u001b[0m     \u001b[0;32mfor\u001b[0m \u001b[0mleft\u001b[0m\u001b[0;34m,\u001b[0m \u001b[0mright\u001b[0m \u001b[0;32min\u001b[0m \u001b[0mleft_right\u001b[0m\u001b[0;34m:\u001b[0m\u001b[0;34m\u001b[0m\u001b[0;34m\u001b[0m\u001b[0m\n",
      "\u001b[0;32m~/Documents/container_storage/sage/DiffEqGPs/kernels.py\u001b[0m in \u001b[0;36mextract_operand_list\u001b[0;34m(polynomial, d_var, var_dict)\u001b[0m\n\u001b[1;32m    149\u001b[0m     \u001b[0md_var\u001b[0m \u001b[0;34m=\u001b[0m \u001b[0mSR\u001b[0m\u001b[0;34m.\u001b[0m\u001b[0mvar\u001b[0m\u001b[0;34m(\u001b[0m\u001b[0mstr\u001b[0m\u001b[0;34m(\u001b[0m\u001b[0md_var\u001b[0m\u001b[0;34m)\u001b[0m\u001b[0;34m)\u001b[0m\u001b[0;34m\u001b[0m\u001b[0;34m\u001b[0m\u001b[0m\n\u001b[1;32m    150\u001b[0m     \u001b[0;32mif\u001b[0m \u001b[0mvar_dict\u001b[0m \u001b[0;32mis\u001b[0m \u001b[0;32mNone\u001b[0m\u001b[0;34m:\u001b[0m\u001b[0;34m\u001b[0m\u001b[0;34m\u001b[0m\u001b[0m\n\u001b[0;32m--> 151\u001b[0;31m         \u001b[0mvar_dict\u001b[0m \u001b[0;34m=\u001b[0m \u001b[0;34m{\u001b[0m\u001b[0mstr\u001b[0m\u001b[0;34m(\u001b[0m\u001b[0mvar\u001b[0m\u001b[0;34m)\u001b[0m\u001b[0;34m:\u001b[0m \u001b[0mSR\u001b[0m\u001b[0;34m.\u001b[0m\u001b[0mvar\u001b[0m\u001b[0;34m(\u001b[0m\u001b[0mstr\u001b[0m\u001b[0;34m(\u001b[0m\u001b[0mvar\u001b[0m\u001b[0;34m)\u001b[0m\u001b[0;34m)\u001b[0m \u001b[0;32mfor\u001b[0m \u001b[0mvar\u001b[0m \u001b[0;32min\u001b[0m \u001b[0mpolynomial\u001b[0m\u001b[0;34m.\u001b[0m\u001b[0mvariables\u001b[0m\u001b[0;34m(\u001b[0m\u001b[0;34m)\u001b[0m\u001b[0;34m}\u001b[0m \u001b[0;32mif\u001b[0m \u001b[0;32mnot\u001b[0m \u001b[0mtype\u001b[0m\u001b[0;34m(\u001b[0m\u001b[0mpolynomial\u001b[0m\u001b[0;34m)\u001b[0m \u001b[0;32min\u001b[0m \u001b[0;34m[\u001b[0m\u001b[0mint\u001b[0m\u001b[0;34m,\u001b[0m \u001b[0mfloat\u001b[0m\u001b[0;34m]\u001b[0m \u001b[0;32melse\u001b[0m \u001b[0;34m{\u001b[0m\u001b[0;34m}\u001b[0m\u001b[0;34m\u001b[0m\u001b[0;34m\u001b[0m\u001b[0m\n\u001b[0m\u001b[1;32m    152\u001b[0m     \u001b[0;32melse\u001b[0m\u001b[0;34m:\u001b[0m\u001b[0;34m\u001b[0m\u001b[0;34m\u001b[0m\u001b[0m\n\u001b[1;32m    153\u001b[0m         \u001b[0mvar_dict\u001b[0m \u001b[0;34m=\u001b[0m \u001b[0;34m{\u001b[0m\u001b[0mstr\u001b[0m\u001b[0;34m(\u001b[0m\u001b[0mvar\u001b[0m\u001b[0;34m)\u001b[0m\u001b[0;34m:\u001b[0m \u001b[0mSR\u001b[0m\u001b[0;34m.\u001b[0m\u001b[0mvar\u001b[0m\u001b[0;34m(\u001b[0m\u001b[0mvar\u001b[0m\u001b[0;34m)\u001b[0m \u001b[0;32mfor\u001b[0m \u001b[0mvar\u001b[0m \u001b[0;32min\u001b[0m \u001b[0mvar_dict\u001b[0m\u001b[0;34m}\u001b[0m\u001b[0;34m\u001b[0m\u001b[0;34m\u001b[0m\u001b[0m\n",
      "\u001b[0;32m/opt/anaconda3/envs/sage/lib/python3.9/site-packages/sage/structure/element.pyx\u001b[0m in \u001b[0;36msage.structure.element.Element.__getattr__ (build/cythonized/sage/structure/element.c:4722)\u001b[0;34m()\u001b[0m\n\u001b[1;32m    491\u001b[0m             \u001b[0mAttributeError\u001b[0m\u001b[0;34m:\u001b[0m \u001b[0;34m'LeftZeroSemigroup_with_category.element_class'\u001b[0m \u001b[0mobject\u001b[0m \u001b[0mhas\u001b[0m \u001b[0mno\u001b[0m \u001b[0mattribute\u001b[0m \u001b[0;34m'blah_blah'\u001b[0m\u001b[0;34m\u001b[0m\u001b[0;34m\u001b[0m\u001b[0m\n\u001b[1;32m    492\u001b[0m         \"\"\"\n\u001b[0;32m--> 493\u001b[0;31m         \u001b[0;32mreturn\u001b[0m \u001b[0mself\u001b[0m\u001b[0;34m.\u001b[0m\u001b[0mgetattr_from_category\u001b[0m\u001b[0;34m(\u001b[0m\u001b[0mname\u001b[0m\u001b[0;34m)\u001b[0m\u001b[0;34m\u001b[0m\u001b[0;34m\u001b[0m\u001b[0m\n\u001b[0m\u001b[1;32m    494\u001b[0m \u001b[0;34m\u001b[0m\u001b[0m\n\u001b[1;32m    495\u001b[0m     \u001b[0mcdef\u001b[0m \u001b[0mgetattr_from_category\u001b[0m\u001b[0;34m(\u001b[0m\u001b[0mself\u001b[0m\u001b[0;34m,\u001b[0m \u001b[0mname\u001b[0m\u001b[0;34m)\u001b[0m\u001b[0;34m:\u001b[0m\u001b[0;34m\u001b[0m\u001b[0;34m\u001b[0m\u001b[0m\n",
      "\u001b[0;32m/opt/anaconda3/envs/sage/lib/python3.9/site-packages/sage/structure/element.pyx\u001b[0m in \u001b[0;36msage.structure.element.Element.getattr_from_category (build/cythonized/sage/structure/element.c:4834)\u001b[0;34m()\u001b[0m\n\u001b[1;32m    504\u001b[0m         \u001b[0;32melse\u001b[0m\u001b[0;34m:\u001b[0m\u001b[0;34m\u001b[0m\u001b[0;34m\u001b[0m\u001b[0m\n\u001b[1;32m    505\u001b[0m             \u001b[0mcls\u001b[0m \u001b[0;34m=\u001b[0m \u001b[0mP\u001b[0m\u001b[0;34m.\u001b[0m\u001b[0m_abstract_element_class\u001b[0m\u001b[0;34m\u001b[0m\u001b[0;34m\u001b[0m\u001b[0m\n\u001b[0;32m--> 506\u001b[0;31m         \u001b[0;32mreturn\u001b[0m \u001b[0mgetattr_from_other_class\u001b[0m\u001b[0;34m(\u001b[0m\u001b[0mself\u001b[0m\u001b[0;34m,\u001b[0m \u001b[0mcls\u001b[0m\u001b[0;34m,\u001b[0m \u001b[0mname\u001b[0m\u001b[0;34m)\u001b[0m\u001b[0;34m\u001b[0m\u001b[0;34m\u001b[0m\u001b[0m\n\u001b[0m\u001b[1;32m    507\u001b[0m \u001b[0;34m\u001b[0m\u001b[0m\n\u001b[1;32m    508\u001b[0m     \u001b[0;32mdef\u001b[0m \u001b[0m__dir__\u001b[0m\u001b[0;34m(\u001b[0m\u001b[0mself\u001b[0m\u001b[0;34m)\u001b[0m\u001b[0;34m:\u001b[0m\u001b[0;34m\u001b[0m\u001b[0;34m\u001b[0m\u001b[0m\n",
      "\u001b[0;32m/opt/anaconda3/envs/sage/lib/python3.9/site-packages/sage/cpython/getattr.pyx\u001b[0m in \u001b[0;36msage.cpython.getattr.getattr_from_other_class (build/cythonized/sage/cpython/getattr.c:2633)\u001b[0;34m()\u001b[0m\n\u001b[1;32m    370\u001b[0m         \u001b[0mdummy_error_message\u001b[0m\u001b[0;34m.\u001b[0m\u001b[0mcls\u001b[0m \u001b[0;34m=\u001b[0m \u001b[0mtype\u001b[0m\u001b[0;34m(\u001b[0m\u001b[0mself\u001b[0m\u001b[0;34m)\u001b[0m\u001b[0;34m\u001b[0m\u001b[0;34m\u001b[0m\u001b[0m\n\u001b[1;32m    371\u001b[0m         \u001b[0mdummy_error_message\u001b[0m\u001b[0;34m.\u001b[0m\u001b[0mname\u001b[0m \u001b[0;34m=\u001b[0m \u001b[0mname\u001b[0m\u001b[0;34m\u001b[0m\u001b[0;34m\u001b[0m\u001b[0m\n\u001b[0;32m--> 372\u001b[0;31m         \u001b[0;32mraise\u001b[0m \u001b[0mAttributeError\u001b[0m\u001b[0;34m(\u001b[0m\u001b[0mdummy_error_message\u001b[0m\u001b[0;34m)\u001b[0m\u001b[0;34m\u001b[0m\u001b[0;34m\u001b[0m\u001b[0m\n\u001b[0m\u001b[1;32m    373\u001b[0m     \u001b[0mattribute\u001b[0m \u001b[0;34m=\u001b[0m \u001b[0;34m<\u001b[0m\u001b[0mobject\u001b[0m\u001b[0;34m>\u001b[0m\u001b[0mattr\u001b[0m\u001b[0;34m\u001b[0m\u001b[0;34m\u001b[0m\u001b[0m\n\u001b[1;32m    374\u001b[0m     \u001b[0;31m# Check for a descriptor (__get__ in Python)\u001b[0m\u001b[0;34m\u001b[0m\u001b[0;34m\u001b[0m\u001b[0m\n",
      "\u001b[0;31mAttributeError\u001b[0m: 'sage.rings.integer.Integer' object has no attribute 'variables'"
     ]
    }
   ],
   "source": [
    "a = Diff_SE_kernel(var=int(variance), length=int(lengthscale))\n",
    "q, dx1, dx2 = var('q, dx1, dx2')\n",
    "left_poly = dx2\n",
    "right_poly = dx1^3 \n",
    "diffed_kernel = a.diff(left_poly=left_poly, right_poly=right_poly, left_d_var=var('dx2'), right_d_var=var('dx1'))\n",
    "left_poly = dx2\n",
    "right_poly = 1\n",
    "diffed_kernel2 = a.diff(left_poly=left_poly, right_poly=right_poly, left_d_var=var('dx2'), right_d_var=var('dx1'))\n",
    "diffed_kernel(X).evaluate() + diffed_kernel2(X).evaluate()"
   ]
  },
  {
   "cell_type": "code",
   "execution_count": null,
   "id": "bd8e3474",
   "metadata": {},
   "outputs": [],
   "source": [
    "def calc_cell_diff(L, M, R, context=None):\n",
    "    len_M = np.shape(M)[0]\n",
    "    temp = None\n",
    "    # https://stackoverflow.com/questions/6473679/transpose-list-\n",
    "    # of-lists\n",
    "    M_transpose = list(\n",
    "       map(list, itertools.zip_longest(*M, fillvalue=None)))\n",
    "    for r_elem, row_M in zip(R, M_transpose):\n",
    "        for l_elem, m_elem in zip(L, row_M):\n",
    "            if temp is None:\n",
    "                #if M_transpose[int(j/len_M)][j % len_M] is not None:\n",
    "                if m_elem is not None:\n",
    "                    temp = l_elem * m_elem*r_elem\n",
    "                    #temp = l_elem * M_transpose[int(j/len_M)][j % len_M]*r_elem\n",
    "                else:\n",
    "                    pass\n",
    "            else:\n",
    "                if m_elem is not None:\n",
    "                #if M_transpose[int(j/len_M)][j % len_M] is not None:\n",
    "                    temp += l_elem * m_elem*r_elem\n",
    "                    #temp += l_elem * M_transpose[int(j/len_M)][j % len_M]*r_elem\n",
    "                else:\n",
    "                    pass\n",
    "    return temp.simplify_full()\n"
   ]
  },
  {
   "cell_type": "code",
   "execution_count": null,
   "id": "9a14736e",
   "metadata": {},
   "outputs": [],
   "source": [
    "dimension = 3\n",
    "length = dimension*dimension +1\n",
    "L_list = [var(f'l_{i}{j}') for i in range(1, dimension+1) for j in range(1, dimension+1)]\n",
    "M_list = [var(f'm_{i}{j}') for i in range(1, dimension+1) for j in range(1, dimension+1)]\n",
    "R_list = [var(f'r_{i}{j}') for i in range(1, dimension+1) for j in range(1, dimension+1)]\n",
    "L = matrix(dimension, dimension, L_list)\n",
    "M = matrix(dimension, dimension, M_list)\n",
    "R = matrix(dimension, dimension, R_list)\n",
    "print(L)\n",
    "print(M)\n",
    "print(R)\n",
    "row = 0\n",
    "col = 0\n",
    "for row in range(dimension):\n",
    "    for col in range(dimension):\n",
    "        print((L*M*R)[row][col])\n",
    "print(\"\\n\\n\")\n",
    "for i, (l, r) in enumerate(itertools.product(L.rows(), R.columns())):\n",
    "\n",
    "    print(calc_cell_diff(l, M, r))\n",
    "    print(\"\\n\")"
   ]
  },
  {
   "cell_type": "code",
   "execution_count": null,
   "id": "5347513f",
   "metadata": {},
   "outputs": [],
   "source": []
  },
  {
   "cell_type": "code",
   "execution_count": null,
   "id": "ecb35080",
   "metadata": {},
   "outputs": [],
   "source": []
  },
  {
   "cell_type": "code",
   "execution_count": null,
   "id": "8cbb4445",
   "metadata": {},
   "outputs": [],
   "source": [
    "def calc_cell_diff_sage(L, M, R, context=None):\n",
    "    temp = None\n",
    "    # https://stackoverflow.com/questions/6473679/transpose-list-\n",
    "    # of-lists\n",
    "    M_transpose = list(\n",
    "        map(list, itertools.zip_longest(*M, fillvalue=None)))\n",
    "    # Every row in 'M' is combined with each elem of the row given in 'R'\n",
    "    # Or: For each elemtn in row 'R' combine with 'row_M'\n",
    "    for r_elem, row_M in zip(R, M_transpose):\n",
    "        # Each element in L gets exactly one element in 'row_M' to multiply\n",
    "        # Or: Combine each element in row_M with exactly one element in 'L'\n",
    "        for l_elem, m_elem in zip(L, row_M):\n",
    "            if temp is None:\n",
    "                if m_elem is not None:\n",
    "                    if not l_elem == 0 and not r_elem == 0:\n",
    "                        temp = m_elem.diff(l_elem).diff(r_elem)\n",
    "                    #elif l_elem == 0 and not r_elem == 0:\n",
    "                    #    temp = m_elem.diff(r_elem)\n",
    "                    #elif not l_elem == 0 and r_elem == 0:\n",
    "                    #    temp = m_elem.diff(l_elem)\n",
    "                else:\n",
    "                    pass\n",
    "            else:\n",
    "                if m_elem is not None:\n",
    "                    if not l_elem == 0 and not r_elem == 0:\n",
    "                        temp += m_elem.diff(l_elem).diff(r_elem)\n",
    "                    #elif l_elem == 0 and not r_elem == 0:\n",
    "                    #    temp += m_elem.diff(r_elem)\n",
    "                    #elif not l_elem == 0 and r_elem == 0:\n",
    "                    #    temp += m_elem.diff(l_elem)\n",
    "                    \n",
    "                else:\n",
    "                    pass\n",
    "    return temp\n",
    "\n",
    "def diff_sage(matrix, left_matrix=None, right_matrix=None):\n",
    "    # iterate left matrix by rows and right matrix by columns and call the\n",
    "    # respective diff command of the kernels with the row/cols as params\n",
    "    kernel = MatrixKernel(None)\n",
    "    output_matrix = [[0 for i in range(np.shape(matrix)[1])] for j in range(np.shape(matrix)[0])]\n",
    "    for i, (l, r) in enumerate(itertools.product(left_matrix.rows(), right_matrix.columns())):\n",
    "        res = calc_cell_diff_sage(l, matrix, r, context=kernel)\n",
    "        output_matrix[int(i/np.shape(matrix)[0])][\n",
    "                    int(i % np.shape(matrix)[0])]  = res\n",
    "    kernel.set_matrix(output_matrix)\n",
    "    return output_matrix\n"
   ]
  },
  {
   "cell_type": "code",
   "execution_count": null,
   "id": "01f7f9d0",
   "metadata": {},
   "outputs": [],
   "source": [
    "import pprint\n",
    "L = matrix(2, 2, (x1, x1, 0, x1))\n",
    "R = matrix(2, 2, (x2, 0, x2, x2))\n",
    "x1, x2, l, sigma, l2, sigma2 = var('x1, x2, l, sigma, l2, sigma2')\n",
    "lengthscale = torch.nn.functional.softplus(torch.tensor(float(0.0)))\n",
    "variance = 1\n",
    "lengthscale2 = torch.nn.functional.softplus(torch.tensor(float(0.0)))\n",
    "variance2 = 1\n",
    "SEKernelMatrix = [[sigma^2*exp(-(x1-x2)^2/(2*l^2)), sigma2^2*exp(-(x1-x2)^2/(2*l2^2))], [sigma2^2*exp(-(x1-x2)^2/(2*l2^2)), sigma^2*exp(-(x1-x2)^2/(2*l^2))]]\n",
    "#diffed_SE_sage_matrix_kernel = diff_sage(SEKernelMatrix, left_matrix=L, right_matrix=R)\n",
    "#pprint.pprint(diffed_SE_sage_matrix_kernel)\n",
    "cov_matr = [[None for i in range(len(X)*len(SEKernelMatrix))] for j in range(len(X)*len(SEKernelMatrix))]\n",
    "for i, (v1, v2) in enumerate(product(X, X)):\n",
    "    for row in range(len(SEKernelMatrix)):\n",
    "        for col in range(len(SEKernelMatrix)):\n",
    "            # Blockwise\n",
    "            #cov_matr[int(i/len(X))+row*len(X)][int(i%len(X))+col*len(X)] = SEKernelMatrix[row][col].substitute(x1=int(v1), x2=int(v2), l=float(lengthscale), sigma=variance, l2=float(lengthscale2), sigma2=variance2)\n",
    "            # Interleaved\n",
    "            text=f\"x-pos: {int(((i*len(SEKernelMatrix))+row)/(len(X)*len(SEKernelMatrix)))*2+row}\" +\\\n",
    "            f\" y-pos: {int((i*len(SEKernelMatrix))+col)%(len(X)*len(SEKernelMatrix))}\" + \\\n",
    "            f\" x1, x2: {v1}, {v2}\\n\" +\\\n",
    "            f\"(x1-x2)^2: {(v1-v2)**2}\"+\\\n",
    "            f\" exp((x1-x2)^2): {np.exp((v1-v2)**2)}\\n\"+\\\n",
    "            f\"val: {float(SEKernelMatrix[row][col].substitute(x1=float(v1), x2=float(v2), l=float(lengthscale), sigma=variance, l2=float(lengthscale2), sigma2=variance2))}\"\n",
    "            print(text)\n",
    "            print(\"---\")\n",
    "            cov_matr[int(((i*len(SEKernelMatrix))+row)/(len(X)*len(SEKernelMatrix)))*2+row][int((i*len(SEKernelMatrix))+col)%(len(X)*len(SEKernelMatrix))] = float(SEKernelMatrix[row][col].substitute(x1=float(v1), x2=float(v2), l=float(lengthscale), sigma=variance, l2=float(lengthscale2), sigma2=variance2))\n",
    "cov_matr\n"
   ]
  },
  {
   "cell_type": "code",
   "execution_count": null,
   "id": "bd554171",
   "metadata": {},
   "outputs": [],
   "source": [
    "print(X)\n",
    "print(torch.Tensor(cov_matr).eig())"
   ]
  },
  {
   "cell_type": "code",
   "execution_count": null,
   "id": "d7195921",
   "metadata": {},
   "outputs": [],
   "source": []
  },
  {
   "cell_type": "code",
   "execution_count": null,
   "id": "780479da",
   "metadata": {},
   "outputs": [],
   "source": [
    "exp(-(-2-0.66)^2/(2))"
   ]
  },
  {
   "cell_type": "code",
   "execution_count": null,
   "id": "4b359f6b",
   "metadata": {},
   "outputs": [],
   "source": [
    "\n",
    "kernel = Diff_SE_kernel()\n",
    "kernel2 = Diff_SE_kernel()\n",
    "q, dx1, dx2 = var('q, dx1, dx2')\n",
    "L = matrix(2, 2, (dx1, dx1, 0, dx1))\n",
    "R = matrix(2, 2, (dx2, 0, dx2, dx2))\n",
    "\n",
    "p = DiffMatrixKernel([[kernel, None], [None, kernel2]])\n",
    "covar_module = p.diff(left_matrix=L, right_matrix=R)\n",
    "\n",
    "covar_x = covar_module(X)\n",
    "covar_x.evaluate()"
   ]
  },
  {
   "cell_type": "code",
   "execution_count": null,
   "id": "5c54aecb",
   "metadata": {},
   "outputs": [],
   "source": [
    "matr = [[2, 0, -6*e^(-2), 1, e^(-1/2), -e^(-2)],\n",
    " [0, 2, 0, -e^(-1/2), 1, e^(-1/2)],\n",
    " [-6*e^(-2), 0, 2, -5*e^(-2), -e^(-1/2), 1],\n",
    " [1, e^(-1/2), -e^(-2), 1, 0, -3*e^(-2)],\n",
    " [-e^(-1/2), 1, e^(-1/2), 0, 1, 0],\n",
    " [-5*e^(-2), -e^(-1/2), 1, -3*e^(-2), 0, 1]]\n",
    "\n",
    "matr = [[2, 0, -6*e^(-2), 1, 0, -3*e^(-2)],\n",
    " [0, 2, 0, 0, 1, 0],\n",
    " [-6*e^(-2), 0, 2, -3*e^(-2), 0, 1],\n",
    " [1, 0, -3*e^(-2), 1, 0, -3*e^(-2)],\n",
    " [0, 1, 0, 0, 1, 0],\n",
    " [-3*e^(-2), 0, 1, -3*e^(-2), 0, 1]]\n",
    "\n",
    "matr = torch.Tensor(matr)\n",
    "import pprint\n",
    "pprint.pprint(matr)\n",
    "print(matr[0::3, 0::3])\n",
    "H_x = 3\n",
    "torch.vstack([torch.hstack([matr[k::H_x, l::H_x] for l in range(H_x)]) for k in range(H_x)])"
   ]
  },
  {
   "cell_type": "code",
   "execution_count": null,
   "id": "39fa5cce",
   "metadata": {},
   "outputs": [],
   "source": []
  },
  {
   "cell_type": "code",
   "execution_count": null,
   "id": "b970f6f9",
   "metadata": {},
   "outputs": [],
   "source": [
    "class testobject():\n",
    "    def __init__(self, val):\n",
    "        self.val = val\n",
    "    \n",
    "    def setVal(self, val):\n",
    "        self.val = val\n",
    "        \n",
    "    def printVal(self):\n",
    "        return self.val\n",
    "    \n",
    "    def __call__(self):\n",
    "        return self.val"
   ]
  },
  {
   "cell_type": "code",
   "execution_count": null,
   "id": "1d23c16d",
   "metadata": {},
   "outputs": [],
   "source": [
    "t1 = testobject(42)\n",
    "t2 = testobject(21)\n",
    "t3 = testobject(17)\n",
    "l = [[t1, t2], [t2, t3]]\n",
    "print(l)\n",
    "t2.setVal(170)\n",
    "print(l[0][1].printVal())\n",
    "print(l[1][0].printVal())"
   ]
  },
  {
   "cell_type": "code",
   "execution_count": null,
   "id": "f894c2d7",
   "metadata": {},
   "outputs": [],
   "source": []
  },
  {
   "cell_type": "code",
   "execution_count": null,
   "id": "900df7d9",
   "metadata": {},
   "outputs": [],
   "source": [
    "q, dx1, dx2 = var('q, dx1, dx2')\n",
    "left_poly = dx1\n",
    "right_poly = dx2\n",
    "L = matrix(2, 2, (dx1, 0, 0, dx1))\n",
    "R = matrix(2, 2, (dx2, 0, 0, dx2))"
   ]
  },
  {
   "cell_type": "code",
   "execution_count": null,
   "id": "234faf1f",
   "metadata": {},
   "outputs": [],
   "source": [
    "p.diff(left_matrix=L, right_matrix=R).forward(X, X)"
   ]
  },
  {
   "cell_type": "code",
   "execution_count": null,
   "id": "51a46303",
   "metadata": {},
   "outputs": [],
   "source": []
  },
  {
   "cell_type": "code",
   "execution_count": null,
   "id": "fce7622e",
   "metadata": {},
   "outputs": [],
   "source": [
    "w, q, dx1, dx2 = var('w, q, dx1, dx2')\n",
    "a = dx1^2\n",
    "#a.degree(dx1)\n",
    "a.operands()"
   ]
  },
  {
   "cell_type": "code",
   "execution_count": null,
   "id": "c9a98d09",
   "metadata": {},
   "outputs": [],
   "source": [
    "prod([1,2,3])"
   ]
  },
  {
   "cell_type": "code",
   "execution_count": null,
   "id": "16d88618",
   "metadata": {},
   "outputs": [],
   "source": [
    "a = torch.Tensor([[int(1), int(2), int(3)], [int(4), int(5), int(6)], [int(7), int(8), int(9)]])\n",
    "for i, row in enumerate(a):\n",
    "    for j, elem in enumerate(row[i:]):\n",
    "        print(f\"row: {i}, col: {i+j}\")\n",
    "        print(elem)"
   ]
  },
  {
   "cell_type": "code",
   "execution_count": null,
   "id": "2b30b54d",
   "metadata": {},
   "outputs": [],
   "source": [
    "a, b, c, d = var('a, b, c, d')\n",
    "A = matrix(2,2, (a, b, c, d))\n",
    "B = matrix(2, 2, (dx1, dx1, 0, dx1))\n",
    "C = matrix(2, 2, (dx2, 0, dx2, dx2))\n",
    "print(A)\n",
    "print(B)\n",
    "B*A"
   ]
  },
  {
   "cell_type": "code",
   "execution_count": null,
   "id": "612d1b1d",
   "metadata": {},
   "outputs": [],
   "source": []
  },
  {
   "cell_type": "raw",
   "id": "78a512e0",
   "metadata": {},
   "source": [
    "a, b, c, d, x, y, dx1 = var('a, b, c, d, x, y, dx1')\n",
    "poly = x*x\n",
    "#poly = a*b*dx1**3\n",
    "print(type(poly))\n",
    "#poly = 839840583*x^75\n",
    "print(poly.degree(dx1))\n",
    "print(poly.operands())\n",
    "print([op.is_numeric() for op in poly.operands()])\n",
    "poly.is_polynomial(x)"
   ]
  },
  {
   "cell_type": "code",
   "execution_count": null,
   "id": "ac5ab94e",
   "metadata": {},
   "outputs": [],
   "source": [
    "def big_func(a, b, c):\n",
    "    print(a)\n",
    "    print(b)\n",
    "    return c*4\n",
    "a = lambda x: big_func(1, 2, x)\n",
    "\n",
    "a(42)"
   ]
  },
  {
   "cell_type": "code",
   "execution_count": null,
   "id": "86f6fe9d",
   "metadata": {},
   "outputs": [],
   "source": [
    "from kernels import *\n",
    "k1 = exp_kernel(int(1), int(1))\n",
    "dx1, dx2 = var('dx1, dx2')\n",
    "left = dx1\n",
    "right = dx2\n",
    "k1_d = k1.diff(left, right)\n",
    "print(k1_d)\n",
    "#print(k1_d.derivation_coefficients_list)\n",
    "X = torch.linspace(int(1), int(2), int(2))\n",
    "print(X)\n",
    "\n",
    "k1_d.forward(X)"
   ]
  },
  {
   "cell_type": "code",
   "execution_count": null,
   "id": "1fd0978e",
   "metadata": {},
   "outputs": [],
   "source": [
    "a, b, x = var('a, b, x')\n",
    "\n",
    "x = SR.var(x)\n",
    "expr = (1/b)*x^2\n",
    "#expr\n",
    "#expr.coefficient(x^(expr.degree(x))) == 1\n",
    "#expr = expr.expand()\n",
    "expr.variables()"
   ]
  },
  {
   "cell_type": "code",
   "execution_count": null,
   "id": "9733d46d",
   "metadata": {},
   "outputs": [],
   "source": [
    "#x = var('x')\n",
    "w0 = SR.wild(0)\n",
    "w1 = SR.wild(1)\n",
    "w2 = SR.wild(2)\n",
    "x = SR.var('x')\n",
    "polynomial = SR('-2*x**2-2')\n",
    "x is polynomial.variables()[0]\n",
    "#polynomial\n",
    "polynomial.find(w2*x**w0+w1)"
   ]
  },
  {
   "cell_type": "code",
   "execution_count": null,
   "id": "75657925",
   "metadata": {},
   "outputs": [],
   "source": [
    "import torch\n",
    "torch.mul(torch.tensor(int(3)),torch.tensor(int(3)),torch.tensor(int(3)))"
   ]
  },
  {
   "cell_type": "code",
   "execution_count": null,
   "id": "7d3e2ae7",
   "metadata": {},
   "outputs": [],
   "source": [
    "a, b, c, x = var('a, b, c, x')\n",
    "p = (a*b*c)*x^3\n",
    "print(p)\n",
    "print(p.coefficients(x)[0][0])\n",
    "print(p.coefficients(x)[0][0].is_symbol())\n",
    "\n",
    "#k = lambda f: f**int(2)\n",
    "#type(k)"
   ]
  },
  {
   "cell_type": "code",
   "execution_count": null,
   "id": "3a6e9c9f",
   "metadata": {},
   "outputs": [],
   "source": []
  },
  {
   "cell_type": "code",
   "execution_count": null,
   "id": "492295c2",
   "metadata": {},
   "outputs": [],
   "source": [
    "k = lambda : torch.mul(torch.tensor(int(3)), torch.tensor(int(4)))\n",
    "k()"
   ]
  },
  {
   "cell_type": "code",
   "execution_count": null,
   "id": "8a78525d",
   "metadata": {},
   "outputs": [],
   "source": [
    "a, b, n = var('a, b, n')\n",
    "f = tan(3)\n",
    "print(type(f))\n",
    "f.operator()"
   ]
  },
  {
   "cell_type": "code",
   "execution_count": null,
   "id": "2cbdb1fb",
   "metadata": {},
   "outputs": [],
   "source": [
    "import torch\n",
    "torch_operations = {'mul': torch.mul, 'add': torch.add, \n",
    "                    'pow': torch.pow, 'exp':torch.exp, \n",
    "                    'sin':torch.sin, 'cos':torch.cos, \n",
    "                    'log': torch.log}\n",
    "def extract_operation(operation : str):\n",
    "    # 'log' -> log(a), log(3), ...\n",
    "    # 'sin' -> sin(a), sin(3), ...\n",
    "    # 'exp' ...\n",
    "    # 'cos' ...\n",
    "    if operation in ['log', 'sin', 'exp', 'cos']:\n",
    "        return operation\n",
    "    # Operations are otherwise coded like '<function mul_varargs at 0xbbf31>'\n",
    "    # '<built-in function pow>' -> i.e. 1/a or a^n\n",
    "    elif operation == '<built-in function pow>':\n",
    "        return 'pow'\n",
    "    # '<function mul_vararg at 0x2ae95fb80>' -> a*b, 3/a, b/a etc.\n",
    "    elif 'mul_vararg' in operation:\n",
    "        return 'mul'\n",
    "    # '<function add_vararg at 0x2ae95f9d0>' -> a+b, 4+b, a+1/b\n",
    "    elif 'add_vararg' in operation: \n",
    "        return 'add'\n",
    "\n",
    "def extract_coefficient_recursively(coefficient, context):\n",
    "\n",
    "    # We have a big group of summands/multiplicants (e.g. a+b+c)\n",
    "    if len(coefficient.operands()) > 2:\n",
    "        # Do something with lists and loops\n",
    "        prev_entry = None\n",
    "        for entry in coefficient.operands():\n",
    "            if not entry.is_symbol() or entry.is_numeric() or entry.is_constant():\n",
    "                stuff = extract_coefficient_recursively(entry, context)\n",
    "            if prev_entry is None:\n",
    "                prev_entry = stuff                \n",
    "            elif prev_entry and callable(prev_entry) and not type(prev_entry) in [sage.symbolic.expression.Expression]:\n",
    "                # TODO see if the order of operation is correct this way (but should be actually)\n",
    "                prev_entry = lambda : torch_operations[extract_operation(str(coefficient.operator()))](prev_entry(), stuff)\n",
    "            else: \n",
    "                prev_entry = lambda : torch_operations[extract_operation(str(coefficient.operator()))](prev_entry, stuff)\n",
    "                    \n",
    "    # We have e.g. 3*a or 5/a etc.\n",
    "    elif len(coefficient.operands()) == 2:\n",
    "        left, right = coefficient.operands()\n",
    "        left = extract_coefficient_recursively(left, context)\n",
    "        right = extract_coefficient_recursively(right, context)\n",
    "        coeff = lambda: torch_operations[extract_operation(str(coefficient.operator()))](left, right)\n",
    "        \n",
    "    # coefficient is variable, find the corresponding parameter\n",
    "    elif coefficient.is_symbol():\n",
    "        coeff = getattr(context, str(coefficient))\n",
    "        \n",
    "    # if coefficient is numeric/constant, float() it\n",
    "    else:\n",
    "        coeff = torch.tensor(float(coefficient))\n",
    "        \n",
    "    return coeff"
   ]
  },
  {
   "cell_type": "code",
   "execution_count": null,
   "id": "90b6da12",
   "metadata": {},
   "outputs": [],
   "source": [
    "class ob():\n",
    "    def __init__(self):\n",
    "        self.a = torch.tensor(int(42))\n",
    "\n",
    "a, x = var('a, x')\n",
    "p = 1/a*x^3\n",
    "p = p.expand()\n",
    "print(p)\n",
    "print(p.coefficients(x)[0][0])\n",
    "coefficient = p.coefficients(x)[0][0]\n",
    "context = ob()\n",
    "var_dict = {'a':a, 'x':x}\n",
    "\n",
    "extract_coefficient_recursively(coefficient, context)()\n"
   ]
  }
 ],
 "metadata": {
  "kernelspec": {
   "display_name": "SageMath 9.4",
   "language": "sage",
   "name": "sagemath"
  },
  "language_info": {
   "codemirror_mode": {
    "name": "ipython",
    "version": 3
   },
   "file_extension": ".py",
   "mimetype": "text/x-python",
   "name": "python",
   "nbconvert_exporter": "python",
   "pygments_lexer": "ipython3",
   "version": "3.9.7"
  }
 },
 "nbformat": 4,
 "nbformat_minor": 5
}
