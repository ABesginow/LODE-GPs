{
 "cells": [
  {
   "cell_type": "code",
   "execution_count": 1,
   "id": "6eaef263",
   "metadata": {},
   "outputs": [],
   "source": [
    "import math\n",
    "import torch\n",
    "import gpytorch\n",
    "from matplotlib import pyplot as plt\n",
    "from kernels import *\n",
    "import pdb\n",
    "import gpytorch\n",
    "from itertools import product\n",
    "\n",
    "%matplotlib inline\n",
    "%load_ext autoreload\n",
    "%autoreload 2"
   ]
  },
  {
   "cell_type": "code",
   "execution_count": 2,
   "id": "779684f0",
   "metadata": {},
   "outputs": [],
   "source": [
    "train_x = torch.linspace(float(0), float(1), int(50))\n",
    "one = torch.sin(train_x * (float(2) * math.pi)) + torch.randn(train_x.size()) * float(0.2)\n",
    "two = torch.cos(train_x * (float(2) * math.pi)) + torch.randn(train_x.size()) * float(0.2)\n",
    "train_y = torch.stack([one, two], int(-1))\n"
   ]
  },
  {
   "cell_type": "code",
   "execution_count": null,
   "id": "361022cb",
   "metadata": {},
   "outputs": [],
   "source": []
  },
  {
   "cell_type": "raw",
   "id": "8734672a",
   "metadata": {},
   "source": []
  },
  {
   "cell_type": "code",
   "execution_count": null,
   "id": "b15ef0d8",
   "metadata": {},
   "outputs": [],
   "source": []
  },
  {
   "cell_type": "raw",
   "id": "de84d184",
   "metadata": {},
   "source": []
  },
  {
   "cell_type": "code",
   "execution_count": 3,
   "id": "9d5dedb4",
   "metadata": {},
   "outputs": [],
   "source": [
    "class MultitaskGPModel(gpytorch.models.ExactGP):\n",
    "    def __init__(self, train_x, train_y, likelihood):\n",
    "        super(MultitaskGPModel, self).__init__(train_x, train_y, likelihood)\n",
    "        self.mean_module = gpytorch.means.MultitaskMean(\n",
    "            gpytorch.means.ZeroMean(), num_tasks=2\n",
    "        )\n",
    "\n",
    "        kernel0 = Diff_SE_kernel()\n",
    "        kernel1 = Diff_SE_kernel()\n",
    "        kernel2 = Diff_SE_kernel()\n",
    "        self.covar_module = MatrixKernel([[kernel0, None], [None, kernel2]])\n",
    "\n",
    "    def forward(self, x):\n",
    "        #pdb.set_trace()\n",
    "        mean_x = self.mean_module(x)\n",
    "        covar_x = self.covar_module(x)\n",
    "        #print(f\"{covar_x.detach().evaluate()}\")\n",
    "        return gpytorch.distributions.MultitaskMultivariateNormal(mean_x, covar_x, validate_args=True)\n",
    "\n",
    "\n",
    "likelihood = gpytorch.likelihoods.MultitaskGaussianLikelihood(num_tasks=2)\n",
    "model = MultitaskGPModel(train_x, train_y, likelihood)"
   ]
  },
  {
   "cell_type": "code",
   "execution_count": 4,
   "id": "3f0a9b7f",
   "metadata": {},
   "outputs": [
    {
     "name": "stdout",
     "output_type": "stream",
     "text": [
      "tensor([[1.0001, 0.9998, 0.9992,  ..., 0.0000, 0.0000, 0.0000],\n",
      "        [0.9998, 1.0001, 0.9998,  ..., 0.0000, 0.0000, 0.0000],\n",
      "        [0.9992, 0.9998, 1.0001,  ..., 0.0000, 0.0000, 0.0000],\n",
      "        ...,\n",
      "        [0.0000, 0.0000, 0.0000,  ..., 1.0001, 0.9998, 0.9992],\n",
      "        [0.0000, 0.0000, 0.0000,  ..., 0.9998, 1.0001, 0.9998],\n",
      "        [0.0000, 0.0000, 0.0000,  ..., 0.9992, 0.9998, 1.0001]],\n",
      "       grad_fn=<CatBackward>)\n",
      "tensor([[1.1001, 1.0997, 1.0989,  ..., 0.0000, 0.0000, 0.0000],\n",
      "        [1.0997, 1.1001, 1.0997,  ..., 0.0000, 0.0000, 0.0000],\n",
      "        [1.0989, 1.0997, 1.1001,  ..., 0.0000, 0.0000, 0.0000],\n",
      "        ...,\n",
      "        [0.0000, 0.0000, 0.0000,  ..., 0.9001, 0.8998, 0.8991],\n",
      "        [0.0000, 0.0000, 0.0000,  ..., 0.8998, 0.9001, 0.8998],\n",
      "        [0.0000, 0.0000, 0.0000,  ..., 0.8991, 0.8998, 0.9001]],\n",
      "       grad_fn=<CatBackward>)\n",
      "tensor([[1.1528, 1.1523, 1.1512,  ..., 0.0000, 0.0000, 0.0000],\n",
      "        [1.1523, 1.1528, 1.1523,  ..., 0.0000, 0.0000, 0.0000],\n",
      "        [1.1512, 1.1523, 1.1528,  ..., 0.0000, 0.0000, 0.0000],\n",
      "        ...,\n",
      "        [0.0000, 0.0000, 0.0000,  ..., 0.9026, 0.9022, 0.9013],\n",
      "        [0.0000, 0.0000, 0.0000,  ..., 0.9022, 0.9026, 0.9022],\n",
      "        [0.0000, 0.0000, 0.0000,  ..., 0.9013, 0.9022, 0.9026]],\n",
      "       grad_fn=<CatBackward>)\n",
      "tensor([[1.1311, 1.1305, 1.1291,  ..., 0.0000, 0.0000, 0.0000],\n",
      "        [1.1305, 1.1311, 1.1305,  ..., 0.0000, 0.0000, 0.0000],\n",
      "        [1.1291, 1.1305, 1.1311,  ..., 0.0000, 0.0000, 0.0000],\n",
      "        ...,\n",
      "        [0.0000, 0.0000, 0.0000,  ..., 0.9643, 0.9638, 0.9626],\n",
      "        [0.0000, 0.0000, 0.0000,  ..., 0.9638, 0.9643, 0.9638],\n",
      "        [0.0000, 0.0000, 0.0000,  ..., 0.9626, 0.9638, 0.9643]],\n",
      "       grad_fn=<CatBackward>)\n",
      "tensor([[1.0747, 1.0739, 1.0721,  ..., 0.0000, 0.0000, 0.0000],\n",
      "        [1.0739, 1.0747, 1.0739,  ..., 0.0000, 0.0000, 0.0000],\n",
      "        [1.0721, 1.0739, 1.0747,  ..., 0.0000, 0.0000, 0.0000],\n",
      "        ...,\n",
      "        [0.0000, 0.0000, 0.0000,  ..., 1.0393, 1.0386, 1.0369],\n",
      "        [0.0000, 0.0000, 0.0000,  ..., 1.0386, 1.0393, 1.0386],\n",
      "        [0.0000, 0.0000, 0.0000,  ..., 1.0369, 1.0386, 1.0393]],\n",
      "       grad_fn=<CatBackward>)\n",
      "tensor([[1.0024, 1.0015, 0.9990,  ..., 0.0000, 0.0000, 0.0000],\n",
      "        [1.0015, 1.0024, 1.0015,  ..., 0.0000, 0.0000, 0.0000],\n",
      "        [0.9990, 1.0015, 1.0024,  ..., 0.0000, 0.0000, 0.0000],\n",
      "        ...,\n",
      "        [0.0000, 0.0000, 0.0000,  ..., 1.1218, 1.1208, 1.1183],\n",
      "        [0.0000, 0.0000, 0.0000,  ..., 1.1208, 1.1218, 1.1208],\n",
      "        [0.0000, 0.0000, 0.0000,  ..., 1.1183, 1.1208, 1.1218]],\n",
      "       grad_fn=<CatBackward>)\n",
      "tensor([[0.9219, 0.9206, 0.9172,  ..., 0.0000, 0.0000, 0.0000],\n",
      "        [0.9206, 0.9219, 0.9206,  ..., 0.0000, 0.0000, 0.0000],\n",
      "        [0.9172, 0.9206, 0.9219,  ..., 0.0000, 0.0000, 0.0000],\n",
      "        ...,\n",
      "        [0.0000, 0.0000, 0.0000,  ..., 1.2099, 1.2085, 1.2044],\n",
      "        [0.0000, 0.0000, 0.0000,  ..., 1.2085, 1.2099, 1.2085],\n",
      "        [0.0000, 0.0000, 0.0000,  ..., 1.2044, 1.2085, 1.2099]],\n",
      "       grad_fn=<CatBackward>)\n",
      "tensor([[0.8398, 0.8379, 0.8327,  ..., 0.0000, 0.0000, 0.0000],\n",
      "        [0.8379, 0.8398, 0.8379,  ..., 0.0000, 0.0000, 0.0000],\n",
      "        [0.8327, 0.8379, 0.8398,  ..., 0.0000, 0.0000, 0.0000],\n",
      "        ...,\n",
      "        [0.0000, 0.0000, 0.0000,  ..., 1.2998, 1.2973, 1.2900],\n",
      "        [0.0000, 0.0000, 0.0000,  ..., 1.2973, 1.2998, 1.2973],\n",
      "        [0.0000, 0.0000, 0.0000,  ..., 1.2900, 1.2973, 1.2998]],\n",
      "       grad_fn=<CatBackward>)\n",
      "tensor([[0.7522, 0.7490, 0.7396,  ..., 0.0000, 0.0000, 0.0000],\n",
      "        [0.7490, 0.7522, 0.7490,  ..., 0.0000, 0.0000, 0.0000],\n",
      "        [0.7396, 0.7490, 0.7522,  ..., 0.0000, 0.0000, 0.0000],\n",
      "        ...,\n",
      "        [0.0000, 0.0000, 0.0000,  ..., 1.3813, 1.3762, 1.3612],\n",
      "        [0.0000, 0.0000, 0.0000,  ..., 1.3762, 1.3813, 1.3762],\n",
      "        [0.0000, 0.0000, 0.0000,  ..., 1.3612, 1.3762, 1.3813]],\n",
      "       grad_fn=<CatBackward>)\n",
      "tensor([[0.6737, 0.6681, 0.6521,  ..., 0.0000, 0.0000, 0.0000],\n",
      "        [0.6681, 0.6737, 0.6681,  ..., 0.0000, 0.0000, 0.0000],\n",
      "        [0.6521, 0.6681, 0.6737,  ..., 0.0000, 0.0000, 0.0000],\n",
      "        ...,\n",
      "        [0.0000, 0.0000, 0.0000,  ..., 1.4416, 1.4310, 1.4001],\n",
      "        [0.0000, 0.0000, 0.0000,  ..., 1.4310, 1.4416, 1.4310],\n",
      "        [0.0000, 0.0000, 0.0000,  ..., 1.4001, 1.4310, 1.4416]],\n",
      "       grad_fn=<CatBackward>)\n",
      "tensor([[0.5949, 0.5902, 0.5765,  ..., 0.0000, 0.0000, 0.0000],\n",
      "        [0.5902, 0.5949, 0.5902,  ..., 0.0000, 0.0000, 0.0000],\n",
      "        [0.5765, 0.5902, 0.5949,  ..., 0.0000, 0.0000, 0.0000],\n",
      "        ...,\n",
      "        [0.0000, 0.0000, 0.0000,  ..., 1.4740, 1.4598, 1.4181],\n",
      "        [0.0000, 0.0000, 0.0000,  ..., 1.4598, 1.4740, 1.4598],\n",
      "        [0.0000, 0.0000, 0.0000,  ..., 1.4181, 1.4598, 1.4740]],\n",
      "       grad_fn=<CatBackward>)\n",
      "tensor([[0.5097, 0.5068, 0.4984,  ..., 0.0000, 0.0000, 0.0000],\n",
      "        [0.5068, 0.5097, 0.5068,  ..., 0.0000, 0.0000, 0.0000],\n",
      "        [0.4984, 0.5068, 0.5097,  ..., 0.0000, 0.0000, 0.0000],\n",
      "        ...,\n",
      "        [0.0000, 0.0000, 0.0000,  ..., 1.4818, 1.4700, 1.4353],\n",
      "        [0.0000, 0.0000, 0.0000,  ..., 1.4700, 1.4818, 1.4700],\n",
      "        [0.0000, 0.0000, 0.0000,  ..., 1.4353, 1.4700, 1.4818]],\n",
      "       grad_fn=<CatBackward>)\n",
      "tensor([[0.4207, 0.4190, 0.4142,  ..., 0.0000, 0.0000, 0.0000],\n",
      "        [0.4190, 0.4207, 0.4190,  ..., 0.0000, 0.0000, 0.0000],\n",
      "        [0.4142, 0.4190, 0.4207,  ..., 0.0000, 0.0000, 0.0000],\n",
      "        ...,\n",
      "        [0.0000, 0.0000, 0.0000,  ..., 1.4720, 1.4640, 1.4406],\n",
      "        [0.0000, 0.0000, 0.0000,  ..., 1.4640, 1.4720, 1.4640],\n",
      "        [0.0000, 0.0000, 0.0000,  ..., 1.4406, 1.4640, 1.4720]],\n",
      "       grad_fn=<CatBackward>)\n",
      "tensor([[0.3443, 0.3432, 0.3401,  ..., 0.0000, 0.0000, 0.0000],\n",
      "        [0.3432, 0.3443, 0.3432,  ..., 0.0000, 0.0000, 0.0000],\n",
      "        [0.3401, 0.3432, 0.3443,  ..., 0.0000, 0.0000, 0.0000],\n",
      "        ...,\n",
      "        [0.0000, 0.0000, 0.0000,  ..., 1.4510, 1.4457, 1.4303],\n",
      "        [0.0000, 0.0000, 0.0000,  ..., 1.4457, 1.4510, 1.4457],\n",
      "        [0.0000, 0.0000, 0.0000,  ..., 1.4303, 1.4457, 1.4510]],\n",
      "       grad_fn=<CatBackward>)\n",
      "tensor([[0.3154, 0.3144, 0.3117,  ..., 0.0000, 0.0000, 0.0000],\n",
      "        [0.3144, 0.3154, 0.3144,  ..., 0.0000, 0.0000, 0.0000],\n",
      "        [0.3117, 0.3144, 0.3154,  ..., 0.0000, 0.0000, 0.0000],\n",
      "        ...,\n",
      "        [0.0000, 0.0000, 0.0000,  ..., 1.4237, 1.4201, 1.4095],\n",
      "        [0.0000, 0.0000, 0.0000,  ..., 1.4201, 1.4237, 1.4201],\n",
      "        [0.0000, 0.0000, 0.0000,  ..., 1.4095, 1.4201, 1.4237]],\n",
      "       grad_fn=<CatBackward>)\n",
      "tensor([[0.3272, 0.3261, 0.3230,  ..., 0.0000, 0.0000, 0.0000],\n",
      "        [0.3261, 0.3272, 0.3261,  ..., 0.0000, 0.0000, 0.0000],\n",
      "        [0.3230, 0.3261, 0.3272,  ..., 0.0000, 0.0000, 0.0000],\n",
      "        ...,\n",
      "        [0.0000, 0.0000, 0.0000,  ..., 1.3953, 1.3926, 1.3847],\n",
      "        [0.0000, 0.0000, 0.0000,  ..., 1.3926, 1.3953, 1.3926],\n",
      "        [0.0000, 0.0000, 0.0000,  ..., 1.3847, 1.3926, 1.3953]],\n",
      "       grad_fn=<CatBackward>)\n",
      "tensor([[0.3599, 0.3583, 0.3539,  ..., 0.0000, 0.0000, 0.0000],\n",
      "        [0.3583, 0.3599, 0.3583,  ..., 0.0000, 0.0000, 0.0000],\n",
      "        [0.3539, 0.3583, 0.3599,  ..., 0.0000, 0.0000, 0.0000],\n",
      "        ...,\n",
      "        [0.0000, 0.0000, 0.0000,  ..., 1.3710, 1.3688, 1.3624],\n",
      "        [0.0000, 0.0000, 0.0000,  ..., 1.3688, 1.3710, 1.3688],\n",
      "        [0.0000, 0.0000, 0.0000,  ..., 1.3624, 1.3688, 1.3710]],\n",
      "       grad_fn=<CatBackward>)\n",
      "tensor([[0.3982, 0.3959, 0.3894,  ..., 0.0000, 0.0000, 0.0000],\n",
      "        [0.3959, 0.3982, 0.3959,  ..., 0.0000, 0.0000, 0.0000],\n",
      "        [0.3894, 0.3959, 0.3982,  ..., 0.0000, 0.0000, 0.0000],\n",
      "        ...,\n",
      "        [0.0000, 0.0000, 0.0000,  ..., 1.3556, 1.3536, 1.3479],\n",
      "        [0.0000, 0.0000, 0.0000,  ..., 1.3536, 1.3556, 1.3536],\n",
      "        [0.0000, 0.0000, 0.0000,  ..., 1.3479, 1.3536, 1.3556]],\n",
      "       grad_fn=<CatBackward>)\n",
      "tensor([[0.4288, 0.4259, 0.4175,  ..., 0.0000, 0.0000, 0.0000],\n",
      "        [0.4259, 0.4288, 0.4259,  ..., 0.0000, 0.0000, 0.0000],\n",
      "        [0.4175, 0.4259, 0.4288,  ..., 0.0000, 0.0000, 0.0000],\n",
      "        ...,\n",
      "        [0.0000, 0.0000, 0.0000,  ..., 1.3515, 1.3495, 1.3439],\n",
      "        [0.0000, 0.0000, 0.0000,  ..., 1.3495, 1.3515, 1.3495],\n",
      "        [0.0000, 0.0000, 0.0000,  ..., 1.3439, 1.3495, 1.3515]],\n",
      "       grad_fn=<CatBackward>)\n",
      "tensor([[0.4453, 0.4424, 0.4340,  ..., 0.0000, 0.0000, 0.0000],\n",
      "        [0.4424, 0.4453, 0.4424,  ..., 0.0000, 0.0000, 0.0000],\n",
      "        [0.4340, 0.4424, 0.4453,  ..., 0.0000, 0.0000, 0.0000],\n",
      "        ...,\n",
      "        [0.0000, 0.0000, 0.0000,  ..., 1.3582, 1.3561, 1.3502],\n",
      "        [0.0000, 0.0000, 0.0000,  ..., 1.3561, 1.3582, 1.3561],\n",
      "        [0.0000, 0.0000, 0.0000,  ..., 1.3502, 1.3561, 1.3582]],\n",
      "       grad_fn=<CatBackward>)\n"
     ]
    }
   ],
   "source": [
    "# this is for running the notebook in our testing framework\n",
    "import os\n",
    "smoke_test = ('CI' in os.environ)\n",
    "training_iter = int(2) if smoke_test else int(20)\n",
    "\n",
    "\n",
    "# Find optimal model hyperparameters\n",
    "model.train()\n",
    "likelihood.train()\n",
    "\n",
    "# Use the adam optimizer\n",
    "optimizer = torch.optim.Adam(model.parameters(), lr=float(0.1))  # Includes GaussianLikelihood parameters\n",
    "\n",
    "# \"Loss\" for GPs - the marginal log likelihood\n",
    "mll = gpytorch.mlls.ExactMarginalLogLikelihood(likelihood, model)\n",
    "\n",
    "for i in range(training_iter):\n",
    "    # Zero gradients from previous iteration\n",
    "    optimizer.zero_grad()\n",
    "    # Output from model\n",
    "    output = model(train_x)\n",
    "    # Calc loss and backprop gradients\n",
    "    loss = -mll(output, train_y)\n",
    "    loss.backward()\n",
    "    #print('Iter %d/%d - Loss: %.3f   lengthscale: %.3f  variance: %.3f noise: %.3f' % (\n",
    "    #    i + 1, training_iter, loss.item(),\n",
    "    #    model.covar_module.length.item(),\n",
    "    #    model.covar_module.var.item(),\n",
    "    #    model.likelihood.noise.item()\n",
    "    #))\n",
    "    optimizer.step()"
   ]
  },
  {
   "cell_type": "raw",
   "id": "75730997",
   "metadata": {},
   "source": []
  },
  {
   "cell_type": "code",
   "execution_count": 5,
   "id": "7d1b8824",
   "metadata": {
    "scrolled": true
   },
   "outputs": [
    {
     "name": "stdout",
     "output_type": "stream",
     "text": [
      "('likelihood.raw_task_noises', Parameter containing:\n",
      "tensor([-2.0356, -2.0631], requires_grad=True))\n",
      "('likelihood.raw_noise', Parameter containing:\n",
      "tensor([-2.0513], requires_grad=True))\n",
      "('covar_module.kernel_00.var', Parameter containing:\n",
      "tensor(0.4487, requires_grad=True))\n",
      "('covar_module.kernel_00.length', Parameter containing:\n",
      "tensor(0.2011, requires_grad=True))\n",
      "('covar_module.kernel_11.var', Parameter containing:\n",
      "tensor(1.3729, requires_grad=True))\n",
      "('covar_module.kernel_11.length', Parameter containing:\n",
      "tensor(0.3551, requires_grad=True))\n"
     ]
    }
   ],
   "source": [
    "for p in model.named_parameters():\n",
    "    print(p)"
   ]
  },
  {
   "cell_type": "code",
   "execution_count": 6,
   "id": "8dd409d7",
   "metadata": {},
   "outputs": [
    {
     "data": {
      "text/plain": [
       "(1, 2)"
      ]
     },
     "execution_count": 6,
     "metadata": {},
     "output_type": "execute_result"
    }
   ],
   "source": [
    "tuple([1,2])"
   ]
  },
  {
   "cell_type": "code",
   "execution_count": 7,
   "id": "f0c869eb",
   "metadata": {
    "scrolled": false
   },
   "outputs": [
    {
     "name": "stdout",
     "output_type": "stream",
     "text": [
      "tensor([[0.4488, 0.4464, 0.4396,  ..., 0.0000, 0.0000, 0.0000],\n",
      "        [0.4464, 0.4488, 0.4464,  ..., 0.0000, 0.0000, 0.0000],\n",
      "        [0.4396, 0.4464, 0.4488,  ..., 0.0000, 0.0000, 0.0000],\n",
      "        ...,\n",
      "        [0.0000, 0.0000, 0.0000,  ..., 1.3730, 1.3706, 1.3639],\n",
      "        [0.0000, 0.0000, 0.0000,  ..., 1.3706, 1.3730, 1.3706],\n",
      "        [0.0000, 0.0000, 0.0000,  ..., 1.3639, 1.3706, 1.3730]])\n",
      "tensor([[0.4488, 0.4464, 0.4396,  ..., 0.0000, 0.0000, 0.0000],\n",
      "        [0.4464, 0.4488, 0.4464,  ..., 0.0000, 0.0000, 0.0000],\n",
      "        [0.4396, 0.4464, 0.4488,  ..., 0.0000, 0.0000, 0.0000],\n",
      "        ...,\n",
      "        [0.0000, 0.0000, 0.0000,  ..., 1.3730, 1.3639, 1.3371],\n",
      "        [0.0000, 0.0000, 0.0000,  ..., 1.3639, 1.3730, 1.3639],\n",
      "        [0.0000, 0.0000, 0.0000,  ..., 1.3371, 1.3639, 1.3730]])\n"
     ]
    }
   ],
   "source": [
    "# Set into eval mode\n",
    "model.eval()\n",
    "likelihood.eval()\n",
    "\n",
    "# Initialize plots\n",
    "\n",
    "number_of_samples = int(50)\n",
    "# Make predictions\n",
    "with torch.no_grad():#, gpytorch.settings.fast_pred_var():\n",
    "    test_x = torch.linspace(float(0), float(2), number_of_samples)\n",
    "    #pdb.set_trace()\n",
    "    outputs = model(test_x)\n",
    "    predictions = likelihood(outputs)\n",
    "    \n",
    "    mean = predictions.mean\n",
    "    lower, upper = predictions.confidence_region()\n",
    "#print(mean)\n",
    "#print(lower)\n",
    "#print(upper)\n",
    "# This contains predictions for both tasks, flattened out\n",
    "# The first half of the predictions is for the first task\n",
    "# The second half is for the second task\n",
    "\n",
    "#dims = int(2)\n",
    "#indices = [list(range(i, len(train_y), dims)) for i in range(dims)]\n"
   ]
  },
  {
   "cell_type": "raw",
   "id": "49b79859",
   "metadata": {},
   "source": []
  },
  {
   "cell_type": "code",
   "execution_count": null,
   "id": "ad4df72d",
   "metadata": {},
   "outputs": [],
   "source": []
  },
  {
   "cell_type": "code",
   "execution_count": 8,
   "id": "f0a03a44",
   "metadata": {},
   "outputs": [
    {
     "data": {
      "text/plain": [
       "Text(0.5, 1.0, 'Observed Values (Likelihood)')"
      ]
     },
     "execution_count": 8,
     "metadata": {},
     "output_type": "execute_result"
    },
    {
     "data": {
      "image/png": "[encoded data removed]",
      "text/plain": [
       "<Figure size 576x216 with 2 Axes>"
      ]
     },
     "metadata": {
      "needs_background": "light"
     },
     "output_type": "display_data"
    }
   ],
   "source": [
    "f, (y1_ax, y2_ax) = plt.subplots(int(1), int(2), figsize=(int(8), int(3)))\n",
    "\n",
    "# Plot training data as black stars\n",
    "y1_ax.plot(train_x.detach().numpy(), train_y[:, 0].detach().numpy(), 'k*')\n",
    "# Predictive mean as blue line\n",
    "y1_ax.plot(test_x.numpy(), mean[:, 0].numpy(), 'b')\n",
    "# Shade in confidence\n",
    "y1_ax.fill_between(test_x.numpy(), lower[:, 0].numpy(), upper[:, 0].numpy(), alpha=0.5)\n",
    "y1_ax.set_ylim([-3, 8])\n",
    "y1_ax.legend(['Observed Data', 'Mean', 'Confidence'])\n",
    "y1_ax.set_title('Observed Values (Likelihood)')\n",
    "\n",
    "# Plot training data as black stars\n",
    "y2_ax.plot(train_x.detach().numpy(), train_y[:, 1].detach().numpy(), 'k*')\n",
    "# Predictive mean as blue line\n",
    "y2_ax.plot(test_x.numpy(), mean[:, 1].numpy(), 'b')\n",
    "# Shade in confidence\n",
    "y2_ax.fill_between(test_x.numpy(), lower[:, 1].numpy(), upper[:, 1].numpy(), alpha=0.5)\n",
    "y2_ax.set_ylim([-3, 8])\n",
    "y2_ax.legend(['Observed Data', 'Mean', 'Confidence'])\n",
    "y2_ax.set_title('Observed Values (Likelihood)')\n"
   ]
  },
  {
   "cell_type": "code",
   "execution_count": null,
   "id": "822f0426",
   "metadata": {},
   "outputs": [],
   "source": []
  },
  {
   "cell_type": "markdown",
   "id": "bf73a6c3",
   "metadata": {},
   "source": [
    "# Test Diffable SE Kernel"
   ]
  },
  {
   "cell_type": "code",
   "execution_count": 9,
   "id": "b432934f",
   "metadata": {},
   "outputs": [
    {
     "data": {
      "text/plain": [
       "tensor([1, 2, 3])"
      ]
     },
     "execution_count": 9,
     "metadata": {},
     "output_type": "execute_result"
    }
   ],
   "source": [
    "X = torch.tensor([int(1), int(2), int(3)])\n",
    "X"
   ]
  },
  {
   "cell_type": "code",
   "execution_count": null,
   "id": "ae01ece4",
   "metadata": {},
   "outputs": [],
   "source": []
  },
  {
   "cell_type": "code",
   "execution_count": 10,
   "id": "d46856bd",
   "metadata": {
    "scrolled": true
   },
   "outputs": [
    {
     "data": {
      "text/plain": [
       "[[1, 0, -3*e^(-2)], [0, 1, 0], [-3*e^(-2), 0, 1]]"
      ]
     },
     "execution_count": 10,
     "metadata": {},
     "output_type": "execute_result"
    }
   ],
   "source": [
    "x1, x2, l, sigma = var('x1, x2, l, sigma')\n",
    "lengthscale = 1\n",
    "variance = 1\n",
    "SE(x1, x2, l, sigma) = sigma^2*exp(-(x1-x2)^2/(2*l^2))\n",
    "cov_matr = [[None for i in range(len(X))] for j in range(len(X))]\n",
    "for i, (v1, v2) in enumerate(product(X, X)):\n",
    "    cov_matr[int(i/len(X))][int(i%len(X))] = SE.diff(x2).diff(x1)(int(v1), int(v2), lengthscale, variance)\n",
    "cov_matr"
   ]
  },
  {
   "cell_type": "code",
   "execution_count": 11,
   "id": "55bee06a",
   "metadata": {},
   "outputs": [
    {
     "data": {
      "text/plain": [
       "[sigma^2, e^(-1/2*(x1 - x2)^2/l^2)]"
      ]
     },
     "execution_count": 11,
     "metadata": {},
     "output_type": "execute_result"
    }
   ],
   "source": [
    "SE.operands()"
   ]
  },
  {
   "cell_type": "code",
   "execution_count": 12,
   "id": "ea4620c2",
   "metadata": {},
   "outputs": [
    {
     "data": {
      "text/plain": [
       "tensor([[ 1.0000,  0.0000, -0.4060],\n",
       "        [ 0.0000,  1.0000,  0.0000],\n",
       "        [-0.4060,  0.0000,  1.0000]], grad_fn=<MulBackward0>)"
      ]
     },
     "execution_count": 12,
     "metadata": {},
     "output_type": "execute_result"
    }
   ],
   "source": [
    "a = Diff_SE_kernel(var=int(variance), length=int(lengthscale))\n",
    "q, dx1, dx2 = var('q, dx1, dx2')\n",
    "left_poly = dx2\n",
    "right_poly = dx1\n",
    "diffed_kernel = a.diff(left_poly=left_poly, right_poly=right_poly, left_d_var=var('dx2'), right_d_var=var('dx1'))\n",
    "diffed_kernel(X).evaluate()"
   ]
  },
  {
   "cell_type": "code",
   "execution_count": 13,
   "id": "ed64995f",
   "metadata": {},
   "outputs": [],
   "source": [
    "def calc_cell_diff(L, M, R, row, col):\n",
    "    len_M = M.number_of_arguments()\n",
    "    temp = None\n",
    "    for j in range(int(sqrt(len_M))):\n",
    "        if temp == None:\n",
    "            import itertools\n",
    "            #M_tr = list(map(list, itertools.zip_longest(*M, fillvalue=None)))\n",
    "            #[M_tr[j].diff(left_poly=L[row][k], right_poly=R.transpose()[col][j]) for k in range(L.number_of_arguments())]\n",
    "            temp = L[row]*M.transpose()[j]*R.transpose()[col][j]\n",
    "        else:\n",
    "            temp += L[row]*M.transpose()[j]*R.transpose()[col][j]\n",
    "    return temp"
   ]
  },
  {
   "cell_type": "code",
   "execution_count": 30,
   "id": "2732ed50",
   "metadata": {
    "scrolled": false
   },
   "outputs": [
    {
     "name": "stdout",
     "output_type": "stream",
     "text": [
      "[l_11 l_12]\n",
      "[l_21 l_22]\n",
      "[m_11 m_12]\n",
      "[m_21 m_22]\n",
      "[r_11 r_12]\n",
      "[r_21 r_22]\n",
      "(l_21*m_11 + l_22*m_21)*r_11 + (l_21*m_12 + l_22*m_22)*r_21\n"
     ]
    },
    {
     "data": {
      "text/plain": [
       "(l_21*m_11 + l_22*m_21)*r_11 + (l_21*m_12 + l_22*m_22)*r_21"
      ]
     },
     "execution_count": 30,
     "metadata": {},
     "output_type": "execute_result"
    }
   ],
   "source": [
    "dimension = 2\n",
    "length = dimension*dimension +1\n",
    "L_list = [var(f'l_{i}{j}') for i in range(1, dimension+1) for j in range(1, dimension+1)]\n",
    "M_list = [var(f'm_{i}{j}') for i in range(1, dimension+1) for j in range(1, dimension+1)]\n",
    "R_list = [var(f'r_{i}{j}') for i in range(1, dimension+1) for j in range(1, dimension+1)]\n",
    "L = matrix(dimension, dimension, L_list)\n",
    "M = matrix(dimension, dimension, M_list)\n",
    "R = matrix(dimension, dimension, R_list)\n",
    "print(L)\n",
    "print(M)\n",
    "print(R)\n",
    "row = 1\n",
    "col = 0\n",
    "print((L*M*R)[row][col])\n",
    "\n",
    "calc_cell_diff(L, M, R, row, col)"
   ]
  },
  {
   "cell_type": "code",
   "execution_count": 31,
   "id": "77863a1a",
   "metadata": {},
   "outputs": [
    {
     "name": "stdout",
     "output_type": "stream",
     "text": [
      "((l_11, l_12), (r_11, r_21))\n",
      "((l_11, l_12), (r_12, r_22))\n",
      "((l_21, l_22), (r_11, r_21))\n",
      "((l_21, l_22), (r_12, r_22))\n"
     ]
    }
   ],
   "source": [
    "from itertools import product\n",
    "for p in product(L.rows(),R.columns()):\n",
    "    print(p)"
   ]
  },
  {
   "cell_type": "code",
   "execution_count": 16,
   "id": "3057be30",
   "metadata": {},
   "outputs": [
    {
     "data": {
      "text/plain": [
       "(x1, x2, sigma, l) |--> [sigma^2*e^(-1/2*(x1 - x2)^2/l^2)                                0]\n",
       "[                               0 sigma^2*e^(-1/2*(x1 - x2)^2/l^2)]"
      ]
     },
     "execution_count": 16,
     "metadata": {},
     "output_type": "execute_result"
    }
   ],
   "source": [
    "MSE(x1, x2, sigma, l) = matrix(2,2, (sigma^2*exp(-(x1-x2)^2/(2*l^2)), 0, 0, sigma^2*exp(-(x1-x2)^2/(2*l^2))))\n",
    "dx1 = matrix(2,2,(dx1, 0, 0, dx1))\n",
    "MSE"
   ]
  },
  {
   "cell_type": "code",
   "execution_count": 33,
   "id": "8e36afc4",
   "metadata": {},
   "outputs": [],
   "source": [
    "kernel = Diff_SE_kernel()\n",
    "kernel2 = Diff_SE_kernel()\n",
    "\n",
    "p = DiffMatrixKernel([[kernel, None], [None, kernel2]])"
   ]
  },
  {
   "cell_type": "code",
   "execution_count": 37,
   "id": "4df483d5",
   "metadata": {},
   "outputs": [],
   "source": [
    "q, dx1, dx2 = var('q, dx1, dx2')\n",
    "left_poly = dx1\n",
    "right_poly = dx2\n",
    "L = matrix(2, 2, (dx1, 0, 0, dx1))\n",
    "R = matrix(2, 2, (dx2, 0, 0, dx2))"
   ]
  },
  {
   "cell_type": "code",
   "execution_count": 40,
   "id": "f217ed74",
   "metadata": {},
   "outputs": [
    {
     "name": "stdout",
     "output_type": "stream",
     "text": [
      "tensor([[ 1.0000,  0.0000, -0.4060,  1.0000,  0.0000, -0.4060],\n",
      "        [ 0.0000,  1.0000,  0.0000,  0.0000,  1.0000,  0.0000],\n",
      "        [-0.4060,  0.0000,  1.0000, -0.4060,  0.0000,  1.0000],\n",
      "        [ 1.0000,  0.0000, -0.4060,  1.0000,  0.0000, -0.4060],\n",
      "        [ 0.0000,  1.0000,  0.0000,  0.0000,  1.0000,  0.0000],\n",
      "        [-0.4060,  0.0000,  1.0000, -0.4060,  0.0000,  1.0000]],\n",
      "       grad_fn=<CatBackward>)\n"
     ]
    },
    {
     "data": {
      "text/plain": [
       "tensor([[ 1.0000,  1.0000,  0.0000,  0.0000, -0.4060, -0.4060],\n",
       "        [ 1.0000,  1.0000,  0.0000,  0.0000, -0.4060, -0.4060],\n",
       "        [ 0.0000,  0.0000,  1.0000,  1.0000,  0.0000,  0.0000],\n",
       "        [ 0.0000,  0.0000,  1.0000,  1.0000,  0.0000,  0.0000],\n",
       "        [-0.4060, -0.4060,  0.0000,  0.0000,  1.0000,  1.0000],\n",
       "        [-0.4060, -0.4060,  0.0000,  0.0000,  1.0000,  1.0000]],\n",
       "       grad_fn=<CatBackward>)"
      ]
     },
     "execution_count": 40,
     "metadata": {},
     "output_type": "execute_result"
    }
   ],
   "source": [
    "p.diff(left_matrix=L, right_matrix=R).forward(X, X)"
   ]
  },
  {
   "cell_type": "code",
   "execution_count": null,
   "id": "e8f1ecc3",
   "metadata": {},
   "outputs": [],
   "source": []
  },
  {
   "cell_type": "code",
   "execution_count": null,
   "id": "cabb84bd",
   "metadata": {},
   "outputs": [],
   "source": []
  }
 ],
 "metadata": {
  "kernelspec": {
   "display_name": "SageMath 9.2",
   "language": "sage",
   "name": "sagemath"
  },
  "language_info": {
   "codemirror_mode": {
    "name": "ipython",
    "version": 3
   },
   "file_extension": ".py",
   "mimetype": "text/x-python",
   "name": "python",
   "nbconvert_exporter": "python",
   "pygments_lexer": "ipython3",
   "version": "3.9.5"
  }
 },
 "nbformat": 4,
 "nbformat_minor": 5
}
