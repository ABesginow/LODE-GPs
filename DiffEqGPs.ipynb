{
 "cells": [
  {
   "cell_type": "code",
   "execution_count": 1,
   "id": "6eaef263",
   "metadata": {},
   "outputs": [],
   "source": [
    "import math\n",
    "import torch\n",
    "import gpytorch\n",
    "from matplotlib import pyplot as plt\n",
    "from kernels import *\n",
    "import pdb\n",
    "import gpytorch\n",
    "from itertools import product\n",
    "\n",
    "%matplotlib inline\n",
    "%load_ext autoreload\n",
    "%autoreload 2"
   ]
  },
  {
   "cell_type": "code",
   "execution_count": 2,
   "id": "779684f0",
   "metadata": {},
   "outputs": [],
   "source": [
    "train_x = torch.linspace(float(0), float(1), int(50))\n",
    "one = torch.sin(train_x * (float(2) * math.pi)) + torch.randn(train_x.size()) * float(0.2)\n",
    "two = torch.cos(train_x * (float(2) * math.pi)) + torch.randn(train_x.size()) * float(0.2)\n",
    "train_y = torch.stack([one, two], int(-1))\n"
   ]
  },
  {
   "cell_type": "code",
   "execution_count": null,
   "id": "361022cb",
   "metadata": {},
   "outputs": [],
   "source": []
  },
  {
   "cell_type": "raw",
   "id": "8734672a",
   "metadata": {},
   "source": []
  },
  {
   "cell_type": "code",
   "execution_count": null,
   "id": "b15ef0d8",
   "metadata": {},
   "outputs": [],
   "source": []
  },
  {
   "cell_type": "raw",
   "id": "de84d184",
   "metadata": {},
   "source": []
  },
  {
   "cell_type": "code",
   "execution_count": 3,
   "id": "9d5dedb4",
   "metadata": {},
   "outputs": [],
   "source": [
    "class MultitaskGPModel(gpytorch.models.ExactGP):\n",
    "    def __init__(self, train_x, train_y, likelihood):\n",
    "        super(MultitaskGPModel, self).__init__(train_x, train_y, likelihood)\n",
    "        self.mean_module = gpytorch.means.MultitaskMean(\n",
    "            gpytorch.means.ZeroMean(), num_tasks=2\n",
    "        )\n",
    "        \n",
    "        kernel0 = Diff_SE_kernel()\n",
    "        kernel1 = Diff_SE_kernel()\n",
    "        kernel2 = Diff_SE_kernel()\n",
    "        self.covar_module = MatrixKernel([[kernel0, None], [None, kernel2]])\n",
    "\n",
    "    def forward(self, x):\n",
    "        #pdb.set_trace()\n",
    "        mean_x = self.mean_module(x)\n",
    "        covar_x = self.covar_module(x)\n",
    "        #print(f\"{covar_x.detach().evaluate()}\")\n",
    "        return gpytorch.distributions.MultitaskMultivariateNormal(mean_x, covar_x, validate_args=True)\n",
    "\n",
    "\n",
    "likelihood = gpytorch.likelihoods.MultitaskGaussianLikelihood(num_tasks=2)\n",
    "model = MultitaskGPModel(train_x, train_y, likelihood)"
   ]
  },
  {
   "cell_type": "code",
   "execution_count": 4,
   "id": "3f0a9b7f",
   "metadata": {},
   "outputs": [
    {
     "name": "stdout",
     "output_type": "stream",
     "text": [
      "tensor([[1.0001, 0.9998, 0.9992,  ..., 0.0000, 0.0000, 0.0000],\n",
      "        [0.9998, 1.0001, 0.9998,  ..., 0.0000, 0.0000, 0.0000],\n",
      "        [0.9992, 0.9998, 1.0001,  ..., 0.0000, 0.0000, 0.0000],\n",
      "        ...,\n",
      "        [0.0000, 0.0000, 0.0000,  ..., 1.0001, 0.9998, 0.9992],\n",
      "        [0.0000, 0.0000, 0.0000,  ..., 0.9998, 1.0001, 0.9998],\n",
      "        [0.0000, 0.0000, 0.0000,  ..., 0.9992, 0.9998, 1.0001]],\n",
      "       grad_fn=<CatBackward>)\n",
      "tensor([[1.1001, 1.0997, 1.0989,  ..., 0.0000, 0.0000, 0.0000],\n",
      "        [1.0997, 1.1001, 1.0997,  ..., 0.0000, 0.0000, 0.0000],\n",
      "        [1.0989, 1.0997, 1.1001,  ..., 0.0000, 0.0000, 0.0000],\n",
      "        ...,\n",
      "        [0.0000, 0.0000, 0.0000,  ..., 0.9001, 0.8998, 0.8991],\n",
      "        [0.0000, 0.0000, 0.0000,  ..., 0.8998, 0.9001, 0.8998],\n",
      "        [0.0000, 0.0000, 0.0000,  ..., 0.8991, 0.8998, 0.9001]],\n",
      "       grad_fn=<CatBackward>)\n",
      "tensor([[1.1917, 1.1912, 1.1901,  ..., 0.0000, 0.0000, 0.0000],\n",
      "        [1.1912, 1.1917, 1.1912,  ..., 0.0000, 0.0000, 0.0000],\n",
      "        [1.1901, 1.1912, 1.1917,  ..., 0.0000, 0.0000, 0.0000],\n",
      "        ...,\n",
      "        [0.0000, 0.0000, 0.0000,  ..., 0.8378, 0.8374, 0.8366],\n",
      "        [0.0000, 0.0000, 0.0000,  ..., 0.8374, 0.8378, 0.8374],\n",
      "        [0.0000, 0.0000, 0.0000,  ..., 0.8366, 0.8374, 0.8378]],\n",
      "       grad_fn=<CatBackward>)\n",
      "tensor([[1.2589, 1.2583, 1.2567,  ..., 0.0000, 0.0000, 0.0000],\n",
      "        [1.2583, 1.2589, 1.2583,  ..., 0.0000, 0.0000, 0.0000],\n",
      "        [1.2567, 1.2583, 1.2589,  ..., 0.0000, 0.0000, 0.0000],\n",
      "        ...,\n",
      "        [0.0000, 0.0000, 0.0000,  ..., 0.8732, 0.8727, 0.8717],\n",
      "        [0.0000, 0.0000, 0.0000,  ..., 0.8727, 0.8732, 0.8727],\n",
      "        [0.0000, 0.0000, 0.0000,  ..., 0.8717, 0.8727, 0.8732]],\n",
      "       grad_fn=<CatBackward>)\n",
      "tensor([[1.2874, 1.2866, 1.2844,  ..., 0.0000, 0.0000, 0.0000],\n",
      "        [1.2866, 1.2874, 1.2866,  ..., 0.0000, 0.0000, 0.0000],\n",
      "        [1.2844, 1.2866, 1.2874,  ..., 0.0000, 0.0000, 0.0000],\n",
      "        ...,\n",
      "        [0.0000, 0.0000, 0.0000,  ..., 0.9381, 0.9375, 0.9360],\n",
      "        [0.0000, 0.0000, 0.0000,  ..., 0.9375, 0.9381, 0.9375],\n",
      "        [0.0000, 0.0000, 0.0000,  ..., 0.9360, 0.9375, 0.9381]],\n",
      "       grad_fn=<CatBackward>)\n",
      "tensor([[1.2824, 1.2812, 1.2780,  ..., 0.0000, 0.0000, 0.0000],\n",
      "        [1.2812, 1.2824, 1.2812,  ..., 0.0000, 0.0000, 0.0000],\n",
      "        [1.2780, 1.2812, 1.2824,  ..., 0.0000, 0.0000, 0.0000],\n",
      "        ...,\n",
      "        [0.0000, 0.0000, 0.0000,  ..., 1.0146, 1.0138, 1.0115],\n",
      "        [0.0000, 0.0000, 0.0000,  ..., 1.0138, 1.0146, 1.0138],\n",
      "        [0.0000, 0.0000, 0.0000,  ..., 1.0115, 1.0138, 1.0146]],\n",
      "       grad_fn=<CatBackward>)\n",
      "tensor([[1.2600, 1.2583, 1.2536,  ..., 0.0000, 0.0000, 0.0000],\n",
      "        [1.2583, 1.2600, 1.2583,  ..., 0.0000, 0.0000, 0.0000],\n",
      "        [1.2536, 1.2583, 1.2600,  ..., 0.0000, 0.0000, 0.0000],\n",
      "        ...,\n",
      "        [0.0000, 0.0000, 0.0000,  ..., 1.0987, 1.0974, 1.0937],\n",
      "        [0.0000, 0.0000, 0.0000,  ..., 1.0974, 1.0987, 1.0974],\n",
      "        [0.0000, 0.0000, 0.0000,  ..., 1.0937, 1.0974, 1.0987]],\n",
      "       grad_fn=<CatBackward>)\n",
      "tensor([[1.2323, 1.2296, 1.2219,  ..., 0.0000, 0.0000, 0.0000],\n",
      "        [1.2296, 1.2323, 1.2296,  ..., 0.0000, 0.0000, 0.0000],\n",
      "        [1.2219, 1.2296, 1.2323,  ..., 0.0000, 0.0000, 0.0000],\n",
      "        ...,\n",
      "        [0.0000, 0.0000, 0.0000,  ..., 1.1859, 1.1836, 1.1770],\n",
      "        [0.0000, 0.0000, 0.0000,  ..., 1.1836, 1.1859, 1.1836],\n",
      "        [0.0000, 0.0000, 0.0000,  ..., 1.1770, 1.1836, 1.1859]],\n",
      "       grad_fn=<CatBackward>)\n",
      "tensor([[1.1825, 1.1774, 1.1622,  ..., 0.0000, 0.0000, 0.0000],\n",
      "        [1.1774, 1.1825, 1.1774,  ..., 0.0000, 0.0000, 0.0000],\n",
      "        [1.1622, 1.1774, 1.1825,  ..., 0.0000, 0.0000, 0.0000],\n",
      "        ...,\n",
      "        [0.0000, 0.0000, 0.0000,  ..., 1.2651, 1.2604, 1.2469],\n",
      "        [0.0000, 0.0000, 0.0000,  ..., 1.2604, 1.2651, 1.2604],\n",
      "        [0.0000, 0.0000, 0.0000,  ..., 1.2469, 1.2604, 1.2651]],\n",
      "       grad_fn=<CatBackward>)\n",
      "tensor([[1.1188, 1.1110, 1.0882,  ..., 0.0000, 0.0000, 0.0000],\n",
      "        [1.1110, 1.1188, 1.1110,  ..., 0.0000, 0.0000, 0.0000],\n",
      "        [1.0882, 1.1110, 1.1188,  ..., 0.0000, 0.0000, 0.0000],\n",
      "        ...,\n",
      "        [0.0000, 0.0000, 0.0000,  ..., 1.3208, 1.3113, 1.2834],\n",
      "        [0.0000, 0.0000, 0.0000,  ..., 1.3113, 1.3208, 1.3113],\n",
      "        [0.0000, 0.0000, 0.0000,  ..., 1.2834, 1.3113, 1.3208]],\n",
      "       grad_fn=<CatBackward>)\n",
      "tensor([[1.0454, 1.0387, 1.0193,  ..., 0.0000, 0.0000, 0.0000],\n",
      "        [1.0387, 1.0454, 1.0387,  ..., 0.0000, 0.0000, 0.0000],\n",
      "        [1.0193, 1.0387, 1.0454,  ..., 0.0000, 0.0000, 0.0000],\n",
      "        ...,\n",
      "        [0.0000, 0.0000, 0.0000,  ..., 1.3461, 1.3336, 1.2969],\n",
      "        [0.0000, 0.0000, 0.0000,  ..., 1.3336, 1.3461, 1.3336],\n",
      "        [0.0000, 0.0000, 0.0000,  ..., 1.2969, 1.3336, 1.3461]],\n",
      "       grad_fn=<CatBackward>)\n",
      "tensor([[0.9639, 0.9594, 0.9465,  ..., 0.0000, 0.0000, 0.0000],\n",
      "        [0.9594, 0.9639, 0.9594,  ..., 0.0000, 0.0000, 0.0000],\n",
      "        [0.9465, 0.9594, 0.9639,  ..., 0.0000, 0.0000, 0.0000],\n",
      "        ...,\n",
      "        [0.0000, 0.0000, 0.0000,  ..., 1.3456, 1.3353, 1.3054],\n",
      "        [0.0000, 0.0000, 0.0000,  ..., 1.3353, 1.3456, 1.3353],\n",
      "        [0.0000, 0.0000, 0.0000,  ..., 1.3054, 1.3353, 1.3456]],\n",
      "       grad_fn=<CatBackward>)\n",
      "tensor([[0.8770, 0.8741, 0.8658,  ..., 0.0000, 0.0000, 0.0000],\n",
      "        [0.8741, 0.8770, 0.8741,  ..., 0.0000, 0.0000, 0.0000],\n",
      "        [0.8658, 0.8741, 0.8770,  ..., 0.0000, 0.0000, 0.0000],\n",
      "        ...,\n",
      "        [0.0000, 0.0000, 0.0000,  ..., 1.3274, 1.3206, 1.3005],\n",
      "        [0.0000, 0.0000, 0.0000,  ..., 1.3206, 1.3274, 1.3206],\n",
      "        [0.0000, 0.0000, 0.0000,  ..., 1.3005, 1.3206, 1.3274]],\n",
      "       grad_fn=<CatBackward>)\n",
      "tensor([[0.7901, 0.7880, 0.7823,  ..., 0.0000, 0.0000, 0.0000],\n",
      "        [0.7880, 0.7901, 0.7880,  ..., 0.0000, 0.0000, 0.0000],\n",
      "        [0.7823, 0.7880, 0.7901,  ..., 0.0000, 0.0000, 0.0000],\n",
      "        ...,\n",
      "        [0.0000, 0.0000, 0.0000,  ..., 1.2983, 1.2938, 1.2806],\n",
      "        [0.0000, 0.0000, 0.0000,  ..., 1.2938, 1.2983, 1.2938],\n",
      "        [0.0000, 0.0000, 0.0000,  ..., 1.2806, 1.2938, 1.2983]],\n",
      "       grad_fn=<CatBackward>)\n",
      "tensor([[0.7140, 0.7123, 0.7077,  ..., 0.0000, 0.0000, 0.0000],\n",
      "        [0.7123, 0.7140, 0.7123,  ..., 0.0000, 0.0000, 0.0000],\n",
      "        [0.7077, 0.7123, 0.7140,  ..., 0.0000, 0.0000, 0.0000],\n",
      "        ...,\n",
      "        [0.0000, 0.0000, 0.0000,  ..., 1.2637, 1.2605, 1.2514],\n",
      "        [0.0000, 0.0000, 0.0000,  ..., 1.2605, 1.2637, 1.2605],\n",
      "        [0.0000, 0.0000, 0.0000,  ..., 1.2514, 1.2605, 1.2637]],\n",
      "       grad_fn=<CatBackward>)\n",
      "tensor([[0.6597, 0.6581, 0.6535,  ..., 0.0000, 0.0000, 0.0000],\n",
      "        [0.6581, 0.6597, 0.6581,  ..., 0.0000, 0.0000, 0.0000],\n",
      "        [0.6535, 0.6581, 0.6597,  ..., 0.0000, 0.0000, 0.0000],\n",
      "        ...,\n",
      "        [0.0000, 0.0000, 0.0000,  ..., 1.2289, 1.2265, 1.2197],\n",
      "        [0.0000, 0.0000, 0.0000,  ..., 1.2265, 1.2289, 1.2265],\n",
      "        [0.0000, 0.0000, 0.0000,  ..., 1.2197, 1.2265, 1.2289]],\n",
      "       grad_fn=<CatBackward>)\n",
      "tensor([[0.6279, 0.6261, 0.6209,  ..., 0.0000, 0.0000, 0.0000],\n",
      "        [0.6261, 0.6279, 0.6261,  ..., 0.0000, 0.0000, 0.0000],\n",
      "        [0.6209, 0.6261, 0.6279,  ..., 0.0000, 0.0000, 0.0000],\n",
      "        ...,\n",
      "        [0.0000, 0.0000, 0.0000,  ..., 1.1999, 1.1979, 1.1923],\n",
      "        [0.0000, 0.0000, 0.0000,  ..., 1.1979, 1.1999, 1.1979],\n",
      "        [0.0000, 0.0000, 0.0000,  ..., 1.1923, 1.1979, 1.1999]],\n",
      "       grad_fn=<CatBackward>)\n",
      "tensor([[0.6085, 0.6062, 0.5996,  ..., 0.0000, 0.0000, 0.0000],\n",
      "        [0.6062, 0.6085, 0.6062,  ..., 0.0000, 0.0000, 0.0000],\n",
      "        [0.5996, 0.6062, 0.6085,  ..., 0.0000, 0.0000, 0.0000],\n",
      "        ...,\n",
      "        [0.0000, 0.0000, 0.0000,  ..., 1.1817, 1.1799, 1.1748],\n",
      "        [0.0000, 0.0000, 0.0000,  ..., 1.1799, 1.1817, 1.1799],\n",
      "        [0.0000, 0.0000, 0.0000,  ..., 1.1748, 1.1799, 1.1817]],\n",
      "       grad_fn=<CatBackward>)\n",
      "tensor([[0.5875, 0.5845, 0.5758,  ..., 0.0000, 0.0000, 0.0000],\n",
      "        [0.5845, 0.5875, 0.5845,  ..., 0.0000, 0.0000, 0.0000],\n",
      "        [0.5758, 0.5845, 0.5875,  ..., 0.0000, 0.0000, 0.0000],\n",
      "        ...,\n",
      "        [0.0000, 0.0000, 0.0000,  ..., 1.1765, 1.1747, 1.1696],\n",
      "        [0.0000, 0.0000, 0.0000,  ..., 1.1747, 1.1765, 1.1747],\n",
      "        [0.0000, 0.0000, 0.0000,  ..., 1.1696, 1.1747, 1.1765]],\n",
      "       grad_fn=<CatBackward>)\n",
      "tensor([[0.5547, 0.5511, 0.5411,  ..., 0.0000, 0.0000, 0.0000],\n",
      "        [0.5511, 0.5547, 0.5511,  ..., 0.0000, 0.0000, 0.0000],\n",
      "        [0.5411, 0.5511, 0.5547,  ..., 0.0000, 0.0000, 0.0000],\n",
      "        ...,\n",
      "        [0.0000, 0.0000, 0.0000,  ..., 1.1828, 1.1809, 1.1753],\n",
      "        [0.0000, 0.0000, 0.0000,  ..., 1.1809, 1.1828, 1.1809],\n",
      "        [0.0000, 0.0000, 0.0000,  ..., 1.1753, 1.1809, 1.1828]],\n",
      "       grad_fn=<CatBackward>)\n"
     ]
    }
   ],
   "source": [
    "# this is for running the notebook in our testing framework\n",
    "import os\n",
    "smoke_test = ('CI' in os.environ)\n",
    "training_iter = int(2) if smoke_test else int(20)\n",
    "\n",
    "\n",
    "# Find optimal model hyperparameters\n",
    "model.train()\n",
    "likelihood.train()\n",
    "\n",
    "# Use the adam optimizer\n",
    "optimizer = torch.optim.Adam(model.parameters(), lr=float(0.1))  # Includes GaussianLikelihood parameters\n",
    "\n",
    "# \"Loss\" for GPs - the marginal log likelihood\n",
    "mll = gpytorch.mlls.ExactMarginalLogLikelihood(likelihood, model)\n",
    "\n",
    "for i in range(training_iter):\n",
    "    # Zero gradients from previous iteration\n",
    "    optimizer.zero_grad()\n",
    "    # Output from model\n",
    "    output = model(train_x)\n",
    "    # Calc loss and backprop gradients\n",
    "    loss = -mll(output, train_y)\n",
    "    loss.backward()\n",
    "    #print('Iter %d/%d - Loss: %.3f   lengthscale: %.3f  variance: %.3f noise: %.3f' % (\n",
    "    #    i + 1, training_iter, loss.item(),\n",
    "    #    model.covar_module.length.item(),\n",
    "    #    model.covar_module.var.item(),\n",
    "    #    model.likelihood.noise.item()\n",
    "    #))\n",
    "    optimizer.step()"
   ]
  },
  {
   "cell_type": "raw",
   "id": "75730997",
   "metadata": {},
   "source": []
  },
  {
   "cell_type": "code",
   "execution_count": 5,
   "id": "7d1b8824",
   "metadata": {
    "scrolled": true
   },
   "outputs": [
    {
     "name": "stdout",
     "output_type": "stream",
     "text": [
      "('likelihood.raw_task_noises', Parameter containing:\n",
      "tensor([-2.0425, -2.0536], requires_grad=True))\n",
      "('likelihood.raw_noise', Parameter containing:\n",
      "tensor([-2.0488], requires_grad=True))\n",
      "('covar_module.kernel_00.var', Parameter containing:\n",
      "tensor(0.5080, requires_grad=True))\n",
      "('covar_module.kernel_00.length', Parameter containing:\n",
      "tensor(0.1821, requires_grad=True))\n",
      "('covar_module.kernel_11.var', Parameter containing:\n",
      "tensor(1.1970, requires_grad=True))\n",
      "('covar_module.kernel_11.length', Parameter containing:\n",
      "tensor(0.3393, requires_grad=True))\n"
     ]
    }
   ],
   "source": [
    "for p in model.named_parameters():\n",
    "    print(p)"
   ]
  },
  {
   "cell_type": "code",
   "execution_count": 6,
   "id": "8dd409d7",
   "metadata": {},
   "outputs": [
    {
     "data": {
      "text/plain": [
       "(1, 2)"
      ]
     },
     "execution_count": 6,
     "metadata": {},
     "output_type": "execute_result"
    }
   ],
   "source": [
    "tuple([1,2])"
   ]
  },
  {
   "cell_type": "code",
   "execution_count": 7,
   "id": "f0c869eb",
   "metadata": {
    "scrolled": false
   },
   "outputs": [
    {
     "name": "stdout",
     "output_type": "stream",
     "text": [
      "tensor([[0.5081, 0.5049, 0.4954,  ..., 0.0000, 0.0000, 0.0000],\n",
      "        [0.5049, 0.5081, 0.5049,  ..., 0.0000, 0.0000, 0.0000],\n",
      "        [0.4954, 0.5049, 0.5081,  ..., 0.0000, 0.0000, 0.0000],\n",
      "        ...,\n",
      "        [0.0000, 0.0000, 0.0000,  ..., 1.1971, 1.1949, 1.1884],\n",
      "        [0.0000, 0.0000, 0.0000,  ..., 1.1949, 1.1971, 1.1949],\n",
      "        [0.0000, 0.0000, 0.0000,  ..., 1.1884, 1.1949, 1.1971]])\n",
      "tensor([[0.5081, 0.5049, 0.4954,  ..., 0.0000, 0.0000, 0.0000],\n",
      "        [0.5049, 0.5081, 0.5049,  ..., 0.0000, 0.0000, 0.0000],\n",
      "        [0.4954, 0.5049, 0.5081,  ..., 0.0000, 0.0000, 0.0000],\n",
      "        ...,\n",
      "        [0.0000, 0.0000, 0.0000,  ..., 1.1971, 1.1884, 1.1629],\n",
      "        [0.0000, 0.0000, 0.0000,  ..., 1.1884, 1.1971, 1.1884],\n",
      "        [0.0000, 0.0000, 0.0000,  ..., 1.1629, 1.1884, 1.1971]])\n"
     ]
    }
   ],
   "source": [
    "# Set into eval mode\n",
    "model.eval()\n",
    "likelihood.eval()\n",
    "\n",
    "# Initialize plots\n",
    "\n",
    "number_of_samples = int(50)\n",
    "# Make predictions\n",
    "with torch.no_grad():#, gpytorch.settings.fast_pred_var():\n",
    "    test_x = torch.linspace(float(0), float(2), number_of_samples)\n",
    "    #pdb.set_trace()\n",
    "    outputs = model(test_x)\n",
    "    predictions = likelihood(outputs)\n",
    "    \n",
    "    mean = predictions.mean\n",
    "    lower, upper = predictions.confidence_region()\n",
    "#print(mean)\n",
    "#print(lower)\n",
    "#print(upper)\n",
    "# This contains predictions for both tasks, flattened out\n",
    "# The first half of the predictions is for the first task\n",
    "# The second half is for the second task\n",
    "\n",
    "#dims = int(2)\n",
    "#indices = [list(range(i, len(train_y), dims)) for i in range(dims)]\n"
   ]
  },
  {
   "cell_type": "raw",
   "id": "49b79859",
   "metadata": {},
   "source": []
  },
  {
   "cell_type": "code",
   "execution_count": null,
   "id": "ad4df72d",
   "metadata": {},
   "outputs": [],
   "source": []
  },
  {
   "cell_type": "code",
   "execution_count": 8,
   "id": "f0a03a44",
   "metadata": {},
   "outputs": [
    {
     "data": {
      "text/plain": [
       "Text(0.5, 1.0, 'Observed Values (Likelihood)')"
      ]
     },
     "execution_count": 8,
     "metadata": {},
     "output_type": "execute_result"
    },
    {
     "data": {
      "image/png": "[encoded data removed]",
      "text/plain": [
       "<Figure size 576x216 with 2 Axes>"
      ]
     },
     "metadata": {
      "needs_background": "light"
     },
     "output_type": "display_data"
    }
   ],
   "source": [
    "f, (y1_ax, y2_ax) = plt.subplots(int(1), int(2), figsize=(int(8), int(3)))\n",
    "\n",
    "# Plot training data as black stars\n",
    "y1_ax.plot(train_x.detach().numpy(), train_y[:, 0].detach().numpy(), 'k*')\n",
    "# Predictive mean as blue line\n",
    "y1_ax.plot(test_x.numpy(), mean[:, 0].numpy(), 'b')\n",
    "# Shade in confidence\n",
    "y1_ax.fill_between(test_x.numpy(), lower[:, 0].numpy(), upper[:, 0].numpy(), alpha=0.5)\n",
    "y1_ax.set_ylim([-3, 8])\n",
    "y1_ax.legend(['Observed Data', 'Mean', 'Confidence'])\n",
    "y1_ax.set_title('Observed Values (Likelihood)')\n",
    "\n",
    "# Plot training data as black stars\n",
    "y2_ax.plot(train_x.detach().numpy(), train_y[:, 1].detach().numpy(), 'k*')\n",
    "# Predictive mean as blue line\n",
    "y2_ax.plot(test_x.numpy(), mean[:, 1].numpy(), 'b')\n",
    "# Shade in confidence\n",
    "y2_ax.fill_between(test_x.numpy(), lower[:, 1].numpy(), upper[:, 1].numpy(), alpha=0.5)\n",
    "y2_ax.set_ylim([-3, 8])\n",
    "y2_ax.legend(['Observed Data', 'Mean', 'Confidence'])\n",
    "y2_ax.set_title('Observed Values (Likelihood)')\n"
   ]
  },
  {
   "cell_type": "code",
   "execution_count": null,
   "id": "822f0426",
   "metadata": {},
   "outputs": [],
   "source": []
  },
  {
   "cell_type": "markdown",
   "id": "bf73a6c3",
   "metadata": {},
   "source": [
    "# Test Diffable SE Kernel"
   ]
  },
  {
   "cell_type": "code",
   "execution_count": 9,
   "id": "b432934f",
   "metadata": {},
   "outputs": [
    {
     "data": {
      "text/plain": [
       "tensor([1, 2, 3])"
      ]
     },
     "execution_count": 9,
     "metadata": {},
     "output_type": "execute_result"
    }
   ],
   "source": [
    "X = torch.tensor([int(1), int(2), int(3)])\n",
    "X"
   ]
  },
  {
   "cell_type": "code",
   "execution_count": null,
   "id": "ae01ece4",
   "metadata": {},
   "outputs": [],
   "source": []
  },
  {
   "cell_type": "code",
   "execution_count": 10,
   "id": "d46856bd",
   "metadata": {
    "scrolled": true
   },
   "outputs": [
    {
     "data": {
      "text/plain": [
       "[[1, 0, -3*e^(-2)], [0, 1, 0], [-3*e^(-2), 0, 1]]"
      ]
     },
     "execution_count": 10,
     "metadata": {},
     "output_type": "execute_result"
    }
   ],
   "source": [
    "x1, x2, l, sigma = var('x1, x2, l, sigma')\n",
    "lengthscale = 1\n",
    "variance = 1\n",
    "SE(x1, x2, l, sigma) = sigma^2*exp(-(x1-x2)^2/(2*l^2))\n",
    "cov_matr = [[None for i in range(len(X))] for j in range(len(X))]\n",
    "for i, (v1, v2) in enumerate(product(X, X)):\n",
    "    cov_matr[int(i/len(X))][int(i%len(X))] = SE.diff(x2).diff(x1)(int(v1), int(v2), lengthscale, variance)\n",
    "cov_matr"
   ]
  },
  {
   "cell_type": "code",
   "execution_count": 11,
   "id": "55bee06a",
   "metadata": {},
   "outputs": [
    {
     "data": {
      "text/plain": [
       "[sigma^2, e^(-1/2*(x1 - x2)^2/l^2)]"
      ]
     },
     "execution_count": 11,
     "metadata": {},
     "output_type": "execute_result"
    }
   ],
   "source": [
    "SE.operands()"
   ]
  },
  {
   "cell_type": "code",
   "execution_count": 12,
   "id": "ea4620c2",
   "metadata": {},
   "outputs": [
    {
     "data": {
      "text/plain": [
       "tensor([[ 0.0000, -0.6065, -0.2707],\n",
       "        [ 0.6065,  0.0000, -0.6065],\n",
       "        [ 0.2707,  0.6065,  0.0000]], grad_fn=<MulBackward0>)"
      ]
     },
     "execution_count": 12,
     "metadata": {},
     "output_type": "execute_result"
    }
   ],
   "source": [
    "a = Diff_SE_kernel(var=int(variance), length=int(lengthscale))\n",
    "q, dx1, dx2 = var('q, dx1, dx2')\n",
    "left_poly = dx2\n",
    "right_poly = q*dx1^2\n",
    "diffed_kernel = a.diff(left_poly=left_poly, right_poly=right_poly, left_d_var=var('dx2'), right_d_var=var('dx1'))\n",
    "diffed_kernel(X).evaluate()"
   ]
  },
  {
   "cell_type": "code",
   "execution_count": 13,
   "id": "45586695",
   "metadata": {},
   "outputs": [],
   "source": [
    "def calc_cell_diff(L, M, R, row, col):\n",
    "    len_M = M.number_of_arguments()\n",
    "    temp = None\n",
    "    for j in range(int(sqrt(len_M))):\n",
    "        if temp == None:\n",
    "            import itertools\n",
    "            #M_tr = list(map(list, itertools.zip_longest(*M, fillvalue=None)))\n",
    "            #[M_tr[j].diff(left_poly=L[row][k], right_poly=R.transpose()[col][j]) for k in range(L.number_of_arguments())]\n",
    "            temp = L[row]*M.transpose()[j]*R.transpose()[col][j]\n",
    "        else:\n",
    "            temp += L[row]*M.transpose()[j]*R.transpose()[col][j]\n",
    "    return temp"
   ]
  },
  {
   "cell_type": "code",
   "execution_count": 14,
   "id": "2732ed50",
   "metadata": {
    "scrolled": false
   },
   "outputs": [
    {
     "name": "stdout",
     "output_type": "stream",
     "text": [
      "[l_11 l_12 l_13]\n",
      "[l_21 l_22 l_23]\n",
      "[l_31 l_32 l_33]\n",
      "[m_11 m_12 m_13]\n",
      "[m_21 m_22 m_23]\n",
      "[m_31 m_32 m_33]\n",
      "[r_11 r_12 r_13]\n",
      "[r_21 r_22 r_23]\n",
      "[r_31 r_32 r_33]\n",
      "(l_31*m_11 + l_32*m_21 + l_33*m_31)*r_13 + (l_31*m_12 + l_32*m_22 + l_33*m_32)*r_23 + (l_31*m_13 + l_32*m_23 + l_33*m_33)*r_33\n"
     ]
    },
    {
     "data": {
      "text/plain": [
       "(l_31*m_11 + l_32*m_21 + l_33*m_31)*r_13 + (l_31*m_12 + l_32*m_22 + l_33*m_32)*r_23 + (l_31*m_13 + l_32*m_23 + l_33*m_33)*r_33"
      ]
     },
     "execution_count": 14,
     "metadata": {},
     "output_type": "execute_result"
    }
   ],
   "source": [
    "dimension = 3\n",
    "length = dimension*dimension +1\n",
    "L_list = [var(f'l_{i}{j}') for i in range(1, dimension+1) for j in range(1, dimension+1)]\n",
    "M_list = [var(f'm_{i}{j}') for i in range(1, dimension+1) for j in range(1, dimension+1)]\n",
    "R_list = [var(f'r_{i}{j}') for i in range(1, dimension+1) for j in range(1, dimension+1)]\n",
    "L = matrix(dimension, dimension, L_list)\n",
    "M = matrix(dimension, dimension, M_list)\n",
    "R = matrix(dimension, dimension, R_list)\n",
    "print(L)\n",
    "print(M)\n",
    "print(R)\n",
    "row = 2\n",
    "col = 2\n",
    "print((L*M*R)[row][col])\n",
    "\n",
    "calc_cell_diff(L, M, R, row, col)"
   ]
  },
  {
   "cell_type": "code",
   "execution_count": 15,
   "id": "61c36240",
   "metadata": {},
   "outputs": [
    {
     "name": "stdout",
     "output_type": "stream",
     "text": [
      "[1, 2, 3]\n",
      "[2, 3, 4]\n",
      "[4, 5, 6]\n"
     ]
    }
   ],
   "source": [
    "l = [[1, 2, 3], [2, 3, 4], [4, 5, 6]]\n",
    "for i, k in enumerate(l):\n",
    "    print(k)\n"
   ]
  },
  {
   "cell_type": "code",
   "execution_count": 16,
   "id": "6591bee4",
   "metadata": {},
   "outputs": [
    {
     "data": {
      "text/plain": [
       "(x1, x2, sigma, l) |--> [sigma^2*e^(-1/2*(x1 - x2)^2/l^2)                                0]\n",
       "[                               0 sigma^2*e^(-1/2*(x1 - x2)^2/l^2)]"
      ]
     },
     "execution_count": 16,
     "metadata": {},
     "output_type": "execute_result"
    }
   ],
   "source": [
    "MSE(x1, x2, sigma, l) = matrix(2,2, (sigma^2*exp(-(x1-x2)^2/(2*l^2)), 0, 0, sigma^2*exp(-(x1-x2)^2/(2*l^2))))\n",
    "dx1 = matrix(2,2,(dx1, 0, 0, dx1))\n",
    "MSE"
   ]
  },
  {
   "cell_type": "code",
   "execution_count": 17,
   "id": "5ee69553",
   "metadata": {},
   "outputs": [],
   "source": [
    "kernel = Diff_SE_kernel()\n",
    "kernel2 = Diff_SE_kernel()\n",
    "\n",
    "p = DiffMatrixKernel([[kernel, None], [None, kernel2]])"
   ]
  },
  {
   "cell_type": "code",
   "execution_count": 18,
   "id": "fc819f6d",
   "metadata": {},
   "outputs": [],
   "source": [
    "q, dx1, dx2 = var('q, dx1, dx2')\n",
    "left_poly = dx1\n",
    "right_poly = dx2\n",
    "L = matrix(2, 2, (dx1, 0, 0, dx1))\n",
    "R = matrix(2, 2, (dx2, 0, 0, dx2))"
   ]
  },
  {
   "cell_type": "code",
   "execution_count": 20,
   "id": "5a61108d",
   "metadata": {},
   "outputs": [
    {
     "ename": "TypeError",
     "evalue": "expected Tensor as element 0 in argument 0, but got SumLazyTensor",
     "output_type": "error",
     "traceback": [
      "\u001b[0;31m---------------------------------------------------------------------------\u001b[0m",
      "\u001b[0;31mTypeError\u001b[0m                                 Traceback (most recent call last)",
      "\u001b[0;32m<ipython-input-20-90a70f7a1372>\u001b[0m in \u001b[0;36m<module>\u001b[0;34m\u001b[0m\n\u001b[0;32m----> 1\u001b[0;31m \u001b[0mp\u001b[0m\u001b[0;34m.\u001b[0m\u001b[0mdiff\u001b[0m\u001b[0;34m(\u001b[0m\u001b[0mleft_matrix\u001b[0m\u001b[0;34m=\u001b[0m\u001b[0mL\u001b[0m\u001b[0;34m,\u001b[0m \u001b[0mright_matrix\u001b[0m\u001b[0;34m=\u001b[0m\u001b[0mR\u001b[0m\u001b[0;34m)\u001b[0m\u001b[0;34m.\u001b[0m\u001b[0mforward\u001b[0m\u001b[0;34m(\u001b[0m\u001b[0mX\u001b[0m\u001b[0;34m,\u001b[0m \u001b[0mX\u001b[0m\u001b[0;34m)\u001b[0m\u001b[0;34m\u001b[0m\u001b[0;34m\u001b[0m\u001b[0m\n\u001b[0m",
      "\u001b[0;32m~/Documents/container_storage/sage/DiffEqGPs/kernels.py\u001b[0m in \u001b[0;36mforward\u001b[0;34m(self, x1, x2, diag, **params)\u001b[0m\n\u001b[1;32m    551\u001b[0m                     \u001b[0mtemp\u001b[0m \u001b[0;34m=\u001b[0m \u001b[0mresult1\u001b[0m\u001b[0;34m\u001b[0m\u001b[0;34m\u001b[0m\u001b[0m\n\u001b[1;32m    552\u001b[0m                 \u001b[0;32melse\u001b[0m\u001b[0;34m:\u001b[0m\u001b[0;34m\u001b[0m\u001b[0;34m\u001b[0m\u001b[0m\n\u001b[0;32m--> 553\u001b[0;31m                     \u001b[0mtemp\u001b[0m \u001b[0;34m=\u001b[0m \u001b[0mtorch\u001b[0m\u001b[0;34m.\u001b[0m\u001b[0mhstack\u001b[0m\u001b[0;34m(\u001b[0m\u001b[0;34m[\u001b[0m\u001b[0mtemp\u001b[0m\u001b[0;34m,\u001b[0m \u001b[0mresult1\u001b[0m\u001b[0;34m]\u001b[0m\u001b[0;34m)\u001b[0m\u001b[0;34m\u001b[0m\u001b[0;34m\u001b[0m\u001b[0m\n\u001b[0m\u001b[1;32m    554\u001b[0m             \u001b[0;31m# append vertically\u001b[0m\u001b[0;34m\u001b[0m\u001b[0;34m\u001b[0m\u001b[0;34m\u001b[0m\u001b[0m\n\u001b[1;32m    555\u001b[0m             \u001b[0;32mif\u001b[0m \u001b[0mresult\u001b[0m \u001b[0;32mis\u001b[0m \u001b[0;32mNone\u001b[0m\u001b[0;34m:\u001b[0m\u001b[0;34m\u001b[0m\u001b[0;34m\u001b[0m\u001b[0m\n",
      "\u001b[0;31mTypeError\u001b[0m: expected Tensor as element 0 in argument 0, but got SumLazyTensor"
     ]
    }
   ],
   "source": [
    "p.diff(left_matrix=L, right_matrix=R).forward(X, X)"
   ]
  },
  {
   "cell_type": "code",
   "execution_count": null,
   "id": "e2e2cdfd",
   "metadata": {},
   "outputs": [],
   "source": []
  },
  {
   "cell_type": "code",
   "execution_count": null,
   "id": "0203eeab",
   "metadata": {},
   "outputs": [],
   "source": []
  }
 ],
 "metadata": {
  "kernelspec": {
   "display_name": "SageMath 9.2",
   "language": "sage",
   "name": "sagemath"
  },
  "language_info": {
   "codemirror_mode": {
    "name": "ipython",
    "version": 3
   },
   "file_extension": ".py",
   "mimetype": "text/x-python",
   "name": "python",
   "nbconvert_exporter": "python",
   "pygments_lexer": "ipython3",
   "version": "3.9.5"
  }
 },
 "nbformat": 4,
 "nbformat_minor": 5
}
