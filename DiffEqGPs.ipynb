{
 "cells": [
  {
   "cell_type": "code",
   "execution_count": 1,
   "id": "6eaef263",
   "metadata": {},
   "outputs": [],
   "source": [
    "import math\n",
    "import torch\n",
    "import gpytorch\n",
    "from matplotlib import pyplot as plt\n",
    "from kernels import *\n",
    "import pdb\n",
    "import gpytorch\n",
    "from itertools import product\n",
    "\n",
    "%matplotlib inline\n",
    "%load_ext autoreload\n",
    "%autoreload 2"
   ]
  },
  {
   "cell_type": "code",
   "execution_count": 2,
   "id": "779684f0",
   "metadata": {},
   "outputs": [],
   "source": [
    "train_x = torch.linspace(float(0), float(1), int(50))\n",
    "one = torch.sin(train_x * (float(2) * math.pi)) + torch.randn(train_x.size()) * float(0.2)\n",
    "two = torch.cos(train_x * (float(2) * math.pi)) + torch.randn(train_x.size()) * float(0.2)\n",
    "train_y = torch.stack([one, two], int(-1))\n"
   ]
  },
  {
   "cell_type": "code",
   "execution_count": null,
   "id": "361022cb",
   "metadata": {},
   "outputs": [],
   "source": []
  },
  {
   "cell_type": "raw",
   "id": "8734672a",
   "metadata": {},
   "source": []
  },
  {
   "cell_type": "code",
   "execution_count": null,
   "id": "b15ef0d8",
   "metadata": {},
   "outputs": [],
   "source": []
  },
  {
   "cell_type": "raw",
   "id": "de84d184",
   "metadata": {},
   "source": []
  },
  {
   "cell_type": "code",
   "execution_count": 23,
   "id": "9d5dedb4",
   "metadata": {},
   "outputs": [],
   "source": [
    "class MultitaskGPModel(gpytorch.models.ExactGP):\n",
    "    def __init__(self, train_x, train_y, likelihood):\n",
    "        super(MultitaskGPModel, self).__init__(train_x, train_y, likelihood)\n",
    "        self.mean_module = gpytorch.means.MultitaskMean(\n",
    "            gpytorch.means.ZeroMean(), num_tasks=2\n",
    "        )\n",
    "        kernel = Diff_SE_kernel()\n",
    "        kernel2 = Diff_SE_kernel()\n",
    "        q, dx1, dx2 = var('q, dx1, dx2')\n",
    "        # TODO test what happens with \n",
    "        #L = matrix(2, 2, (dx1, q, 0, dx1))\n",
    "        # -> does it learn q as a parameter?\n",
    "        #AND\n",
    "        #L = matrix(2, 2, (q*dx1, q, 0, dx1))\n",
    "        # -> does it learn multiple separate q?\n",
    "        L = matrix(2, 2, (dx1, dx1, 0, dx1))\n",
    "        R = matrix(2, 2, (dx2, 0, dx2, dx2))\n",
    "        p = DiffMatrixKernel([[kernel, None], [None, kernel2]])\n",
    "        self.covar_module = p.diff(left_matrix=L, right_matrix=R)\n",
    "        #kernel0 = Diff_SE_kernel()\n",
    "        #kernel1 = Diff_SE_kernel()\n",
    "        #kernel2 = Diff_SE_kernel()\n",
    "        #self.covar_module = MatrixKernel([[kernel0, None], [None, kernel2]])\n",
    "\n",
    "    def forward(self, x):\n",
    "        #pdb.set_trace()\n",
    "        mean_x = self.mean_module(x)\n",
    "        covar_x = self.covar_module(x)\n",
    "        #print(f\"{covar_x.detach().evaluate()}\")\n",
    "        return gpytorch.distributions.MultitaskMultivariateNormal(mean_x, covar_x, validate_args=True)\n",
    "\n",
    "\n",
    "likelihood = gpytorch.likelihoods.MultitaskGaussianLikelihood(num_tasks=2)\n",
    "model = MultitaskGPModel(train_x, train_y, likelihood)"
   ]
  },
  {
   "cell_type": "code",
   "execution_count": 24,
   "id": "3f0a9b7f",
   "metadata": {},
   "outputs": [
    {
     "name": "stdout",
     "output_type": "stream",
     "text": [
      "tensor([[4.0000, 3.9975, 3.9900,  ..., 0.1010, 0.0500, 0.0000],\n",
      "        [3.9975, 4.0000, 3.9975,  ..., 0.1528, 0.1010, 0.0500],\n",
      "        [3.9900, 3.9975, 4.0000,  ..., 0.2054, 0.1528, 0.1010],\n",
      "        ...,\n",
      "        [0.1010, 0.1528, 0.2054,  ..., 1.0000, 0.9994, 0.9975],\n",
      "        [0.0500, 0.1010, 0.1528,  ..., 0.9994, 1.0000, 0.9994],\n",
      "        [0.0000, 0.0500, 0.1010,  ..., 0.9975, 0.9994, 1.0000]],\n",
      "       grad_fn=<CatBackward>)\n",
      "tensor([[4.4444, 4.4410, 4.4307,  ..., 0.2979, 0.2531, 0.2087],\n",
      "        [4.4410, 4.4444, 4.4410,  ..., 0.3432, 0.2979, 0.2531],\n",
      "        [4.4307, 4.4410, 4.4444,  ..., 0.3888, 0.3432, 0.2979],\n",
      "        ...,\n",
      "        [0.2979, 0.3432, 0.3888,  ..., 1.1111, 1.1103, 1.1077],\n",
      "        [0.2531, 0.2979, 0.3432,  ..., 1.1103, 1.1111, 1.1103],\n",
      "        [0.2087, 0.2531, 0.2979,  ..., 1.1077, 1.1103, 1.1111]],\n",
      "       grad_fn=<CatBackward>)\n",
      "tensor([[5.9410, 5.9352, 5.9178,  ..., 0.3824, 0.3485, 0.3147],\n",
      "        [5.9352, 5.9410, 5.9352,  ..., 0.4165, 0.3824, 0.3485],\n",
      "        [5.9178, 5.9352, 5.9410,  ..., 0.4506, 0.4165, 0.3824],\n",
      "        ...,\n",
      "        [0.3824, 0.4165, 0.4506,  ..., 1.4879, 1.4865, 1.4821],\n",
      "        [0.3485, 0.3824, 0.4165,  ..., 1.4865, 1.4879, 1.4865],\n",
      "        [0.3147, 0.3485, 0.3824,  ..., 1.4821, 1.4865, 1.4879]],\n",
      "       grad_fn=<CatBackward>)\n",
      "tensor([[7.7571, 7.7476, 7.7192,  ..., 0.4065, 0.3794, 0.3523],\n",
      "        [7.7476, 7.7571, 7.7476,  ..., 0.4336, 0.4065, 0.3794],\n",
      "        [7.7192, 7.7476, 7.7571,  ..., 0.4607, 0.4336, 0.4065],\n",
      "        ...,\n",
      "        [0.4065, 0.4336, 0.4607,  ..., 2.0418, 2.0392, 2.0315],\n",
      "        [0.3794, 0.4065, 0.4336,  ..., 2.0392, 2.0418, 2.0392],\n",
      "        [0.3523, 0.3794, 0.4065,  ..., 2.0315, 2.0392, 2.0418]],\n",
      "       grad_fn=<CatBackward>)\n",
      "tensor([[10.1783, 10.1625, 10.1151,  ...,  0.4088,  0.3862,  0.3637],\n",
      "        [10.1625, 10.1783, 10.1625,  ...,  0.4312,  0.4088,  0.3862],\n",
      "        [10.1151, 10.1625, 10.1783,  ...,  0.4536,  0.4312,  0.4088],\n",
      "        ...,\n",
      "        [ 0.4088,  0.4312,  0.4536,  ...,  2.9027,  2.8977,  2.8827],\n",
      "        [ 0.3862,  0.4088,  0.4312,  ...,  2.8977,  2.9027,  2.8977],\n",
      "        [ 0.3637,  0.3862,  0.4088,  ...,  2.8827,  2.8977,  2.9027]],\n",
      "       grad_fn=<CatBackward>)\n",
      "tensor([[13.2051, 13.1791, 13.1011,  ...,  0.4025,  0.3832,  0.3639],\n",
      "        [13.1791, 13.2051, 13.1791,  ...,  0.4217,  0.4025,  0.3832],\n",
      "        [13.1011, 13.1791, 13.2051,  ...,  0.4408,  0.4217,  0.4025],\n",
      "        ...,\n",
      "        [ 0.4025,  0.4217,  0.4408,  ...,  4.2310,  4.2207,  4.1898],\n",
      "        [ 0.3832,  0.4025,  0.4217,  ...,  4.2207,  4.2310,  4.2207],\n",
      "        [ 0.3639,  0.3832,  0.4025,  ...,  4.1898,  4.2207,  4.2310]],\n",
      "       grad_fn=<CatBackward>)\n",
      "tensor([[15.3581, 15.3234, 15.2198,  ...,  0.3930,  0.3761,  0.3592],\n",
      "        [15.3234, 15.3581, 15.3234,  ...,  0.4098,  0.3930,  0.3761],\n",
      "        [15.2198, 15.3234, 15.3581,  ...,  0.4265,  0.4098,  0.3930],\n",
      "        ...,\n",
      "        [ 0.3930,  0.4098,  0.4265,  ...,  5.8720,  5.8527,  5.7948],\n",
      "        [ 0.3761,  0.3930,  0.4098,  ...,  5.8527,  5.8720,  5.8527],\n",
      "        [ 0.3592,  0.3761,  0.3930,  ...,  5.7948,  5.8527,  5.8720]],\n",
      "       grad_fn=<CatBackward>)\n",
      "tensor([[15.4376, 15.4029, 15.2992,  ...,  0.3825,  0.3675,  0.3524],\n",
      "        [15.4029, 15.4376, 15.4029,  ...,  0.3975,  0.3825,  0.3675],\n",
      "        [15.2992, 15.4029, 15.4376,  ...,  0.4123,  0.3975,  0.3825],\n",
      "        ...,\n",
      "        [ 0.3825,  0.3975,  0.4123,  ...,  6.9284,  6.9019,  6.8230],\n",
      "        [ 0.3675,  0.3825,  0.3975,  ...,  6.9019,  6.9284,  6.9019],\n",
      "        [ 0.3524,  0.3675,  0.3825,  ...,  6.8230,  6.9019,  6.9284]],\n",
      "       grad_fn=<CatBackward>)\n",
      "tensor([[14.1344, 14.1055, 14.0189,  ...,  0.3720,  0.3584,  0.3448],\n",
      "        [14.1055, 14.1344, 14.1055,  ...,  0.3856,  0.3720,  0.3584],\n",
      "        [14.0189, 14.1055, 14.1344,  ...,  0.3990,  0.3856,  0.3720],\n",
      "        ...,\n",
      "        [ 0.3720,  0.3856,  0.3990,  ...,  6.8685,  6.8428,  6.7661],\n",
      "        [ 0.3584,  0.3720,  0.3856,  ...,  6.8428,  6.8685,  6.8428],\n",
      "        [ 0.3448,  0.3584,  0.3720,  ...,  6.7661,  6.8428,  6.8685]],\n",
      "       grad_fn=<CatBackward>)\n",
      "tensor([[12.4180, 12.3957, 12.3289,  ...,  0.3621,  0.3496,  0.3371],\n",
      "        [12.3957, 12.4180, 12.3957,  ...,  0.3744,  0.3621,  0.3496],\n",
      "        [12.3289, 12.3957, 12.4180,  ...,  0.3867,  0.3744,  0.3621],\n",
      "        ...,\n",
      "        [ 0.3621,  0.3744,  0.3867,  ...,  6.1014,  6.0812,  6.0211],\n",
      "        [ 0.3496,  0.3621,  0.3744,  ...,  6.0812,  6.1014,  6.0812],\n",
      "        [ 0.3371,  0.3496,  0.3621,  ...,  6.0211,  6.0812,  6.1014]],\n",
      "       grad_fn=<CatBackward>)\n",
      "tensor([[10.9031, 10.8858, 10.8342,  ...,  0.3528,  0.3413,  0.3297],\n",
      "        [10.8858, 10.9031, 10.8858,  ...,  0.3642,  0.3528,  0.3413],\n",
      "        [10.8342, 10.8858, 10.9031,  ...,  0.3756,  0.3642,  0.3528],\n",
      "        ...,\n",
      "        [ 0.3528,  0.3642,  0.3756,  ...,  5.1529,  5.1386,  5.0958],\n",
      "        [ 0.3413,  0.3528,  0.3642,  ...,  5.1386,  5.1529,  5.1386],\n",
      "        [ 0.3297,  0.3413,  0.3528,  ...,  5.0958,  5.1386,  5.1529]],\n",
      "       grad_fn=<CatBackward>)\n",
      "tensor([[9.8877, 9.8735, 9.8309,  ..., 0.3443, 0.3335, 0.3227],\n",
      "        [9.8735, 9.8877, 9.8735,  ..., 0.3549, 0.3443, 0.3335],\n",
      "        [9.8309, 9.8735, 9.8877,  ..., 0.3655, 0.3549, 0.3443],\n",
      "        ...,\n",
      "        [0.3443, 0.3549, 0.3655,  ..., 4.3084, 4.2984, 4.2685],\n",
      "        [0.3335, 0.3443, 0.3549,  ..., 4.2984, 4.3084, 4.2984],\n",
      "        [0.3227, 0.3335, 0.3443,  ..., 4.2685, 4.2984, 4.3084]],\n",
      "       grad_fn=<CatBackward>)\n",
      "tensor([[9.4455, 9.4324, 9.3934,  ..., 0.3365, 0.3264, 0.3162],\n",
      "        [9.4324, 9.4455, 9.4324,  ..., 0.3465, 0.3365, 0.3264],\n",
      "        [9.3934, 9.4324, 9.4455,  ..., 0.3565, 0.3465, 0.3365],\n",
      "        ...,\n",
      "        [0.3365, 0.3465, 0.3565,  ..., 3.6587, 3.6515, 3.6298],\n",
      "        [0.3264, 0.3365, 0.3465,  ..., 3.6515, 3.6587, 3.6515],\n",
      "        [0.3162, 0.3264, 0.3365,  ..., 3.6298, 3.6515, 3.6587]],\n",
      "       grad_fn=<CatBackward>)\n",
      "tensor([[9.5299, 9.5166, 9.4767,  ..., 0.3295, 0.3199, 0.3103],\n",
      "        [9.5166, 9.5299, 9.5166,  ..., 0.3389, 0.3295, 0.3199],\n",
      "        [9.4767, 9.5166, 9.5299,  ..., 0.3483, 0.3389, 0.3295],\n",
      "        ...,\n",
      "        [0.3295, 0.3389, 0.3483,  ..., 3.2066, 3.2010, 3.1843],\n",
      "        [0.3199, 0.3295, 0.3389,  ..., 3.2010, 3.2066, 3.2010],\n",
      "        [0.3103, 0.3199, 0.3295,  ..., 3.1843, 3.2010, 3.2066]],\n",
      "       grad_fn=<CatBackward>)\n",
      "tensor([[10.0732, 10.0583, 10.0136,  ...,  0.3230,  0.3140,  0.3048],\n",
      "        [10.0583, 10.0732, 10.0583,  ...,  0.3321,  0.3230,  0.3140],\n",
      "        [10.0136, 10.0583, 10.0732,  ...,  0.3410,  0.3321,  0.3230],\n",
      "        ...,\n",
      "        [ 0.3230,  0.3321,  0.3410,  ...,  2.9301,  2.9254,  2.9114],\n",
      "        [ 0.3140,  0.3230,  0.3321,  ...,  2.9254,  2.9301,  2.9254],\n",
      "        [ 0.3048,  0.3140,  0.3230,  ...,  2.9114,  2.9254,  2.9301]],\n",
      "       grad_fn=<CatBackward>)\n",
      "tensor([[10.9924, 10.9746, 10.9212,  ...,  0.3172,  0.3085,  0.2998],\n",
      "        [10.9746, 10.9924, 10.9746,  ...,  0.3258,  0.3172,  0.3085],\n",
      "        [10.9212, 10.9746, 10.9924,  ...,  0.3344,  0.3258,  0.3172],\n",
      "        ...,\n",
      "        [ 0.3172,  0.3258,  0.3344,  ...,  2.8042,  2.7999,  2.7870],\n",
      "        [ 0.3085,  0.3172,  0.3258,  ...,  2.7999,  2.8042,  2.7999],\n",
      "        [ 0.2998,  0.3085,  0.3172,  ...,  2.7870,  2.7999,  2.8042]],\n",
      "       grad_fn=<CatBackward>)\n",
      "tensor([[12.1023, 12.0806, 12.0155,  ...,  0.3119,  0.3036,  0.2951],\n",
      "        [12.0806, 12.1023, 12.0806,  ...,  0.3202,  0.3119,  0.3036],\n",
      "        [12.0155, 12.0806, 12.1023,  ...,  0.3284,  0.3202,  0.3119],\n",
      "        ...,\n",
      "        [ 0.3119,  0.3202,  0.3284,  ...,  2.8078,  2.8035,  2.7906],\n",
      "        [ 0.3036,  0.3119,  0.3202,  ...,  2.8035,  2.8078,  2.8035],\n",
      "        [ 0.2951,  0.3036,  0.3119,  ...,  2.7906,  2.8035,  2.8078]],\n",
      "       grad_fn=<CatBackward>)\n",
      "tensor([[13.0249, 12.9996, 12.9237,  ...,  0.3071,  0.2990,  0.2909],\n",
      "        [12.9996, 13.0249, 12.9996,  ...,  0.3150,  0.3071,  0.2990],\n",
      "        [12.9237, 12.9996, 13.0249,  ...,  0.3229,  0.3150,  0.3071],\n",
      "        ...,\n",
      "        [ 0.3071,  0.3150,  0.3229,  ...,  2.9271,  2.9224,  2.9084],\n",
      "        [ 0.2990,  0.3071,  0.3150,  ...,  2.9224,  2.9271,  2.9224],\n",
      "        [ 0.2909,  0.2990,  0.3071,  ...,  2.9084,  2.9224,  2.9271]],\n",
      "       grad_fn=<CatBackward>)\n",
      "tensor([[13.3386, 13.3118, 13.2315,  ...,  0.3027,  0.2949,  0.2871],\n",
      "        [13.3118, 13.3386, 13.3118,  ...,  0.3104,  0.3027,  0.2949],\n",
      "        [13.2315, 13.3118, 13.3386,  ...,  0.3180,  0.3104,  0.3027],\n",
      "        ...,\n",
      "        [ 0.3027,  0.3104,  0.3180,  ...,  3.1554,  3.1500,  3.1336],\n",
      "        [ 0.2949,  0.3027,  0.3104,  ...,  3.1500,  3.1554,  3.1500],\n",
      "        [ 0.2871,  0.2949,  0.3027,  ...,  3.1336,  3.1500,  3.1554]],\n",
      "       grad_fn=<CatBackward>)\n",
      "tensor([[12.9186, 12.8931, 12.8169,  ...,  0.2987,  0.2912,  0.2835],\n",
      "        [12.8931, 12.9186, 12.8931,  ...,  0.3062,  0.2987,  0.2912],\n",
      "        [12.8169, 12.8931, 12.9186,  ...,  0.3136,  0.3062,  0.2987],\n",
      "        ...,\n",
      "        [ 0.2987,  0.3062,  0.3136,  ...,  3.4909,  3.4842,  3.4642],\n",
      "        [ 0.2912,  0.2987,  0.3062,  ...,  3.4842,  3.4909,  3.4842],\n",
      "        [ 0.2835,  0.2912,  0.2987,  ...,  3.4642,  3.4842,  3.4909]],\n",
      "       grad_fn=<CatBackward>)\n"
     ]
    }
   ],
   "source": [
    "# this is for running the notebook in our testing framework\n",
    "import os\n",
    "smoke_test = ('CI' in os.environ)\n",
    "training_iter = int(2) if smoke_test else int(20)\n",
    "\n",
    "\n",
    "# Find optimal model hyperparameters\n",
    "model.train()\n",
    "likelihood.train()\n",
    "\n",
    "# Use the adam optimizer\n",
    "optimizer = torch.optim.Adam(model.parameters(), lr=float(0.1))  # Includes GaussianLikelihood parameters\n",
    "\n",
    "# \"Loss\" for GPs - the marginal log likelihood\n",
    "mll = gpytorch.mlls.ExactMarginalLogLikelihood(likelihood, model)\n",
    "\n",
    "for i in range(training_iter):\n",
    "    # Zero gradients from previous iteration\n",
    "    optimizer.zero_grad()\n",
    "    # Output from model\n",
    "    output = model(train_x)\n",
    "    # Calc loss and backprop gradients\n",
    "    loss = -mll(output, train_y)\n",
    "    loss.backward()\n",
    "    #print('Iter %d/%d - Loss: %.3f   lengthscale: %.3f  variance: %.3f noise: %.3f' % (\n",
    "    #    i + 1, training_iter, loss.item(),\n",
    "    #    model.covar_module.length.item(),\n",
    "    #    model.covar_module.var.item(),\n",
    "    #    model.likelihood.noise.item()\n",
    "    #))\n",
    "    optimizer.step()"
   ]
  },
  {
   "cell_type": "raw",
   "id": "75730997",
   "metadata": {},
   "source": [
    "model.named_parameters()"
   ]
  },
  {
   "cell_type": "code",
   "execution_count": 5,
   "id": "7d1b8824",
   "metadata": {
    "scrolled": true
   },
   "outputs": [
    {
     "name": "stdout",
     "output_type": "stream",
     "text": [
      "('likelihood.raw_task_noises', Parameter containing:\n",
      "tensor([-2.0370, -2.0422], requires_grad=True))\n",
      "('likelihood.raw_noise', Parameter containing:\n",
      "tensor([-2.0417], requires_grad=True))\n",
      "('covar_module.kernel_00.kernels.0.var', Parameter containing:\n",
      "tensor(1.0074, requires_grad=True))\n",
      "('covar_module.kernel_00.kernels.0.length', Parameter containing:\n",
      "tensor(0.5796, requires_grad=True))\n",
      "('covar_module.kernel_00.kernels.1.var', Parameter containing:\n",
      "tensor(1.0074, requires_grad=True))\n",
      "('covar_module.kernel_00.kernels.1.length', Parameter containing:\n",
      "tensor(0.5796, requires_grad=True))\n",
      "('covar_module.kernel_00.kernels.2.var', Parameter containing:\n",
      "tensor(1.0074, requires_grad=True))\n",
      "('covar_module.kernel_00.kernels.2.length', Parameter containing:\n",
      "tensor(0.5796, requires_grad=True))\n",
      "('covar_module.kernel_00.kernels.3.var', Parameter containing:\n",
      "tensor(1.0074, requires_grad=True))\n",
      "('covar_module.kernel_00.kernels.3.length', Parameter containing:\n",
      "tensor(0.5796, requires_grad=True))\n",
      "('covar_module.kernel_01.kernels.0.var', Parameter containing:\n",
      "tensor(1., requires_grad=True))\n",
      "('covar_module.kernel_01.kernels.0.length', Parameter containing:\n",
      "tensor(1., requires_grad=True))\n",
      "('covar_module.kernel_01.kernels.1.var', Parameter containing:\n",
      "tensor(1., requires_grad=True))\n",
      "('covar_module.kernel_01.kernels.1.length', Parameter containing:\n",
      "tensor(1., requires_grad=True))\n",
      "('covar_module.kernel_01.kernels.2.var', Parameter containing:\n",
      "tensor(0.7498, requires_grad=True))\n",
      "('covar_module.kernel_01.kernels.2.length', Parameter containing:\n",
      "tensor(1.7476, requires_grad=True))\n",
      "('covar_module.kernel_01.kernels.3.var', Parameter containing:\n",
      "tensor(0.7498, requires_grad=True))\n",
      "('covar_module.kernel_01.kernels.3.length', Parameter containing:\n",
      "tensor(1.7476, requires_grad=True))\n",
      "('covar_module.kernel_11.kernels.0.var', Parameter containing:\n",
      "tensor(1., requires_grad=True))\n",
      "('covar_module.kernel_11.kernels.0.length', Parameter containing:\n",
      "tensor(1., requires_grad=True))\n",
      "('covar_module.kernel_11.kernels.1.var', Parameter containing:\n",
      "tensor(1., requires_grad=True))\n",
      "('covar_module.kernel_11.kernels.1.length', Parameter containing:\n",
      "tensor(1., requires_grad=True))\n",
      "('covar_module.kernel_11.kernels.2.var', Parameter containing:\n",
      "tensor(1., requires_grad=True))\n",
      "('covar_module.kernel_11.kernels.2.length', Parameter containing:\n",
      "tensor(1., requires_grad=True))\n",
      "('covar_module.kernel_11.kernels.3.var', Parameter containing:\n",
      "tensor(1.1379, requires_grad=True))\n",
      "('covar_module.kernel_11.kernels.3.length', Parameter containing:\n",
      "tensor(0.5381, requires_grad=True))\n"
     ]
    }
   ],
   "source": [
    "for parameter in model.named_parameters():\n",
    "    print(parameter)"
   ]
  },
  {
   "cell_type": "code",
   "execution_count": null,
   "id": "8dd409d7",
   "metadata": {},
   "outputs": [],
   "source": []
  },
  {
   "cell_type": "code",
   "execution_count": 6,
   "id": "f0c869eb",
   "metadata": {
    "scrolled": false
   },
   "outputs": [
    {
     "name": "stdout",
     "output_type": "stream",
     "text": [
      "tensor([[11.9953, 11.9730, 11.9062,  ...,  0.2951,  0.2878,  0.2804],\n",
      "        [11.9730, 11.9953, 11.9730,  ...,  0.3024,  0.2951,  0.2878],\n",
      "        [11.9062, 11.9730, 11.9953,  ...,  0.3096,  0.3024,  0.2951],\n",
      "        ...,\n",
      "        [ 0.2951,  0.3024,  0.3096,  ...,  3.9298,  3.9214,  3.8960],\n",
      "        [ 0.2878,  0.2951,  0.3024,  ...,  3.9214,  3.9298,  3.9214],\n",
      "        [ 0.2804,  0.2878,  0.2951,  ...,  3.8960,  3.9214,  3.9298]])\n",
      "tensor([[11.9953, 11.9730, 11.9062,  ..., -0.0551, -0.0673, -0.0790],\n",
      "        [11.9730, 11.9953, 11.9730,  ..., -0.0489, -0.0613, -0.0732],\n",
      "        [11.9062, 11.9730, 11.9953,  ..., -0.0425, -0.0551, -0.0673],\n",
      "        ...,\n",
      "        [-0.0551, -0.0489, -0.0425,  ...,  3.9298,  3.8960,  3.7955],\n",
      "        [-0.0673, -0.0613, -0.0551,  ...,  3.8960,  3.9298,  3.8960],\n",
      "        [-0.0790, -0.0732, -0.0673,  ...,  3.7955,  3.8960,  3.9298]])\n"
     ]
    }
   ],
   "source": [
    "# Set into eval mode\n",
    "model.eval()\n",
    "likelihood.eval()\n",
    "\n",
    "# Initialize plots\n",
    "\n",
    "number_of_samples = int(50)\n",
    "# Make predictions\n",
    "with torch.no_grad():#, gpytorch.settings.fast_pred_var():\n",
    "    test_x = torch.linspace(float(0), float(2), number_of_samples)\n",
    "    #pdb.set_trace()\n",
    "    outputs = model(test_x)\n",
    "    predictions = likelihood(outputs)\n",
    "    \n",
    "    mean = predictions.mean\n",
    "    lower, upper = predictions.confidence_region()\n",
    "#print(mean)\n",
    "#print(lower)\n",
    "#print(upper)\n",
    "# This contains predictions for both tasks, flattened out\n",
    "# The first half of the predictions is for the first task\n",
    "# The second half is for the second task\n",
    "\n",
    "#dims = int(2)\n",
    "#indices = [list(range(i, len(train_y), dims)) for i in range(dims)]\n"
   ]
  },
  {
   "cell_type": "raw",
   "id": "49b79859",
   "metadata": {},
   "source": []
  },
  {
   "cell_type": "code",
   "execution_count": null,
   "id": "ad4df72d",
   "metadata": {},
   "outputs": [],
   "source": []
  },
  {
   "cell_type": "code",
   "execution_count": 7,
   "id": "f0a03a44",
   "metadata": {},
   "outputs": [
    {
     "data": {
      "text/plain": [
       "Text(0.5, 1.0, 'Observed Values (Likelihood)')"
      ]
     },
     "execution_count": 7,
     "metadata": {},
     "output_type": "execute_result"
    },
    {
     "data": {
      "image/png": "[encoded data removed]",
      "text/plain": [
       "<Figure size 576x216 with 2 Axes>"
      ]
     },
     "metadata": {
      "needs_background": "light"
     },
     "output_type": "display_data"
    }
   ],
   "source": [
    "f, (y1_ax, y2_ax) = plt.subplots(int(1), int(2), figsize=(int(8), int(3)))\n",
    "\n",
    "# Plot training data as black stars\n",
    "y1_ax.plot(train_x.detach().numpy(), train_y[:, 0].detach().numpy(), 'k*')\n",
    "# Predictive mean as blue line\n",
    "y1_ax.plot(test_x.numpy(), mean[:, 0].numpy(), 'b')\n",
    "# Shade in confidence\n",
    "y1_ax.fill_between(test_x.numpy(), lower[:, 0].numpy(), upper[:, 0].numpy(), alpha=0.5)\n",
    "y1_ax.set_ylim([-3, 8])\n",
    "y1_ax.legend(['Observed Data', 'Mean', 'Confidence'])\n",
    "y1_ax.set_title('Observed Values (Likelihood)')\n",
    "\n",
    "# Plot training data as black stars\n",
    "y2_ax.plot(train_x.detach().numpy(), train_y[:, 1].detach().numpy(), 'k*')\n",
    "# Predictive mean as blue line\n",
    "y2_ax.plot(test_x.numpy(), mean[:, 1].numpy(), 'b')\n",
    "# Shade in confidence\n",
    "y2_ax.fill_between(test_x.numpy(), lower[:, 1].numpy(), upper[:, 1].numpy(), alpha=0.5)\n",
    "y2_ax.set_ylim([-3, 8])\n",
    "y2_ax.legend(['Observed Data', 'Mean', 'Confidence'])\n",
    "y2_ax.set_title('Observed Values (Likelihood)')\n"
   ]
  },
  {
   "cell_type": "code",
   "execution_count": null,
   "id": "822f0426",
   "metadata": {},
   "outputs": [],
   "source": []
  },
  {
   "cell_type": "markdown",
   "id": "bf73a6c3",
   "metadata": {},
   "source": [
    "# Test Diffable SE Kernel"
   ]
  },
  {
   "cell_type": "code",
   "execution_count": 8,
   "id": "b432934f",
   "metadata": {},
   "outputs": [
    {
     "data": {
      "text/plain": [
       "tensor([1, 2, 3])"
      ]
     },
     "execution_count": 8,
     "metadata": {},
     "output_type": "execute_result"
    }
   ],
   "source": [
    "X = torch.tensor([int(1), int(2), int(3)])\n",
    "X"
   ]
  },
  {
   "cell_type": "code",
   "execution_count": null,
   "id": "ae01ece4",
   "metadata": {},
   "outputs": [],
   "source": []
  },
  {
   "cell_type": "code",
   "execution_count": 9,
   "id": "d46856bd",
   "metadata": {
    "scrolled": true
   },
   "outputs": [
    {
     "data": {
      "text/plain": [
       "[[1, 0, -3*e^(-2)], [0, 1, 0], [-3*e^(-2), 0, 1]]"
      ]
     },
     "execution_count": 9,
     "metadata": {},
     "output_type": "execute_result"
    }
   ],
   "source": [
    "x1, x2, l, sigma = var('x1, x2, l, sigma')\n",
    "lengthscale = 1\n",
    "variance = 1\n",
    "SE(x1, x2, l, sigma) = sigma^2*exp(-(x1-x2)^2/(2*l^2))\n",
    "cov_matr = [[None for i in range(len(X))] for j in range(len(X))]\n",
    "for i, (v1, v2) in enumerate(product(X, X)):\n",
    "    cov_matr[int(i/len(X))][int(i%len(X))] = SE.diff(x2).diff(x1)(int(v1), int(v2), lengthscale, variance)\n",
    "cov_matr"
   ]
  },
  {
   "cell_type": "code",
   "execution_count": 10,
   "id": "55bee06a",
   "metadata": {},
   "outputs": [
    {
     "data": {
      "text/plain": [
       "[sigma^2, e^(-1/2*(x1 - x2)^2/l^2)]"
      ]
     },
     "execution_count": 10,
     "metadata": {},
     "output_type": "execute_result"
    }
   ],
   "source": [
    "SE.operands()"
   ]
  },
  {
   "cell_type": "code",
   "execution_count": 11,
   "id": "ea4620c2",
   "metadata": {},
   "outputs": [
    {
     "data": {
      "text/plain": [
       "tensor([[ 1.0000,  0.0000, -0.4060],\n",
       "        [ 0.0000,  1.0000,  0.0000],\n",
       "        [-0.4060,  0.0000,  1.0000]], grad_fn=<MulBackward0>)"
      ]
     },
     "execution_count": 11,
     "metadata": {},
     "output_type": "execute_result"
    }
   ],
   "source": [
    "a = Diff_SE_kernel(var=int(variance), length=int(lengthscale))\n",
    "q, dx1, dx2 = var('q, dx1, dx2')\n",
    "left_poly = dx2\n",
    "right_poly = dx1\n",
    "diffed_kernel = a.diff(left_poly=left_poly, right_poly=right_poly, left_d_var=var('dx2'), right_d_var=var('dx1'))\n",
    "diffed_kernel(X).evaluate()"
   ]
  },
  {
   "cell_type": "code",
   "execution_count": 12,
   "id": "dcc25ebb",
   "metadata": {},
   "outputs": [],
   "source": [
    "def calc_cell_diff(L, M, R, row, col):\n",
    "    len_M = M.number_of_arguments()\n",
    "    temp = None\n",
    "    for j in range(int(sqrt(len_M))):\n",
    "        if temp == None:\n",
    "            import itertools\n",
    "            #M_tr = list(map(list, itertools.zip_longest(*M, fillvalue=None)))\n",
    "            #[M_tr[j].diff(left_poly=L[row][k], right_poly=R.transpose()[col][j]) for k in range(L.number_of_arguments())]\n",
    "            temp = L[row]*M.transpose()[j]*R.transpose()[col][j]\n",
    "        else:\n",
    "            temp += L[row]*M.transpose()[j]*R.transpose()[col][j]\n",
    "    return temp"
   ]
  },
  {
   "cell_type": "code",
   "execution_count": 13,
   "id": "2732ed50",
   "metadata": {
    "scrolled": false
   },
   "outputs": [
    {
     "name": "stdout",
     "output_type": "stream",
     "text": [
      "[l_11 l_12]\n",
      "[l_21 l_22]\n",
      "[m_11 m_12]\n",
      "[m_21 m_22]\n",
      "[r_11 r_12]\n",
      "[r_21 r_22]\n",
      "(l_21*m_11 + l_22*m_21)*r_11 + (l_21*m_12 + l_22*m_22)*r_21\n"
     ]
    },
    {
     "data": {
      "text/plain": [
       "(l_21*m_11 + l_22*m_21)*r_11 + (l_21*m_12 + l_22*m_22)*r_21"
      ]
     },
     "execution_count": 13,
     "metadata": {},
     "output_type": "execute_result"
    }
   ],
   "source": [
    "dimension = 2\n",
    "length = dimension*dimension +1\n",
    "L_list = [var(f'l_{i}{j}') for i in range(1, dimension+1) for j in range(1, dimension+1)]\n",
    "M_list = [var(f'm_{i}{j}') for i in range(1, dimension+1) for j in range(1, dimension+1)]\n",
    "R_list = [var(f'r_{i}{j}') for i in range(1, dimension+1) for j in range(1, dimension+1)]\n",
    "L = matrix(dimension, dimension, L_list)\n",
    "M = matrix(dimension, dimension, M_list)\n",
    "R = matrix(dimension, dimension, R_list)\n",
    "print(L)\n",
    "print(M)\n",
    "print(R)\n",
    "row = 1\n",
    "col = 0\n",
    "print((L*M*R)[row][col])\n",
    "\n",
    "calc_cell_diff(L, M, R, row, col)"
   ]
  },
  {
   "cell_type": "code",
   "execution_count": 14,
   "id": "8cbb4445",
   "metadata": {},
   "outputs": [
    {
     "name": "stdout",
     "output_type": "stream",
     "text": [
      "((l_11, l_12), (r_11, r_21))\n",
      "((l_11, l_12), (r_12, r_22))\n",
      "((l_21, l_22), (r_11, r_21))\n",
      "((l_21, l_22), (r_12, r_22))\n"
     ]
    }
   ],
   "source": [
    "from itertools import product\n",
    "for p in product(L.rows(),R.columns()):\n",
    "    print(p)"
   ]
  },
  {
   "cell_type": "code",
   "execution_count": 15,
   "id": "01f7f9d0",
   "metadata": {},
   "outputs": [
    {
     "data": {
      "text/plain": [
       "(x1, x2, sigma, l) |--> [sigma^2*e^(-1/2*(x1 - x2)^2/l^2)                                0]\n",
       "[                               0 sigma^2*e^(-1/2*(x1 - x2)^2/l^2)]"
      ]
     },
     "execution_count": 15,
     "metadata": {},
     "output_type": "execute_result"
    }
   ],
   "source": [
    "MSE(x1, x2, sigma, l) = matrix(2,2, (sigma^2*exp(-(x1-x2)^2/(2*l^2)), 0, 0, sigma^2*exp(-(x1-x2)^2/(2*l^2))))\n",
    "dx1 = matrix(2,2,(dx1, 0, 0, dx1))\n",
    "MSE"
   ]
  },
  {
   "cell_type": "code",
   "execution_count": 16,
   "id": "5c54aecb",
   "metadata": {},
   "outputs": [
    {
     "data": {
      "text/plain": [
       "[[Diff_SE_kernel(), Diff_SE_kernel()], [Diff_SE_kernel(), Diff_SE_kernel()]]"
      ]
     },
     "execution_count": 16,
     "metadata": {},
     "output_type": "execute_result"
    }
   ],
   "source": [
    "kernel = Diff_SE_kernel()\n",
    "kernel3 = Diff_SE_kernel()\n",
    "kernel2 = Diff_SE_kernel()\n",
    "\n",
    "l = [[kernel, kernel3], [kernel3, kernel2]]\n",
    "l"
   ]
  },
  {
   "cell_type": "code",
   "execution_count": 17,
   "id": "b970f6f9",
   "metadata": {},
   "outputs": [],
   "source": [
    "class testobject():\n",
    "    def __init__(self, val):\n",
    "        self.val = val\n",
    "    \n",
    "    def setVal(self, val):\n",
    "        self.val = val\n",
    "        \n",
    "    def printVal(self):\n",
    "        return self.val\n",
    "    \n",
    "    def __call__(self):\n",
    "        return self.val"
   ]
  },
  {
   "cell_type": "code",
   "execution_count": 18,
   "id": "1d23c16d",
   "metadata": {},
   "outputs": [
    {
     "name": "stdout",
     "output_type": "stream",
     "text": [
      "[[<__main__.testobject object at 0x26513c310>, <__main__.testobject object at 0x26513c2b0>], [<__main__.testobject object at 0x26513c2b0>, <__main__.testobject object at 0x26513c370>]]\n",
      "170\n",
      "170\n"
     ]
    }
   ],
   "source": [
    "t1 = testobject(42)\n",
    "t2 = testobject(21)\n",
    "t3 = testobject(17)\n",
    "l = [[t1, t2], [t2, t3]]\n",
    "print(l)\n",
    "t2.setVal(170)\n",
    "print(l[0][1].printVal())\n",
    "print(l[1][0].printVal())"
   ]
  },
  {
   "cell_type": "code",
   "execution_count": null,
   "id": "f894c2d7",
   "metadata": {},
   "outputs": [],
   "source": []
  },
  {
   "cell_type": "code",
   "execution_count": 19,
   "id": "900df7d9",
   "metadata": {},
   "outputs": [],
   "source": [
    "q, dx1, dx2 = var('q, dx1, dx2')\n",
    "left_poly = dx1\n",
    "right_poly = dx2\n",
    "L = matrix(2, 2, (dx1, 0, 0, dx1))\n",
    "R = matrix(2, 2, (dx2, 0, 0, dx2))"
   ]
  },
  {
   "cell_type": "code",
   "execution_count": 20,
   "id": "234faf1f",
   "metadata": {},
   "outputs": [
    {
     "ename": "AttributeError",
     "evalue": "'tuple' object has no attribute 'diff'",
     "output_type": "error",
     "traceback": [
      "\u001b[0;31m---------------------------------------------------------------------------\u001b[0m",
      "\u001b[0;31mAttributeError\u001b[0m                            Traceback (most recent call last)",
      "\u001b[0;32m<ipython-input-20-90a70f7a1372>\u001b[0m in \u001b[0;36m<module>\u001b[0;34m\u001b[0m\n\u001b[0;32m----> 1\u001b[0;31m \u001b[0mp\u001b[0m\u001b[0;34m.\u001b[0m\u001b[0mdiff\u001b[0m\u001b[0;34m(\u001b[0m\u001b[0mleft_matrix\u001b[0m\u001b[0;34m=\u001b[0m\u001b[0mL\u001b[0m\u001b[0;34m,\u001b[0m \u001b[0mright_matrix\u001b[0m\u001b[0;34m=\u001b[0m\u001b[0mR\u001b[0m\u001b[0;34m)\u001b[0m\u001b[0;34m.\u001b[0m\u001b[0mforward\u001b[0m\u001b[0;34m(\u001b[0m\u001b[0mX\u001b[0m\u001b[0;34m,\u001b[0m \u001b[0mX\u001b[0m\u001b[0;34m)\u001b[0m\u001b[0;34m\u001b[0m\u001b[0;34m\u001b[0m\u001b[0m\n\u001b[0m",
      "\u001b[0;31mAttributeError\u001b[0m: 'tuple' object has no attribute 'diff'"
     ]
    }
   ],
   "source": [
    "p.diff(left_matrix=L, right_matrix=R).forward(X, X)"
   ]
  },
  {
   "cell_type": "code",
   "execution_count": null,
   "id": "51a46303",
   "metadata": {},
   "outputs": [],
   "source": []
  },
  {
   "cell_type": "code",
   "execution_count": null,
   "id": "fce7622e",
   "metadata": {},
   "outputs": [],
   "source": [
    "w, q, dx1, dx2 = var('w, q, dx1, dx2')\n",
    "a = dx1^2\n",
    "#a.degree(dx1)\n",
    "a.operands()"
   ]
  },
  {
   "cell_type": "code",
   "execution_count": null,
   "id": "c9a98d09",
   "metadata": {},
   "outputs": [],
   "source": [
    "prod([1,2,3])"
   ]
  },
  {
   "cell_type": "code",
   "execution_count": 27,
   "id": "402cd370",
   "metadata": {},
   "outputs": [
    {
     "name": "stdout",
     "output_type": "stream",
     "text": [
      "row: 0, col: 0\n",
      "tensor(1.)\n",
      "row: 0, col: 1\n",
      "tensor(2.)\n",
      "row: 0, col: 2\n",
      "tensor(3.)\n",
      "row: 1, col: 1\n",
      "tensor(5.)\n",
      "row: 1, col: 2\n",
      "tensor(6.)\n",
      "row: 2, col: 2\n",
      "tensor(9.)\n"
     ]
    }
   ],
   "source": [
    "a = torch.Tensor([[int(1), int(2), int(3)], [int(4), int(5), int(6)], [int(7), int(8), int(9)]])\n",
    "for i, row in enumerate(a):\n",
    "    for j, elem in enumerate(row[i:]):\n",
    "        print(f\"row: {i}, col: {i+j}\")\n",
    "        print(elem)"
   ]
  }
 ],
 "metadata": {
  "kernelspec": {
   "display_name": "SageMath 9.2",
   "language": "sage",
   "name": "sagemath"
  },
  "language_info": {
   "codemirror_mode": {
    "name": "ipython",
    "version": 3
   },
   "file_extension": ".py",
   "mimetype": "text/x-python",
   "name": "python",
   "nbconvert_exporter": "python",
   "pygments_lexer": "ipython3",
   "version": "3.9.5"
  }
 },
 "nbformat": 4,
 "nbformat_minor": 5
}
