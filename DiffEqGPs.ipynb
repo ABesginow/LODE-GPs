{
 "cells": [
  {
   "cell_type": "code",
   "execution_count": 1,
   "id": "6eaef263",
   "metadata": {
    "scrolled": true
   },
   "outputs": [],
   "source": [
    "import math\n",
    "import torch\n",
    "import gpytorch\n",
    "from matplotlib import pyplot as plt\n",
    "from kernels import *\n",
    "import pdb\n",
    "import gpytorch\n",
    "from itertools import product\n",
    "import random\n",
    "import sys\n",
    "\n",
    "%matplotlib inline\n",
    "%load_ext autoreload\n",
    "%autoreload 2"
   ]
  },
  {
   "cell_type": "code",
   "execution_count": 2,
   "id": "b41770b7",
   "metadata": {},
   "outputs": [],
   "source": [
    "torch.set_default_tensor_type(torch.DoubleTensor)"
   ]
  },
  {
   "cell_type": "code",
   "execution_count": 3,
   "id": "5b3fcb60",
   "metadata": {},
   "outputs": [],
   "source": [
    "# TODO There is also .complex_roots() for finding the others\n",
    "# TODO Or use .roots(ring=CC) to find complex roots as well\n",
    "# |                  sage: f.roots(ring=CC)   # note -- low order bits slightly different on ppc.\n",
    "# |                  [(1.00000000000000, 1), (-0.500000000000000 - 0.86602540378443...*I, 1), (-0.500000000000000 + 0.86602540378443...*I, 1)]\n",
    "\n",
    "\n",
    "def find_all_real_roots(expr, max_iterations=10000):\n",
    "    degr = expr.degree(var('x'))\n",
    "    zeros = []\n",
    "    iteration = 0\n",
    "    for root in expr.roots():\n",
    "        for i in range(root[1]):\n",
    "            zeros.append(root[0])\n",
    "    if not len(zeros) == degr:\n",
    "        while not len(zeros) == degr or iteration >= max_iterations:\n",
    "            iteration += 1\n",
    "            max_search = randrange(sys.maxsize)\n",
    "            min_search = min_search - int(sys.maxsize*0.1)\n",
    "            try:\n",
    "                root = find_root(expr, min_search, max_search)\n",
    "                zeros.append(root)\n",
    "            except:\n",
    "                continue\n",
    "    return zeros"
   ]
  },
  {
   "cell_type": "code",
   "execution_count": 4,
   "id": "06280d6d",
   "metadata": {},
   "outputs": [],
   "source": [
    "# TODO Nochmal durchlaufen lassen\n",
    "def get_prepared_SNF(input_matrix, left_var=var('dx1'), right_var=var('dx2')):\n",
    "    d, u, v = input_matrix.smith_form()\n",
    "    (r, c) = np.shape(d)\n",
    "    if r > c:\n",
    "        assert \"More rows than columns in diagonal matrix D\"\n",
    "    if not d == u*input_matrix*v:\n",
    "        assert \"The calculation of the Smith form failed or is not possible\"\n",
    "    # TODO try out using e.change_variable_name(left_var)\n",
    "    V_left = matrix([[e.change_variable_name(left_var) for e in row] for row in v])\n",
    "    V_right_transpose = matrix([[e.change_variable_name(right_var) for e in row] for row in v.transpose()])\n",
    "    #V_left = matrix([[e.substitute(left_var) for e in row] for row in v])\n",
    "    #V_right_transpose = matrix([[e.substitute(right_var) for e in row] for row in v.transpose()])\n",
    "    row = [None] * c\n",
    "    pre_diff_kernel_matrix = []\n",
    "    for i in range(c):\n",
    "        temp = copy(row)\n",
    "        if i < r and d[i][i] == 0 or i >= r:\n",
    "            temp[i] = Diff_SE_kernel(var=0, length=0)\n",
    "        # Real roots case (i.e. exp kernel)\n",
    "        elif i < r and not SR(str(d[i][i])).is_numeric():\n",
    "            list_of_summands = SR(str(d[i][i])).factor_list()\n",
    "            if len(list_of_summands) > 1:\n",
    "                raise \"I can't deal with that right now\"\n",
    "            kernel = None\n",
    "            for summand in list_of_summands:\n",
    "                roots = summand[0].roots()\n",
    "                for root in roots:\n",
    "                    if root[1] > 1:\n",
    "                        raise \"I can't deal with that right now\"\n",
    "                    if root[0].imag() == 0:\n",
    "                        factor = summand[0].content(x)\n",
    "                        exp_coeff = root[0]\n",
    "                        if kernel is None:\n",
    "                            kernel = exp_kernel(torch.tensor(float(factor)), torch.tensor(float(exp_coeff)))\n",
    "            temp[i] = kernel\n",
    "        # TODO with poly.content(x) I can potentially get the coefficients in the front and make the stuff cleaner\n",
    "        #\n",
    "        #    find_all_real_roots(d[i][i])\n",
    "        # Complex roots case (i.e. sin/cos kernel)\n",
    "        #elif something_else:\n",
    "        # Mixed roots case?\n",
    "        #elif something_completely_different:\n",
    "        \n",
    "            \n",
    "        pre_diff_kernel_matrix.append(temp)\n",
    "    return pre_diff_kernel_matrix, V_left, V_right_transpose"
   ]
  },
  {
   "cell_type": "code",
   "execution_count": 5,
   "id": "2eb77e1c",
   "metadata": {},
   "outputs": [],
   "source": [
    "a = SR('x^3')\n"
   ]
  },
  {
   "cell_type": "code",
   "execution_count": null,
   "id": "2fe16641",
   "metadata": {},
   "outputs": [],
   "source": []
  },
  {
   "cell_type": "code",
   "execution_count": 6,
   "id": "94d38e5a",
   "metadata": {},
   "outputs": [
    {
     "name": "stdout",
     "output_type": "stream",
     "text": [
      "3*x1^3 - 3\n",
      "3*x1^3 - 3\n",
      "[[-3, 0], [3, 3]]\n",
      "[3*x1^3, -3]\n",
      "[(1/2*I*sqrt(3) - 1/2, 1), (-1/2*I*sqrt(3) - 1/2, 1), (1, 1)]\n",
      "[(x1^2 + x1 + 1, 1), (x1 - 1, 1), (3, 1)]\n",
      "3\n",
      "-3*imag_part(x1)^3 + 9*imag_part(x1)*real_part(x1)^2\n"
     ]
    }
   ],
   "source": [
    "poly = SR(str('3*(x1^3-1)'))\n",
    "print(poly.simplify_full())\n",
    "print(poly.expand())\n",
    "print(poly.coefficients())\n",
    "print(poly.operands())\n",
    "print(poly.roots())\n",
    "print(poly.factor_list())\n",
    "print(poly.content(x1))\n",
    "print(poly.imag())\n"
   ]
  },
  {
   "cell_type": "code",
   "execution_count": 7,
   "id": "336fecb4",
   "metadata": {},
   "outputs": [
    {
     "name": "stdout",
     "output_type": "stream",
     "text": [
      "[  1/2   1/2]\n",
      "[x - 2     x]\n"
     ]
    }
   ],
   "source": [
    "\n",
    "R.<x> = QQ[]\n",
    "m = x^2*matrix(R, 2,3,[1, 0, 1, 1, 0, 0]) +x* matrix(R, 2,3,[-1, -1, -2, -2, 1, 1]) + matrix(R, 2,3,[0, 1, 1, 0, 0, -1])\n",
    "\n",
    "\n",
    "dx1 = var('dx1')\n",
    "dx2 = var('dx2')\n",
    "#L = [[2, 1, 0], [3/2, -1/2*dx1 + 2, -1], [-dx1 - 1, dx1^2 - 3*dx1, 2*dx1]]\n",
    "#R = [[2, 3/2, -dx2 - 1], [1, -1/2*dx2 + 2, dx2^2 - 3*dx2], [0, -1, 2*dx2]]\n",
    "#L = matrix(L)\n",
    "#R = matrix(R)\n",
    "\n",
    "#T, L, R = get_prepared_SNF(m, dx1, dx2)\n",
    "#print(m)\n",
    "\n",
    "#print(T)\n",
    "#print(L)\n",
    "#print(R)\n",
    "A = matrix(R, 2, 3, [x, -x^2+x-1, x-2, 2-x, x^2-x-1, -x])\n",
    "#print(\"---\")\n",
    "d, u, v = A.smith_form()\n",
    "#d[1][1].roots()\n",
    "print(u)"
   ]
  },
  {
   "cell_type": "code",
   "execution_count": 8,
   "id": "cc3d2f8b",
   "metadata": {},
   "outputs": [
    {
     "name": "stdout",
     "output_type": "stream",
     "text": [
      "[(1, 1), (-1, 1)]\n"
     ]
    }
   ],
   "source": [
    "\n",
    "a = x^2 - 1\n",
    "print(a.roots())\n",
    "#find_root(a, -2, 10)\n"
   ]
  },
  {
   "cell_type": "code",
   "execution_count": 9,
   "id": "bfee9772",
   "metadata": {},
   "outputs": [
    {
     "data": {
      "text/plain": [
       "6672341672043243971"
      ]
     },
     "execution_count": 9,
     "metadata": {},
     "output_type": "execute_result"
    }
   ],
   "source": [
    "randrange(sys.maxsize)- int(sys.maxsize*0.1)"
   ]
  },
  {
   "cell_type": "raw",
   "id": "d750964e",
   "metadata": {},
   "source": [
    "R.<x> = QQ[]\n",
    "m = x^2*matrix(R, 2,3,[1, 0, 1, 1, 0, 0]) +x* matrix(R, 2,3,[-1, -1, -2, -2, 1, 1]) + matrix(R, 2,3,[0, 1, 1, 0, 0, -1])\n",
    "#dx1 = var('dx1')\n",
    "#m[0, 0].substitute(dx1)\n",
    "get_prepared_SNF(m)"
   ]
  },
  {
   "cell_type": "raw",
   "id": "d56d1013",
   "metadata": {
    "scrolled": false
   },
   "source": [
    "def test_get_prepared_SNF():\n",
    "    m = matrix(2,2,(1,0,1,0))\n",
    "    v1 = vector((1,2,3,4))\n",
    "    v2 = vector((1,2,3,4))\n",
    "    # Standard SE Kernel on the [1][1]-Entry\n",
    "    assert get_cov_fkt_from_SNF(m)(v1, v2).tolist() == [[0., 0.],[0., 1.]], \"Test 1 failed\"\n",
    "    \n",
    "    R.<x> = QQ[]\n",
    "    m=x^2*matrix(R, 2,3,[1, 0, 1, 1, 0, 0]) +x* matrix(R, 2,3,[-1, -1, -2, -2, 1, 1]) + matrix(R, 2,3,[0, 1, 1, 0, 0, -1])\n",
    "    v1 = vector((1,2,3,4))\n",
    "    v2 = vector((1,2,3,4))\n",
    "    # Standard SE Kernel on the [2][2]-Entry\n",
    "    assert get_cov_fkt_from_SNF(m)(v1, v2).tolist() == [[0., 0., 0.],[0., 0., 0.],[0., 0., 1.]], \"Test 2 failed\"\n",
    "    \n",
    "test_get_cov_fkt_from_SNF()"
   ]
  },
  {
   "cell_type": "code",
   "execution_count": 10,
   "id": "779684f0",
   "metadata": {},
   "outputs": [],
   "source": [
    "train_x = torch.linspace(float(0), float(5), int(10))\n",
    "# The original sin/cos data\n",
    "#one = torch.sin(train_x * (float(2) * math.pi)) + torch.randn(train_x.size()) * float(0.2)\n",
    "#two = torch.cos(train_x * (float(2) * math.pi)) + torch.randn(train_x.size()) * float(0.2)\n",
    "\n",
    "# Polynomials + diff(poly) data\n",
    "#one = torch.pow(train_x, int(3)) + torch.randn(train_x.size()) * float(0.2)\n",
    "#two = int(3)*torch.pow(train_x, int(2)) + torch.randn(train_x.size()) * float(0.2)\n",
    "\n",
    "# Polynomials + diff(poly) data\n",
    "#one = torch.pow(train_x, int(3)) + torch.randn(train_x.size()) * float(0.2)\n",
    "#two = int(6)*train_x + torch.randn(train_x.size()) * float(0.2)\n",
    "\n",
    "# Polynomials + diff(poly) data\n",
    "#one = torch.pow(train_x, int(5)) + torch.randn(train_x.size()) * float(0.2)\n",
    "#two = int(60)*torch.pow(train_x, int(2)) + torch.randn(train_x.size()) * float(0.2)\n",
    "\n",
    "# Polynomials + diff(poly) data\n",
    "#one = torch.exp(train_x) + torch.randn(train_x.size()) * float(0.2)\n",
    "#two = torch.exp(train_x) + torch.randn(train_x.size()) * float(0.2)\n",
    "#three = torch.exp(train_x) + torch.randn(train_x.size()) * float(0.2)\n",
    "\n",
    "\n",
    "noise = float(0.1)\n",
    "# ODE_GP_Example.mw\n",
    "one = torch.div(torch.cos(train_x) - torch.sin(train_x), int(2)) - torch.div(torch.exp(train_x), int(10)) + torch.randn(train_x.size()) * float(noise)\n",
    "two = torch.cos(train_x) + torch.randn(train_x.size()) * float(noise)\n",
    "three = torch.div(- torch.cos(train_x) - torch.sin(train_x), int(2)) - torch.div(torch.exp(train_x), int(10)) + torch.randn(train_x.size()) * float(noise)\n",
    "\n",
    "\n",
    "\n",
    "train_y = torch.stack([one, two, three], int(-1))\n"
   ]
  },
  {
   "cell_type": "code",
   "execution_count": 11,
   "id": "385213ae",
   "metadata": {},
   "outputs": [],
   "source": [
    "\n",
    "\n",
    "# = torch.Tensor([[float(-0.3), float(0.99)],[float(-0.07), float(1.01)]])"
   ]
  },
  {
   "cell_type": "code",
   "execution_count": 12,
   "id": "8c5884c7",
   "metadata": {},
   "outputs": [
    {
     "data": {
      "text/plain": [
       "2"
      ]
     },
     "execution_count": 12,
     "metadata": {},
     "output_type": "execute_result"
    }
   ],
   "source": [
    "\n",
    "len(train_y.shape)"
   ]
  },
  {
   "cell_type": "raw",
   "id": "37706537",
   "metadata": {},
   "source": [
    "In Reihenfolge:\n",
    "- Mal ohne Ableitung durchlaufen lassen\n",
    "- Mal mit 1-en auf der Diagonale\n",
    "- Mal mit der Ableitungsdiagonale drehen\n",
    "- Gradienten ausgeben lassen\n",
    "- Mal den Datenvektor mit L multiplizieren und als neuen \"Ersteller\" für die Daten nehmen\n",
    "- Lasse L und R nicht quadratisch sein\n",
    "- Einfach -> L (2x3)\n",
    "- Schwer -> L (3x2)"
   ]
  },
  {
   "cell_type": "code",
   "execution_count": 13,
   "id": "361022cb",
   "metadata": {},
   "outputs": [
    {
     "data": {
      "text/plain": [
       "[<matplotlib.lines.Line2D object at 0x28ee84b20>,\n",
       " <matplotlib.lines.Line2D object at 0x28ee84b50>,\n",
       " <matplotlib.lines.Line2D object at 0x28ee84bb0>]"
      ]
     },
     "execution_count": 13,
     "metadata": {},
     "output_type": "execute_result"
    },
    {
     "data": {
      "image/png": "[encoded data removed]",
      "text/plain": [
       "<Figure size 432x288 with 1 Axes>"
      ]
     },
     "metadata": {
      "needs_background": "light"
     },
     "output_type": "display_data"
    }
   ],
   "source": [
    "plt.plot(train_y)"
   ]
  },
  {
   "cell_type": "markdown",
   "id": "23ec0044",
   "metadata": {},
   "source": [
    "$$\n",
    "\\begin{align}\n",
    "L =& \n",
    "\\left[\n",
    "\\begin{matrix}\n",
    "1 & dx_1 \\\\\n",
    "0 & 1\n",
    "\\end{matrix}\n",
    "\\right]\\\\\n",
    "R =& \n",
    "\\left[\n",
    "\\begin{matrix}\n",
    "1 & 0\\\\\n",
    "dx_2 & 1\n",
    "\\end{matrix}\n",
    "\\right]\\\\\n",
    "\\hat{k} =& \n",
    "\\left[\n",
    "\\begin{matrix}\n",
    "SE_1 & 0\\\\\n",
    "0 & SE_2\n",
    "\\end{matrix}\n",
    "\\right]\\\\\n",
    "k =& L*\\hat{k}*R\\\\\n",
    "=& \\left[\n",
    "\\begin{matrix}\n",
    "dx_1 dx_2 SE_2 + SE_1 & dx_1 SE_2\\\\\n",
    "dx_2 SE_2 & SE_2\n",
    "\\end{matrix}\n",
    "\\right]\n",
    "\\end{align}\n",
    "$$"
   ]
  },
  {
   "cell_type": "code",
   "execution_count": 14,
   "id": "b15ef0d8",
   "metadata": {},
   "outputs": [
    {
     "data": {
      "text/plain": [
       "[            k1       dx2^2*k1]\n",
       "[      dx1^2*k1 dx1^2*dx2^2*k1]"
      ]
     },
     "execution_count": 14,
     "metadata": {},
     "output_type": "execute_result"
    }
   ],
   "source": [
    "dx1, dx2, k1, k2, f, g = var('dx1, dx2, k1, k2, f, g')\n",
    "K = matrix(2,2, (k1, 0, 0, 0))\n",
    "L = matrix(2, 2, (1, 0, dx1^2, 1))\n",
    "R = matrix(2, 2, (1, dx2^2, 0, 1))\n",
    "L*K*R\n",
    "# used to see how the data should be created if I \n",
    "# decide to create it exactly as I create the kernel\n",
    "#K = matrix(2,1, (f, g))\n",
    "#L*L*K"
   ]
  },
  {
   "cell_type": "code",
   "execution_count": null,
   "id": "85a3102a",
   "metadata": {},
   "outputs": [],
   "source": [
    "\n",
    "    "
   ]
  },
  {
   "cell_type": "code",
   "execution_count": 15,
   "id": "473d2663",
   "metadata": {},
   "outputs": [
    {
     "data": {
      "text/plain": [
       "[False, False, True]"
      ]
     },
     "execution_count": 15,
     "metadata": {},
     "output_type": "execute_result"
    }
   ],
   "source": [
    "dx1, a, b = var('dx1, a, b')\n",
    "p = dx1*a + dx1*b + dx1^2\n",
    "p.operands()\n",
    "[('+' in str(op) or '^' in str(op)) for op in p.operands()]\n",
    "#[not(not op in [sage.rings.integer.Integer, sage.rings.real_mpfr.RealLiteral] and op.has(d_var)) and ('+' in str(op) or '^' in str(op)) for op in p.operands()]"
   ]
  },
  {
   "cell_type": "code",
   "execution_count": 16,
   "id": "66d6fc23",
   "metadata": {},
   "outputs": [],
   "source": [
    "d_var=(dx1)\n",
    "if type(p) in [sage.symbolic.expression.Expression] and any(not(not op in [sage.rings.integer.Integer, sage.rings.real_mpfr.RealLiteral] and op.has(d_var)) and ('+' in str(op) or '^' in str(op)) for op in p.operands()):\n",
    "    print(\"Damn\")"
   ]
  },
  {
   "cell_type": "code",
   "execution_count": 17,
   "id": "81d767c3",
   "metadata": {},
   "outputs": [
    {
     "data": {
      "text/plain": [
       "Univariate Polynomial Ring in dx1 over Rational function field in a over Rational Field"
      ]
     },
     "execution_count": 17,
     "metadata": {},
     "output_type": "execute_result"
    }
   ],
   "source": [
    "F.<a> = FunctionField(QQ)\n",
    "R.<x> = F[]\n",
    "R.<dx1> = F[]\n",
    "#e = x+a\n",
    "#e.substitute(dx1)\n",
    "R"
   ]
  },
  {
   "cell_type": "code",
   "execution_count": 18,
   "id": "66faff00",
   "metadata": {},
   "outputs": [
    {
     "name": "stdout",
     "output_type": "stream",
     "text": [
      "[]\n",
      "[]\n",
      "[]\n",
      "[]\n",
      "[a, b]\n",
      "[]\n"
     ]
    }
   ],
   "source": [
    "F.<a> = FunctionField(QQ)\n",
    "F.<b> = FunctionField(F)\n",
    "R.<x> = F[]\n",
    "#F.base_extend(R)\n",
    "#P.<x> = SR[]\n",
    "#R.<x> = F[]\n",
    "#R.base_extend()\n",
    "m1 = matrix(R, 2, 3, [[a, b, x], [1, a+b, x]])\n",
    "for row in m1:\n",
    "    for e in row:\n",
    "        print(SR(str(e)).operands())\n",
    "\n"
   ]
  },
  {
   "cell_type": "code",
   "execution_count": null,
   "id": "7645cdc5",
   "metadata": {},
   "outputs": [],
   "source": []
  },
  {
   "cell_type": "code",
   "execution_count": null,
   "id": "db47133a",
   "metadata": {},
   "outputs": [],
   "source": []
  },
  {
   "cell_type": "code",
   "execution_count": null,
   "id": "7c4572c4",
   "metadata": {},
   "outputs": [],
   "source": []
  },
  {
   "cell_type": "raw",
   "id": "cdc5f12e",
   "metadata": {},
   "source": [
    "R = ZZ[I] \n",
    "x = var('x')\n",
    "#Gaussian Integers in Number Field in I with defining polynomial x^2 + 1\n",
    "I = R.basis()[1]\n",
    "M=matrix([[2+I,0],[0,1]]) \n",
    "M.parent()\n",
    "#Full MatrixSpace of 2 by 2 dense matrices over Gaussian Integers in Number Field in I with defining polynomial x^2 + 1\n",
    "M.smith_form()"
   ]
  },
  {
   "cell_type": "raw",
   "id": "ff9fd73e",
   "metadata": {},
   "source": [
    "a, b = var('a, b', domain=RR)\n",
    "q, dx1, dx2, x = var('q, dx1, dx2, x')\n",
    "R.<x> = QQ[]\n",
    "#Gaussian Integers in Number Field in I with defining polynomial x^2 + 1\n",
    "A = matrix(R, 2, 3, [x+a, -a, -1, -b, x+b, 0])\n",
    "A.smith_form()"
   ]
  },
  {
   "cell_type": "raw",
   "id": "ee0900f5",
   "metadata": {},
   "source": []
  },
  {
   "cell_type": "code",
   "execution_count": null,
   "id": "28df6dba",
   "metadata": {},
   "outputs": [],
   "source": []
  },
  {
   "cell_type": "code",
   "execution_count": null,
   "id": "ff1c603a",
   "metadata": {},
   "outputs": [],
   "source": []
  },
  {
   "cell_type": "code",
   "execution_count": null,
   "id": "73200044",
   "metadata": {},
   "outputs": [],
   "source": []
  },
  {
   "cell_type": "code",
   "execution_count": null,
   "id": "31918bf8",
   "metadata": {},
   "outputs": [],
   "source": []
  },
  {
   "cell_type": "code",
   "execution_count": null,
   "id": "808151c7",
   "metadata": {},
   "outputs": [],
   "source": []
  },
  {
   "cell_type": "code",
   "execution_count": 19,
   "id": "1b285d83",
   "metadata": {
    "scrolled": true
   },
   "outputs": [
    {
     "name": "stdout",
     "output_type": "stream",
     "text": [
      "List of all kernels: [exp_kernel(), Diff_SE_kernel()]\n",
      "[        1      -1/4 2*dx1 + 2]\n",
      "[        0         0         4]\n",
      "[        0      -1/4 2*dx1 - 2]\n",
      "---\n",
      "[        1         0         0]\n",
      "[     -1/4         0      -1/4]\n",
      "[2*dx2 + 2         4 2*dx2 - 2]\n",
      "---\n",
      "[[None, None, None], [None, exp_kernel(), None], [None, None, Diff_SE_kernel()]]\n",
      "---\n",
      "i\n",
      "0\n",
      "left\n",
      "(1, -1/4, 2*dx1 + 2)\n",
      "right\n",
      "(1, -1/4, 2*dx2 + 2)\n",
      "Result kernel\n",
      "AdditiveKernel(\n",
      "  (kernels): ModuleList(\n",
      "    (0): diffed_exp_kernel()\n",
      "    (1): diffed_SE_kernel()\n",
      "  )\n",
      ")\n",
      "i\n",
      "1\n",
      "left\n",
      "(1, -1/4, 2*dx1 + 2)\n",
      "right\n",
      "(0, 0, 4)\n",
      "Result kernel\n",
      "AdditiveKernel(\n",
      "  (kernels): ModuleList(\n",
      "    (0): diffed_exp_kernel()\n",
      "    (1): diffed_SE_kernel()\n",
      "  )\n",
      ")\n",
      "i\n",
      "2\n",
      "left\n",
      "(1, -1/4, 2*dx1 + 2)\n",
      "right\n",
      "(0, -1/4, 2*dx2 - 2)\n",
      "Result kernel\n",
      "AdditiveKernel(\n",
      "  (kernels): ModuleList(\n",
      "    (0): diffed_exp_kernel()\n",
      "    (1): diffed_SE_kernel()\n",
      "  )\n",
      ")\n",
      "i\n",
      "3\n",
      "left\n",
      "(0, 0, 4)\n",
      "right\n",
      "(1, -1/4, 2*dx2 + 2)\n",
      "Result kernel\n",
      "AdditiveKernel(\n",
      "  (kernels): ModuleList(\n",
      "    (0): diffed_exp_kernel()\n",
      "    (1): diffed_SE_kernel()\n",
      "  )\n",
      ")\n",
      "i\n",
      "4\n",
      "left\n",
      "(0, 0, 4)\n",
      "right\n",
      "(0, 0, 4)\n",
      "Result kernel\n",
      "AdditiveKernel(\n",
      "  (kernels): ModuleList(\n",
      "    (0): diffed_exp_kernel()\n",
      "    (1): diffed_SE_kernel()\n",
      "  )\n",
      ")\n",
      "i\n",
      "5\n",
      "left\n",
      "(0, 0, 4)\n",
      "right\n",
      "(0, -1/4, 2*dx2 - 2)\n",
      "Result kernel\n",
      "AdditiveKernel(\n",
      "  (kernels): ModuleList(\n",
      "    (0): diffed_exp_kernel()\n",
      "    (1): diffed_SE_kernel()\n",
      "  )\n",
      ")\n",
      "i\n",
      "6\n",
      "left\n",
      "(0, -1/4, 2*dx1 - 2)\n",
      "right\n",
      "(1, -1/4, 2*dx2 + 2)\n",
      "Result kernel\n",
      "AdditiveKernel(\n",
      "  (kernels): ModuleList(\n",
      "    (0): diffed_exp_kernel()\n",
      "    (1): diffed_SE_kernel()\n",
      "  )\n",
      ")\n",
      "i\n",
      "7\n",
      "left\n",
      "(0, -1/4, 2*dx1 - 2)\n",
      "right\n",
      "(0, 0, 4)\n",
      "Result kernel\n",
      "AdditiveKernel(\n",
      "  (kernels): ModuleList(\n",
      "    (0): diffed_exp_kernel()\n",
      "    (1): diffed_SE_kernel()\n",
      "  )\n",
      ")\n",
      "i\n",
      "8\n",
      "left\n",
      "(0, -1/4, 2*dx1 - 2)\n",
      "right\n",
      "(0, -1/4, 2*dx2 - 2)\n",
      "Result kernel\n",
      "AdditiveKernel(\n",
      "  (kernels): ModuleList(\n",
      "    (0): diffed_exp_kernel()\n",
      "    (1): diffed_SE_kernel()\n",
      "  )\n",
      ")\n",
      "[[AdditiveKernel(\n",
      "  (kernels): ModuleList(\n",
      "    (0): diffed_exp_kernel()\n",
      "    (1): diffed_SE_kernel()\n",
      "  )\n",
      "), AdditiveKernel(\n",
      "  (kernels): ModuleList(\n",
      "    (0): diffed_exp_kernel()\n",
      "    (1): diffed_SE_kernel()\n",
      "  )\n",
      "), AdditiveKernel(\n",
      "  (kernels): ModuleList(\n",
      "    (0): diffed_exp_kernel()\n",
      "    (1): diffed_SE_kernel()\n",
      "  )\n",
      ")], [AdditiveKernel(\n",
      "  (kernels): ModuleList(\n",
      "    (0): diffed_exp_kernel()\n",
      "    (1): diffed_SE_kernel()\n",
      "  )\n",
      "), AdditiveKernel(\n",
      "  (kernels): ModuleList(\n",
      "    (0): diffed_exp_kernel()\n",
      "    (1): diffed_SE_kernel()\n",
      "  )\n",
      "), AdditiveKernel(\n",
      "  (kernels): ModuleList(\n",
      "    (0): diffed_exp_kernel()\n",
      "    (1): diffed_SE_kernel()\n",
      "  )\n",
      ")], [AdditiveKernel(\n",
      "  (kernels): ModuleList(\n",
      "    (0): diffed_exp_kernel()\n",
      "    (1): diffed_SE_kernel()\n",
      "  )\n",
      "), AdditiveKernel(\n",
      "  (kernels): ModuleList(\n",
      "    (0): diffed_exp_kernel()\n",
      "    (1): diffed_SE_kernel()\n",
      "  )\n",
      "), AdditiveKernel(\n",
      "  (kernels): ModuleList(\n",
      "    (0): diffed_exp_kernel()\n",
      "    (1): diffed_SE_kernel()\n",
      "  )\n",
      ")]]\n",
      "[0,0]: _diffed_exp_kernel_\n",
      "Received derivation form: [[[tensor(-0.2500), tensor(-0.2500)], 0, 0]]\n",
      "Resulting list (including parameters):\n",
      " > Summand 0:\n",
      "coefficients:[tensor(-0.2500), tensor(-0.2500)]\n",
      "exponent:0 \n",
      "_diffed_SE_kernel_\n",
      "Received derivation form: [[[tensor(2.), tensor(2.)], 0, 0], [[tensor(2.), tensor(2.)], 0, 1], [[tensor(2.), tensor(2.)], 1, 0], [[tensor(2.), tensor(2.)], 1, 1]]\n",
      "Resulting list (including parameters):\n",
      " > Summand 0, entry 0:\n",
      "polynom coefficients:[tensor(2.), tensor(2.)]\n",
      "derivation coefficient:1\n",
      "l exponent:0\n",
      "(x1-x2) exponent:0\n",
      " > Summand 1, entry 0:\n",
      "polynom coefficients:[tensor(2.), tensor(2.)]\n",
      "derivation coefficient:1\n",
      "l exponent:1\n",
      "(x1-x2) exponent:1\n",
      " > Summand 2, entry 0:\n",
      "polynom coefficients:[tensor(2.), tensor(2.)]\n",
      "derivation coefficient:-1\n",
      "l exponent:1\n",
      "(x1-x2) exponent:1\n",
      " > Summand 3, entry 0:\n",
      "polynom coefficients:[tensor(2.), tensor(2.)]\n",
      "derivation coefficient:1\n",
      "l exponent:1\n",
      "(x1-x2) exponent:0\n",
      " > Summand 3, entry 1:\n",
      "polynom coefficients:[tensor(2.), tensor(2.)]\n",
      "derivation coefficient:-1\n",
      "l exponent:2\n",
      "(x1-x2) exponent:2\n",
      " \n",
      "\n",
      "\n",
      "[0,1]: _diffed_exp_kernel_\n",
      "Received derivation form: [[[tensor(-0.2500), tensor(0.)], 0, 0]]\n",
      "Resulting list (including parameters):\n",
      " > Summand 0:\n",
      "coefficients:[tensor(-0.2500), tensor(0.)]\n",
      "exponent:0 \n",
      "_diffed_SE_kernel_\n",
      "Received derivation form: [[[tensor(2.), tensor(4.)], 0, 0], [[tensor(2.), tensor(4.)], 1, 0]]\n",
      "Resulting list (including parameters):\n",
      " > Summand 0, entry 0:\n",
      "polynom coefficients:[tensor(2.), tensor(4.)]\n",
      "derivation coefficient:1\n",
      "l exponent:0\n",
      "(x1-x2) exponent:0\n",
      " > Summand 1, entry 0:\n",
      "polynom coefficients:[tensor(2.), tensor(4.)]\n",
      "derivation coefficient:-1\n",
      "l exponent:1\n",
      "(x1-x2) exponent:1\n",
      " \n",
      "\n",
      "\n",
      "[0,2]: _diffed_exp_kernel_\n",
      "Received derivation form: [[[tensor(-0.2500), tensor(-0.2500)], 0, 0]]\n",
      "Resulting list (including parameters):\n",
      " > Summand 0:\n",
      "coefficients:[tensor(-0.2500), tensor(-0.2500)]\n",
      "exponent:0 \n",
      "_diffed_SE_kernel_\n",
      "Received derivation form: [[[tensor(2.), tensor(-2.)], 0, 0], [[tensor(2.), tensor(2.)], 0, 1], [[tensor(2.), tensor(-2.)], 1, 0], [[tensor(2.), tensor(2.)], 1, 1]]\n",
      "Resulting list (including parameters):\n",
      " > Summand 0, entry 0:\n",
      "polynom coefficients:[tensor(2.), tensor(-2.)]\n",
      "derivation coefficient:1\n",
      "l exponent:0\n",
      "(x1-x2) exponent:0\n",
      " > Summand 1, entry 0:\n",
      "polynom coefficients:[tensor(2.), tensor(2.)]\n",
      "derivation coefficient:1\n",
      "l exponent:1\n",
      "(x1-x2) exponent:1\n",
      " > Summand 2, entry 0:\n",
      "polynom coefficients:[tensor(2.), tensor(-2.)]\n",
      "derivation coefficient:-1\n",
      "l exponent:1\n",
      "(x1-x2) exponent:1\n",
      " > Summand 3, entry 0:\n",
      "polynom coefficients:[tensor(2.), tensor(2.)]\n",
      "derivation coefficient:1\n",
      "l exponent:1\n",
      "(x1-x2) exponent:0\n",
      " > Summand 3, entry 1:\n",
      "polynom coefficients:[tensor(2.), tensor(2.)]\n",
      "derivation coefficient:-1\n",
      "l exponent:2\n",
      "(x1-x2) exponent:2\n",
      " \n",
      "\n",
      "\n",
      "[1,0]: _diffed_exp_kernel_\n",
      "Received derivation form: [[[tensor(0.), tensor(-0.2500)], 0, 0]]\n",
      "Resulting list (including parameters):\n",
      " > Summand 0:\n",
      "coefficients:[tensor(0.), tensor(-0.2500)]\n",
      "exponent:0 \n",
      "_diffed_SE_kernel_\n",
      "Received derivation form: [[[tensor(4.), tensor(2.)], 0, 0], [[tensor(4.), tensor(2.)], 0, 1]]\n",
      "Resulting list (including parameters):\n",
      " > Summand 0, entry 0:\n",
      "polynom coefficients:[tensor(4.), tensor(2.)]\n",
      "derivation coefficient:1\n",
      "l exponent:0\n",
      "(x1-x2) exponent:0\n",
      " > Summand 1, entry 0:\n",
      "polynom coefficients:[tensor(4.), tensor(2.)]\n",
      "derivation coefficient:1\n",
      "l exponent:1\n",
      "(x1-x2) exponent:1\n",
      " \n",
      "\n",
      "\n",
      "[1,1]: _diffed_exp_kernel_\n",
      "Received derivation form: [[[tensor(0.), tensor(0.)], 0, 0]]\n",
      "Resulting list (including parameters):\n",
      " > Summand 0:\n",
      "coefficients:[tensor(0.), tensor(0.)]\n",
      "exponent:0 \n",
      "_diffed_SE_kernel_\n",
      "Received derivation form: [[[tensor(4.), tensor(4.)], 0, 0]]\n",
      "Resulting list (including parameters):\n",
      " > Summand 0, entry 0:\n",
      "polynom coefficients:[tensor(4.), tensor(4.)]\n",
      "derivation coefficient:1\n",
      "l exponent:0\n",
      "(x1-x2) exponent:0\n",
      " \n",
      "\n",
      "\n",
      "[1,2]: _diffed_exp_kernel_\n",
      "Received derivation form: [[[tensor(0.), tensor(-0.2500)], 0, 0]]\n",
      "Resulting list (including parameters):\n",
      " > Summand 0:\n",
      "coefficients:[tensor(0.), tensor(-0.2500)]\n",
      "exponent:0 \n",
      "_diffed_SE_kernel_\n",
      "Received derivation form: [[[tensor(4.), tensor(-2.)], 0, 0], [[tensor(4.), tensor(2.)], 0, 1]]\n",
      "Resulting list (including parameters):\n",
      " > Summand 0, entry 0:\n",
      "polynom coefficients:[tensor(4.), tensor(-2.)]\n",
      "derivation coefficient:1\n",
      "l exponent:0\n",
      "(x1-x2) exponent:0\n",
      " > Summand 1, entry 0:\n",
      "polynom coefficients:[tensor(4.), tensor(2.)]\n",
      "derivation coefficient:1\n",
      "l exponent:1\n",
      "(x1-x2) exponent:1\n",
      " \n",
      "\n",
      "\n",
      "[2,0]: _diffed_exp_kernel_\n",
      "Received derivation form: [[[tensor(-0.2500), tensor(-0.2500)], 0, 0]]\n",
      "Resulting list (including parameters):\n",
      " > Summand 0:\n",
      "coefficients:[tensor(-0.2500), tensor(-0.2500)]\n",
      "exponent:0 \n",
      "_diffed_SE_kernel_\n",
      "Received derivation form: [[[tensor(-2.), tensor(2.)], 0, 0], [[tensor(-2.), tensor(2.)], 0, 1], [[tensor(2.), tensor(2.)], 1, 0], [[tensor(2.), tensor(2.)], 1, 1]]\n",
      "Resulting list (including parameters):\n",
      " > Summand 0, entry 0:\n",
      "polynom coefficients:[tensor(-2.), tensor(2.)]\n",
      "derivation coefficient:1\n",
      "l exponent:0\n",
      "(x1-x2) exponent:0\n",
      " > Summand 1, entry 0:\n",
      "polynom coefficients:[tensor(-2.), tensor(2.)]\n",
      "derivation coefficient:1\n",
      "l exponent:1\n",
      "(x1-x2) exponent:1\n",
      " > Summand 2, entry 0:\n",
      "polynom coefficients:[tensor(2.), tensor(2.)]\n",
      "derivation coefficient:-1\n",
      "l exponent:1\n",
      "(x1-x2) exponent:1\n",
      " > Summand 3, entry 0:\n",
      "polynom coefficients:[tensor(2.), tensor(2.)]\n",
      "derivation coefficient:1\n",
      "l exponent:1\n",
      "(x1-x2) exponent:0\n",
      " > Summand 3, entry 1:\n",
      "polynom coefficients:[tensor(2.), tensor(2.)]\n",
      "derivation coefficient:-1\n",
      "l exponent:2\n",
      "(x1-x2) exponent:2\n",
      " \n",
      "\n",
      "\n",
      "[2,1]: _diffed_exp_kernel_\n",
      "Received derivation form: [[[tensor(-0.2500), tensor(0.)], 0, 0]]\n",
      "Resulting list (including parameters):\n",
      " > Summand 0:\n",
      "coefficients:[tensor(-0.2500), tensor(0.)]\n",
      "exponent:0 \n",
      "_diffed_SE_kernel_\n",
      "Received derivation form: [[[tensor(-2.), tensor(4.)], 0, 0], [[tensor(2.), tensor(4.)], 1, 0]]\n",
      "Resulting list (including parameters):\n",
      " > Summand 0, entry 0:\n",
      "polynom coefficients:[tensor(-2.), tensor(4.)]\n",
      "derivation coefficient:1\n",
      "l exponent:0\n",
      "(x1-x2) exponent:0\n",
      " > Summand 1, entry 0:\n",
      "polynom coefficients:[tensor(2.), tensor(4.)]\n",
      "derivation coefficient:-1\n",
      "l exponent:1\n",
      "(x1-x2) exponent:1\n",
      " \n",
      "\n",
      "\n",
      "[2,2]: _diffed_exp_kernel_\n",
      "Received derivation form: [[[tensor(-0.2500), tensor(-0.2500)], 0, 0]]\n",
      "Resulting list (including parameters):\n",
      " > Summand 0:\n",
      "coefficients:[tensor(-0.2500), tensor(-0.2500)]\n",
      "exponent:0 \n",
      "_diffed_SE_kernel_\n",
      "Received derivation form: [[[tensor(-2.), tensor(-2.)], 0, 0], [[tensor(-2.), tensor(2.)], 0, 1], [[tensor(2.), tensor(-2.)], 1, 0], [[tensor(2.), tensor(2.)], 1, 1]]\n",
      "Resulting list (including parameters):\n",
      " > Summand 0, entry 0:\n",
      "polynom coefficients:[tensor(-2.), tensor(-2.)]\n",
      "derivation coefficient:1\n",
      "l exponent:0\n",
      "(x1-x2) exponent:0\n",
      " > Summand 1, entry 0:\n",
      "polynom coefficients:[tensor(-2.), tensor(2.)]\n",
      "derivation coefficient:1\n",
      "l exponent:1\n",
      "(x1-x2) exponent:1\n",
      " > Summand 2, entry 0:\n",
      "polynom coefficients:[tensor(2.), tensor(-2.)]\n",
      "derivation coefficient:-1\n",
      "l exponent:1\n",
      "(x1-x2) exponent:1\n",
      " > Summand 3, entry 0:\n",
      "polynom coefficients:[tensor(2.), tensor(2.)]\n",
      "derivation coefficient:1\n",
      "l exponent:1\n",
      "(x1-x2) exponent:0\n",
      " > Summand 3, entry 1:\n",
      "polynom coefficients:[tensor(2.), tensor(2.)]\n",
      "derivation coefficient:-1\n",
      "l exponent:2\n",
      "(x1-x2) exponent:2\n",
      " \n",
      "\n",
      "\n",
      "\n"
     ]
    }
   ],
   "source": [
    "\n",
    "\n",
    "\n",
    "class MultitaskGPModel(gpytorch.models.ExactGP):\n",
    "    def __init__(self, train_x, train_y, likelihood):\n",
    "        super(MultitaskGPModel, self).__init__(train_x, train_y, likelihood)\n",
    "        self.mean_module = gpytorch.means.MultitaskMean(\n",
    "            gpytorch.means.ZeroMean(), num_tasks=3\n",
    "        )\n",
    "        kernel = Diff_SE_kernel(var=0, length=0)\n",
    "        kernel2 = Diff_SE_kernel(var=0, length=0)\n",
    "        a, b, q, dx1, dx2, x = var('a, b, q, dx1, dx2, x')\n",
    "        \n",
    "        # Control example 1 (AirControl3)\n",
    "        \"\"\"\n",
    "        variables=[]\n",
    "        F.<a> = FunctionField(QQ)\n",
    "        variables.append(f\"{F.variable_name()}\")\n",
    "        F.<b> = FunctionField(F)\n",
    "        variables.append(f\"{F.variable_name()}\")\n",
    "        R.<x> = F[]\n",
    "        variables.append(f\"{R.variable_name()}\")\n",
    "        R.<dx1> = F[]\n",
    "        variables.append(f\"{R.variable_name()}\")\n",
    "        R.<dx2> = F[]\n",
    "        variables.append(f\"{R.variable_name()}\")\n",
    "        A = matrix(R, 2, 3, [x+a, -a, -1, -b, x+b, 0])\n",
    "        \"\"\"\n",
    "        \n",
    "        # Control example 2 (ODE_GP_Example)\n",
    "        variables=[]\n",
    "        F.<a> = FunctionField(QQ)\n",
    "        variables.append(f\"{F.variable_name()}\")\n",
    "        R.<x> = F[]\n",
    "        variables.append(f\"{F.variable_name()}\")\n",
    "        R.<x> = QQ[]\n",
    "        variables.append(f\"{F.variable_name()}\")\n",
    "        A = matrix(R, 2, 3, [x, -x^2+x-1, x-2, 2-x, x^2-x-1, -x])\n",
    "        \n",
    "        \n",
    "        #m = x^2*matrix(R, 2,3,[1, 0, 1, 1, 0, 0]) +x* matrix(R, 2,3,[-1, -1, -2, -2, 1, 1]) + matrix(R, 2,3,[0, 1, 1, 0, 0, -1])\n",
    "        \n",
    "        T, L, R = get_prepared_SNF(A, dx1, dx2)\n",
    "       \n",
    "        #L = matrix(3, 3, (0, 0, dx1+b, 0, 0, b, 0, 0, dx1*a + dx1*b + dx1^2))\n",
    "        #R = matrix(3, 3, (dx2^2+dx2*b+dx2*a, b, dx2+b, 0, 0, 0, 0, 0, 0))\n",
    "        p = DiffMatrixKernel(T)\n",
    "\n",
    "        print(L)\n",
    "        print(\"---\")\n",
    "        print(R)\n",
    "        print(\"---\")\n",
    "        print(T)\n",
    "        print(\"---\")\n",
    "        \n",
    "        #p = DiffMatrixKernel([[None, None, None], [None, None, None], [None, None, kernel]])\n",
    "        #p = DiffMatrixKernel([[kernel, None], [None, None]])\n",
    "\n",
    "        self.covar_module = p.diff(left_matrix=L, right_matrix=R, var_dict=variables)\n",
    "        \n",
    "        #kernel0 = gpytorch.kernels.RBFKernel()\n",
    "        #kernel1 = gpytorch.kernels.RBFKernel()\n",
    "        #kernel2 = gpytorch.kernels.RBFKernel()\n",
    "        #kernel0 = gpytorch.kernels.PeriodicKernel()\n",
    "        #kernel1 = gpytorch.kernels.PeriodicKernel()\n",
    "        #kernel0 = Diff_SE_kernel(var = 0, length=0)\n",
    "        #kernel1 = Diff_SE_kernel(var = 0, length=0.01)\n",
    "        #kernel2 = Diff_SE_kernel(var = 0, length=0.02)\n",
    "        #self.covar_module = MatrixKernel([[kernel0, None], [None, kernel1]])\n",
    "\n",
    "    def forward(self, x):\n",
    "        #pdb.set_trace()\n",
    "        mean_x = self.mean_module(x)\n",
    "        covar_x = self.covar_module(x)\n",
    "        #print(f\"{covar_x.detach().evaluate()}\")\n",
    "        return gpytorch.distributions.MultitaskMultivariateNormal(mean_x, covar_x, validate_args=True)\n",
    "\n",
    "# Likelihood nochmal mit Noise constraint = E-20 durchlaufen lassen und auf quasi 0 setzen\n",
    "from gpytorch.constraints import GreaterThan\n",
    "local_noise_constraint = GreaterThan(float(1e-20))\n",
    "likelihood = gpytorch.likelihoods.MultitaskGaussianLikelihood(num_tasks=3, noise_constraint=local_noise_constraint)\n",
    "#likelihood = gpytorch.likelihoods.MultitaskGaussianLikelihood(num_tasks=2, has_global_noise=False, has_task_noise=False)\n",
    "likelihood._set_task_noises(torch.Tensor([float(0.0001), float(0.0001), float(0.0001)]))\n",
    "#likelihood._set_noise(torch.tensor(float(1e-19)))\n",
    "model = MultitaskGPModel(train_x, train_y, likelihood)\n",
    "print(model.covar_module)"
   ]
  },
  {
   "cell_type": "code",
   "execution_count": 20,
   "id": "bb43d122",
   "metadata": {},
   "outputs": [
    {
     "data": {
      "text/plain": [
       "[[a*b, 3]]"
      ]
     },
     "execution_count": 20,
     "metadata": {},
     "output_type": "execute_result"
    }
   ],
   "source": [
    "w0 = SR.wild(0)\n",
    "w1 = SR.wild(1)\n",
    "w2 = SR.wild(2)\n",
    "\n",
    "a, b, c, x = var('a, b, c, x') \n",
    "\n",
    "polynomial = a**2*x**2\n",
    "# Check for a**n things -> needs coefficient splitting\n",
    "#polynomial = a**2*x**2\n",
    "#any(not p.has(x) for p in polynomial.find(w0**w1))\n",
    "# Check for b/a etc. -> needs coefficient splitting\n",
    "polynomial = a*b*x * x**2\n",
    "polynomial.coefficients(x)\n",
    "#polynomial.coefficients(x)[0][0].find(w0/w1)"
   ]
  },
  {
   "cell_type": "code",
   "execution_count": 21,
   "id": "9fb76256",
   "metadata": {},
   "outputs": [],
   "source": [
    "model.likelihood._set_noise(torch.tensor(float(0.0001)))"
   ]
  },
  {
   "cell_type": "code",
   "execution_count": 22,
   "id": "b96f7295",
   "metadata": {},
   "outputs": [],
   "source": [
    "#model.covar_module.a.data = torch.tensor(float(2.))\n",
    "#model.covar_module.b.data = torch.tensor(float(2.))"
   ]
  },
  {
   "cell_type": "code",
   "execution_count": 23,
   "id": "935e9d77",
   "metadata": {},
   "outputs": [],
   "source": [
    "#data = torch.Tensor([1, 0.01])\n",
    "#K = model.covar_module(test_x).evaluate()\n",
    "#K == K.T\n",
    "#print(torch.norm(K-K.T))"
   ]
  },
  {
   "cell_type": "code",
   "execution_count": null,
   "id": "7a8144ac",
   "metadata": {},
   "outputs": [],
   "source": []
  },
  {
   "cell_type": "code",
   "execution_count": 24,
   "id": "20cf56b2",
   "metadata": {},
   "outputs": [],
   "source": [
    "with gpytorch.settings.fast_pred_var():\n",
    "    model.eval()\n",
    "    likelihood.eval()\n",
    "    data = torch.Tensor([1, 0.01])\n",
    "    output = model(data)\n",
    "    output.covariance_matrix\n",
    "# NIPS 2018 Paper zur Invertierung"
   ]
  },
  {
   "cell_type": "code",
   "execution_count": 25,
   "id": "d2c24c0c",
   "metadata": {},
   "outputs": [
    {
     "data": {
      "text/plain": [
       "tensor([[True, True, True, True, True, True],\n",
       "        [True, True, True, True, True, True],\n",
       "        [True, True, True, True, True, True],\n",
       "        [True, True, True, True, True, True],\n",
       "        [True, True, True, True, True, True],\n",
       "        [True, True, True, True, True, True]])"
      ]
     },
     "execution_count": 25,
     "metadata": {},
     "output_type": "execute_result"
    }
   ],
   "source": [
    "output.covariance_matrix == output.covariance_matrix.T"
   ]
  },
  {
   "cell_type": "code",
   "execution_count": null,
   "id": "e351c097",
   "metadata": {},
   "outputs": [],
   "source": []
  },
  {
   "cell_type": "code",
   "execution_count": null,
   "id": "671d0be8",
   "metadata": {},
   "outputs": [],
   "source": []
  },
  {
   "cell_type": "code",
   "execution_count": null,
   "id": "1c152048",
   "metadata": {},
   "outputs": [],
   "source": []
  },
  {
   "cell_type": "code",
   "execution_count": 26,
   "id": "84641c42",
   "metadata": {},
   "outputs": [
    {
     "name": "stdout",
     "output_type": "stream",
     "text": [
      "from sage.rings.polynomial.polynomial_ring_constructor import PolynomialRing\n"
     ]
    }
   ],
   "source": [
    "import_statements(PolynomialRing)"
   ]
  },
  {
   "cell_type": "code",
   "execution_count": 27,
   "id": "e6f583d0",
   "metadata": {},
   "outputs": [],
   "source": [
    "# Set into eval mode\n",
    "model.eval()\n",
    "likelihood.eval()\n",
    "\n",
    "# Initialize plots\n",
    "\n",
    "number_of_samples = int(150)\n",
    "# Make predictions\n",
    "with torch.no_grad(), gpytorch.settings.fast_pred_var():#, gpytorch.settings.fast_pred_var():\n",
    "    test_x = torch.linspace(float(-4), float(7), number_of_samples)\n",
    "    #pdb.set_trace()\n",
    "    outputs = model(test_x)\n",
    "    predictions = likelihood(outputs)\n",
    "    \n",
    "    mean = predictions.mean\n",
    "    lower, upper = predictions.confidence_region()\n",
    "#print(mean)\n",
    "#print(lower)\n",
    "#print(upper)\n",
    "# This contains predictions for both tasks, flattened out\n",
    "# The first half of the predictions is for the first task\n",
    "# The second half is for the second task\n",
    "\n",
    "#dims = int(2)\n",
    "#indices = [list(range(i, len(train_y), dims)) for i in range(dims)]\n"
   ]
  },
  {
   "cell_type": "code",
   "execution_count": 28,
   "id": "7d3a45db",
   "metadata": {},
   "outputs": [
    {
     "data": {
      "text/plain": [
       "Text(0.5, 1.0, 'Prior')"
      ]
     },
     "execution_count": 28,
     "metadata": {},
     "output_type": "execute_result"
    },
    {
     "data": {
      "image/png": "[encoded data removed]",
      "text/plain": [
       "<Figure size 1080x288 with 3 Axes>"
      ]
     },
     "metadata": {
      "needs_background": "light"
     },
     "output_type": "display_data"
    }
   ],
   "source": [
    "f, (y1_ax, y2_ax, y3_ax) = plt.subplots(int(1), int(3), figsize=(int(15), int(4)))\n",
    "\n",
    "# Plot training data as black stars\n",
    "#y1_ax.plot(train_x.detach().numpy(), train_y[:, 0].detach().numpy(), 'k*')\n",
    "# Predictive mean as blue line\n",
    "y1_ax.plot(test_x.numpy(), mean[:, 0].numpy(), 'b')\n",
    "# Shade in confidence\n",
    "y1_ax.fill_between(test_x.numpy(), lower[:, 0].numpy(), upper[:, 0].numpy(), alpha=0.5)\n",
    "y1_ax.set_ylim([-30, 30])\n",
    "y1_ax.legend(['Mean', 'Confidence'])\n",
    "y1_ax.set_title('Prior')\n",
    "\n",
    "# Plot training data as black stars\n",
    "#y2_ax.plot(train_x.detach().numpy(), train_y[:, 1].detach().numpy(), 'k*')\n",
    "# Predictive mean as blue line\n",
    "y2_ax.plot(test_x.numpy(), mean[:, 1].numpy(), 'b')\n",
    "# Shade in confidence\n",
    "y2_ax.fill_between(test_x.numpy(), lower[:, 1].numpy(), upper[:, 1].numpy(), alpha=0.5)\n",
    "y2_ax.set_ylim([-30, 30])\n",
    "y2_ax.legend(['Mean', 'Confidence'])\n",
    "y2_ax.set_title('Prior')\n",
    "\n",
    "# Plot training data as black stars\n",
    "#y2_ax.plot(train_x.detach().numpy(), train_y[:, 1].detach().numpy(), 'k*')\n",
    "# Predictive mean as blue line\n",
    "y3_ax.plot(test_x.numpy(), mean[:, 2].numpy(), 'b')\n",
    "# Shade in confidence\n",
    "y3_ax.fill_between(test_x.numpy(), lower[:, 2].numpy(), upper[:, 2].numpy(), alpha=0.5)\n",
    "y3_ax.set_ylim([-30, 30])\n",
    "y3_ax.legend(['Mean', 'Confidence'])\n",
    "y3_ax.set_title('Prior')\n"
   ]
  },
  {
   "cell_type": "code",
   "execution_count": 29,
   "id": "83acb24a",
   "metadata": {},
   "outputs": [
    {
     "name": "stdout",
     "output_type": "stream",
     "text": [
      "('likelihood.raw_task_noises', Parameter containing:\n",
      "tensor([-9.2103, -9.2103, -9.2103], requires_grad=True))\n",
      "('likelihood.raw_noise', Parameter containing:\n",
      "tensor([-9.2103], requires_grad=True))\n",
      "('covar_module.a', Parameter containing:\n",
      "tensor(1., requires_grad=True))\n",
      "('covar_module.10989319072.var', Parameter containing:\n",
      "tensor(0., requires_grad=True))\n",
      "('covar_module.10989319072.length', Parameter containing:\n",
      "tensor(0., requires_grad=True))\n"
     ]
    }
   ],
   "source": [
    "for p in model.named_parameters():\n",
    "    print(p)"
   ]
  },
  {
   "cell_type": "code",
   "execution_count": null,
   "id": "891b9043",
   "metadata": {},
   "outputs": [],
   "source": []
  },
  {
   "cell_type": "code",
   "execution_count": 30,
   "id": "3f0a9b7f",
   "metadata": {
    "scrolled": true
   },
   "outputs": [
    {
     "name": "stdout",
     "output_type": "stream",
     "text": [
      "1/100\n",
      "2/100\n",
      "3/100\n",
      "4/100\n",
      "5/100\n",
      "6/100\n",
      "7/100\n",
      "8/100\n",
      "9/100\n",
      "10/100\n",
      "11/100\n",
      "12/100\n",
      "13/100\n",
      "14/100\n",
      "15/100\n",
      "16/100\n",
      "17/100\n",
      "18/100\n",
      "19/100\n",
      "20/100\n",
      "21/100\n",
      "22/100\n",
      "23/100\n",
      "24/100\n",
      "25/100\n",
      "26/100\n",
      "27/100\n",
      "28/100\n",
      "29/100\n",
      "30/100\n",
      "31/100\n",
      "32/100\n",
      "33/100\n",
      "34/100\n",
      "35/100\n",
      "36/100\n",
      "37/100\n",
      "38/100\n",
      "39/100\n",
      "40/100\n",
      "41/100\n",
      "42/100\n",
      "43/100\n",
      "44/100\n",
      "45/100\n",
      "46/100\n",
      "47/100\n",
      "48/100\n",
      "49/100\n",
      "50/100\n",
      "51/100\n",
      "52/100\n",
      "53/100\n",
      "54/100\n",
      "55/100\n",
      "56/100\n",
      "57/100\n",
      "58/100\n",
      "59/100\n",
      "60/100\n",
      "61/100\n",
      "62/100\n",
      "63/100\n",
      "64/100\n",
      "65/100\n",
      "66/100\n",
      "67/100\n",
      "68/100\n",
      "69/100\n",
      "70/100\n",
      "71/100\n",
      "72/100\n",
      "73/100\n",
      "74/100\n",
      "75/100\n",
      "76/100\n",
      "77/100\n",
      "78/100\n",
      "79/100\n",
      "80/100\n",
      "81/100\n",
      "82/100\n",
      "83/100\n",
      "84/100\n",
      "85/100\n",
      "86/100\n",
      "87/100\n",
      "88/100\n",
      "89/100\n",
      "90/100\n",
      "91/100\n",
      "92/100\n",
      "93/100\n",
      "94/100\n",
      "95/100\n",
      "96/100\n",
      "97/100\n",
      "98/100\n",
      "99/100\n",
      "100/100\n"
     ]
    }
   ],
   "source": [
    "# this is for running the notebook in our testing framework\n",
    "import os\n",
    "smoke_test = ('CI' in os.environ)\n",
    "training_iter = int(2) if smoke_test else int(100)\n",
    "\n",
    "\n",
    "# Find optimal model hyperparameters\n",
    "model.train()\n",
    "likelihood.train()\n",
    "\n",
    "# Use the adam optimizer\n",
    "optimizer = torch.optim.Adam(model.parameters(), lr=float(0.1))  # Includes GaussianLikelihood parameters\n",
    "\n",
    "\n",
    "# \"Loss\" for GPs - the marginal log likelihood\n",
    "mll = gpytorch.mlls.ExactMarginalLogLikelihood(likelihood, model)\n",
    "\n",
    "param_dict = {p[0]:[] for p in model.named_parameters() if 'covar' in p[0]}\n",
    "param_dict['loss'] = []\n",
    "param_dict['noise'] = []\n",
    "if len(likelihood.task_noises) > 1:\n",
    "    param_dict['task_noises'] = [[] for i in range(len(likelihood.task_noises))]\n",
    "for p in model.named_parameters():\n",
    "    if 'covar' in p[0]:\n",
    "        param_dict[f\"{p[0]}_grad\"] = []\n",
    "\n",
    "for i in range(training_iter):\n",
    "    print(f\"{i+1}/{training_iter}\")\n",
    "    # Zero gradients from previous iteration\n",
    "    optimizer.zero_grad()\n",
    "    # Output from model\n",
    "    output = model(train_x)\n",
    "    # Calc loss and backprop gradients\n",
    "    loss = -mll(output, train_y)\n",
    "    param_dict['loss'].append(loss.item())\n",
    "    #pdb.set_trace()\n",
    "    loss.backward()\n",
    "    for parameter in model.named_parameters():\n",
    "        if 'covar' in parameter[0]:\n",
    "            param_dict[parameter[0]].append(parameter[1].item())\n",
    "            #param_dict[f\"{parameter[0]}_grad\"].append(parameter[1].grad.item())\n",
    "    param_dict['noise'].append(likelihood.noise.item())\n",
    "    for l in range(len(likelihood.task_noises)):\n",
    "        param_dict['task_noises'][l].append(likelihood.task_noises[l].item())\n",
    "    optimizer.step()"
   ]
  },
  {
   "cell_type": "code",
   "execution_count": null,
   "id": "7bd2781c",
   "metadata": {},
   "outputs": [],
   "source": [
    "\n"
   ]
  },
  {
   "cell_type": "code",
   "execution_count": 31,
   "id": "b2fe4c78",
   "metadata": {},
   "outputs": [],
   "source": [
    "def coeffs(given_n):\n",
    "    # See http://oeis.org/A096713\n",
    "    real_n = int(given_n/2)\n",
    "    m, k = var('m, k')\n",
    "    # even\n",
    "    # T(2*m, k) = (-1)^(m+k)*(2*m)!*2^(k-m)/((m-k)!*(2*k)!), k = 0..m.\n",
    "    if given_n % 2 == 0:\n",
    "        # This notation is only valid in iPython\n",
    "        #T(m,k) = factorial(2*m)*2^(k-m)/(factorial(m-k)*factorial(2*k))\n",
    "        # As an actual Python file I need to use:\n",
    "        T = lambda m, k : (-1)**(m+k)*factorial(2*m)*2**(k-m)/(factorial(m-k)*factorial(2*k))\n",
    "    # odd\n",
    "    # T(2*m+1, k) = (-1)^(m+k)*(2*m+1)!*2^(k-m)/((m-k)!*(2*k+1)!), k = 0..m. (End)\n",
    "    else:\n",
    "        # See above\n",
    "        #T(m,k) = factorial(2*m+1)*2^(k-m)/(factorial(m-k)*factorial(2*k+1))\n",
    "        T = lambda m, k: (-1)**(m+k)*factorial(2*m+1)*2**(k-m)/(factorial(m-k)*factorial(2*k+1))\n",
    "    return [int(T(real_n, k)) for k in range(real_n+1)]\n"
   ]
  },
  {
   "cell_type": "code",
   "execution_count": 32,
   "id": "9d1d7907",
   "metadata": {},
   "outputs": [
    {
     "name": "stdout",
     "output_type": "stream",
     "text": [
      "[1]\n",
      "[1]\n",
      "[-1, 1]\n",
      "[-3, 1]\n",
      "[3, -6, 1]\n",
      "[15, -10, 1]\n",
      "[-15, 45, -15, 1]\n",
      "[-105, 105, -21, 1]\n",
      "[105, -420, 210, -28, 1]\n",
      "[945, -1260, 378, -36, 1]\n"
     ]
    }
   ],
   "source": [
    "for i in range(10):\n",
    "    print(coeffs(i))"
   ]
  },
  {
   "cell_type": "raw",
   "id": "c663e6b9",
   "metadata": {},
   "source": [
    "def dynamic_sage_diff(dx1_num, dx2_num):\n",
    "    SE(x1, x2, l, sigma) = sigma^2*exp(-(x1-x2)^2/(2*l^2))\n",
    "    for i in range(dx1_num):\n",
    "        SE = SE.diff(x1)\n",
    "    for j in range(dx2_num):\n",
    "        SE = SE.diff(x2)\n",
    "    return SE\n",
    "\n",
    "for j in range(6):\n",
    "    for i in range(6):\n",
    "        print(f\"dx1: {i}; dx2:{j}\")\n",
    "        print(ascii_art(dynamic_sage_diff(i, j)))\n",
    "        print(\"---\")"
   ]
  },
  {
   "cell_type": "code",
   "execution_count": 33,
   "id": "6f9a08a4",
   "metadata": {},
   "outputs": [
    {
     "data": {
      "text/plain": [
       "MultitaskGaussianLikelihood(\n",
       "  (raw_task_noises_constraint): GreaterThan(1.000E-20)\n",
       "  (raw_noise_constraint): GreaterThan(1.000E-20)\n",
       ")"
      ]
     },
     "execution_count": 33,
     "metadata": {},
     "output_type": "execute_result"
    }
   ],
   "source": [
    "likelihood\n",
    "#torch.autograd.functional.hessian(likelihood, train_x)"
   ]
  },
  {
   "cell_type": "code",
   "execution_count": 34,
   "id": "d0219bd8",
   "metadata": {},
   "outputs": [
    {
     "name": "stdout",
     "output_type": "stream",
     "text": [
      "('likelihood.raw_task_noises', Parameter containing:\n",
      "tensor([-5.4371, -6.1746, -5.5930], requires_grad=True))\n",
      "('likelihood.raw_noise', Parameter containing:\n",
      "tensor([-5.7448], requires_grad=True))\n",
      "('covar_module.a', Parameter containing:\n",
      "tensor(1., requires_grad=True))\n",
      "('covar_module.10989319072.var', Parameter containing:\n",
      "tensor(-2.8722, requires_grad=True))\n",
      "('covar_module.10989319072.length', Parameter containing:\n",
      "tensor(0.5309, requires_grad=True))\n"
     ]
    }
   ],
   "source": [
    "for parameter in model.named_parameters():\n",
    "    print(parameter)\n"
   ]
  },
  {
   "cell_type": "code",
   "execution_count": 35,
   "id": "e6fb5fa0",
   "metadata": {},
   "outputs": [
    {
     "data": {
      "text/plain": [
       "<matplotlib.legend.Legend object at 0x28f26f9d0>"
      ]
     },
     "execution_count": 35,
     "metadata": {},
     "output_type": "execute_result"
    },
    {
     "data": {
      "image/png": "[encoded data removed]",
      "text/plain": [
       "<Figure size 432x288 with 1 Axes>"
      ]
     },
     "metadata": {
      "needs_background": "light"
     },
     "output_type": "display_data"
    }
   ],
   "source": [
    "for param_key in param_dict:\n",
    "    if param_key == 'task_noises':\n",
    "        pass\n",
    "    else:\n",
    "        plt.plot(param_dict[param_key], label=param_key)\n",
    "    \n",
    "plt.legend(loc='upper center', bbox_to_anchor=(0.5, -0.05), shadow=True, ncol=2)\n"
   ]
  },
  {
   "cell_type": "code",
   "execution_count": 36,
   "id": "38d928e9",
   "metadata": {},
   "outputs": [
    {
     "name": "stdout",
     "output_type": "stream",
     "text": [
      "tensor([0.0032], grad_fn=<AddBackward0>)\n",
      "tensor([0.0043, 0.0021, 0.0037], grad_fn=<AddBackward0>)\n"
     ]
    }
   ],
   "source": [
    "print(likelihood.noise)\n",
    "print(likelihood.task_noises)"
   ]
  },
  {
   "cell_type": "code",
   "execution_count": 37,
   "id": "c2b924f7",
   "metadata": {},
   "outputs": [
    {
     "data": {
      "text/plain": [
       "[  2.000000000000000?                    0  0.6065000000000000?  0.6065000000000000?]\n",
       "[                   0                    1 -0.6065000000000000?  0.6065000000000000?]\n",
       "[ 0.6065000000000000? -0.6065000000000000?   2.000000000000000?              0.?e-18]\n",
       "[ 0.6065000000000000?  0.6065000000000000?              0.?e-18   1.000000000000000?]"
      ]
     },
     "execution_count": 37,
     "metadata": {},
     "output_type": "execute_result"
    }
   ],
   "source": [
    "A = matrix(QQ, 4, 4, (2,0,0.6065,0.6065,0,1,-0.6065,0.6065,0.6065,-0.6065,2,0,0.6065,0.6065,0,1))\n",
    "L = A.cholesky()\n",
    "L*L.transpose()"
   ]
  },
  {
   "cell_type": "code",
   "execution_count": null,
   "id": "afdc9a70",
   "metadata": {},
   "outputs": [],
   "source": []
  },
  {
   "cell_type": "code",
   "execution_count": 38,
   "id": "7d1b8824",
   "metadata": {
    "scrolled": true
   },
   "outputs": [
    {
     "name": "stdout",
     "output_type": "stream",
     "text": [
      "('likelihood.raw_task_noises', Parameter containing:\n",
      "tensor([-5.4371, -6.1746, -5.5930], requires_grad=True))\n",
      "('likelihood.raw_noise', Parameter containing:\n",
      "tensor([-5.7448], requires_grad=True))\n",
      "('covar_module.a', Parameter containing:\n",
      "tensor(1., requires_grad=True))\n",
      "('covar_module.10989319072.var', Parameter containing:\n",
      "tensor(-2.8722, requires_grad=True))\n",
      "('covar_module.10989319072.length', Parameter containing:\n",
      "tensor(0.5309, requires_grad=True))\n"
     ]
    }
   ],
   "source": [
    "for parameter in model.named_parameters():\n",
    "    print(parameter)\n",
    "    \n"
   ]
  },
  {
   "cell_type": "code",
   "execution_count": null,
   "id": "8dd409d7",
   "metadata": {},
   "outputs": [],
   "source": []
  },
  {
   "cell_type": "code",
   "execution_count": 47,
   "id": "f0c869eb",
   "metadata": {
    "scrolled": true
   },
   "outputs": [],
   "source": [
    "# Set into eval mode\n",
    "model.eval()\n",
    "likelihood.eval()\n",
    "\n",
    "# Initialize plots\n",
    "\n",
    "number_of_samples = int(100)\n",
    "# Make predictions\n",
    "with torch.no_grad(), gpytorch.settings.fast_pred_var(), gpytorch.settings.prior_mode(True):\n",
    "    test_x = torch.linspace(float(0), float(5), number_of_samples)\n",
    "    outputs = model(test_x)\n",
    "    predictions = likelihood(outputs)\n",
    "    \n",
    "    \n",
    "    mean = predictions.mean\n",
    "    lower, upper = predictions.confidence_region()\n",
    "#print(mean)\n",
    "#print(lower)\n",
    "#print(upper)\n",
    "# This contains predictions for both tasks, flattened out\n",
    "# The first half of the predictions is for the first task\n",
    "# The second half is for the second task\n",
    "\n",
    "#dims = int(2)\n",
    "#indices = [list(range(i, len(train_y), dims)) for i in range(dims)]\n"
   ]
  },
  {
   "cell_type": "code",
   "execution_count": 40,
   "id": "35f5bef2",
   "metadata": {},
   "outputs": [
    {
     "data": {
      "text/plain": [
       "tensor(90000)"
      ]
     },
     "execution_count": 40,
     "metadata": {},
     "output_type": "execute_result"
    }
   ],
   "source": [
    "torch.count_nonzero(outputs.covariance_matrix == outputs.covariance_matrix.T)\n"
   ]
  },
  {
   "cell_type": "code",
   "execution_count": null,
   "id": "1b4ccc43",
   "metadata": {},
   "outputs": [],
   "source": []
  },
  {
   "cell_type": "code",
   "execution_count": null,
   "id": "bf0bc1e1",
   "metadata": {},
   "outputs": [],
   "source": []
  },
  {
   "cell_type": "code",
   "execution_count": null,
   "id": "7ac8860d",
   "metadata": {},
   "outputs": [],
   "source": []
  },
  {
   "cell_type": "code",
   "execution_count": null,
   "id": "ad284ee3",
   "metadata": {},
   "outputs": [],
   "source": []
  },
  {
   "cell_type": "code",
   "execution_count": 48,
   "id": "f0a03a44",
   "metadata": {
    "scrolled": true
   },
   "outputs": [
    {
     "data": {
      "text/plain": [
       "Text(0.5, 1.0, 'Prior')"
      ]
     },
     "execution_count": 48,
     "metadata": {},
     "output_type": "execute_result"
    },
    {
     "data": {
      "image/png": "[encoded data removed]",
      "text/plain": [
       "<Figure size 1080x288 with 3 Axes>"
      ]
     },
     "metadata": {
      "needs_background": "light"
     },
     "output_type": "display_data"
    }
   ],
   "source": [
    "f, (y1_ax, y2_ax, y3_ax) = plt.subplots(int(1), int(3), figsize=(int(15), int(4)))\n",
    "\n",
    "# Plot training data as black stars\n",
    "y1_ax.plot(train_x.detach().numpy(), train_y[:, 0].detach().numpy(), 'k*')\n",
    "# Predictive mean as blue line\n",
    "y1_ax.plot(test_x.numpy(), mean[:, 0].numpy(), 'b')\n",
    "# Shade in confidence\n",
    "y1_ax.fill_between(test_x.numpy(), lower[:, 0].numpy(), upper[:, 0].numpy(), alpha=0.5)\n",
    "y1_ax.set_ylim([-5, 5])\n",
    "y1_ax.legend(['Observed Data', 'Mean', 'Confidence'])\n",
    "y1_ax.set_title('Observed Values (Likelihood)')\n",
    "\n",
    "# Plot training data as black stars\n",
    "y2_ax.plot(train_x.detach().numpy(), train_y[:, 1].detach().numpy(), 'k*')\n",
    "# Predictive mean as blue line\n",
    "y2_ax.plot(test_x.numpy(), mean[:, 1].numpy(), 'b')\n",
    "# Shade in confidence\n",
    "y2_ax.fill_between(test_x.numpy(), lower[:, 1].numpy(), upper[:, 1].numpy(), alpha=0.5)\n",
    "y2_ax.set_ylim([-5, 5])\n",
    "y2_ax.legend(['Observed Data', 'Mean', 'Confidence'])\n",
    "y2_ax.set_title('Observed Values (Likelihood)')\n",
    "\n",
    "# Plot training data as black stars\n",
    "y3_ax.plot(train_x.detach().numpy(), train_y[:, 2].detach().numpy(), 'k*')\n",
    "# Predictive mean as blue line\n",
    "y3_ax.plot(test_x.numpy(), mean[:, 2].numpy(), 'b')\n",
    "# Shade in confidence\n",
    "y3_ax.fill_between(test_x.numpy(), lower[:, 2].numpy(), upper[:, 2].numpy(), alpha=0.5)\n",
    "y3_ax.set_ylim([-5, 5])\n",
    "y3_ax.legend(['Observed Data', 'Mean', 'Confidence'])\n",
    "#y3_ax.legend(['Mean', 'Confidence'])\n",
    "y3_ax.set_title('Prior')\n",
    "\n"
   ]
  },
  {
   "cell_type": "code",
   "execution_count": 42,
   "id": "a06dc4f8",
   "metadata": {
    "scrolled": false
   },
   "outputs": [
    {
     "data": {
      "text/plain": [
       "torch.return_types.linalg_eig(\n",
       "eigenvalues=tensor([ 6.9715e-02+0.j,  6.6931e-02+0.j,  6.4499e-02+0.j,  5.8224e-02+0.j,\n",
       "         4.6405e-02+0.j,  3.6325e-02+0.j,  2.7769e-02+0.j,  1.3107e-02+0.j,\n",
       "         2.2581e-03+0.j,  2.1592e-04+0.j,  1.6510e-05+0.j,  1.1016e-06+0.j,\n",
       "         6.5546e-08+0.j,  3.5187e-09+0.j,  1.7211e-10+0.j,  1.1625e-11+0.j,\n",
       "        -1.1452e-11+0.j,  7.1409e-12+0.j, -2.8517e-12+0.j,  2.6737e-12+0.j,\n",
       "        -1.9022e-12+0.j,  1.7370e-12+0.j, -1.6460e-12+0.j, -1.5160e-12+0.j,\n",
       "         1.5390e-12+0.j,  1.4111e-12+0.j,  1.3414e-12+0.j, -1.2808e-12+0.j,\n",
       "        -1.1722e-12+0.j,  1.1963e-12+0.j, -1.0645e-12+0.j,  1.0285e-12+0.j,\n",
       "        -9.2992e-13+0.j, -8.6541e-13+0.j,  9.0483e-13+0.j,  8.8145e-13+0.j,\n",
       "        -8.1408e-13+0.j,  8.1775e-13+0.j,  7.7397e-13+0.j, -7.2261e-13+0.j,\n",
       "        -6.4845e-13+0.j,  6.8400e-13+0.j,  6.5799e-13+0.j,  6.0881e-13+0.j,\n",
       "        -6.0610e-13+0.j, -5.6178e-13+0.j, -5.2041e-13+0.j,  5.0411e-13+0.j,\n",
       "        -4.5848e-13+0.j,  4.7193e-13+0.j,  4.5514e-13+0.j,  4.1744e-13+0.j,\n",
       "        -3.9834e-13+0.j, -3.7834e-13+0.j,  3.8129e-13+0.j, -3.1613e-13+0.j,\n",
       "         3.0917e-13+0.j,  2.8926e-13+0.j, -2.8248e-13+0.j,  2.5272e-13+0.j,\n",
       "        -2.6292e-13+0.j, -2.5221e-13+0.j, -2.3336e-13+0.j,  2.2141e-13+0.j,\n",
       "         2.1277e-13+0.j,  2.0274e-13+0.j, -2.0797e-13+0.j, -1.9392e-13+0.j,\n",
       "        -1.7135e-13+0.j,  1.7048e-13+0.j,  1.6385e-13+0.j, -1.4958e-13+0.j,\n",
       "         1.4873e-13+0.j,  1.4054e-13+0.j,  1.3721e-13+0.j, -1.3254e-13+0.j,\n",
       "        -1.2753e-13+0.j,  1.1741e-13+0.j,  1.0746e-13+0.j,  1.0552e-13+0.j,\n",
       "        -1.0545e-13+0.j, -1.0182e-13+0.j,  8.4047e-14+0.j,  8.2005e-14+0.j,\n",
       "         7.8904e-14+0.j, -8.6412e-14+0.j, -8.4515e-14+0.j,  6.6830e-14+0.j,\n",
       "        -7.7542e-14+0.j, -7.3242e-14+0.j, -7.0055e-14+0.j, -6.5847e-14+0.j,\n",
       "        -6.2732e-14+0.j,  6.1944e-14+0.j,  6.0171e-14+0.j,  5.3425e-14+0.j,\n",
       "        -4.9604e-14+0.j,  4.6691e-14+0.j,  4.4402e-14+0.j, -4.4755e-14+0.j,\n",
       "         3.9350e-14+0.j, -4.0886e-14+0.j, -3.9786e-14+0.j, -3.8393e-14+0.j,\n",
       "         3.5855e-14+0.j, -3.2692e-14+0.j,  3.0887e-14+0.j,  2.9181e-14+0.j,\n",
       "        -2.8754e-14+0.j,  2.7346e-14+0.j, -2.6926e-14+0.j,  2.4630e-14+0.j,\n",
       "        -2.4616e-14+0.j, -2.4426e-14+0.j,  2.2468e-14+0.j,  2.1861e-14+0.j,\n",
       "        -2.1632e-14+0.j, -2.1203e-14+0.j,  2.0240e-14+0.j, -1.9180e-14+0.j,\n",
       "        -1.8087e-14+0.j,  1.8545e-14+0.j,  1.7654e-14+0.j, -1.5958e-14+0.j,\n",
       "        -1.5070e-14+0.j,  1.4867e-14+0.j, -1.3943e-14+0.j,  1.3220e-14+0.j,\n",
       "        -1.2280e-14+0.j,  1.2093e-14+0.j,  1.1291e-14+0.j, -9.8570e-15+0.j,\n",
       "         1.0136e-14+0.j,  9.7167e-15+0.j,  9.0249e-15+0.j, -8.7702e-15+0.j,\n",
       "        -8.5087e-15+0.j, -8.2393e-15+0.j,  8.3924e-15+0.j, -7.4078e-15+0.j,\n",
       "         7.7833e-15+0.j,  7.3037e-15+0.j, -6.6880e-15+0.j,  6.6564e-15+0.j,\n",
       "         6.6080e-15+0.j,  5.9431e-15+0.j, -5.7236e-15+0.j,  5.5736e-15+0.j,\n",
       "         5.4198e-15+0.j, -5.3593e-15+0.j, -4.9814e-15+0.j, -4.7158e-15+0.j,\n",
       "         4.4914e-15+0.j, -4.0831e-15+0.j, -3.9111e-15+0.j,  4.1903e-15+0.j,\n",
       "        -3.8080e-15+0.j,  3.9401e-15+0.j,  3.9210e-15+0.j, -3.5892e-15+0.j,\n",
       "        -3.3602e-15+0.j, -3.2882e-15+0.j, -3.0767e-15+0.j, -2.9751e-15+0.j,\n",
       "        -2.9222e-15+0.j, -2.8652e-15+0.j, -2.8009e-15+0.j, -2.7318e-15+0.j,\n",
       "        -2.6966e-15+0.j, -2.5842e-15+0.j,  3.5320e-15+0.j,  3.3314e-15+0.j,\n",
       "         3.2594e-15+0.j,  3.0692e-15+0.j,  2.9361e-15+0.j,  2.9110e-15+0.j,\n",
       "         2.8878e-15+0.j,  2.8048e-15+0.j,  2.7607e-15+0.j,  2.6803e-15+0.j,\n",
       "         2.6200e-15+0.j,  2.5703e-15+0.j,  2.4904e-15+0.j,  2.3764e-15+0.j,\n",
       "         2.2707e-15+0.j,  2.2790e-15+0.j,  2.1794e-15+0.j,  2.1398e-15+0.j,\n",
       "         2.0945e-15+0.j, -2.4774e-15+0.j, -2.4301e-15+0.j, -2.3880e-15+0.j,\n",
       "        -2.3559e-15+0.j, -2.2290e-15+0.j, -2.1883e-15+0.j, -2.1318e-15+0.j,\n",
       "        -2.0684e-15+0.j, -1.9729e-15+0.j, -1.9364e-15+0.j, -1.9250e-15+0.j,\n",
       "         2.0640e-15+0.j,  2.0062e-15+0.j,  1.9444e-15+0.j,  1.8359e-15+0.j,\n",
       "         1.7919e-15+0.j,  1.7571e-15+0.j,  1.7332e-15+0.j,  1.6380e-15+0.j,\n",
       "        -1.8874e-15+0.j, -1.8369e-15+0.j, -1.8041e-15+0.j, -1.7121e-15+0.j,\n",
       "        -1.6955e-15+0.j, -1.5948e-15+0.j, -1.5358e-15+0.j, -1.5168e-15+0.j,\n",
       "        -1.5223e-15+0.j, -1.4741e-15+0.j, -1.4526e-15+0.j, -1.4194e-15+0.j,\n",
       "        -1.3768e-15+0.j, -1.3230e-15+0.j, -1.2913e-15+0.j, -1.2067e-15+0.j,\n",
       "         1.5845e-15+0.j,  1.5639e-15+0.j,  1.5306e-15+0.j,  1.4860e-15+0.j,\n",
       "         1.4569e-15+0.j,  1.4247e-15+0.j,  1.4124e-15+0.j,  1.3617e-15+0.j,\n",
       "         1.3497e-15+0.j,  1.2740e-15+0.j,  1.2575e-15+0.j,  1.2067e-15+0.j,\n",
       "        -1.1926e-15+0.j, -1.1494e-15+0.j, -1.0868e-15+0.j, -1.0681e-15+0.j,\n",
       "        -1.0345e-15+0.j,  1.1444e-15+0.j,  1.1112e-15+0.j,  1.0507e-15+0.j,\n",
       "         1.0207e-15+0.j, -9.1009e-16+0.j, -9.0150e-16+0.j,  9.8717e-16+0.j,\n",
       "         9.4338e-16+0.j, -6.2259e-16+0.j, -5.4748e-16+0.j, -5.0863e-16+0.j,\n",
       "        -3.2162e-16+0.j, -2.9348e-16+0.j,  8.8733e-16+0.j,  8.7428e-16+0.j,\n",
       "        -8.2102e-16+0.j,  8.0700e-16+0.j, -6.8562e-16+0.j, -5.9009e-16+0.j,\n",
       "        -4.4205e-16+0.j, -2.4086e-16+0.j, -4.5204e-16+0.j, -4.1163e-16+0.j,\n",
       "        -1.7692e-16+0.j, -1.9651e-16+0.j,  4.2899e-16+0.j,  3.8226e-16+0.j,\n",
       "         3.0541e-16+0.j, -1.5113e-16+0.j,  4.1076e-16+0.j, -1.2044e-16+0.j,\n",
       "         2.5582e-16+0.j,  1.8398e-16+0.j,  1.3994e-16+0.j,  2.7355e-16+0.j,\n",
       "        -6.4793e-17+0.j,  4.9187e-17+0.j,  9.4325e-17+0.j, -4.3503e-17+0.j,\n",
       "         1.0135e-17+0.j, -6.4567e-18+0.j,  1.6330e-16+0.j, -8.3064e-16+0.j,\n",
       "        -7.7630e-16+0.j, -7.2202e-16+0.j,  5.2649e-16+0.j, -7.9955e-16+0.j,\n",
       "         7.7979e-16+0.j,  4.7711e-16+0.j,  7.4638e-16+0.j,  6.5011e-16+0.j,\n",
       "         6.7558e-16+0.j, -3.7022e-16+0.j, -7.4298e-16+0.j,  8.7367e-17+0.j,\n",
       "         7.2808e-16+0.j,  5.8274e-16+0.j,  5.6942e-16+0.j,  6.2184e-16+0.j]),\n",
       "eigenvectors=tensor([[-0.0145+0.j,  0.0248+0.j,  0.0082+0.j,  ...,  0.0456+0.j,  0.0046+0.j,\n",
       "          0.0073+0.j],\n",
       "        [-0.0070+0.j, -0.0017+0.j, -0.0103+0.j,  ..., -0.0635+0.j, -0.1396+0.j,\n",
       "          0.0495+0.j],\n",
       "        [-0.0075+0.j,  0.0266+0.j,  0.0185+0.j,  ..., -0.0949+0.j, -0.0233+0.j,\n",
       "         -0.0686+0.j],\n",
       "        ...,\n",
       "        [-0.0452+0.j,  0.0298+0.j,  0.0240+0.j,  ...,  0.0002+0.j, -0.0007+0.j,\n",
       "          0.0013+0.j],\n",
       "        [-0.0236+0.j,  0.0122+0.j,  0.0168+0.j,  ..., -0.0033+0.j, -0.0174+0.j,\n",
       "          0.0034+0.j],\n",
       "        [-0.0216+0.j,  0.0176+0.j,  0.0072+0.j,  ..., -0.0016+0.j,  0.0012+0.j,\n",
       "         -0.0010+0.j]]))"
      ]
     },
     "execution_count": 42,
     "metadata": {},
     "output_type": "execute_result"
    }
   ],
   "source": [
    "truth_vector = (outputs.covariance_matrix == outputs.covariance_matrix.T).flatten()\n",
    "true_count = 0\n",
    "for entry in truth_vector:\n",
    "    if entry:\n",
    "        true_count += 1\n",
    "float(true_count / len(truth_vector))*100\n",
    "torch.linalg.eig(outputs.covariance_matrix)"
   ]
  },
  {
   "cell_type": "code",
   "execution_count": 43,
   "id": "ad4df72d",
   "metadata": {},
   "outputs": [
    {
     "name": "stderr",
     "output_type": "stream",
     "text": [
      "/Users/andreas/Documents/container_storage/sage/DiffEqGPs/gpytorch/utils/cholesky.py:44: NumericalWarning: A not p.d., added jitter of 1.0e-08 to the diagonal\n",
      "  warnings.warn(f\"A not p.d., added jitter of {jitter_new:.1e} to the diagonal\", NumericalWarning)\n",
      "ERROR:root:Internal Python error in the inspect module.\n",
      "Below is the traceback from this internal error.\n",
      "\n"
     ]
    },
    {
     "name": "stdout",
     "output_type": "stream",
     "text": [
      "Traceback (most recent call last):\n",
      "  File \"/Users/andreas/Documents/container_storage/sage/DiffEqGPs/gpytorch/module.py\", line 433, in __getattr__\n",
      "    return super().__getattribute__(name)\n",
      "AttributeError: 'MatrixKernel' object has no attribute 'b'\n",
      "\n",
      "During handling of the above exception, another exception occurred:\n",
      "\n",
      "Traceback (most recent call last):\n",
      "  File \"/opt/anaconda3/envs/sage/lib/python3.9/site-packages/IPython/core/interactiveshell.py\", line 3444, in run_code\n",
      "    exec(code_obj, self.user_global_ns, self.user_ns)\n",
      "  File \"<ipython-input-43-812b98a09249>\", line 7, in <module>\n",
      "    p_b = model.covar_module.b\n",
      "  File \"/Users/andreas/Documents/container_storage/sage/DiffEqGPs/gpytorch/module.py\", line 435, in __getattr__\n",
      "    raise e\n",
      "  File \"/Users/andreas/Documents/container_storage/sage/DiffEqGPs/gpytorch/module.py\", line 430, in __getattr__\n",
      "    return super().__getattr__(name)\n",
      "  File \"/opt/anaconda3/envs/sage/lib/python3.9/site-packages/torch/nn/modules/module.py\", line 1130, in __getattr__\n",
      "    raise AttributeError(\"'{}' object has no attribute '{}'\".format(\n",
      "AttributeError: 'MatrixKernel' object has no attribute 'b'\n",
      "\n",
      "During handling of the above exception, another exception occurred:\n",
      "\n",
      "Traceback (most recent call last):\n",
      "  File \"/opt/anaconda3/envs/sage/lib/python3.9/site-packages/IPython/core/interactiveshell.py\", line 2064, in showtraceback\n",
      "    stb = value._render_traceback_()\n",
      "AttributeError: 'AttributeError' object has no attribute '_render_traceback_'\n",
      "\n",
      "During handling of the above exception, another exception occurred:\n",
      "\n",
      "Traceback (most recent call last):\n",
      "  File \"/opt/anaconda3/envs/sage/lib/python3.9/site-packages/IPython/core/ultratb.py\", line 1101, in get_records\n",
      "    return _fixed_getinnerframes(etb, number_of_lines_of_context, tb_offset)\n",
      "  File \"/opt/anaconda3/envs/sage/lib/python3.9/site-packages/IPython/core/ultratb.py\", line 248, in wrapped\n",
      "    return f(*args, **kwargs)\n",
      "  File \"/opt/anaconda3/envs/sage/lib/python3.9/site-packages/IPython/core/ultratb.py\", line 281, in _fixed_getinnerframes\n",
      "    records = fix_frame_records_filenames(inspect.getinnerframes(etb, context))\n",
      "  File \"/opt/anaconda3/envs/sage/lib/python3.9/inspect.py\", line 1541, in getinnerframes\n",
      "    frameinfo = (tb.tb_frame,) + getframeinfo(tb, context)\n",
      "  File \"/opt/anaconda3/envs/sage/lib/python3.9/inspect.py\", line 1499, in getframeinfo\n",
      "    filename = getsourcefile(frame) or getfile(frame)\n",
      "  File \"/opt/anaconda3/envs/sage/lib/python3.9/inspect.py\", line 709, in getsourcefile\n",
      "    if getattr(getmodule(object, filename), '__loader__', None) is not None:\n",
      "  File \"/opt/anaconda3/envs/sage/lib/python3.9/inspect.py\", line 755, in getmodule\n",
      "    os.path.realpath(f)] = module.__name__\n",
      "  File \"/opt/anaconda3/envs/sage/lib/python3.9/posixpath.py\", line 393, in realpath\n",
      "    return abspath(path)\n",
      "  File \"/opt/anaconda3/envs/sage/lib/python3.9/posixpath.py\", line 382, in abspath\n",
      "    return normpath(path)\n",
      "  File \"/opt/anaconda3/envs/sage/lib/python3.9/posixpath.py\", line 359, in normpath\n",
      "    if comp in (empty, dot):\n",
      "  File \"src/cysignals/signals.pyx\", line 320, in cysignals.signals.python_check_interrupt\n",
      "KeyboardInterrupt\n"
     ]
    },
    {
     "ename": "TypeError",
     "evalue": "object of type 'NoneType' has no len()",
     "output_type": "error",
     "traceback": [
      "\u001b[0;31m---------------------------------------------------------------------------\u001b[0m",
      "\u001b[0;31mAttributeError\u001b[0m                            Traceback (most recent call last)",
      "\u001b[0;32m~/Documents/container_storage/sage/DiffEqGPs/gpytorch/module.py\u001b[0m in \u001b[0;36m__getattr__\u001b[0;34m(self, name)\u001b[0m\n\u001b[1;32m    432\u001b[0m             \u001b[0;32mtry\u001b[0m\u001b[0;34m:\u001b[0m\u001b[0;34m\u001b[0m\u001b[0;34m\u001b[0m\u001b[0m\n\u001b[0;32m--> 433\u001b[0;31m                 \u001b[0;32mreturn\u001b[0m \u001b[0msuper\u001b[0m\u001b[0;34m(\u001b[0m\u001b[0;34m)\u001b[0m\u001b[0;34m.\u001b[0m\u001b[0m__getattribute__\u001b[0m\u001b[0;34m(\u001b[0m\u001b[0mname\u001b[0m\u001b[0;34m)\u001b[0m\u001b[0;34m\u001b[0m\u001b[0;34m\u001b[0m\u001b[0m\n\u001b[0m\u001b[1;32m    434\u001b[0m             \u001b[0;32mexcept\u001b[0m \u001b[0mAttributeError\u001b[0m\u001b[0;34m:\u001b[0m\u001b[0;34m\u001b[0m\u001b[0;34m\u001b[0m\u001b[0m\n",
      "\u001b[0;31mAttributeError\u001b[0m: 'MatrixKernel' object has no attribute 'b'",
      "\nDuring handling of the above exception, another exception occurred:\n",
      "\u001b[0;31mAttributeError\u001b[0m                            Traceback (most recent call last)",
      "    \u001b[0;31m[... skipping hidden 1 frame]\u001b[0m\n",
      "\u001b[0;32m<ipython-input-43-812b98a09249>\u001b[0m in \u001b[0;36m<module>\u001b[0;34m\u001b[0m\n\u001b[1;32m      6\u001b[0m \u001b[0mp_a\u001b[0m \u001b[0;34m=\u001b[0m \u001b[0mmodel\u001b[0m\u001b[0;34m.\u001b[0m\u001b[0mcovar_module\u001b[0m\u001b[0;34m.\u001b[0m\u001b[0ma\u001b[0m\u001b[0;34m\u001b[0m\u001b[0;34m\u001b[0m\u001b[0m\n\u001b[0;32m----> 7\u001b[0;31m \u001b[0mp_b\u001b[0m \u001b[0;34m=\u001b[0m \u001b[0mmodel\u001b[0m\u001b[0;34m.\u001b[0m\u001b[0mcovar_module\u001b[0m\u001b[0;34m.\u001b[0m\u001b[0mb\u001b[0m\u001b[0;34m\u001b[0m\u001b[0;34m\u001b[0m\u001b[0m\n\u001b[0m\u001b[1;32m      8\u001b[0m \u001b[0mstep_size\u001b[0m \u001b[0;34m=\u001b[0m \u001b[0mfloat\u001b[0m\u001b[0;34m(\u001b[0m\u001b[0mint\u001b[0m\u001b[0;34m(\u001b[0m\u001b[0mInteger\u001b[0m\u001b[0;34m(\u001b[0m\u001b[0;36m1\u001b[0m\u001b[0;34m)\u001b[0m\u001b[0;34m)\u001b[0m \u001b[0;34m/\u001b[0m \u001b[0mnumber_of_samples\u001b[0m\u001b[0;34m)\u001b[0m\u001b[0;34m\u001b[0m\u001b[0;34m\u001b[0m\u001b[0m\n",
      "\u001b[0;32m~/Documents/container_storage/sage/DiffEqGPs/gpytorch/module.py\u001b[0m in \u001b[0;36m__getattr__\u001b[0;34m(self, name)\u001b[0m\n\u001b[1;32m    434\u001b[0m             \u001b[0;32mexcept\u001b[0m \u001b[0mAttributeError\u001b[0m\u001b[0;34m:\u001b[0m\u001b[0;34m\u001b[0m\u001b[0;34m\u001b[0m\u001b[0m\n\u001b[0;32m--> 435\u001b[0;31m                 \u001b[0;32mraise\u001b[0m \u001b[0me\u001b[0m\u001b[0;34m\u001b[0m\u001b[0;34m\u001b[0m\u001b[0m\n\u001b[0m\u001b[1;32m    436\u001b[0m \u001b[0;34m\u001b[0m\u001b[0m\n",
      "\u001b[0;32m~/Documents/container_storage/sage/DiffEqGPs/gpytorch/module.py\u001b[0m in \u001b[0;36m__getattr__\u001b[0;34m(self, name)\u001b[0m\n\u001b[1;32m    429\u001b[0m         \u001b[0;32mtry\u001b[0m\u001b[0;34m:\u001b[0m\u001b[0;34m\u001b[0m\u001b[0;34m\u001b[0m\u001b[0m\n\u001b[0;32m--> 430\u001b[0;31m             \u001b[0;32mreturn\u001b[0m \u001b[0msuper\u001b[0m\u001b[0;34m(\u001b[0m\u001b[0;34m)\u001b[0m\u001b[0;34m.\u001b[0m\u001b[0m__getattr__\u001b[0m\u001b[0;34m(\u001b[0m\u001b[0mname\u001b[0m\u001b[0;34m)\u001b[0m\u001b[0;34m\u001b[0m\u001b[0;34m\u001b[0m\u001b[0m\n\u001b[0m\u001b[1;32m    431\u001b[0m         \u001b[0;32mexcept\u001b[0m \u001b[0mAttributeError\u001b[0m \u001b[0;32mas\u001b[0m \u001b[0me\u001b[0m\u001b[0;34m:\u001b[0m\u001b[0;34m\u001b[0m\u001b[0;34m\u001b[0m\u001b[0m\n",
      "\u001b[0;32m/opt/anaconda3/envs/sage/lib/python3.9/site-packages/torch/nn/modules/module.py\u001b[0m in \u001b[0;36m__getattr__\u001b[0;34m(self, name)\u001b[0m\n\u001b[1;32m   1129\u001b[0m                 \u001b[0;32mreturn\u001b[0m \u001b[0mmodules\u001b[0m\u001b[0;34m[\u001b[0m\u001b[0mname\u001b[0m\u001b[0;34m]\u001b[0m\u001b[0;34m\u001b[0m\u001b[0;34m\u001b[0m\u001b[0m\n\u001b[0;32m-> 1130\u001b[0;31m         raise AttributeError(\"'{}' object has no attribute '{}'\".format(\n\u001b[0m\u001b[1;32m   1131\u001b[0m             type(self).__name__, name))\n",
      "\u001b[0;31mAttributeError\u001b[0m: 'MatrixKernel' object has no attribute 'b'",
      "\nDuring handling of the above exception, another exception occurred:\n",
      "\u001b[0;31mAttributeError\u001b[0m                            Traceback (most recent call last)",
      "\u001b[0;32m/opt/anaconda3/envs/sage/lib/python3.9/site-packages/IPython/core/interactiveshell.py\u001b[0m in \u001b[0;36mshowtraceback\u001b[0;34m(self, exc_tuple, filename, tb_offset, exception_only, running_compiled_code)\u001b[0m\n\u001b[1;32m   2063\u001b[0m                         \u001b[0;31m# in the engines. This should return a list of strings.\u001b[0m\u001b[0;34m\u001b[0m\u001b[0;34m\u001b[0m\u001b[0m\n\u001b[0;32m-> 2064\u001b[0;31m                         \u001b[0mstb\u001b[0m \u001b[0;34m=\u001b[0m \u001b[0mvalue\u001b[0m\u001b[0;34m.\u001b[0m\u001b[0m_render_traceback_\u001b[0m\u001b[0;34m(\u001b[0m\u001b[0;34m)\u001b[0m\u001b[0;34m\u001b[0m\u001b[0;34m\u001b[0m\u001b[0m\n\u001b[0m\u001b[1;32m   2065\u001b[0m                     \u001b[0;32mexcept\u001b[0m \u001b[0mException\u001b[0m\u001b[0;34m:\u001b[0m\u001b[0;34m\u001b[0m\u001b[0;34m\u001b[0m\u001b[0m\n",
      "\u001b[0;31mAttributeError\u001b[0m: 'AttributeError' object has no attribute '_render_traceback_'",
      "\nDuring handling of the above exception, another exception occurred:\n",
      "\u001b[0;31mTypeError\u001b[0m                                 Traceback (most recent call last)",
      "    \u001b[0;31m[... skipping hidden 1 frame]\u001b[0m\n",
      "\u001b[0;32m/opt/anaconda3/envs/sage/lib/python3.9/site-packages/IPython/core/interactiveshell.py\u001b[0m in \u001b[0;36mshowtraceback\u001b[0;34m(self, exc_tuple, filename, tb_offset, exception_only, running_compiled_code)\u001b[0m\n\u001b[1;32m   2064\u001b[0m                         \u001b[0mstb\u001b[0m \u001b[0;34m=\u001b[0m \u001b[0mvalue\u001b[0m\u001b[0;34m.\u001b[0m\u001b[0m_render_traceback_\u001b[0m\u001b[0;34m(\u001b[0m\u001b[0;34m)\u001b[0m\u001b[0;34m\u001b[0m\u001b[0;34m\u001b[0m\u001b[0m\n\u001b[1;32m   2065\u001b[0m                     \u001b[0;32mexcept\u001b[0m \u001b[0mException\u001b[0m\u001b[0;34m:\u001b[0m\u001b[0;34m\u001b[0m\u001b[0;34m\u001b[0m\u001b[0m\n\u001b[0;32m-> 2066\u001b[0;31m                         stb = self.InteractiveTB.structured_traceback(etype,\n\u001b[0m\u001b[1;32m   2067\u001b[0m                                             value, tb, tb_offset=tb_offset)\n\u001b[1;32m   2068\u001b[0m \u001b[0;34m\u001b[0m\u001b[0m\n",
      "\u001b[0;32m/opt/anaconda3/envs/sage/lib/python3.9/site-packages/IPython/core/ultratb.py\u001b[0m in \u001b[0;36mstructured_traceback\u001b[0;34m(self, etype, value, tb, tb_offset, number_of_lines_of_context)\u001b[0m\n\u001b[1;32m   1365\u001b[0m         \u001b[0;32melse\u001b[0m\u001b[0;34m:\u001b[0m\u001b[0;34m\u001b[0m\u001b[0;34m\u001b[0m\u001b[0m\n\u001b[1;32m   1366\u001b[0m             \u001b[0mself\u001b[0m\u001b[0;34m.\u001b[0m\u001b[0mtb\u001b[0m \u001b[0;34m=\u001b[0m \u001b[0mtb\u001b[0m\u001b[0;34m\u001b[0m\u001b[0;34m\u001b[0m\u001b[0m\n\u001b[0;32m-> 1367\u001b[0;31m         return FormattedTB.structured_traceback(\n\u001b[0m\u001b[1;32m   1368\u001b[0m             self, etype, value, tb, tb_offset, number_of_lines_of_context)\n\u001b[1;32m   1369\u001b[0m \u001b[0;34m\u001b[0m\u001b[0m\n",
      "\u001b[0;32m/opt/anaconda3/envs/sage/lib/python3.9/site-packages/IPython/core/ultratb.py\u001b[0m in \u001b[0;36mstructured_traceback\u001b[0;34m(self, etype, value, tb, tb_offset, number_of_lines_of_context)\u001b[0m\n\u001b[1;32m   1265\u001b[0m         \u001b[0;32mif\u001b[0m \u001b[0mmode\u001b[0m \u001b[0;32min\u001b[0m \u001b[0mself\u001b[0m\u001b[0;34m.\u001b[0m\u001b[0mverbose_modes\u001b[0m\u001b[0;34m:\u001b[0m\u001b[0;34m\u001b[0m\u001b[0;34m\u001b[0m\u001b[0m\n\u001b[1;32m   1266\u001b[0m             \u001b[0;31m# Verbose modes need a full traceback\u001b[0m\u001b[0;34m\u001b[0m\u001b[0;34m\u001b[0m\u001b[0m\n\u001b[0;32m-> 1267\u001b[0;31m             return VerboseTB.structured_traceback(\n\u001b[0m\u001b[1;32m   1268\u001b[0m                 \u001b[0mself\u001b[0m\u001b[0;34m,\u001b[0m \u001b[0metype\u001b[0m\u001b[0;34m,\u001b[0m \u001b[0mvalue\u001b[0m\u001b[0;34m,\u001b[0m \u001b[0mtb\u001b[0m\u001b[0;34m,\u001b[0m \u001b[0mtb_offset\u001b[0m\u001b[0;34m,\u001b[0m \u001b[0mnumber_of_lines_of_context\u001b[0m\u001b[0;34m\u001b[0m\u001b[0;34m\u001b[0m\u001b[0m\n\u001b[1;32m   1269\u001b[0m             )\n",
      "\u001b[0;32m/opt/anaconda3/envs/sage/lib/python3.9/site-packages/IPython/core/ultratb.py\u001b[0m in \u001b[0;36mstructured_traceback\u001b[0;34m(self, etype, evalue, etb, tb_offset, number_of_lines_of_context)\u001b[0m\n\u001b[1;32m   1122\u001b[0m         \u001b[0;34m\"\"\"Return a nice text document describing the traceback.\"\"\"\u001b[0m\u001b[0;34m\u001b[0m\u001b[0;34m\u001b[0m\u001b[0m\n\u001b[1;32m   1123\u001b[0m \u001b[0;34m\u001b[0m\u001b[0m\n\u001b[0;32m-> 1124\u001b[0;31m         formatted_exception = self.format_exception_as_a_whole(etype, evalue, etb, number_of_lines_of_context,\n\u001b[0m\u001b[1;32m   1125\u001b[0m                                                                tb_offset)\n\u001b[1;32m   1126\u001b[0m \u001b[0;34m\u001b[0m\u001b[0m\n",
      "\u001b[0;32m/opt/anaconda3/envs/sage/lib/python3.9/site-packages/IPython/core/ultratb.py\u001b[0m in \u001b[0;36mformat_exception_as_a_whole\u001b[0;34m(self, etype, evalue, etb, number_of_lines_of_context, tb_offset)\u001b[0m\n\u001b[1;32m   1080\u001b[0m \u001b[0;34m\u001b[0m\u001b[0m\n\u001b[1;32m   1081\u001b[0m \u001b[0;34m\u001b[0m\u001b[0m\n\u001b[0;32m-> 1082\u001b[0;31m         \u001b[0mlast_unique\u001b[0m\u001b[0;34m,\u001b[0m \u001b[0mrecursion_repeat\u001b[0m \u001b[0;34m=\u001b[0m \u001b[0mfind_recursion\u001b[0m\u001b[0;34m(\u001b[0m\u001b[0morig_etype\u001b[0m\u001b[0;34m,\u001b[0m \u001b[0mevalue\u001b[0m\u001b[0;34m,\u001b[0m \u001b[0mrecords\u001b[0m\u001b[0;34m)\u001b[0m\u001b[0;34m\u001b[0m\u001b[0;34m\u001b[0m\u001b[0m\n\u001b[0m\u001b[1;32m   1083\u001b[0m \u001b[0;34m\u001b[0m\u001b[0m\n\u001b[1;32m   1084\u001b[0m         \u001b[0mframes\u001b[0m \u001b[0;34m=\u001b[0m \u001b[0mself\u001b[0m\u001b[0;34m.\u001b[0m\u001b[0mformat_records\u001b[0m\u001b[0;34m(\u001b[0m\u001b[0mrecords\u001b[0m\u001b[0;34m,\u001b[0m \u001b[0mlast_unique\u001b[0m\u001b[0;34m,\u001b[0m \u001b[0mrecursion_repeat\u001b[0m\u001b[0;34m)\u001b[0m\u001b[0;34m\u001b[0m\u001b[0;34m\u001b[0m\u001b[0m\n",
      "\u001b[0;32m/opt/anaconda3/envs/sage/lib/python3.9/site-packages/IPython/core/ultratb.py\u001b[0m in \u001b[0;36mfind_recursion\u001b[0;34m(etype, value, records)\u001b[0m\n\u001b[1;32m    380\u001b[0m     \u001b[0;31m# first frame (from in to out) that looks different.\u001b[0m\u001b[0;34m\u001b[0m\u001b[0;34m\u001b[0m\u001b[0m\n\u001b[1;32m    381\u001b[0m     \u001b[0;32mif\u001b[0m \u001b[0;32mnot\u001b[0m \u001b[0mis_recursion_error\u001b[0m\u001b[0;34m(\u001b[0m\u001b[0metype\u001b[0m\u001b[0;34m,\u001b[0m \u001b[0mvalue\u001b[0m\u001b[0;34m,\u001b[0m \u001b[0mrecords\u001b[0m\u001b[0;34m)\u001b[0m\u001b[0;34m:\u001b[0m\u001b[0;34m\u001b[0m\u001b[0;34m\u001b[0m\u001b[0m\n\u001b[0;32m--> 382\u001b[0;31m         \u001b[0;32mreturn\u001b[0m \u001b[0mlen\u001b[0m\u001b[0;34m(\u001b[0m\u001b[0mrecords\u001b[0m\u001b[0;34m)\u001b[0m\u001b[0;34m,\u001b[0m \u001b[0;36m0\u001b[0m\u001b[0;34m\u001b[0m\u001b[0;34m\u001b[0m\u001b[0m\n\u001b[0m\u001b[1;32m    383\u001b[0m \u001b[0;34m\u001b[0m\u001b[0m\n\u001b[1;32m    384\u001b[0m     \u001b[0;31m# Select filename, lineno, func_name to track frames with\u001b[0m\u001b[0;34m\u001b[0m\u001b[0;34m\u001b[0m\u001b[0m\n",
      "\u001b[0;31mTypeError\u001b[0m: object of type 'NoneType' has no len()"
     ]
    }
   ],
   "source": [
    "### check if the differential equation is fulfilled for the given datapoint\n",
    "\n",
    "with gpytorch.settings.fast_pred_var():\n",
    "    sample = outputs.sample()\n",
    "#sample = outputs.mean\n",
    "p_a = model.covar_module.a\n",
    "p_b = model.covar_module.b\n",
    "step_size = float(int(1) / number_of_samples)\n",
    "c1_difference = []\n",
    "c2_difference = []\n",
    "c1_fin_diff = []\n",
    "c2_fin_diff = []\n",
    "\n",
    "for index in range(len(sample)-1):\n",
    "    c1 = sample[index][0]\n",
    "    c2 = sample[index][1]\n",
    "    c3 = sample[index][2]\n",
    "    \n",
    "    # Calculate the finite differences at channels 1 and 2\n",
    "    c1_diff = (-sample[index][0] + sample[index+1][0])/step_size\n",
    "    c2_diff = (-sample[index][1] + sample[index+1][1])/step_size\n",
    "    c1_fin_diff.append(c1_diff)\n",
    "    c2_fin_diff.append(c2_diff)\n",
    "\n",
    "    # matrix(R, 2, 3, [x+a, -a, -1, -b, x+b, 0])\n",
    "    # Check the error in solving the first differential equation\n",
    "    dgl1_difference.append(abs(c1_diff + p_a*(c1-c2)-c3))\n",
    "\n",
    "    # Check the error in solving the second differential equation\n",
    "    dgl2_difference.append(abs(c2_diff + p_b*(c2-c1)))\n",
    "    #print(\"\")\n",
    "    #assert (c1_diff - p_a*(c1+c2)-c3) < float(0.0001)\n",
    "    #assert (c2_diff - p_b*(c2-c1)) < float(0.0001)\n",
    "print(f\"avg. error c1:{torch.mean(torch.Tensor(dgl1_difference))}\")\n",
    "print(f\"avg. error c2:{torch.mean(torch.Tensor(dgl2_difference))}\")"
   ]
  },
  {
   "cell_type": "code",
   "execution_count": null,
   "id": "e702edfd",
   "metadata": {},
   "outputs": [],
   "source": [
    "### check if the differential equation is fulfilled for the given datapoint \n",
    "\n",
    "with gpytorch.settings.fast_pred_var():\n",
    "    sample = outputs.sample()\n",
    "#sample = outputs.mean\n",
    "step_size = float(int(1) / number_of_samples)\n",
    "dgl1_difference = []\n",
    "dgl2_difference = []\n",
    "c1_fin_diff = []\n",
    "c2_fin_diff = []\n",
    "c3_fin_diff = []\n",
    "c2_fin_d2 = []\n",
    "\n",
    "import scipy.signal\n",
    "b, a = scipy.signal.butter(3, 0.05, \"lowpass\")\n",
    "    \n",
    "\n",
    "# Create the finite differences in lists\n",
    "for index in range(len(sample)-1):\n",
    "    c1 = sample[index][0]\n",
    "    c2 = sample[index][1]\n",
    "    c3 = sample[index][2]\n",
    "    \n",
    "    # Calculate the finite differences at channels 1 and 2\n",
    "    c1_diff = (-sample[index][0] + sample[index+1][0])/step_size\n",
    "    c2_diff = (-sample[index][1] + sample[index+1][1])/step_size\n",
    "    c3_diff = (-sample[index][2] + sample[index+1][2])/step_size\n",
    "    c1_fin_diff.append(c1_diff)\n",
    "    c2_fin_diff.append(c2_diff)\n",
    "    c3_fin_diff.append(c3_diff)\n",
    "    \n",
    "c2_fin_diff_smooth = scipy.signal.filtfilt(b, a, c2_fin_diff)\n",
    "for index in range(1, len(sample)-1):\n",
    "    c2_fin_d2.append((-c2_fin_diff_smooth[index-1] + c2_fin_diff_smooth[index])/step_size)\n",
    "    \n",
    "for index in range(len(sample)-3):\n",
    "    c1 = sample[index][0]\n",
    "    c2 = sample[index][1]\n",
    "    c3 = sample[index][2]\n",
    "    \n",
    "    # matrix(R, 2, 3, [x, -x^2+x-1, x-2, 2-x, x^2-x-1, -x])\n",
    "    # Check the error in solving the first differential equation\n",
    "    dgl1_difference.append(abs(-c2_fin_d2[index]+c2_fin_diff[index] +c3_fin_diff[index] - int(2)*c3-c2+c1 ))\n",
    "\n",
    "    # Check the error in solving the second differential equation\n",
    "    dgl2_difference.append(abs(c2_fin_d2[index] - c1_fin_diff[index] - c2_fin_diff[index] - c3_fin_diff[index] + int(2)*c1-c2))\n",
    "    #print(\"\")\n",
    "    #assert (c1_diff - p_a*(c1+c2)-c3) < float(0.0001)\n",
    "    #assert (c2_diff - p_b*(c2-c1)) < float(0.0001)\n",
    "print(f\"avg. error c1:{torch.mean(torch.Tensor(dgl1_difference))}\")\n",
    "print(f\"avg. error c2:{torch.mean(torch.Tensor(dgl2_difference))}\")"
   ]
  },
  {
   "cell_type": "code",
   "execution_count": null,
   "id": "b18929ba",
   "metadata": {},
   "outputs": [],
   "source": [
    "#plt.plot(torch.Tensor(c1_difference).detach().numpy())\n",
    "print(np.shape(sample))\n",
    "plt.plot(sample)"
   ]
  },
  {
   "cell_type": "code",
   "execution_count": null,
   "id": "fe8d3693",
   "metadata": {},
   "outputs": [],
   "source": [
    "plt.plot(torch.Tensor(c1_fin_diff).detach().numpy())\n",
    "plt.plot(torch.Tensor(c2_fin_diff).detach().numpy())\n",
    "plt.plot(torch.Tensor(c3_fin_diff).detach().numpy())\n",
    "#plt.plot(torch.Tensor(c2_fin_d2).detach().numpy())"
   ]
  },
  {
   "cell_type": "code",
   "execution_count": null,
   "id": "26a320de",
   "metadata": {},
   "outputs": [],
   "source": [
    "import scipy.signal\n",
    "b, a = scipy.signal.butter(3, 0.05, \"lowpass\")\n",
    "c2_fin_diff_smooth = scipy.signal.filtfilt(b, a, c2_fin_diff)\n",
    "plt.plot(c2_fin_diff_smooth)\n",
    "#plt.plot(torch.Tensor(c1_fin_diff_smooth).detach().numpy())"
   ]
  },
  {
   "cell_type": "code",
   "execution_count": null,
   "id": "96efe38d",
   "metadata": {},
   "outputs": [],
   "source": []
  },
  {
   "cell_type": "markdown",
   "id": "51d60cac",
   "metadata": {},
   "source": [
    "# Manually sampling from a multivariate normal distribution\n",
    "\n",
    "Code Taken from [here](https://peterroelants.github.io/posts/multivariate-normal-primer/)"
   ]
  },
  {
   "cell_type": "code",
   "execution_count": null,
   "id": "6b720d7d",
   "metadata": {},
   "outputs": [],
   "source": [
    "# Sample from:\n",
    "\n",
    "# Maybe necessery\n",
    "\n",
    "mean = outputs.mean.flatten().reshape((300,1)).numpy()\n",
    "\n",
    "covariance = outputs.covariance_matrix.numpy()\n",
    "covariance = covariance + np.eye(len(covariance)) *float(0.0001)\n",
    "\n",
    "d = len(covariance) # Number of dimensions (in my case: number of sample-points)\n",
    "# Create L\n",
    "L = np.linalg.cholesky(covariance)\n",
    "# Sample X from standard normal\n",
    "n = 1  # Samples to draw\n",
    "X = np.random.normal(size=(d, n))\n",
    "# Apply the transformation\n",
    "print(np.shape(L))\n",
    "print(np.shape(X))\n",
    "print(np.shape(mean))\n",
    "Y = L.dot(X) + mean"
   ]
  },
  {
   "cell_type": "code",
   "execution_count": null,
   "id": "0c54b9db",
   "metadata": {},
   "outputs": [],
   "source": [
    "Y = Y.reshape((100,3))"
   ]
  },
  {
   "cell_type": "code",
   "execution_count": null,
   "id": "79d5066a",
   "metadata": {},
   "outputs": [],
   "source": [
    "plt.plot(Y)"
   ]
  },
  {
   "cell_type": "code",
   "execution_count": null,
   "id": "718c3260",
   "metadata": {},
   "outputs": [],
   "source": []
  },
  {
   "cell_type": "code",
   "execution_count": null,
   "id": "a325d93f",
   "metadata": {},
   "outputs": [],
   "source": [
    "from torch.distributions import *\n",
    "m = MultivariateNormal(torch.Tensor(mean.reshape((1, 300))), torch.Tensor(covariance))\n",
    "sample = m.sample()  # normally distributed with mean=`[0,0]` and covariance_matrix=`I`\n",
    "sample = sample.reshape((100, 3))\n",
    "plt.plot(sample)"
   ]
  },
  {
   "cell_type": "code",
   "execution_count": null,
   "id": "128155d6",
   "metadata": {},
   "outputs": [],
   "source": []
  },
  {
   "cell_type": "code",
   "execution_count": null,
   "id": "dff74e88",
   "metadata": {},
   "outputs": [],
   "source": []
  },
  {
   "cell_type": "code",
   "execution_count": null,
   "id": "97a68246",
   "metadata": {},
   "outputs": [],
   "source": [
    "# Sampling Methods from Jörn\n",
    "\n",
    "def SampleGP(K, m, x, n_s):\n",
    "    if not isinstance(m, int):\n",
    "        if m.ndim == 1:\n",
    "            m = m.reshape(-1, 1)\n",
    "    #ys = torch.normal(m, torch.diag(K))\n",
    "    ys = m + torch.linalg.cholesky(K) @ torch.randn((x.numel(), n_s))\n",
    "    return ys\n",
    "\n",
    "Y_joern = SampleGP(torch.Tensor(K), torch.Tensor(mean.reshape((300, 1))), torch.stack((test_x, test_x, test_x)), 1)\n",
    "print(np.shape(Y_joern))\n",
    "\n",
    "Y_joern = Y_joern.reshape((100,3))\n",
    "plt.plot(Y_joern)"
   ]
  },
  {
   "cell_type": "code",
   "execution_count": null,
   "id": "67ff4c15",
   "metadata": {},
   "outputs": [],
   "source": [
    "K = torch.Tensor(covariance)\n",
    "print(torch.norm(K-K.T))\n",
    "\n",
    "K = float(0.5)*K+float(0.5)*K.T\n",
    "K == K.T\n",
    "print(torch.linalg.eigh(torch.Tensor(covariance)))\n",
    "torch.linalg.eigh(K)"
   ]
  },
  {
   "cell_type": "code",
   "execution_count": null,
   "id": "b50a5a1b",
   "metadata": {},
   "outputs": [],
   "source": [
    "Y_joern_chol = SampleGP(torch.Tensor(covariance), torch.Tensor(mean.reshape((300, 1))), torch.stack((test_x, test_x, test_x)), 1, False)\n",
    "print(np.shape(Y_joern_chol))\n",
    "\n",
    "Y_joern_chol = Y_joern_chol.reshape((100,3))\n",
    "plt.plot(Y_joern_chol)"
   ]
  },
  {
   "cell_type": "code",
   "execution_count": null,
   "id": "2866d282",
   "metadata": {},
   "outputs": [],
   "source": []
  },
  {
   "cell_type": "markdown",
   "id": "bf73a6c3",
   "metadata": {},
   "source": [
    "# Test Diffable SE Kernel"
   ]
  },
  {
   "cell_type": "code",
   "execution_count": null,
   "id": "b432934f",
   "metadata": {},
   "outputs": [],
   "source": [
    "X = torch.tensor([int(1), int(2), int(3)])\n",
    "X"
   ]
  },
  {
   "cell_type": "code",
   "execution_count": null,
   "id": "ae01ece4",
   "metadata": {},
   "outputs": [],
   "source": [
    "X = torch.linspace(float(0), float(1), int(2))"
   ]
  },
  {
   "cell_type": "code",
   "execution_count": null,
   "id": "d46856bd",
   "metadata": {
    "scrolled": true
   },
   "outputs": [],
   "source": [
    "x1, x2, l, sigma = var('x1, x2, l, sigma')\n",
    "lengthscale = 1\n",
    "variance = 1\n",
    "SE(x1, x2, l, sigma) = sigma^2*exp(-(x1-x2)^2/(2*l^2))\n",
    "cov_matr = [[None for i in range(len(X))] for j in range(len(X))]\n",
    "for i, (v1, v2) in enumerate(product(X, X)):\n",
    "    cov_matr[int(i/len(X))][int(i%len(X))] = float(SE.diff(x2).diff(x2)(int(v1), int(v2), lengthscale, variance))\n",
    "cov_matr"
   ]
  },
  {
   "cell_type": "code",
   "execution_count": null,
   "id": "29571cd7",
   "metadata": {},
   "outputs": [],
   "source": []
  },
  {
   "cell_type": "code",
   "execution_count": null,
   "id": "55bee06a",
   "metadata": {},
   "outputs": [],
   "source": [
    "SE(x1, x2, l, sigma) = sigma^2*exp(-(x1-x2)^2/(2*l^2))\n",
    "#print(SE)\n",
    "#print(SE.diff(x1).diff(x2))\n",
    "print(SE.diff(x2).diff(x2))\n",
    "#print(SE.diff(x1).diff(x2).diff(x1).diff(x2).diff(x1))\n",
    "#print(SE.diff(x1).diff(x2).diff(x1).diff(x2))\n",
    "#float(SE.diff(x2).diff(x1)(float(1.), float(1.), 1, 1))"
   ]
  },
  {
   "cell_type": "code",
   "execution_count": null,
   "id": "ea4620c2",
   "metadata": {},
   "outputs": [],
   "source": [
    "a = Diff_SE_kernel(var=int(variance), length=int(lengthscale))\n",
    "q, dx1, dx2 = var('q, dx1, dx2')\n",
    "left_poly = dx2\n",
    "right_poly = dx1^3 \n",
    "diffed_kernel = a.diff(left_poly=left_poly, right_poly=right_poly, left_d_var=var('dx2'), right_d_var=var('dx1'))\n",
    "left_poly = dx2\n",
    "right_poly = 1\n",
    "diffed_kernel2 = a.diff(left_poly=left_poly, right_poly=right_poly, left_d_var=var('dx2'), right_d_var=var('dx1'))\n",
    "diffed_kernel(X).evaluate() + diffed_kernel2(X).evaluate()"
   ]
  },
  {
   "cell_type": "code",
   "execution_count": null,
   "id": "bd8e3474",
   "metadata": {},
   "outputs": [],
   "source": [
    "def calc_cell_diff(L, M, R, context=None):\n",
    "    len_M = np.shape(M)[0]\n",
    "    temp = None\n",
    "    # https://stackoverflow.com/questions/6473679/transpose-list-\n",
    "    # of-lists\n",
    "    M_transpose = list(\n",
    "       map(list, itertools.zip_longest(*M, fillvalue=None)))\n",
    "    for r_elem, row_M in zip(R, M_transpose):\n",
    "        for l_elem, m_elem in zip(L, row_M):\n",
    "            if temp is None:\n",
    "                #if M_transpose[int(j/len_M)][j % len_M] is not None:\n",
    "                if m_elem is not None:\n",
    "                    temp = l_elem * m_elem*r_elem\n",
    "                    #temp = l_elem * M_transpose[int(j/len_M)][j % len_M]*r_elem\n",
    "                else:\n",
    "                    pass\n",
    "            else:\n",
    "                if m_elem is not None:\n",
    "                #if M_transpose[int(j/len_M)][j % len_M] is not None:\n",
    "                    temp += l_elem * m_elem*r_elem\n",
    "                    #temp += l_elem * M_transpose[int(j/len_M)][j % len_M]*r_elem\n",
    "                else:\n",
    "                    pass\n",
    "    return temp.simplify_full()\n"
   ]
  },
  {
   "cell_type": "code",
   "execution_count": null,
   "id": "9a14736e",
   "metadata": {},
   "outputs": [],
   "source": [
    "dimension = 3\n",
    "length = dimension*dimension +1\n",
    "L_list = [var(f'l_{i}{j}') for i in range(1, dimension+1) for j in range(1, dimension+1)]\n",
    "M_list = [var(f'm_{i}{j}') for i in range(1, dimension+1) for j in range(1, dimension+1)]\n",
    "R_list = [var(f'r_{i}{j}') for i in range(1, dimension+1) for j in range(1, dimension+1)]\n",
    "L = matrix(dimension, dimension, L_list)\n",
    "M = matrix(dimension, dimension, M_list)\n",
    "R = matrix(dimension, dimension, R_list)\n",
    "print(L)\n",
    "print(M)\n",
    "print(R)\n",
    "row = 0\n",
    "col = 0\n",
    "for row in range(dimension):\n",
    "    for col in range(dimension):\n",
    "        print((L*M*R)[row][col])\n",
    "print(\"\\n\\n\")\n",
    "for i, (l, r) in enumerate(itertools.product(L.rows(), R.columns())):\n",
    "\n",
    "    print(calc_cell_diff(l, M, r))\n",
    "    print(\"\\n\")"
   ]
  },
  {
   "cell_type": "code",
   "execution_count": null,
   "id": "5347513f",
   "metadata": {},
   "outputs": [],
   "source": []
  },
  {
   "cell_type": "code",
   "execution_count": null,
   "id": "ecb35080",
   "metadata": {},
   "outputs": [],
   "source": []
  },
  {
   "cell_type": "code",
   "execution_count": null,
   "id": "8cbb4445",
   "metadata": {},
   "outputs": [],
   "source": [
    "def calc_cell_diff_sage(L, M, R, context=None):\n",
    "    temp = None\n",
    "    # https://stackoverflow.com/questions/6473679/transpose-list-\n",
    "    # of-lists\n",
    "    M_transpose = list(\n",
    "        map(list, itertools.zip_longest(*M, fillvalue=None)))\n",
    "    # Every row in 'M' is combined with each elem of the row given in 'R'\n",
    "    # Or: For each elemtn in row 'R' combine with 'row_M'\n",
    "    for r_elem, row_M in zip(R, M_transpose):\n",
    "        # Each element in L gets exactly one element in 'row_M' to multiply\n",
    "        # Or: Combine each element in row_M with exactly one element in 'L'\n",
    "        for l_elem, m_elem in zip(L, row_M):\n",
    "            if temp is None:\n",
    "                if m_elem is not None:\n",
    "                    if not l_elem == 0 and not r_elem == 0:\n",
    "                        temp = m_elem.diff(l_elem).diff(r_elem)\n",
    "                    #elif l_elem == 0 and not r_elem == 0:\n",
    "                    #    temp = m_elem.diff(r_elem)\n",
    "                    #elif not l_elem == 0 and r_elem == 0:\n",
    "                    #    temp = m_elem.diff(l_elem)\n",
    "                else:\n",
    "                    pass\n",
    "            else:\n",
    "                if m_elem is not None:\n",
    "                    if not l_elem == 0 and not r_elem == 0:\n",
    "                        temp += m_elem.diff(l_elem).diff(r_elem)\n",
    "                    #elif l_elem == 0 and not r_elem == 0:\n",
    "                    #    temp += m_elem.diff(r_elem)\n",
    "                    #elif not l_elem == 0 and r_elem == 0:\n",
    "                    #    temp += m_elem.diff(l_elem)\n",
    "                    \n",
    "                else:\n",
    "                    pass\n",
    "    return temp\n",
    "\n",
    "def diff_sage(matrix, left_matrix=None, right_matrix=None):\n",
    "    # iterate left matrix by rows and right matrix by columns and call the\n",
    "    # respective diff command of the kernels with the row/cols as params\n",
    "    kernel = MatrixKernel(None)\n",
    "    output_matrix = [[0 for i in range(np.shape(matrix)[1])] for j in range(np.shape(matrix)[0])]\n",
    "    for i, (l, r) in enumerate(itertools.product(left_matrix.rows(), right_matrix.columns())):\n",
    "        res = calc_cell_diff_sage(l, matrix, r, context=kernel)\n",
    "        output_matrix[int(i/np.shape(matrix)[0])][\n",
    "                    int(i % np.shape(matrix)[0])]  = res\n",
    "    kernel.set_matrix(output_matrix)\n",
    "    return output_matrix\n"
   ]
  },
  {
   "cell_type": "code",
   "execution_count": null,
   "id": "01f7f9d0",
   "metadata": {},
   "outputs": [],
   "source": [
    "import pprint\n",
    "L = matrix(2, 2, (x1, x1, 0, x1))\n",
    "R = matrix(2, 2, (x2, 0, x2, x2))\n",
    "x1, x2, l, sigma, l2, sigma2 = var('x1, x2, l, sigma, l2, sigma2')\n",
    "lengthscale = torch.nn.functional.softplus(torch.tensor(float(0.0)))\n",
    "variance = 1\n",
    "lengthscale2 = torch.nn.functional.softplus(torch.tensor(float(0.0)))\n",
    "variance2 = 1\n",
    "SEKernelMatrix = [[sigma^2*exp(-(x1-x2)^2/(2*l^2)), sigma2^2*exp(-(x1-x2)^2/(2*l2^2))], [sigma2^2*exp(-(x1-x2)^2/(2*l2^2)), sigma^2*exp(-(x1-x2)^2/(2*l^2))]]\n",
    "#diffed_SE_sage_matrix_kernel = diff_sage(SEKernelMatrix, left_matrix=L, right_matrix=R)\n",
    "#pprint.pprint(diffed_SE_sage_matrix_kernel)\n",
    "cov_matr = [[None for i in range(len(X)*len(SEKernelMatrix))] for j in range(len(X)*len(SEKernelMatrix))]\n",
    "for i, (v1, v2) in enumerate(product(X, X)):\n",
    "    for row in range(len(SEKernelMatrix)):\n",
    "        for col in range(len(SEKernelMatrix)):\n",
    "            # Blockwise\n",
    "            #cov_matr[int(i/len(X))+row*len(X)][int(i%len(X))+col*len(X)] = SEKernelMatrix[row][col].substitute(x1=int(v1), x2=int(v2), l=float(lengthscale), sigma=variance, l2=float(lengthscale2), sigma2=variance2)\n",
    "            # Interleaved\n",
    "            text=f\"x-pos: {int(((i*len(SEKernelMatrix))+row)/(len(X)*len(SEKernelMatrix)))*2+row}\" +\\\n",
    "            f\" y-pos: {int((i*len(SEKernelMatrix))+col)%(len(X)*len(SEKernelMatrix))}\" + \\\n",
    "            f\" x1, x2: {v1}, {v2}\\n\" +\\\n",
    "            f\"(x1-x2)^2: {(v1-v2)**2}\"+\\\n",
    "            f\" exp((x1-x2)^2): {np.exp((v1-v2)**2)}\\n\"+\\\n",
    "            f\"val: {float(SEKernelMatrix[row][col].substitute(x1=float(v1), x2=float(v2), l=float(lengthscale), sigma=variance, l2=float(lengthscale2), sigma2=variance2))}\"\n",
    "            print(text)\n",
    "            print(\"---\")\n",
    "            cov_matr[int(((i*len(SEKernelMatrix))+row)/(len(X)*len(SEKernelMatrix)))*2+row][int((i*len(SEKernelMatrix))+col)%(len(X)*len(SEKernelMatrix))] = float(SEKernelMatrix[row][col].substitute(x1=float(v1), x2=float(v2), l=float(lengthscale), sigma=variance, l2=float(lengthscale2), sigma2=variance2))\n",
    "cov_matr\n"
   ]
  },
  {
   "cell_type": "code",
   "execution_count": null,
   "id": "bd554171",
   "metadata": {},
   "outputs": [],
   "source": [
    "print(X)\n",
    "print(torch.Tensor(cov_matr).eig())"
   ]
  },
  {
   "cell_type": "code",
   "execution_count": null,
   "id": "d7195921",
   "metadata": {},
   "outputs": [],
   "source": []
  },
  {
   "cell_type": "code",
   "execution_count": null,
   "id": "780479da",
   "metadata": {},
   "outputs": [],
   "source": [
    "exp(-(-2-0.66)^2/(2))"
   ]
  },
  {
   "cell_type": "code",
   "execution_count": null,
   "id": "4b359f6b",
   "metadata": {},
   "outputs": [],
   "source": [
    "\n",
    "kernel = Diff_SE_kernel()\n",
    "kernel2 = Diff_SE_kernel()\n",
    "q, dx1, dx2 = var('q, dx1, dx2')\n",
    "L = matrix(2, 2, (dx1, dx1, 0, dx1))\n",
    "R = matrix(2, 2, (dx2, 0, dx2, dx2))\n",
    "\n",
    "p = DiffMatrixKernel([[kernel, None], [None, kernel2]])\n",
    "covar_module = p.diff(left_matrix=L, right_matrix=R)\n",
    "\n",
    "covar_x = covar_module(X)\n",
    "covar_x.evaluate()"
   ]
  },
  {
   "cell_type": "code",
   "execution_count": null,
   "id": "5c54aecb",
   "metadata": {},
   "outputs": [],
   "source": [
    "matr = [[2, 0, -6*e^(-2), 1, e^(-1/2), -e^(-2)],\n",
    " [0, 2, 0, -e^(-1/2), 1, e^(-1/2)],\n",
    " [-6*e^(-2), 0, 2, -5*e^(-2), -e^(-1/2), 1],\n",
    " [1, e^(-1/2), -e^(-2), 1, 0, -3*e^(-2)],\n",
    " [-e^(-1/2), 1, e^(-1/2), 0, 1, 0],\n",
    " [-5*e^(-2), -e^(-1/2), 1, -3*e^(-2), 0, 1]]\n",
    "\n",
    "matr = [[2, 0, -6*e^(-2), 1, 0, -3*e^(-2)],\n",
    " [0, 2, 0, 0, 1, 0],\n",
    " [-6*e^(-2), 0, 2, -3*e^(-2), 0, 1],\n",
    " [1, 0, -3*e^(-2), 1, 0, -3*e^(-2)],\n",
    " [0, 1, 0, 0, 1, 0],\n",
    " [-3*e^(-2), 0, 1, -3*e^(-2), 0, 1]]\n",
    "\n",
    "matr = torch.Tensor(matr)\n",
    "import pprint\n",
    "pprint.pprint(matr)\n",
    "print(matr[0::3, 0::3])\n",
    "H_x = 3\n",
    "torch.vstack([torch.hstack([matr[k::H_x, l::H_x] for l in range(H_x)]) for k in range(H_x)])"
   ]
  },
  {
   "cell_type": "code",
   "execution_count": null,
   "id": "39fa5cce",
   "metadata": {},
   "outputs": [],
   "source": []
  },
  {
   "cell_type": "code",
   "execution_count": null,
   "id": "b970f6f9",
   "metadata": {},
   "outputs": [],
   "source": [
    "class testobject():\n",
    "    def __init__(self, val):\n",
    "        self.val = val\n",
    "    \n",
    "    def setVal(self, val):\n",
    "        self.val = val\n",
    "        \n",
    "    def printVal(self):\n",
    "        return self.val\n",
    "    \n",
    "    def __call__(self):\n",
    "        return self.val"
   ]
  },
  {
   "cell_type": "code",
   "execution_count": null,
   "id": "1d23c16d",
   "metadata": {},
   "outputs": [],
   "source": [
    "t1 = testobject(42)\n",
    "t2 = testobject(21)\n",
    "t3 = testobject(17)\n",
    "l = [[t1, t2], [t2, t3]]\n",
    "print(l)\n",
    "t2.setVal(170)\n",
    "print(l[0][1].printVal())\n",
    "print(l[1][0].printVal())"
   ]
  },
  {
   "cell_type": "code",
   "execution_count": null,
   "id": "f894c2d7",
   "metadata": {},
   "outputs": [],
   "source": []
  },
  {
   "cell_type": "code",
   "execution_count": null,
   "id": "900df7d9",
   "metadata": {},
   "outputs": [],
   "source": [
    "q, dx1, dx2 = var('q, dx1, dx2')\n",
    "left_poly = dx1\n",
    "right_poly = dx2\n",
    "L = matrix(2, 2, (dx1, 0, 0, dx1))\n",
    "R = matrix(2, 2, (dx2, 0, 0, dx2))"
   ]
  },
  {
   "cell_type": "code",
   "execution_count": null,
   "id": "234faf1f",
   "metadata": {},
   "outputs": [],
   "source": [
    "p.diff(left_matrix=L, right_matrix=R).forward(X, X)"
   ]
  },
  {
   "cell_type": "code",
   "execution_count": null,
   "id": "51a46303",
   "metadata": {},
   "outputs": [],
   "source": []
  },
  {
   "cell_type": "code",
   "execution_count": null,
   "id": "fce7622e",
   "metadata": {},
   "outputs": [],
   "source": [
    "w, q, dx1, dx2 = var('w, q, dx1, dx2')\n",
    "a = dx1^2\n",
    "#a.degree(dx1)\n",
    "a.operands()"
   ]
  },
  {
   "cell_type": "code",
   "execution_count": null,
   "id": "c9a98d09",
   "metadata": {},
   "outputs": [],
   "source": [
    "prod([1,2,3])"
   ]
  },
  {
   "cell_type": "code",
   "execution_count": null,
   "id": "16d88618",
   "metadata": {},
   "outputs": [],
   "source": [
    "a = torch.Tensor([[int(1), int(2), int(3)], [int(4), int(5), int(6)], [int(7), int(8), int(9)]])\n",
    "for i, row in enumerate(a):\n",
    "    for j, elem in enumerate(row[i:]):\n",
    "        print(f\"row: {i}, col: {i+j}\")\n",
    "        print(elem)"
   ]
  },
  {
   "cell_type": "code",
   "execution_count": null,
   "id": "2b30b54d",
   "metadata": {},
   "outputs": [],
   "source": [
    "a, b, c, d = var('a, b, c, d')\n",
    "A = matrix(2,2, (a, b, c, d))\n",
    "B = matrix(2, 2, (dx1, dx1, 0, dx1))\n",
    "C = matrix(2, 2, (dx2, 0, dx2, dx2))\n",
    "print(A)\n",
    "print(B)\n",
    "B*A"
   ]
  },
  {
   "cell_type": "code",
   "execution_count": null,
   "id": "612d1b1d",
   "metadata": {},
   "outputs": [],
   "source": []
  },
  {
   "cell_type": "raw",
   "id": "78a512e0",
   "metadata": {},
   "source": [
    "a, b, c, d, x, y, dx1 = var('a, b, c, d, x, y, dx1')\n",
    "poly = x*x\n",
    "#poly = a*b*dx1**3\n",
    "print(type(poly))\n",
    "#poly = 839840583*x^75\n",
    "print(poly.degree(dx1))\n",
    "print(poly.operands())\n",
    "print([op.is_numeric() for op in poly.operands()])\n",
    "poly.is_polynomial(x)"
   ]
  },
  {
   "cell_type": "code",
   "execution_count": null,
   "id": "ac5ab94e",
   "metadata": {},
   "outputs": [],
   "source": [
    "def big_func(a, b, c):\n",
    "    print(a)\n",
    "    print(b)\n",
    "    return c*4\n",
    "a = lambda x: big_func(1, 2, x)\n",
    "\n",
    "a(42)"
   ]
  },
  {
   "cell_type": "code",
   "execution_count": null,
   "id": "86f6fe9d",
   "metadata": {},
   "outputs": [],
   "source": [
    "from kernels import *\n",
    "k1 = exp_kernel(int(1), int(1))\n",
    "dx1, dx2 = var('dx1, dx2')\n",
    "left = dx1\n",
    "right = dx2\n",
    "k1_d = k1.diff(left, right)\n",
    "print(k1_d)\n",
    "#print(k1_d.derivation_coefficients_list)\n",
    "X = torch.linspace(int(1), int(2), int(2))\n",
    "print(X)\n",
    "\n",
    "k1_d.forward(X)"
   ]
  },
  {
   "cell_type": "code",
   "execution_count": null,
   "id": "1fd0978e",
   "metadata": {},
   "outputs": [],
   "source": [
    "a, b, x = var('a, b, x')\n",
    "\n",
    "x = SR.var(x)\n",
    "expr = (1/b)*x^2\n",
    "#expr\n",
    "#expr.coefficient(x^(expr.degree(x))) == 1\n",
    "#expr = expr.expand()\n",
    "expr.variables()"
   ]
  },
  {
   "cell_type": "code",
   "execution_count": null,
   "id": "9733d46d",
   "metadata": {},
   "outputs": [],
   "source": [
    "#x = var('x')\n",
    "w0 = SR.wild(0)\n",
    "w1 = SR.wild(1)\n",
    "w2 = SR.wild(2)\n",
    "x = SR.var('x')\n",
    "polynomial = SR('-2*x**2-2')\n",
    "x is polynomial.variables()[0]\n",
    "#polynomial\n",
    "polynomial.find(w2*x**w0+w1)"
   ]
  },
  {
   "cell_type": "code",
   "execution_count": null,
   "id": "75657925",
   "metadata": {},
   "outputs": [],
   "source": [
    "import torch\n",
    "torch.mul(torch.tensor(int(3)),torch.tensor(int(3)),torch.tensor(int(3)))"
   ]
  },
  {
   "cell_type": "code",
   "execution_count": null,
   "id": "7d3e2ae7",
   "metadata": {},
   "outputs": [],
   "source": [
    "a, b, c, x = var('a, b, c, x')\n",
    "p = (a*b*c)*x^3\n",
    "print(p)\n",
    "print(p.coefficients(x)[0][0])\n",
    "print(p.coefficients(x)[0][0].is_symbol())\n",
    "\n",
    "#k = lambda f: f**int(2)\n",
    "#type(k)"
   ]
  },
  {
   "cell_type": "code",
   "execution_count": null,
   "id": "3a6e9c9f",
   "metadata": {},
   "outputs": [],
   "source": []
  },
  {
   "cell_type": "code",
   "execution_count": null,
   "id": "492295c2",
   "metadata": {},
   "outputs": [],
   "source": [
    "k = lambda : torch.mul(torch.tensor(int(3)), torch.tensor(int(4)))\n",
    "k()"
   ]
  },
  {
   "cell_type": "code",
   "execution_count": null,
   "id": "8a78525d",
   "metadata": {},
   "outputs": [],
   "source": [
    "a, b, n = var('a, b, n')\n",
    "f = tan(3)\n",
    "print(type(f))\n",
    "f.operator()"
   ]
  },
  {
   "cell_type": "code",
   "execution_count": null,
   "id": "2cbdb1fb",
   "metadata": {},
   "outputs": [],
   "source": [
    "import torch\n",
    "torch_operations = {'mul': torch.mul, 'add': torch.add, \n",
    "                    'pow': torch.pow, 'exp':torch.exp, \n",
    "                    'sin':torch.sin, 'cos':torch.cos, \n",
    "                    'log': torch.log}\n",
    "def extract_operation(operation : str):\n",
    "    # 'log' -> log(a), log(3), ...\n",
    "    # 'sin' -> sin(a), sin(3), ...\n",
    "    # 'exp' ...\n",
    "    # 'cos' ...\n",
    "    if operation in ['log', 'sin', 'exp', 'cos']:\n",
    "        return operation\n",
    "    # Operations are otherwise coded like '<function mul_varargs at 0xbbf31>'\n",
    "    # '<built-in function pow>' -> i.e. 1/a or a^n\n",
    "    elif operation == '<built-in function pow>':\n",
    "        return 'pow'\n",
    "    # '<function mul_vararg at 0x2ae95fb80>' -> a*b, 3/a, b/a etc.\n",
    "    elif 'mul_vararg' in operation:\n",
    "        return 'mul'\n",
    "    # '<function add_vararg at 0x2ae95f9d0>' -> a+b, 4+b, a+1/b\n",
    "    elif 'add_vararg' in operation: \n",
    "        return 'add'\n",
    "\n",
    "def extract_coefficient_recursively(coefficient, context):\n",
    "\n",
    "    # We have a big group of summands/multiplicants (e.g. a+b+c)\n",
    "    if len(coefficient.operands()) > 2:\n",
    "        # Do something with lists and loops\n",
    "        prev_entry = None\n",
    "        for entry in coefficient.operands():\n",
    "            if not entry.is_symbol() or entry.is_numeric() or entry.is_constant():\n",
    "                stuff = extract_coefficient_recursively(entry, context)\n",
    "            if prev_entry is None:\n",
    "                prev_entry = stuff                \n",
    "            elif prev_entry and callable(prev_entry) and not type(prev_entry) in [sage.symbolic.expression.Expression]:\n",
    "                # TODO see if the order of operation is correct this way (but should be actually)\n",
    "                prev_entry = lambda : torch_operations[extract_operation(str(coefficient.operator()))](prev_entry(), stuff)\n",
    "            else: \n",
    "                prev_entry = lambda : torch_operations[extract_operation(str(coefficient.operator()))](prev_entry, stuff)\n",
    "                    \n",
    "    # We have e.g. 3*a or 5/a etc.\n",
    "    elif len(coefficient.operands()) == 2:\n",
    "        left, right = coefficient.operands()\n",
    "        left = extract_coefficient_recursively(left, context)\n",
    "        right = extract_coefficient_recursively(right, context)\n",
    "        coeff = lambda: torch_operations[extract_operation(str(coefficient.operator()))](left, right)\n",
    "        \n",
    "    # coefficient is variable, find the corresponding parameter\n",
    "    elif coefficient.is_symbol():\n",
    "        coeff = getattr(context, str(coefficient))\n",
    "        \n",
    "    # if coefficient is numeric/constant, float() it\n",
    "    else:\n",
    "        coeff = torch.tensor(float(coefficient))\n",
    "        \n",
    "    return coeff"
   ]
  },
  {
   "cell_type": "code",
   "execution_count": null,
   "id": "90b6da12",
   "metadata": {},
   "outputs": [],
   "source": [
    "class ob():\n",
    "    def __init__(self):\n",
    "        self.a = torch.tensor(int(42))\n",
    "\n",
    "a, x = var('a, x')\n",
    "p = 1/a*x^3\n",
    "p = p.expand()\n",
    "print(p)\n",
    "print(p.coefficients(x)[0][0])\n",
    "coefficient = p.coefficients(x)[0][0]\n",
    "context = ob()\n",
    "var_dict = {'a':a, 'x':x}\n",
    "\n",
    "extract_coefficient_recursively(coefficient, context)()\n"
   ]
  },
  {
   "cell_type": "raw",
   "id": "8a953bb3",
   "metadata": {},
   "source": []
  },
  {
   "cell_type": "code",
   "execution_count": null,
   "id": "6ca7d19a",
   "metadata": {},
   "outputs": [],
   "source": []
  }
 ],
 "metadata": {
  "kernelspec": {
   "display_name": "SageMath 9.4",
   "language": "sage",
   "name": "sagemath"
  },
  "language_info": {
   "codemirror_mode": {
    "name": "ipython",
    "version": 3
   },
   "file_extension": ".py",
   "mimetype": "text/x-python",
   "name": "python",
   "nbconvert_exporter": "python",
   "pygments_lexer": "ipython3",
   "version": "3.9.7"
  }
 },
 "nbformat": 4,
 "nbformat_minor": 5
}
