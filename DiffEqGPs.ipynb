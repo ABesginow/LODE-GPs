{
 "cells": [
  {
   "cell_type": "code",
   "execution_count": 1,
   "id": "502db59a",
   "metadata": {},
   "outputs": [],
   "source": [
    "import math\n",
    "import torch\n",
    "import gpytorch\n",
    "from matplotlib import pyplot as plt\n",
    "from kernels import *\n",
    "\n",
    "%matplotlib inline\n",
    "%load_ext autoreload\n",
    "%autoreload 2"
   ]
  },
  {
   "cell_type": "code",
   "execution_count": 2,
   "id": "b7db1779",
   "metadata": {},
   "outputs": [],
   "source": [
    "# Training data is 100 points in [0,1] inclusive regularly spaced\n",
    "train_x = torch.linspace(int(0), int(1), int(100))\n",
    "# True function is sin(2*pi*x) with Gaussian noise\n",
    "train_y = torch.sin(train_x * (int(2) * math.pi)) + torch.randn(train_x.size()) * math.sqrt(0.04)"
   ]
  },
  {
   "cell_type": "code",
   "execution_count": 3,
   "id": "8bb104e1",
   "metadata": {},
   "outputs": [],
   "source": [
    "# We will use the simplest form of GP model, exact inference\n",
    "class ExactGPModel(gpytorch.models.ExactGP):\n",
    "    def __init__(self, train_x, train_y, likelihood):\n",
    "        super(ExactGPModel, self).__init__(train_x, train_y, likelihood)\n",
    "        self.mean_module = gpytorch.means.ConstantMean()\n",
    "        self.covar_module = Diff_SE_kernel(int(1))\n",
    "\n",
    "    def forward(self, x):\n",
    "        mean_x = self.mean_module(x)\n",
    "        covar_x = self.covar_module(x)\n",
    "        return gpytorch.distributions.MultivariateNormal(mean_x, covar_x)\n",
    "\n",
    "# initialize likelihood and model\n",
    "likelihood = gpytorch.likelihoods.GaussianLikelihood()\n",
    "model = ExactGPModel(train_x, train_y, likelihood)"
   ]
  },
  {
   "cell_type": "code",
   "execution_count": 4,
   "id": "6a34baa4",
   "metadata": {},
   "outputs": [
    {
     "name": "stdout",
     "output_type": "stream",
     "text": [
      "Iter 1/50 - Loss: 0.959   lengthscale: 1.000  variance: 1.000 noise: 0.693\n",
      "Iter 2/50 - Loss: 0.930   lengthscale: 0.905  variance: 1.105 noise: 0.644\n",
      "Iter 3/50 - Loss: 0.900   lengthscale: 0.819  variance: 1.218 noise: 0.598\n",
      "Iter 4/50 - Loss: 0.869   lengthscale: 0.741  variance: 1.338 noise: 0.554\n",
      "Iter 5/50 - Loss: 0.833   lengthscale: 0.671  variance: 1.472 noise: 0.513\n",
      "Iter 6/50 - Loss: 0.789   lengthscale: 0.608  variance: 1.622 noise: 0.474\n",
      "Iter 7/50 - Loss: 0.737   lengthscale: 0.553  variance: 1.781 noise: 0.437\n",
      "Iter 8/50 - Loss: 0.679   lengthscale: 0.502  variance: 1.955 noise: 0.403\n",
      "Iter 9/50 - Loss: 0.620   lengthscale: 0.456  variance: 2.150 noise: 0.370\n",
      "Iter 10/50 - Loss: 0.567   lengthscale: 0.412  variance: 2.370 noise: 0.339\n",
      "Iter 11/50 - Loss: 0.521   lengthscale: 0.374  variance: 2.606 noise: 0.311\n",
      "Iter 12/50 - Loss: 0.482   lengthscale: 0.341  variance: 2.838 noise: 0.284\n",
      "Iter 13/50 - Loss: 0.447   lengthscale: 0.313  variance: 3.040 noise: 0.259\n",
      "Iter 14/50 - Loss: 0.415   lengthscale: 0.291  variance: 3.190 noise: 0.236\n",
      "Iter 15/50 - Loss: 0.383   lengthscale: 0.273  variance: 3.277 noise: 0.215\n",
      "Iter 16/50 - Loss: 0.352   lengthscale: 0.260  variance: 3.302 noise: 0.196\n",
      "Iter 17/50 - Loss: 0.320   lengthscale: 0.250  variance: 3.269 noise: 0.178\n",
      "Iter 18/50 - Loss: 0.289   lengthscale: 0.243  variance: 3.188 noise: 0.162\n",
      "Iter 19/50 - Loss: 0.258   lengthscale: 0.239  variance: 3.071 noise: 0.147\n",
      "Iter 20/50 - Loss: 0.227   lengthscale: 0.237  variance: 2.926 noise: 0.133\n",
      "Iter 21/50 - Loss: 0.196   lengthscale: 0.237  variance: 2.763 noise: 0.121\n",
      "Iter 22/50 - Loss: 0.166   lengthscale: 0.239  variance: 2.590 noise: 0.110\n",
      "Iter 23/50 - Loss: 0.138   lengthscale: 0.243  variance: 2.413 noise: 0.100\n",
      "Iter 24/50 - Loss: 0.111   lengthscale: 0.248  variance: 2.238 noise: 0.091\n",
      "Iter 25/50 - Loss: 0.087   lengthscale: 0.254  variance: 2.068 noise: 0.083\n",
      "Iter 26/50 - Loss: 0.064   lengthscale: 0.262  variance: 1.905 noise: 0.076\n",
      "Iter 27/50 - Loss: 0.045   lengthscale: 0.271  variance: 1.752 noise: 0.069\n",
      "Iter 28/50 - Loss: 0.029   lengthscale: 0.281  variance: 1.611 noise: 0.063\n",
      "Iter 29/50 - Loss: 0.016   lengthscale: 0.292  variance: 1.481 noise: 0.058\n",
      "Iter 30/50 - Loss: 0.007   lengthscale: 0.302  variance: 1.366 noise: 0.054\n",
      "Iter 31/50 - Loss: 0.003   lengthscale: 0.312  variance: 1.264 noise: 0.050\n",
      "Iter 32/50 - Loss: 0.001   lengthscale: 0.321  variance: 1.176 noise: 0.046\n",
      "Iter 33/50 - Loss: 0.003   lengthscale: 0.328  variance: 1.104 noise: 0.043\n",
      "Iter 34/50 - Loss: 0.006   lengthscale: 0.331  variance: 1.047 noise: 0.041\n",
      "Iter 35/50 - Loss: 0.010   lengthscale: 0.331  variance: 1.005 noise: 0.039\n",
      "Iter 36/50 - Loss: 0.013   lengthscale: 0.327  variance: 0.976 noise: 0.037\n",
      "Iter 37/50 - Loss: 0.015   lengthscale: 0.321  variance: 0.956 noise: 0.036\n",
      "Iter 38/50 - Loss: 0.017   lengthscale: 0.312  variance: 0.945 noise: 0.035\n",
      "Iter 39/50 - Loss: 0.019   lengthscale: 0.304  variance: 0.938 noise: 0.034\n",
      "Iter 40/50 - Loss: 0.020   lengthscale: 0.295  variance: 0.933 noise: 0.034\n",
      "Iter 41/50 - Loss: 0.021   lengthscale: 0.287  variance: 0.929 noise: 0.033\n",
      "Iter 42/50 - Loss: 0.021   lengthscale: 0.279  variance: 0.924 noise: 0.034\n",
      "Iter 43/50 - Loss: 0.020   lengthscale: 0.274  variance: 0.916 noise: 0.034\n",
      "Iter 44/50 - Loss: 0.018   lengthscale: 0.269  variance: 0.906 noise: 0.034\n",
      "Iter 45/50 - Loss: 0.016   lengthscale: 0.266  variance: 0.893 noise: 0.035\n",
      "Iter 46/50 - Loss: 0.013   lengthscale: 0.264  variance: 0.878 noise: 0.036\n",
      "Iter 47/50 - Loss: 0.010   lengthscale: 0.263  variance: 0.860 noise: 0.037\n",
      "Iter 48/50 - Loss: 0.007   lengthscale: 0.263  variance: 0.839 noise: 0.038\n",
      "Iter 49/50 - Loss: 0.005   lengthscale: 0.264  variance: 0.818 noise: 0.039\n",
      "Iter 50/50 - Loss: 0.002   lengthscale: 0.266  variance: 0.796 noise: 0.040\n"
     ]
    }
   ],
   "source": [
    "# this is for running the notebook in our testing framework\n",
    "import os\n",
    "smoke_test = ('CI' in os.environ)\n",
    "training_iter = int(2) if smoke_test else int(50)\n",
    "\n",
    "\n",
    "# Find optimal model hyperparameters\n",
    "model.train()\n",
    "likelihood.train()\n",
    "\n",
    "# Use the adam optimizer\n",
    "optimizer = torch.optim.Adam(model.parameters(), lr=float(0.1))  # Includes GaussianLikelihood parameters\n",
    "\n",
    "# \"Loss\" for GPs - the marginal log likelihood\n",
    "mll = gpytorch.mlls.ExactMarginalLogLikelihood(likelihood, model)\n",
    "\n",
    "for i in range(training_iter):\n",
    "    # Zero gradients from previous iteration\n",
    "    optimizer.zero_grad()\n",
    "    # Output from model\n",
    "    output = model(train_x)\n",
    "    # Calc loss and backprop gradients\n",
    "    loss = -mll(output, train_y)\n",
    "    loss.backward()\n",
    "    print('Iter %d/%d - Loss: %.3f   lengthscale: %.3f  variance: %.3f noise: %.3f' % (\n",
    "        i + 1, training_iter, loss.item(),\n",
    "        model.covar_module.length.item(),\n",
    "        model.covar_module.var.item(),\n",
    "        model.likelihood.noise.item()\n",
    "    ))\n",
    "    optimizer.step()"
   ]
  },
  {
   "cell_type": "code",
   "execution_count": 5,
   "id": "6c0ac31f",
   "metadata": {},
   "outputs": [],
   "source": [
    "# Get into evaluation (predictive posterior) mode\n",
    "model.eval()\n",
    "likelihood.eval()\n",
    "\n",
    "# Test points are regularly spaced along [0,1]\n",
    "# Make predictions by feeding model through likelihood\n",
    "with torch.no_grad(), gpytorch.settings.fast_pred_var():\n",
    "    test_x = torch.linspace(int(0), int(1), int(51))\n",
    "    observed_pred = likelihood(model(test_x))"
   ]
  },
  {
   "cell_type": "code",
   "execution_count": null,
   "id": "6fdf556f",
   "metadata": {},
   "outputs": [],
   "source": []
  },
  {
   "cell_type": "code",
   "execution_count": 6,
   "id": "6c87080b",
   "metadata": {},
   "outputs": [
    {
     "data": {
      "image/png": "[encoded data removed]",
      "text/plain": [
       "<Figure size 288x216 with 1 Axes>"
      ]
     },
     "metadata": {
      "needs_background": "light"
     },
     "output_type": "display_data"
    }
   ],
   "source": [
    "with torch.no_grad():\n",
    "    # Initialize plot\n",
    "    f, ax = plt.subplots(1, 1, figsize=(4, 3))\n",
    "\n",
    "    # Get upper and lower confidence bounds\n",
    "    lower, upper = observed_pred.confidence_region()\n",
    "    # Plot training data as black stars\n",
    "    ax.plot(train_x.numpy(), train_y.numpy(), 'k*')\n",
    "    # Plot predictive means as blue line\n",
    "    ax.plot(test_x.numpy(), observed_pred.mean.numpy(), 'b')\n",
    "    # Shade between the lower and upper confidence bounds\n",
    "    ax.fill_between(test_x.numpy(), lower.numpy(), upper.numpy(), alpha=0.5)\n",
    "    ax.set_ylim([-3, 3])\n",
    "    ax.legend(['Observed Data', 'Mean', 'Confidence'])"
   ]
  },
  {
   "cell_type": "code",
   "execution_count": null,
   "id": "5c017d64",
   "metadata": {},
   "outputs": [],
   "source": []
  }
 ],
 "metadata": {
  "kernelspec": {
   "display_name": "SageMath 9.2",
   "language": "sage",
   "name": "sagemath"
  },
  "language_info": {
   "codemirror_mode": {
    "name": "ipython",
    "version": 3
   },
   "file_extension": ".py",
   "mimetype": "text/x-python",
   "name": "python",
   "nbconvert_exporter": "python",
   "pygments_lexer": "ipython3",
   "version": "3.9.5"
  }
 },
 "nbformat": 4,
 "nbformat_minor": 5
}
