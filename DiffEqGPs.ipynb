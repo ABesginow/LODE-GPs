{
 "cells": [
  {
   "cell_type": "code",
   "execution_count": 1,
   "id": "8c95bb52",
   "metadata": {},
   "outputs": [
    {
     "name": "stderr",
     "output_type": "stream",
     "text": [
      "/Users/andreas/Documents/container_storage/sage/DiffEqGPs/gpytorch/utils/contour_integral_quad.py:74: DeprecationWarning: invalid escape sequence \\i\n",
      "  \"\"\"\n",
      "/Users/andreas/Documents/container_storage/sage/DiffEqGPs/gpytorch/likelihoods/gaussian_likelihood.py:168: DeprecationWarning: invalid escape sequence \\s\n",
      "  \"\"\"\n",
      "/Users/andreas/Documents/container_storage/sage/DiffEqGPs/gpytorch/likelihoods/multitask_gaussian_likelihood.py:160: DeprecationWarning: invalid escape sequence \\k\n",
      "  \"\"\"\n",
      "/Users/andreas/Documents/container_storage/sage/DiffEqGPs/gpytorch/mlls/leave_one_out_pseudo_likelihood.py:12: DeprecationWarning: invalid escape sequence \\l\n",
      "  \"\"\"\n",
      "/Users/andreas/Documents/container_storage/sage/DiffEqGPs/gpytorch/variational/ciq_variational_strategy.py:255: DeprecationWarning: invalid escape sequence \\m\n",
      "  \"\"\"\n"
     ]
    }
   ],
   "source": [
    "import math\n",
    "import torch\n",
    "import gpytorch\n",
    "from matplotlib import pyplot as plt\n",
    "\n",
    "%matplotlib inline\n",
    "%load_ext autoreload\n",
    "%autoreload 2"
   ]
  },
  {
   "cell_type": "code",
   "execution_count": 3,
   "id": "4ecee231",
   "metadata": {},
   "outputs": [],
   "source": [
    "# Training data is 100 points in [0,1] inclusive regularly spaced\n",
    "train_x = torch.linspace(int(0), int(1), int(100))\n",
    "# True function is sin(2*pi*x) with Gaussian noise\n",
    "train_y = torch.sin(train_x * (int(2) * math.pi)) + torch.randn(train_x.size()) * math.sqrt(0.04)"
   ]
  },
  {
   "cell_type": "code",
   "execution_count": 4,
   "id": "3985411f",
   "metadata": {},
   "outputs": [],
   "source": [
    "# We will use the simplest form of GP model, exact inference\n",
    "class ExactGPModel(gpytorch.models.ExactGP):\n",
    "    def __init__(self, train_x, train_y, likelihood):\n",
    "        super(ExactGPModel, self).__init__(train_x, train_y, likelihood)\n",
    "        self.mean_module = gpytorch.means.ConstantMean()\n",
    "        self.covar_module = gpytorch.kernels.ScaleKernel(gpytorch.kernels.RBFKernel())\n",
    "\n",
    "    def forward(self, x):\n",
    "        mean_x = self.mean_module(x)\n",
    "        covar_x = self.covar_module(x)\n",
    "        return gpytorch.distributions.MultivariateNormal(mean_x, covar_x)\n",
    "\n",
    "# initialize likelihood and model\n",
    "likelihood = gpytorch.likelihoods.GaussianLikelihood()\n",
    "model = ExactGPModel(train_x, train_y, likelihood)"
   ]
  },
  {
   "cell_type": "code",
   "execution_count": 9,
   "id": "3168a7c9",
   "metadata": {},
   "outputs": [
    {
     "name": "stdout",
     "output_type": "stream",
     "text": [
      "Iter 1/50 - Loss: -0.098   lengthscale: 0.224   noise: 0.030\n",
      "Iter 2/50 - Loss: -0.105   lengthscale: 0.245   noise: 0.033\n",
      "Iter 3/50 - Loss: -0.106   lengthscale: 0.251   noise: 0.036\n",
      "Iter 4/50 - Loss: -0.105   lengthscale: 0.246   noise: 0.038\n",
      "Iter 5/50 - Loss: -0.104   lengthscale: 0.237   noise: 0.039\n",
      "Iter 6/50 - Loss: -0.104   lengthscale: 0.228   noise: 0.040\n",
      "Iter 7/50 - Loss: -0.105   lengthscale: 0.222   noise: 0.039\n",
      "Iter 8/50 - Loss: -0.106   lengthscale: 0.220   noise: 0.038\n",
      "Iter 9/50 - Loss: -0.107   lengthscale: 0.222   noise: 0.036\n",
      "Iter 10/50 - Loss: -0.107   lengthscale: 0.224   noise: 0.035\n",
      "Iter 11/50 - Loss: -0.107   lengthscale: 0.226   noise: 0.034\n",
      "Iter 12/50 - Loss: -0.106   lengthscale: 0.225   noise: 0.033\n",
      "Iter 13/50 - Loss: -0.106   lengthscale: 0.222   noise: 0.033\n",
      "Iter 14/50 - Loss: -0.106   lengthscale: 0.218   noise: 0.033\n",
      "Iter 15/50 - Loss: -0.107   lengthscale: 0.214   noise: 0.034\n",
      "Iter 16/50 - Loss: -0.107   lengthscale: 0.212   noise: 0.034\n",
      "Iter 17/50 - Loss: -0.107   lengthscale: 0.213   noise: 0.035\n",
      "Iter 18/50 - Loss: -0.107   lengthscale: 0.215   noise: 0.036\n",
      "Iter 19/50 - Loss: -0.107   lengthscale: 0.217   noise: 0.037\n",
      "Iter 20/50 - Loss: -0.107   lengthscale: 0.220   noise: 0.037\n",
      "Iter 21/50 - Loss: -0.107   lengthscale: 0.221   noise: 0.037\n",
      "Iter 22/50 - Loss: -0.107   lengthscale: 0.220   noise: 0.037\n",
      "Iter 23/50 - Loss: -0.107   lengthscale: 0.219   noise: 0.036\n",
      "Iter 24/50 - Loss: -0.107   lengthscale: 0.218   noise: 0.036\n",
      "Iter 25/50 - Loss: -0.107   lengthscale: 0.218   noise: 0.035\n",
      "Iter 26/50 - Loss: -0.107   lengthscale: 0.219   noise: 0.035\n",
      "Iter 27/50 - Loss: -0.107   lengthscale: 0.221   noise: 0.034\n",
      "Iter 28/50 - Loss: -0.107   lengthscale: 0.223   noise: 0.034\n",
      "Iter 29/50 - Loss: -0.107   lengthscale: 0.225   noise: 0.034\n",
      "Iter 30/50 - Loss: -0.107   lengthscale: 0.225   noise: 0.034\n",
      "Iter 31/50 - Loss: -0.107   lengthscale: 0.225   noise: 0.035\n",
      "Iter 32/50 - Loss: -0.107   lengthscale: 0.224   noise: 0.035\n",
      "Iter 33/50 - Loss: -0.107   lengthscale: 0.223   noise: 0.035\n",
      "Iter 34/50 - Loss: -0.107   lengthscale: 0.222   noise: 0.036\n",
      "Iter 35/50 - Loss: -0.107   lengthscale: 0.222   noise: 0.036\n",
      "Iter 36/50 - Loss: -0.107   lengthscale: 0.223   noise: 0.036\n",
      "Iter 37/50 - Loss: -0.107   lengthscale: 0.224   noise: 0.036\n",
      "Iter 38/50 - Loss: -0.107   lengthscale: 0.224   noise: 0.036\n",
      "Iter 39/50 - Loss: -0.107   lengthscale: 0.224   noise: 0.036\n",
      "Iter 40/50 - Loss: -0.107   lengthscale: 0.222   noise: 0.035\n",
      "Iter 41/50 - Loss: -0.107   lengthscale: 0.221   noise: 0.035\n",
      "Iter 42/50 - Loss: -0.107   lengthscale: 0.220   noise: 0.035\n",
      "Iter 43/50 - Loss: -0.107   lengthscale: 0.220   noise: 0.035\n",
      "Iter 44/50 - Loss: -0.107   lengthscale: 0.220   noise: 0.035\n",
      "Iter 45/50 - Loss: -0.107   lengthscale: 0.220   noise: 0.035\n",
      "Iter 46/50 - Loss: -0.107   lengthscale: 0.221   noise: 0.035\n",
      "Iter 47/50 - Loss: -0.107   lengthscale: 0.221   noise: 0.035\n",
      "Iter 48/50 - Loss: -0.107   lengthscale: 0.221   noise: 0.036\n",
      "Iter 49/50 - Loss: -0.107   lengthscale: 0.220   noise: 0.036\n",
      "Iter 50/50 - Loss: -0.107   lengthscale: 0.220   noise: 0.036\n"
     ]
    }
   ],
   "source": [
    "# this is for running the notebook in our testing framework\n",
    "import os\n",
    "smoke_test = ('CI' in os.environ)\n",
    "training_iter = int(2) if smoke_test else int(50)\n",
    "\n",
    "\n",
    "# Find optimal model hyperparameters\n",
    "model.train()\n",
    "likelihood.train()\n",
    "\n",
    "# Use the adam optimizer\n",
    "optimizer = torch.optim.Adam(model.parameters(), lr=float(0.1))  # Includes GaussianLikelihood parameters\n",
    "\n",
    "# \"Loss\" for GPs - the marginal log likelihood\n",
    "mll = gpytorch.mlls.ExactMarginalLogLikelihood(likelihood, model)\n",
    "\n",
    "for i in range(training_iter):\n",
    "    # Zero gradients from previous iteration\n",
    "    optimizer.zero_grad()\n",
    "    # Output from model\n",
    "    output = model(train_x)\n",
    "    # Calc loss and backprop gradients\n",
    "    loss = -mll(output, train_y)\n",
    "    loss.backward()\n",
    "    print('Iter %d/%d - Loss: %.3f   lengthscale: %.3f   noise: %.3f' % (\n",
    "        i + 1, training_iter, loss.item(),\n",
    "        model.covar_module.base_kernel.lengthscale.item(),\n",
    "        model.likelihood.noise.item()\n",
    "    ))\n",
    "    optimizer.step()"
   ]
  },
  {
   "cell_type": "code",
   "execution_count": 11,
   "id": "7956b8d1",
   "metadata": {},
   "outputs": [],
   "source": [
    "# Get into evaluation (predictive posterior) mode\n",
    "model.eval()\n",
    "likelihood.eval()\n",
    "\n",
    "# Test points are regularly spaced along [0,1]\n",
    "# Make predictions by feeding model through likelihood\n",
    "with torch.no_grad(), gpytorch.settings.fast_pred_var():\n",
    "    test_x = torch.linspace(int(0), int(1), int(51))\n",
    "    observed_pred = likelihood(model(test_x))\n",
    "    \n",
    "    "
   ]
  },
  {
   "cell_type": "code",
   "execution_count": 20,
   "id": "a5cba10c",
   "metadata": {},
   "outputs": [],
   "source": [
    "f_preds = model(test_x)\n",
    "y_preds = likelihood(model(test_x))\n",
    "\n",
    "f_mean = f_preds.mean\n",
    "f_var = f_preds.variance\n",
    "f_covar = f_preds.covariance_matrix\n",
    "f_preds.sample(sample_shape=torch.Size(int(1000),))"
   ]
  },
  {
   "cell_type": "code",
   "execution_count": 21,
   "id": "f307360d",
   "metadata": {},
   "outputs": [
    {
     "data": {
      "image/png": "[encoded data removed]",
      "text/plain": [
       "<Figure size 288x216 with 1 Axes>"
      ]
     },
     "metadata": {
      "needs_background": "light"
     },
     "output_type": "display_data"
    }
   ],
   "source": [
    "with torch.no_grad():\n",
    "    # Initialize plot\n",
    "    f, ax = plt.subplots(1, 1, figsize=(4, 3))\n",
    "\n",
    "    # Get upper and lower confidence bounds\n",
    "    lower, upper = observed_pred.confidence_region()\n",
    "    # Plot training data as black stars\n",
    "    ax.plot(train_x.numpy(), train_y.numpy(), 'k*')\n",
    "    # Plot predictive means as blue line\n",
    "    ax.plot(test_x.numpy(), observed_pred.mean.numpy(), 'b')\n",
    "    # Shade between the lower and upper confidence bounds\n",
    "    ax.fill_between(test_x.numpy(), lower.numpy(), upper.numpy(), alpha=0.5)\n",
    "    ax.set_ylim([-3, 3])\n",
    "    ax.legend(['Observed Data', 'Mean', 'Confidence'])"
   ]
  },
  {
   "cell_type": "code",
   "execution_count": null,
   "id": "5a9b61f1",
   "metadata": {},
   "outputs": [],
   "source": []
  }
 ],
 "metadata": {
  "kernelspec": {
   "display_name": "SageMath 9.2",
   "language": "sage",
   "name": "sagemath"
  },
  "language_info": {
   "codemirror_mode": {
    "name": "ipython",
    "version": 3
   },
   "file_extension": ".py",
   "mimetype": "text/x-python",
   "name": "python",
   "nbconvert_exporter": "python",
   "pygments_lexer": "ipython3",
   "version": "3.9.5"
  }
 },
 "nbformat": 4,
 "nbformat_minor": 5
}
